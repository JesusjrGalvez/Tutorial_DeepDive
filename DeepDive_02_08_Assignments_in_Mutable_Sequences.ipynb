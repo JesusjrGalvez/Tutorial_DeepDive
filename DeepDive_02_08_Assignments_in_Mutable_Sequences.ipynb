{
  "cells": [
    {
      "cell_type": "markdown",
      "metadata": {
        "id": "view-in-github",
        "colab_type": "text"
      },
      "source": [
        "<a href=\"https://colab.research.google.com/github/JesusjrGalvez/Tutorial_DeepDive/blob/main/DeepDive_02_08_Assignments_in_Mutable_Sequences.ipynb\" target=\"_parent\"><img src=\"https://colab.research.google.com/assets/colab-badge.svg\" alt=\"Open In Colab\"/></a>"
      ]
    },
    {
      "cell_type": "markdown",
      "metadata": {
        "id": "Fuaxuk7s0QKA"
      },
      "source": [
        "### Assignments in Mutable Sequences"
      ]
    },
    {
      "cell_type": "markdown",
      "metadata": {
        "id": "jHFXQD3f0QKI"
      },
      "source": [
        "We have seen how to mutate mutable sequences using append, insert, extend and in-place concatenation (`+=`)."
      ]
    },
    {
      "cell_type": "markdown",
      "metadata": {
        "id": "CWBC9zlj0QKJ"
      },
      "source": [
        "But mutable sequences also allow us to mutate the sequence by assigning values (iterables) to slices. Depending on how we specify the slice, and what the value is, we can actually insert, modify and delete elements of the sequence."
      ]
    },
    {
      "cell_type": "markdown",
      "metadata": {
        "id": "blB5C6qA0QKJ"
      },
      "source": [
        "#### Standard Slices"
      ]
    },
    {
      "cell_type": "markdown",
      "metadata": {
        "id": "_8DxPqKo0QKK"
      },
      "source": [
        "##### Replacement"
      ]
    },
    {
      "cell_type": "markdown",
      "metadata": {
        "id": "QNGlcGX30QKK"
      },
      "source": [
        "We can replace a slice of a sequence with any other iterable. They need not even be of the same length."
      ]
    },
    {
      "cell_type": "code",
      "execution_count": null,
      "metadata": {
        "id": "9mU6HMUg0QKL",
        "outputId": "78659c83-b2c4-4600-f881-d5143caa3bf9"
      },
      "outputs": [
        {
          "data": {
            "text/plain": [
              "1449221423176"
            ]
          },
          "execution_count": 35,
          "metadata": {},
          "output_type": "execute_result"
        }
      ],
      "source": [
        "l = [1, 2, 3, 4, 5]\n",
        "id(l)"
      ]
    },
    {
      "cell_type": "code",
      "execution_count": null,
      "metadata": {
        "id": "KTwWKvf90QKO",
        "outputId": "0467aa39-1671-4a9e-8277-3e20107ffe31"
      },
      "outputs": [
        {
          "data": {
            "text/plain": [
              "[1, 2, 3]"
            ]
          },
          "execution_count": 36,
          "metadata": {},
          "output_type": "execute_result"
        }
      ],
      "source": [
        "l[0:3]"
      ]
    },
    {
      "cell_type": "code",
      "execution_count": null,
      "metadata": {
        "collapsed": true,
        "id": "x486MUUz0QKP"
      },
      "outputs": [],
      "source": [
        "l[0:3] = ['a', 'b', 'c', 'd']"
      ]
    },
    {
      "cell_type": "code",
      "execution_count": null,
      "metadata": {
        "id": "OJePrfeO0QKP",
        "outputId": "596d5799-7245-471f-f921-5bd72dce9d52"
      },
      "outputs": [
        {
          "data": {
            "text/plain": [
              "(['a', 'b', 'c', 'd', 4, 5], 1449221423176)"
            ]
          },
          "execution_count": 38,
          "metadata": {},
          "output_type": "execute_result"
        }
      ],
      "source": [
        "l, id(l)"
      ]
    },
    {
      "cell_type": "markdown",
      "metadata": {
        "id": "U9skCmDH0QKQ"
      },
      "source": [
        "In fact, since strings are iterables, this would work too:"
      ]
    },
    {
      "cell_type": "code",
      "execution_count": null,
      "metadata": {
        "collapsed": true,
        "id": "U8JwUVhn0QKQ"
      },
      "outputs": [],
      "source": [
        "l = [1, 2, 3, 4, 5]"
      ]
    },
    {
      "cell_type": "code",
      "execution_count": null,
      "metadata": {
        "collapsed": true,
        "id": "DzSKz-Hd0QKR"
      },
      "outputs": [],
      "source": [
        "l[0:3] = 'python'"
      ]
    },
    {
      "cell_type": "code",
      "execution_count": null,
      "metadata": {
        "id": "M7U8yJah0QKR",
        "outputId": "02d3836f-ae99-4f53-859a-8c648afd6656"
      },
      "outputs": [
        {
          "data": {
            "text/plain": [
              "['p', 'y', 't', 'h', 'o', 'n', 4, 5]"
            ]
          },
          "execution_count": 41,
          "metadata": {},
          "output_type": "execute_result"
        }
      ],
      "source": [
        "l"
      ]
    },
    {
      "cell_type": "markdown",
      "metadata": {
        "id": "dbCSr0is0QKS"
      },
      "source": [
        "##### Deleting"
      ]
    },
    {
      "cell_type": "markdown",
      "metadata": {
        "id": "4qiLzF5y0QKS"
      },
      "source": [
        "Delete is really just a special case of replacement, where we replace with an empty iterable."
      ]
    },
    {
      "cell_type": "code",
      "execution_count": null,
      "metadata": {
        "id": "AKySRBzO0QKS",
        "outputId": "9e6e64d1-86dc-4a11-f34f-3fe882ba7335"
      },
      "outputs": [
        {
          "data": {
            "text/plain": [
              "1449221214024"
            ]
          },
          "execution_count": 27,
          "metadata": {},
          "output_type": "execute_result"
        }
      ],
      "source": [
        "l = [1, 2, 3, 4, 5]\n",
        "id(l)"
      ]
    },
    {
      "cell_type": "markdown",
      "metadata": {
        "id": "zTy2t5J50QKT"
      },
      "source": [
        "We can delete a single element by defining a slice that precisely selects that element, and replacing it with an empty iterable."
      ]
    },
    {
      "cell_type": "code",
      "execution_count": null,
      "metadata": {
        "id": "3Ph7dNuM0QKT",
        "outputId": "bddf6dac-db52-4a85-8b7a-0b68c84d367e"
      },
      "outputs": [
        {
          "data": {
            "text/plain": [
              "[1]"
            ]
          },
          "execution_count": 28,
          "metadata": {},
          "output_type": "execute_result"
        }
      ],
      "source": [
        "l[0:1]"
      ]
    },
    {
      "cell_type": "code",
      "execution_count": null,
      "metadata": {
        "collapsed": true,
        "id": "kAW6tyAi0QKU"
      },
      "outputs": [],
      "source": [
        "l[0:1] = []"
      ]
    },
    {
      "cell_type": "code",
      "execution_count": null,
      "metadata": {
        "id": "NkGXmMxc0QKU",
        "outputId": "22bae0fb-e81c-41e0-94b1-aa7e5e30c287"
      },
      "outputs": [
        {
          "data": {
            "text/plain": [
              "([2, 3, 4, 5], 1449221214024)"
            ]
          },
          "execution_count": 30,
          "metadata": {},
          "output_type": "execute_result"
        }
      ],
      "source": [
        "l, id(l)"
      ]
    },
    {
      "cell_type": "markdown",
      "metadata": {
        "id": "SDeEBoUq0QKU"
      },
      "source": [
        "If we want, we can delete multiple element at once using the same technique:"
      ]
    },
    {
      "cell_type": "code",
      "execution_count": null,
      "metadata": {
        "id": "PvOrDCyG0QKV",
        "outputId": "8fc274b7-7bbe-43d0-8a82-7bc9eb5187b5"
      },
      "outputs": [
        {
          "data": {
            "text/plain": [
              "1449221446792"
            ]
          },
          "execution_count": 31,
          "metadata": {},
          "output_type": "execute_result"
        }
      ],
      "source": [
        "l = [1, 2, 3, 4, 5]\n",
        "id(l)"
      ]
    },
    {
      "cell_type": "code",
      "execution_count": null,
      "metadata": {
        "id": "IhbGLGOp0QKV",
        "outputId": "22cfdf3c-dfc3-4ed8-c267-28b2ae7d5eca"
      },
      "outputs": [
        {
          "data": {
            "text/plain": [
              "[1, 2]"
            ]
          },
          "execution_count": 32,
          "metadata": {},
          "output_type": "execute_result"
        }
      ],
      "source": [
        "l[0:2]"
      ]
    },
    {
      "cell_type": "code",
      "execution_count": null,
      "metadata": {
        "collapsed": true,
        "id": "XCHV6AUi0QKW"
      },
      "outputs": [],
      "source": [
        "l[0:2] = []"
      ]
    },
    {
      "cell_type": "code",
      "execution_count": null,
      "metadata": {
        "id": "P7Q4RcB30QKW",
        "outputId": "9f6da92f-354b-4c4f-ecc6-74d5ec923adf"
      },
      "outputs": [
        {
          "data": {
            "text/plain": [
              "([3, 4, 5], 1449221446792)"
            ]
          },
          "execution_count": 34,
          "metadata": {},
          "output_type": "execute_result"
        }
      ],
      "source": [
        "l, id(l)"
      ]
    },
    {
      "cell_type": "markdown",
      "metadata": {
        "id": "Lo-Chatu0QKW"
      },
      "source": [
        "##### Inserting"
      ]
    },
    {
      "cell_type": "code",
      "execution_count": null,
      "metadata": {
        "id": "S8HR2AAq0QKW",
        "outputId": "d3ce26ff-3ac5-402e-bd4f-930ce4fab635"
      },
      "outputs": [
        {
          "data": {
            "text/plain": [
              "1449221213576"
            ]
          },
          "execution_count": 18,
          "metadata": {},
          "output_type": "execute_result"
        }
      ],
      "source": [
        "l = [1, 2, 3, 4, 5]\n",
        "id(l)"
      ]
    },
    {
      "cell_type": "markdown",
      "metadata": {
        "id": "wVLLytxU0QKX"
      },
      "source": [
        "Here we have to be careful if we want to insert something.\n",
        "\n",
        "If we replace a slice that contains elements from the sequence, we'll be replacing those elements.\n",
        "\n",
        "So what we really want here is a way to replace an empty slice in our sequence!"
      ]
    },
    {
      "cell_type": "markdown",
      "metadata": {
        "id": "VGLw4oTv0QKX"
      },
      "source": [
        "Let's say we want to insert some elements at the second position in the sequence (index 1):"
      ]
    },
    {
      "cell_type": "code",
      "execution_count": null,
      "metadata": {
        "id": "8ONwND140QKX",
        "outputId": "c1f431dd-302e-40ba-affa-393ae3eab4f0"
      },
      "outputs": [
        {
          "data": {
            "text/plain": [
              "1449221445832"
            ]
          },
          "execution_count": 43,
          "metadata": {},
          "output_type": "execute_result"
        }
      ],
      "source": [
        "l = [1, 2, 3, 4, 5]\n",
        "id(l)"
      ]
    },
    {
      "cell_type": "code",
      "execution_count": null,
      "metadata": {
        "id": "0xBN5ZN20QKY",
        "outputId": "0bbf9ba2-a69b-4c43-8a93-e4917faf4803"
      },
      "outputs": [
        {
          "data": {
            "text/plain": [
              "[2]"
            ]
          },
          "execution_count": 44,
          "metadata": {},
          "output_type": "execute_result"
        }
      ],
      "source": [
        "l[1:2]"
      ]
    },
    {
      "cell_type": "markdown",
      "metadata": {
        "id": "9YsmMiih0QKY"
      },
      "source": [
        "The problem is that if we assign something to that slice it will replace the element `2`, and that's not what we want."
      ]
    },
    {
      "cell_type": "markdown",
      "metadata": {
        "id": "IqAjU8TA0QKY"
      },
      "source": [
        "Instead, we have to define an empty slice at the location where we want the insert to take place, in this case at index `1`:"
      ]
    },
    {
      "cell_type": "code",
      "execution_count": null,
      "metadata": {
        "id": "RxfiqhuW0QKY",
        "outputId": "0b8f102b-4bd6-4725-f120-8297922398b1"
      },
      "outputs": [
        {
          "data": {
            "text/plain": [
              "[]"
            ]
          },
          "execution_count": 45,
          "metadata": {},
          "output_type": "execute_result"
        }
      ],
      "source": [
        "l[1:1]"
      ]
    },
    {
      "cell_type": "markdown",
      "metadata": {
        "id": "7ZkHkiZW0QKY"
      },
      "source": [
        "So, this is an empty slice start at `1` and ending *before* `1`"
      ]
    },
    {
      "cell_type": "code",
      "execution_count": null,
      "metadata": {
        "collapsed": true,
        "id": "yR0Pe3UV0QKZ"
      },
      "outputs": [],
      "source": [
        "l[1:1] = 'abc'"
      ]
    },
    {
      "cell_type": "code",
      "execution_count": null,
      "metadata": {
        "id": "yvHyMne20QKZ",
        "outputId": "3f05af19-47fd-4058-93d8-0a081aa287e8"
      },
      "outputs": [
        {
          "data": {
            "text/plain": [
              "([1, 'a', 'b', 'c', 2, 3, 4, 5], 1449221445832)"
            ]
          },
          "execution_count": 47,
          "metadata": {},
          "output_type": "execute_result"
        }
      ],
      "source": [
        "l, id(l)"
      ]
    },
    {
      "cell_type": "markdown",
      "metadata": {
        "id": "HHUsWIrS0QKZ"
      },
      "source": [
        "And of course the memory address of `l` has not changed. We mutated the list."
      ]
    },
    {
      "cell_type": "markdown",
      "metadata": {
        "id": "MMI0YaXL0QKZ"
      },
      "source": [
        "#### Side Note: Immutable Sequences"
      ]
    },
    {
      "cell_type": "markdown",
      "metadata": {
        "id": "aMexubTe0QKZ"
      },
      "source": [
        "As a side note, what would happen if we tried the same technique using immutable sequences, such as tuples for example?"
      ]
    },
    {
      "cell_type": "code",
      "execution_count": null,
      "metadata": {
        "collapsed": true,
        "id": "oxtSUo3D0QKa"
      },
      "outputs": [],
      "source": [
        "t = 1, 2, 3, 4, 5"
      ]
    },
    {
      "cell_type": "code",
      "execution_count": null,
      "metadata": {
        "id": "19vc-Q_d0QKa",
        "outputId": "80152f51-d4ec-45b3-ecec-f1a0a5f08c74"
      },
      "outputs": [
        {
          "ename": "TypeError",
          "evalue": "'tuple' object does not support item assignment",
          "output_type": "error",
          "traceback": [
            "\u001b[1;31m---------------------------------------------------------------------------\u001b[0m",
            "\u001b[1;31mTypeError\u001b[0m                                 Traceback (most recent call last)",
            "\u001b[1;32m<ipython-input-49-b415b668250e>\u001b[0m in \u001b[0;36m<module>\u001b[1;34m()\u001b[0m\n\u001b[1;32m----> 1\u001b[1;33m \u001b[0mt\u001b[0m\u001b[1;33m[\u001b[0m\u001b[1;36m0\u001b[0m\u001b[1;33m:\u001b[0m\u001b[1;36m3\u001b[0m\u001b[1;33m]\u001b[0m \u001b[1;33m=\u001b[0m \u001b[1;33m(\u001b[0m\u001b[1;36m10\u001b[0m\u001b[1;33m,\u001b[0m \u001b[1;36m20\u001b[0m\u001b[1;33m)\u001b[0m\u001b[1;33m\u001b[0m\u001b[0m\n\u001b[0m",
            "\u001b[1;31mTypeError\u001b[0m: 'tuple' object does not support item assignment"
          ]
        }
      ],
      "source": [
        "t[0:3] = (10, 20)"
      ]
    },
    {
      "cell_type": "markdown",
      "metadata": {
        "id": "dk-rKUOG0QKa"
      },
      "source": [
        "As expected, we cannot mutate an immutable type."
      ]
    },
    {
      "cell_type": "markdown",
      "metadata": {
        "id": "6V6E6Ve-0QKa"
      },
      "source": [
        "#### Extended Slices"
      ]
    },
    {
      "cell_type": "markdown",
      "metadata": {
        "id": "wVU9JfvH0QKa"
      },
      "source": [
        "So now let's explore what happens if we assign iterables to extended slices."
      ]
    },
    {
      "cell_type": "code",
      "execution_count": null,
      "metadata": {
        "id": "pDR7XDZK0QKa",
        "outputId": "9bae3c2a-6651-4903-ceab-40cfa0ce613e"
      },
      "outputs": [
        {
          "data": {
            "text/plain": [
              "1449221445384"
            ]
          },
          "execution_count": 51,
          "metadata": {},
          "output_type": "execute_result"
        }
      ],
      "source": [
        "l = [1, 2, 3, 4, 5]\n",
        "id(l)"
      ]
    },
    {
      "cell_type": "code",
      "execution_count": null,
      "metadata": {
        "id": "iOjXrwhF0QKb",
        "outputId": "c0e08e8b-d6c9-4dbb-b1fa-fc64cd8f4917"
      },
      "outputs": [
        {
          "data": {
            "text/plain": [
              "[1, 3, 5]"
            ]
          },
          "execution_count": 52,
          "metadata": {},
          "output_type": "execute_result"
        }
      ],
      "source": [
        "l[::2]"
      ]
    },
    {
      "cell_type": "markdown",
      "metadata": {
        "id": "00GcoTvZ0QKb"
      },
      "source": [
        "Let's see if we can replace those items:"
      ]
    },
    {
      "cell_type": "code",
      "execution_count": null,
      "metadata": {
        "collapsed": true,
        "id": "k3PFVLZ10QKb"
      },
      "outputs": [],
      "source": [
        "l[::2] = ['a', 'b', 'c']"
      ]
    },
    {
      "cell_type": "code",
      "execution_count": null,
      "metadata": {
        "id": "CIdoJdbt0QKb",
        "outputId": "bbac06c2-aaa7-4c20-e89f-c83621ddc6de"
      },
      "outputs": [
        {
          "data": {
            "text/plain": [
              "(['a', 2, 'b', 4, 'c'], 1449221445384)"
            ]
          },
          "execution_count": 55,
          "metadata": {},
          "output_type": "execute_result"
        }
      ],
      "source": [
        "l, id(l)"
      ]
    },
    {
      "cell_type": "markdown",
      "metadata": {
        "id": "EO4hyNYJ0QKc"
      },
      "source": [
        "Yes!! That worked, and the id of `l` is unchanged."
      ]
    },
    {
      "cell_type": "markdown",
      "metadata": {
        "id": "1mLh3RN10QKc"
      },
      "source": [
        "There is one thing about assigning to extended slices - the length of the slice and the length of the iterable we are setting on the right hand side must have the **same length**:"
      ]
    },
    {
      "cell_type": "code",
      "execution_count": null,
      "metadata": {
        "collapsed": true,
        "id": "OGzho9oD0QKc"
      },
      "outputs": [],
      "source": [
        "l = [1, 2, 3, 4, 5]"
      ]
    },
    {
      "cell_type": "code",
      "execution_count": null,
      "metadata": {
        "id": "K3D0eJxQ0QKd",
        "outputId": "9f457b00-ecc6-4a80-f668-d7aad12c328e"
      },
      "outputs": [
        {
          "data": {
            "text/plain": [
              "[1, 3, 5]"
            ]
          },
          "execution_count": 57,
          "metadata": {},
          "output_type": "execute_result"
        }
      ],
      "source": [
        "l[::2]"
      ]
    },
    {
      "cell_type": "code",
      "execution_count": null,
      "metadata": {
        "id": "ytVqSf9N0QKd",
        "outputId": "5ec7518d-8cc5-4812-9185-a1ff5e398bec"
      },
      "outputs": [
        {
          "ename": "ValueError",
          "evalue": "attempt to assign sequence of size 2 to extended slice of size 3",
          "output_type": "error",
          "traceback": [
            "\u001b[1;31m---------------------------------------------------------------------------\u001b[0m",
            "\u001b[1;31mValueError\u001b[0m                                Traceback (most recent call last)",
            "\u001b[1;32m<ipython-input-58-10f1ccbf07ed>\u001b[0m in \u001b[0;36m<module>\u001b[1;34m()\u001b[0m\n\u001b[1;32m----> 1\u001b[1;33m \u001b[0ml\u001b[0m\u001b[1;33m[\u001b[0m\u001b[1;33m:\u001b[0m\u001b[1;33m:\u001b[0m\u001b[1;36m2\u001b[0m\u001b[1;33m]\u001b[0m \u001b[1;33m=\u001b[0m \u001b[1;33m[\u001b[0m\u001b[1;34m'a'\u001b[0m\u001b[1;33m,\u001b[0m \u001b[1;34m'b'\u001b[0m\u001b[1;33m]\u001b[0m\u001b[1;33m\u001b[0m\u001b[0m\n\u001b[0m",
            "\u001b[1;31mValueError\u001b[0m: attempt to assign sequence of size 2 to extended slice of size 3"
          ]
        }
      ],
      "source": [
        "l[::2] = ['a', 'b']"
      ]
    },
    {
      "cell_type": "code",
      "execution_count": null,
      "metadata": {
        "id": "SvrgSaHR0QKd",
        "outputId": "4b3352da-f9eb-4270-e2ff-6f63ca9be65f"
      },
      "outputs": [
        {
          "ename": "ValueError",
          "evalue": "attempt to assign sequence of size 4 to extended slice of size 3",
          "output_type": "error",
          "traceback": [
            "\u001b[1;31m---------------------------------------------------------------------------\u001b[0m",
            "\u001b[1;31mValueError\u001b[0m                                Traceback (most recent call last)",
            "\u001b[1;32m<ipython-input-59-0a51509029aa>\u001b[0m in \u001b[0;36m<module>\u001b[1;34m()\u001b[0m\n\u001b[1;32m----> 1\u001b[1;33m \u001b[0ml\u001b[0m\u001b[1;33m[\u001b[0m\u001b[1;33m:\u001b[0m\u001b[1;33m:\u001b[0m\u001b[1;36m2\u001b[0m\u001b[1;33m]\u001b[0m \u001b[1;33m=\u001b[0m \u001b[1;33m[\u001b[0m\u001b[1;34m'a'\u001b[0m\u001b[1;33m,\u001b[0m \u001b[1;34m'b'\u001b[0m\u001b[1;33m,\u001b[0m \u001b[1;34m'c'\u001b[0m\u001b[1;33m,\u001b[0m \u001b[1;34m'd'\u001b[0m\u001b[1;33m]\u001b[0m\u001b[1;33m\u001b[0m\u001b[0m\n\u001b[0m",
            "\u001b[1;31mValueError\u001b[0m: attempt to assign sequence of size 4 to extended slice of size 3"
          ]
        }
      ],
      "source": [
        "l[::2] = ['a', 'b', 'c', 'd']"
      ]
    },
    {
      "cell_type": "markdown",
      "metadata": {
        "id": "qGaf4BFn0QKd"
      },
      "source": [
        "This means that we cannot delete items using extended slicing:"
      ]
    },
    {
      "cell_type": "code",
      "execution_count": null,
      "metadata": {
        "id": "QXLhYfJf0QKe",
        "outputId": "c3446ffc-74f4-48ca-a41a-d1aac35aa6de"
      },
      "outputs": [
        {
          "ename": "ValueError",
          "evalue": "attempt to assign sequence of size 0 to extended slice of size 3",
          "output_type": "error",
          "traceback": [
            "\u001b[1;31m---------------------------------------------------------------------------\u001b[0m",
            "\u001b[1;31mValueError\u001b[0m                                Traceback (most recent call last)",
            "\u001b[1;32m<ipython-input-60-e71a8b274492>\u001b[0m in \u001b[0;36m<module>\u001b[1;34m()\u001b[0m\n\u001b[1;32m----> 1\u001b[1;33m \u001b[0ml\u001b[0m\u001b[1;33m[\u001b[0m\u001b[1;33m:\u001b[0m\u001b[1;33m:\u001b[0m\u001b[1;36m2\u001b[0m\u001b[1;33m]\u001b[0m \u001b[1;33m=\u001b[0m \u001b[1;33m[\u001b[0m\u001b[1;33m]\u001b[0m\u001b[1;33m\u001b[0m\u001b[0m\n\u001b[0m",
            "\u001b[1;31mValueError\u001b[0m: attempt to assign sequence of size 0 to extended slice of size 3"
          ]
        }
      ],
      "source": [
        "l[::2] = []"
      ]
    },
    {
      "cell_type": "markdown",
      "metadata": {
        "id": "4QvnNE950QKe"
      },
      "source": [
        "And of course insertion does not even make sense with an extended slice - remember that for insertion we need an empty slice..."
      ]
    },
    {
      "cell_type": "markdown",
      "metadata": {
        "id": "BblBev5B0QKe"
      },
      "source": [
        "#### Note"
      ]
    },
    {
      "cell_type": "markdown",
      "metadata": {
        "id": "FeGHVmGn0QKe"
      },
      "source": [
        "One last note, the right hand side can be any iterable. We saw how we could use a string for example. But any iterable, even non-sequence types will work as well."
      ]
    },
    {
      "cell_type": "code",
      "execution_count": null,
      "metadata": {
        "collapsed": true,
        "id": "CXCyCse70QKe"
      },
      "outputs": [],
      "source": [
        "l = [1, 2, 3, 4, 5]"
      ]
    },
    {
      "cell_type": "code",
      "execution_count": null,
      "metadata": {
        "collapsed": true,
        "id": "Jgj3L6Ar0QKf"
      },
      "outputs": [],
      "source": [
        "l[3:3] = {'c', 'b', 'a'}"
      ]
    },
    {
      "cell_type": "code",
      "execution_count": null,
      "metadata": {
        "id": "hUHfslJ-0QKf",
        "outputId": "5a8e1acb-87fd-41dc-91a7-62eebe148e6e"
      },
      "outputs": [
        {
          "data": {
            "text/plain": [
              "[1, 2, 3, 'b', 'a', 'c', 4, 5]"
            ]
          },
          "execution_count": 63,
          "metadata": {},
          "output_type": "execute_result"
        }
      ],
      "source": [
        "l"
      ]
    },
    {
      "cell_type": "markdown",
      "metadata": {
        "id": "RLMb4tpZ0QKf"
      },
      "source": [
        "Of course, since we are inserting the values form a set, there is no guarantee of the order in which the elements will be inserted into our list."
      ]
    }
  ],
  "metadata": {
    "kernelspec": {
      "display_name": "Python 3",
      "language": "python",
      "name": "python3"
    },
    "language_info": {
      "codemirror_mode": {
        "name": "ipython",
        "version": 3
      },
      "file_extension": ".py",
      "mimetype": "text/x-python",
      "name": "python",
      "nbconvert_exporter": "python",
      "pygments_lexer": "ipython3",
      "version": "3.6.2"
    },
    "colab": {
      "provenance": [],
      "include_colab_link": true
    }
  },
  "nbformat": 4,
  "nbformat_minor": 0
}
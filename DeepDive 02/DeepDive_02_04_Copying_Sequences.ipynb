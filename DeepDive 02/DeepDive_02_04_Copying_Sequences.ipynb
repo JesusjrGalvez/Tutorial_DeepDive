{
  "cells": [
    {
      "cell_type": "markdown",
      "metadata": {
        "id": "view-in-github",
        "colab_type": "text"
      },
      "source": [
        "<a href=\"https://colab.research.google.com/github/JesusjrGalvez/Tutorial_DeepDive/blob/main/Deepdive_02_04_Copying_Sequences.ipynb\" target=\"_parent\"><img src=\"https://colab.research.google.com/assets/colab-badge.svg\" alt=\"Open In Colab\"/></a>"
      ]
    },
    {
      "cell_type": "markdown",
      "source": [],
      "metadata": {
        "id": "4JkfbYEzKKvD"
      }
    },
    {
      "cell_type": "markdown",
      "metadata": {
        "id": "tEUilAuqJ944"
      },
      "source": [
        "### Copying Sequences"
      ]
    },
    {
      "cell_type": "markdown",
      "metadata": {
        "id": "EZqNQZ5ZJ949"
      },
      "source": [
        "#### Shallow Copies"
      ]
    },
    {
      "cell_type": "markdown",
      "metadata": {
        "id": "qaummWXPJ949"
      },
      "source": [
        "##### Simple Loop"
      ]
    },
    {
      "cell_type": "markdown",
      "metadata": {
        "id": "THnw2C5IJ94-"
      },
      "source": [
        "Really not a very Pythonic approach, but it works..."
      ]
    },
    {
      "cell_type": "code",
      "execution_count": null,
      "metadata": {
        "id": "VbjdK4aFJ94-",
        "outputId": "812e1822-cd80-4cd5-9eed-80ec7da70ed5"
      },
      "outputs": [
        {
          "name": "stdout",
          "output_type": "stream",
          "text": [
            "[1, 2, 3]\n"
          ]
        }
      ],
      "source": [
        "l1 = [1, 2, 3]\n",
        "\n",
        "l1_copy = []\n",
        "for item in l1:\n",
        "    l1_copy.append(item)\n",
        "\n",
        "print(l1_copy)"
      ]
    },
    {
      "cell_type": "markdown",
      "metadata": {
        "id": "cW8FkkJgJ95B"
      },
      "source": [
        "And we can see that `l1` and `l1_copy` are not the same objects:"
      ]
    },
    {
      "cell_type": "code",
      "execution_count": null,
      "metadata": {
        "id": "lfjaNFIzJ95C",
        "outputId": "078907fd-f829-41f0-ded3-5dd414caa200"
      },
      "outputs": [
        {
          "data": {
            "text/plain": [
              "False"
            ]
          },
          "execution_count": 2,
          "metadata": {},
          "output_type": "execute_result"
        }
      ],
      "source": [
        "l1 is l1_copy"
      ]
    },
    {
      "cell_type": "markdown",
      "metadata": {
        "id": "mK0sPbnoJ95D"
      },
      "source": [
        "##### List Comprehension"
      ]
    },
    {
      "cell_type": "markdown",
      "metadata": {
        "id": "dF3lI9kgJ95D"
      },
      "source": [
        "We can use a list comprehension to do exactly what we did in the previous example:"
      ]
    },
    {
      "cell_type": "code",
      "execution_count": null,
      "metadata": {
        "id": "9FMYZOk-J95E",
        "outputId": "3a36f76b-4ef5-4aee-deaa-477b92bffb1c"
      },
      "outputs": [
        {
          "name": "stdout",
          "output_type": "stream",
          "text": [
            "[1, 2, 3]\n"
          ]
        }
      ],
      "source": [
        "l1 = [1, 2, 3]\n",
        "l1_copy = [item for item in l1]\n",
        "print(l1_copy)"
      ]
    },
    {
      "cell_type": "markdown",
      "metadata": {
        "id": "KM5TxY6XJ95F"
      },
      "source": [
        "And once again, the objects are not the same:"
      ]
    },
    {
      "cell_type": "code",
      "execution_count": null,
      "metadata": {
        "id": "CYNPG3tGJ95F",
        "outputId": "984adaa8-9106-4e90-b912-2e017ba3ccf3"
      },
      "outputs": [
        {
          "data": {
            "text/plain": [
              "False"
            ]
          },
          "execution_count": 4,
          "metadata": {},
          "output_type": "execute_result"
        }
      ],
      "source": [
        "l1 is l1_copy"
      ]
    },
    {
      "cell_type": "markdown",
      "metadata": {
        "id": "re3MvUvtJ95F"
      },
      "source": [
        "##### Using the copy() method"
      ]
    },
    {
      "cell_type": "markdown",
      "metadata": {
        "id": "SFCyeaqGJ95G"
      },
      "source": [
        "Since lists are mutable sequence types, they have the `copy()` method."
      ]
    },
    {
      "cell_type": "code",
      "execution_count": null,
      "metadata": {
        "id": "931-W4qCJ95G",
        "outputId": "1ce7d892-d8dd-4729-f28c-cd9966961d95"
      },
      "outputs": [
        {
          "name": "stdout",
          "output_type": "stream",
          "text": [
            "[1, 2, 3]\n"
          ]
        }
      ],
      "source": [
        "l1 = [1, 2, 3]\n",
        "l1_copy = l1.copy()\n",
        "print(l1_copy)"
      ]
    },
    {
      "cell_type": "markdown",
      "metadata": {
        "id": "dBKkiZvBJ95G"
      },
      "source": [
        "And once again, the objects are different:"
      ]
    },
    {
      "cell_type": "code",
      "execution_count": null,
      "metadata": {
        "id": "qLgyvQMwJ95H",
        "outputId": "50f66f8c-f4f1-4637-dddf-3902dc27fc04"
      },
      "outputs": [
        {
          "data": {
            "text/plain": [
              "False"
            ]
          },
          "execution_count": 6,
          "metadata": {},
          "output_type": "execute_result"
        }
      ],
      "source": [
        "l1 is l1_copy"
      ]
    },
    {
      "cell_type": "markdown",
      "metadata": {
        "id": "xjMoASEMJ95H"
      },
      "source": [
        "##### Using the built-in list() Function"
      ]
    },
    {
      "cell_type": "markdown",
      "metadata": {
        "id": "QYTOiDS5J95H"
      },
      "source": [
        "The built-in `list()` function will make a list out of any iterable. This always ends up with a copy of the iterable:"
      ]
    },
    {
      "cell_type": "code",
      "execution_count": null,
      "metadata": {
        "collapsed": true,
        "id": "GpdT1Hq9J95I"
      },
      "outputs": [],
      "source": [
        "l1 = [1, 2, 3]"
      ]
    },
    {
      "cell_type": "code",
      "execution_count": null,
      "metadata": {
        "id": "pWYpx8G3J95I",
        "outputId": "e14e5f77-ed86-4b9f-8129-863cbe9a9457"
      },
      "outputs": [
        {
          "name": "stdout",
          "output_type": "stream",
          "text": [
            "[1, 2, 3]\n"
          ]
        }
      ],
      "source": [
        "l1_copy = list(l1)\n",
        "print(l1_copy)"
      ]
    },
    {
      "cell_type": "code",
      "execution_count": null,
      "metadata": {
        "id": "AyaUmvoFJ95I",
        "outputId": "5911e4f9-8223-4022-d961-1ecf61bc3437"
      },
      "outputs": [
        {
          "data": {
            "text/plain": [
              "False"
            ]
          },
          "execution_count": 9,
          "metadata": {},
          "output_type": "execute_result"
        }
      ],
      "source": [
        "l1 is l1_copy"
      ]
    },
    {
      "cell_type": "markdown",
      "metadata": {
        "id": "aWbdT5a5J95J"
      },
      "source": [
        "Note that `list()` will take in any iterable, so you can technically copy any iterable into a list:"
      ]
    },
    {
      "cell_type": "code",
      "execution_count": null,
      "metadata": {
        "id": "qLA_sSBAJ95J",
        "outputId": "87a3a667-0750-418c-86bb-93159e2ed2e1"
      },
      "outputs": [
        {
          "name": "stdout",
          "output_type": "stream",
          "text": [
            "[1, 2, 3]\n"
          ]
        }
      ],
      "source": [
        "t1 = (1, 2, 3)\n",
        "t1_copy = list(t1)\n",
        "print(t1_copy)"
      ]
    },
    {
      "cell_type": "markdown",
      "metadata": {
        "id": "lfE_oy6YJ95K"
      },
      "source": [
        "Of course, we get a list, not a tuple - so not exactly a copy."
      ]
    },
    {
      "cell_type": "markdown",
      "metadata": {
        "id": "ABpC3FaaJ95K"
      },
      "source": [
        "We've seen this before, but be careful with the `tuple()` built-in function. When we copy tuples, since they are immutable, we just get the original tuple back:"
      ]
    },
    {
      "cell_type": "code",
      "execution_count": null,
      "metadata": {
        "id": "lAkNUDnvJ95K",
        "outputId": "bba63d98-d65b-4897-c7a0-fc317d9a37c3"
      },
      "outputs": [
        {
          "name": "stdout",
          "output_type": "stream",
          "text": [
            "(1, 2, 3)\n"
          ]
        }
      ],
      "source": [
        "t1 = (1, 2, 3)\n",
        "t1_copy = tuple(t1)\n",
        "print(t1_copy)"
      ]
    },
    {
      "cell_type": "markdown",
      "metadata": {
        "id": "twoKM7X4J95K"
      },
      "source": [
        "But here, the objects are the **same**:"
      ]
    },
    {
      "cell_type": "code",
      "execution_count": null,
      "metadata": {
        "id": "B8-6K2QAJ95L",
        "outputId": "00474306-5192-46b3-bce9-dd12e2eb1bd6"
      },
      "outputs": [
        {
          "data": {
            "text/plain": [
              "True"
            ]
          },
          "execution_count": 12,
          "metadata": {},
          "output_type": "execute_result"
        }
      ],
      "source": [
        "t1 is t1_copy"
      ]
    },
    {
      "cell_type": "markdown",
      "metadata": {
        "id": "KLj0laKbJ95L"
      },
      "source": [
        "##### Using Slicing"
      ]
    },
    {
      "cell_type": "markdown",
      "metadata": {
        "id": "b5BwW6BhJ95L"
      },
      "source": [
        "We can also use slicing to copy sequences.\n",
        "\n",
        "We'll cover slicing in detail in an upcoming lecture, but with slicing we can also access subsets of the sequence - here we use slicing to select the entire sequence:"
      ]
    },
    {
      "cell_type": "code",
      "execution_count": null,
      "metadata": {
        "id": "wMy96E13J95L",
        "outputId": "7d4052d7-141e-456f-a333-50a5d9033675"
      },
      "outputs": [
        {
          "name": "stdout",
          "output_type": "stream",
          "text": [
            "[1, 2, 3]\n",
            "False\n"
          ]
        }
      ],
      "source": [
        "l1 = [1, 2, 3]\n",
        "l1_copy = l1[:]\n",
        "print(l1_copy)\n",
        "print(l1 is l1_copy)"
      ]
    },
    {
      "cell_type": "markdown",
      "metadata": {
        "id": "33ctYldFJ95L"
      },
      "source": [
        "But again, watch out with tuples!!"
      ]
    },
    {
      "cell_type": "code",
      "execution_count": null,
      "metadata": {
        "id": "Ur46eNbuJ95M",
        "outputId": "c4ab635e-357e-490f-c070-e64cef19e081"
      },
      "outputs": [
        {
          "name": "stdout",
          "output_type": "stream",
          "text": [
            "(1, 2, 3)\n",
            "True\n"
          ]
        }
      ],
      "source": [
        "t1 = (1, 2, 3)\n",
        "t1_copy = t1[:]\n",
        "print(t1_copy)\n",
        "print(t1 is t1_copy)"
      ]
    },
    {
      "cell_type": "markdown",
      "metadata": {
        "id": "l_hrUKw6J95M"
      },
      "source": [
        "As you can see, since the slice was the entire tuple, a copy was not made, instead the reference to the original tuple was returned!"
      ]
    },
    {
      "cell_type": "markdown",
      "metadata": {
        "id": "v4GBT7_DJ95M"
      },
      "source": [
        "Same deal with strings:"
      ]
    },
    {
      "cell_type": "code",
      "execution_count": null,
      "metadata": {
        "id": "szG_J9ydJ95M",
        "outputId": "11f97a7d-ccf4-4be1-d63f-cc53bdbf6ea9"
      },
      "outputs": [
        {
          "name": "stdout",
          "output_type": "stream",
          "text": [
            "python\n",
            "True\n"
          ]
        }
      ],
      "source": [
        "s1 = 'python'\n",
        "s2 = str(s1)\n",
        "print(s2)\n",
        "print(s1 is s2)"
      ]
    },
    {
      "cell_type": "code",
      "execution_count": null,
      "metadata": {
        "id": "0lerDFgrJ95N",
        "outputId": "a792d5c7-0679-42bd-b199-2cff0710ca5d"
      },
      "outputs": [
        {
          "name": "stdout",
          "output_type": "stream",
          "text": [
            "python\n",
            "True\n"
          ]
        }
      ],
      "source": [
        "s1 = 'python'\n",
        "s2 = s1[:]\n",
        "print(s2)\n",
        "print(s1 is s2)"
      ]
    },
    {
      "cell_type": "markdown",
      "metadata": {
        "id": "85eLhxo3J95N"
      },
      "source": [
        "If you're wondering why Python has that behavior, just think about it.\n",
        "\n",
        "If you create a copy of a tuple, what are you going to do to that copy? Modify it?? You can't!\n",
        "\n",
        "Modify the contents of a contained mutable element? Sure you can, but whether you had a copy or not, you would still be modifying the **same** element - having the sequence copied is no safer than not.\n",
        "\n",
        "Not needed, so Python basically optimizes things for us."
      ]
    },
    {
      "cell_type": "markdown",
      "metadata": {
        "id": "G-ubbR5OJ95N"
      },
      "source": [
        "##### The `copy` module"
      ]
    },
    {
      "cell_type": "code",
      "execution_count": null,
      "metadata": {
        "collapsed": true,
        "id": "RixKFHhCJ95N"
      },
      "outputs": [],
      "source": [
        "import copy"
      ]
    },
    {
      "cell_type": "markdown",
      "metadata": {
        "id": "XFroyj1rJ95O"
      },
      "source": [
        "The `copy` module has a generic `copy` function as well:"
      ]
    },
    {
      "cell_type": "code",
      "execution_count": null,
      "metadata": {
        "id": "v9cqX_qDJ95O",
        "outputId": "1beafa0a-7916-4ae2-ac6d-5554ca5412a9"
      },
      "outputs": [
        {
          "name": "stdout",
          "output_type": "stream",
          "text": [
            "[1, 2, 3]\n",
            "False\n"
          ]
        }
      ],
      "source": [
        "l1 = [1, 2, 3]\n",
        "l1_copy = copy.copy(l1)\n",
        "print(l1_copy)\n",
        "print(l1 is l1_copy)"
      ]
    },
    {
      "cell_type": "markdown",
      "metadata": {
        "id": "AC6mrD8dJ95O"
      },
      "source": [
        "And for tuples:"
      ]
    },
    {
      "cell_type": "code",
      "execution_count": null,
      "metadata": {
        "id": "aR4kb9v7J95O",
        "outputId": "f1f33421-6d07-4b25-ad8b-e5259570cd9a"
      },
      "outputs": [
        {
          "name": "stdout",
          "output_type": "stream",
          "text": [
            "(1, 2, 3)\n",
            "True\n"
          ]
        }
      ],
      "source": [
        "t1 = (1, 2, 3)\n",
        "t1_copy = copy.copy(t1)\n",
        "print(t1_copy)\n",
        "print(t1 is t1_copy)"
      ]
    },
    {
      "cell_type": "markdown",
      "metadata": {
        "id": "NHiq5yEoJ95P"
      },
      "source": [
        "As you can see the same thing happens with tuples as we saw before."
      ]
    },
    {
      "cell_type": "markdown",
      "metadata": {
        "id": "8jJgX5UzJ95P"
      },
      "source": [
        "#### Shallow vs Deep Copies"
      ]
    },
    {
      "cell_type": "markdown",
      "metadata": {
        "id": "YY1Ab0TcJ95P"
      },
      "source": [
        "What we have been doing so far is creating **shallow** copies.\n",
        "\n",
        "This means that when a sequence is copied, each element of the new sequence is bound to precisely the same memory address as the corresponding element in the original sequence:"
      ]
    },
    {
      "cell_type": "code",
      "execution_count": null,
      "metadata": {
        "collapsed": true,
        "id": "81ac0SCyJ95P"
      },
      "outputs": [],
      "source": [
        "v1 = [0, 0]\n",
        "v2 = [0, 0]\n",
        "\n",
        "line1 = [v1, v2]"
      ]
    },
    {
      "cell_type": "code",
      "execution_count": null,
      "metadata": {
        "id": "fzcvNK4YJ95P",
        "outputId": "72ea9edf-a68a-4c94-88c7-8a0dd1ed4ddb"
      },
      "outputs": [
        {
          "name": "stdout",
          "output_type": "stream",
          "text": [
            "[[0, 0], [0, 0]]\n",
            "2018950765896 2018950764104\n"
          ]
        }
      ],
      "source": [
        "print(line1)\n",
        "print(id(line1[0]), id(line1[1]))"
      ]
    },
    {
      "cell_type": "markdown",
      "metadata": {
        "id": "PYXmN-y_J95Q"
      },
      "source": [
        "Now let's make a copy of the line using any of the techniques we just looked at:"
      ]
    },
    {
      "cell_type": "code",
      "execution_count": null,
      "metadata": {
        "collapsed": true,
        "id": "FcQDdnkrJ95Q"
      },
      "outputs": [],
      "source": [
        "line2 = line1.copy()"
      ]
    },
    {
      "cell_type": "code",
      "execution_count": null,
      "metadata": {
        "id": "umIEzk-yJ95Q",
        "outputId": "7c255796-9510-44f4-c8ca-187280db3f70"
      },
      "outputs": [
        {
          "data": {
            "text/plain": [
              "False"
            ]
          },
          "execution_count": 23,
          "metadata": {},
          "output_type": "execute_result"
        }
      ],
      "source": [
        "line1 is line2"
      ]
    },
    {
      "cell_type": "markdown",
      "metadata": {
        "id": "Fe4nTM3TJ95Q"
      },
      "source": [
        "So not the same objects. Now let's look at the contained elements themselves:"
      ]
    },
    {
      "cell_type": "code",
      "execution_count": null,
      "metadata": {
        "id": "yHkw49unJ95R",
        "outputId": "9425b2b8-caff-4dea-e70e-2e898c369b67"
      },
      "outputs": [
        {
          "name": "stdout",
          "output_type": "stream",
          "text": [
            "2018950765896 2018950764104\n",
            "2018950765896 2018950764104\n"
          ]
        }
      ],
      "source": [
        "print(id(line1[0]), id(line1[1]))\n",
        "print(id(line2[0]), id(line2[1]))"
      ]
    },
    {
      "cell_type": "markdown",
      "metadata": {
        "id": "ZtfQ42K7J95R"
      },
      "source": [
        "As you can see, the element references are the same!"
      ]
    },
    {
      "cell_type": "markdown",
      "metadata": {
        "id": "SHpUsNreJ95R"
      },
      "source": [
        "So, if we do this:"
      ]
    },
    {
      "cell_type": "code",
      "execution_count": null,
      "metadata": {
        "collapsed": true,
        "id": "y1rauTJoJ95R"
      },
      "outputs": [],
      "source": [
        "line2[0][0] = 100"
      ]
    },
    {
      "cell_type": "code",
      "execution_count": null,
      "metadata": {
        "id": "4VtL0cg3J95S",
        "outputId": "1e2b61c2-1cc1-4efc-b29a-44b20dd1e708"
      },
      "outputs": [
        {
          "data": {
            "text/plain": [
              "[[100, 0], [0, 0]]"
            ]
          },
          "execution_count": 26,
          "metadata": {},
          "output_type": "execute_result"
        }
      ],
      "source": [
        "line2"
      ]
    },
    {
      "cell_type": "code",
      "execution_count": null,
      "metadata": {
        "id": "22XdUGzKJ95S",
        "outputId": "7846af1b-501d-45f8-9d3a-d4a5375426f9"
      },
      "outputs": [
        {
          "data": {
            "text/plain": [
              "[[100, 0], [0, 0]]"
            ]
          },
          "execution_count": 27,
          "metadata": {},
          "output_type": "execute_result"
        }
      ],
      "source": [
        "line1"
      ]
    },
    {
      "cell_type": "markdown",
      "metadata": {
        "id": "B1_gq-N8J95S"
      },
      "source": [
        "`line1`'s contents has also changed."
      ]
    },
    {
      "cell_type": "markdown",
      "metadata": {
        "id": "R5WI-9UmJ95S"
      },
      "source": [
        "If we want the contained elements **also** to be copied, then we need to explicitly do so as well. This is called creating a **deep** copy.\n",
        "\n",
        "Let's see how we might do this:"
      ]
    },
    {
      "cell_type": "code",
      "execution_count": null,
      "metadata": {
        "collapsed": true,
        "id": "L6huvvDEJ95S"
      },
      "outputs": [],
      "source": [
        "v1 = [0, 0]\n",
        "v2 = [0, 0]\n",
        "\n",
        "line1 = [v1, v2]"
      ]
    },
    {
      "cell_type": "code",
      "execution_count": null,
      "metadata": {
        "collapsed": true,
        "id": "0jVcP82jJ95T"
      },
      "outputs": [],
      "source": [
        "line2 = [item[:] for item in line1]"
      ]
    },
    {
      "cell_type": "code",
      "execution_count": null,
      "metadata": {
        "id": "0104yvxmJ95T",
        "outputId": "c1b8338e-f8dc-4d00-fb5d-02afb78a3416"
      },
      "outputs": [
        {
          "name": "stdout",
          "output_type": "stream",
          "text": [
            "2018950613000 2018948315720\n",
            "2018950712904 2018950766408\n"
          ]
        }
      ],
      "source": [
        "print(id(line1[0]), id(line1[1]))\n",
        "print(id(line2[0]), id(line2[1]))"
      ]
    },
    {
      "cell_type": "markdown",
      "metadata": {
        "id": "uD4n-bxlJ95T"
      },
      "source": [
        "As you can see, now we have copies of the elements as well:"
      ]
    },
    {
      "cell_type": "code",
      "execution_count": null,
      "metadata": {
        "id": "0Px94PP_J95T",
        "outputId": "2ec6be1f-6355-486c-92d2-595090f3d109"
      },
      "outputs": [
        {
          "name": "stdout",
          "output_type": "stream",
          "text": [
            "[[100, 0], [0, 0]]\n",
            "[[0, 0], [0, 0]]\n"
          ]
        }
      ],
      "source": [
        "line1[0][0] = 100\n",
        "print(line1)\n",
        "print(line2)"
      ]
    },
    {
      "cell_type": "markdown",
      "metadata": {
        "id": "Os2LJalvJ95T"
      },
      "source": [
        "and `line2` is unaffacted when we modify `line1`.\n",
        "\n",
        "So not only did we do a copy of `line1`, but we also made a shallow copy of `v1` and `v2` as well.\n",
        "\n",
        "But the problem is that we only went two levels deep - what if the variables `v1` and `v2` themselves contained mutable types instead of just integers? We would have to nest deeper and deeper - in general that's what a deep copy needs to do, and usually recursive approaches need to be used."
      ]
    },
    {
      "cell_type": "markdown",
      "metadata": {
        "id": "kTSuDm1oJ95U"
      },
      "source": [
        "Fortunately, Python has that functionality built-in for us so we don't have to do that!"
      ]
    },
    {
      "cell_type": "markdown",
      "metadata": {
        "id": "eI5rIoXxJ95U"
      },
      "source": [
        "The `copy` module has a `deepcopy()` function we can use to create deep copies. It handles all kinds of weird situations where we might have circular references - doing it ourselves is certainly possible, but does take some work."
      ]
    },
    {
      "cell_type": "code",
      "execution_count": null,
      "metadata": {
        "collapsed": true,
        "id": "_rcsLCoMJ95U"
      },
      "outputs": [],
      "source": [
        "v1 = [0, 0]\n",
        "v2 = [0, 0]\n",
        "line1 = [v1, v2]"
      ]
    },
    {
      "cell_type": "code",
      "execution_count": null,
      "metadata": {
        "id": "91f8kPqOJ95U",
        "outputId": "7c9aac41-0dd3-44e9-c13c-9515a615f95c"
      },
      "outputs": [
        {
          "name": "stdout",
          "output_type": "stream",
          "text": [
            "2018950611912 2018948484808\n",
            "2018950458184 2018950611976\n"
          ]
        }
      ],
      "source": [
        "line2 = copy.deepcopy(line1)\n",
        "print(id(line1[0]), id(line1[1]))\n",
        "print(id(line2[0]), id(line2[1]))"
      ]
    },
    {
      "cell_type": "code",
      "execution_count": null,
      "metadata": {
        "collapsed": true,
        "id": "87bu_dg2J95U"
      },
      "outputs": [],
      "source": [
        "line2[0][0] = 100"
      ]
    },
    {
      "cell_type": "code",
      "execution_count": null,
      "metadata": {
        "id": "pvl594HuJ95V",
        "outputId": "3baa2704-3078-4132-dba4-f4d0c0d3695a"
      },
      "outputs": [
        {
          "name": "stdout",
          "output_type": "stream",
          "text": [
            "[[0, 0], [0, 0]]\n",
            "[[100, 0], [0, 0]]\n"
          ]
        }
      ],
      "source": [
        "print(line1)\n",
        "print(line2)"
      ]
    },
    {
      "cell_type": "markdown",
      "metadata": {
        "id": "j4htiFfdJ95V"
      },
      "source": [
        "And of course, it works with any level of nested objects:"
      ]
    },
    {
      "cell_type": "code",
      "execution_count": null,
      "metadata": {
        "id": "YkO-d9ZyJ95V",
        "outputId": "c5cbf863-59a6-45a9-91d7-435c2f0c8362"
      },
      "outputs": [
        {
          "name": "stdout",
          "output_type": "stream",
          "text": [
            "[[[11, 12], [21, 22]], [[31, 32], [41, 42]]]\n"
          ]
        }
      ],
      "source": [
        "v1 = [11, 12]\n",
        "v2 = [21, 22]\n",
        "line1 = [v1, v2]\n",
        "\n",
        "v3 = [31, 32]\n",
        "v4 = [41, 42]\n",
        "line2 = [v3, v4]\n",
        "\n",
        "plane1 = [line1, line2]\n",
        "print(plane1)"
      ]
    },
    {
      "cell_type": "code",
      "execution_count": null,
      "metadata": {
        "collapsed": true,
        "id": "nL6P1-1YJ95V"
      },
      "outputs": [],
      "source": [
        "plane2 = copy.deepcopy(plane1)"
      ]
    },
    {
      "cell_type": "code",
      "execution_count": null,
      "metadata": {
        "id": "RkPMhlg8J95V",
        "outputId": "f0c35803-c9e2-405c-b789-8aba9e296bdc"
      },
      "outputs": [
        {
          "name": "stdout",
          "output_type": "stream",
          "text": [
            "[[[11, 12], [21, 22]], [[31, 32], [41, 42]]]\n"
          ]
        }
      ],
      "source": [
        "print(plane2)"
      ]
    },
    {
      "cell_type": "code",
      "execution_count": null,
      "metadata": {
        "id": "L8GNkwD-J95W",
        "outputId": "fe02f1d9-5267-4571-b958-4a2847404613"
      },
      "outputs": [
        {
          "name": "stdout",
          "output_type": "stream",
          "text": [
            "[[11, 12], [21, 22]] 2018950458632\n",
            "[[11, 12], [21, 22]] 2018950611080\n"
          ]
        }
      ],
      "source": [
        "print(plane1[0], id(plane1[0]))\n",
        "print(plane2[0], id(plane2[0]))"
      ]
    },
    {
      "cell_type": "code",
      "execution_count": null,
      "metadata": {
        "id": "5TkRw7SIJ95W",
        "outputId": "2f87f289-5762-493f-d452-f3525e6def86"
      },
      "outputs": [
        {
          "name": "stdout",
          "output_type": "stream",
          "text": [
            "[11, 12] 2018948481288\n",
            "[11, 12] 2018950763080\n"
          ]
        }
      ],
      "source": [
        "print(plane1[0][0], id(plane1[0][0]))\n",
        "print(plane2[0][0], id(plane2[0][0]))"
      ]
    },
    {
      "cell_type": "markdown",
      "metadata": {
        "id": "GqEo8DorJ95W"
      },
      "source": [
        "#### Even works with custom classes"
      ]
    },
    {
      "cell_type": "code",
      "execution_count": null,
      "metadata": {
        "collapsed": true,
        "id": "OQA-lccFJ95W"
      },
      "outputs": [],
      "source": [
        "class Point:\n",
        "    def __init__(self, x, y):\n",
        "        self.x = x\n",
        "        self.y = y\n",
        "    \n",
        "    def __repr__(self):\n",
        "        return f'Point({self.x}, {self.y})'\n",
        "    \n",
        "class Line:\n",
        "    def __init__(self, p1, p2):\n",
        "        self.p1 = p1\n",
        "        self.p2 = p2\n",
        "        \n",
        "    def __repr__(self):\n",
        "        return f'Line({self.p1.__repr__()}, {self.p2.__repr__()})'"
      ]
    },
    {
      "cell_type": "code",
      "execution_count": null,
      "metadata": {
        "scrolled": true,
        "id": "S4t-pxBZJ95W",
        "outputId": "0d64ac94-63ad-4a1a-e4f8-6d4da4142b3f"
      },
      "outputs": [
        {
          "name": "stdout",
          "output_type": "stream",
          "text": [
            "Point(0, 0) 2018950806944\n",
            "Point(0, 0) 2018950807280\n"
          ]
        }
      ],
      "source": [
        "p1 = Point(0, 0)\n",
        "p2 = Point(10, 10)\n",
        "line1 = Line(p1, p2)\n",
        "line2 = copy.deepcopy(line1)\n",
        "\n",
        "print(line1.p1, id(line1.p1))\n",
        "print(line2.p1, id(line2.p1))"
      ]
    },
    {
      "cell_type": "markdown",
      "metadata": {
        "id": "ybc1IcLfJ95X"
      },
      "source": [
        "As you can see, the memory address of the points are different - that was because of the deep copy."
      ]
    },
    {
      "cell_type": "markdown",
      "metadata": {
        "id": "xdCecTnhJ95X"
      },
      "source": [
        "However, if we had done a shallow copy:"
      ]
    },
    {
      "cell_type": "code",
      "execution_count": null,
      "metadata": {
        "id": "zAacDeYTJ95X",
        "outputId": "78c186fc-44df-4ee2-85a7-2067b39849d5"
      },
      "outputs": [
        {
          "name": "stdout",
          "output_type": "stream",
          "text": [
            "Point(0, 0) 2018950806832\n",
            "Point(0, 0) 2018950806832\n"
          ]
        }
      ],
      "source": [
        "p1 = Point(0, 0)\n",
        "p2 = Point(10, 10)\n",
        "line1 = Line(p1, p2)\n",
        "line2 = copy.copy(line1)\n",
        "\n",
        "print(line1.p1, id(line1.p1))\n",
        "print(line2.p1, id(line2.p1))"
      ]
    },
    {
      "cell_type": "markdown",
      "metadata": {
        "id": "Mipc0_fbJ95Y"
      },
      "source": [
        "As you can see, the memory address of the points are now the **same**."
      ]
    }
  ],
  "metadata": {
    "kernelspec": {
      "display_name": "Python 3",
      "language": "python",
      "name": "python3"
    },
    "language_info": {
      "codemirror_mode": {
        "name": "ipython",
        "version": 3
      },
      "file_extension": ".py",
      "mimetype": "text/x-python",
      "name": "python",
      "nbconvert_exporter": "python",
      "pygments_lexer": "ipython3",
      "version": "3.6.2"
    },
    "colab": {
      "provenance": [],
      "include_colab_link": true
    }
  },
  "nbformat": 4,
  "nbformat_minor": 0
}
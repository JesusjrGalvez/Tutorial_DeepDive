{
  "cells": [
    {
      "cell_type": "markdown",
      "metadata": {
        "id": "view-in-github",
        "colab_type": "text"
      },
      "source": [
        "<a href=\"https://colab.research.google.com/github/JesusjrGalvez/Tutorial_DeepDive/blob/main/Deepdive_02_02_Mutable_Sequence_Types.ipynb\" target=\"_parent\"><img src=\"https://colab.research.google.com/assets/colab-badge.svg\" alt=\"Open In Colab\"/></a>"
      ]
    },
    {
      "cell_type": "markdown",
      "metadata": {
        "id": "1l0srKx19AQ3"
      },
      "source": [
        "### Mutable Sequences"
      ]
    },
    {
      "cell_type": "markdown",
      "metadata": {
        "id": "MQKy0pIj9AQ7"
      },
      "source": [
        "When dealing with mutable sequences, we have a few more things we can do - essentially adding, removing and replacing elements in the sequence.\n",
        "\n",
        "This **mutates** the sequence. The sequence's memory address has not changed, but the internal **state** of the sequence has."
      ]
    },
    {
      "cell_type": "markdown",
      "metadata": {
        "id": "VqGYf_IG9AQ8"
      },
      "source": [
        "#### Replacing Elements"
      ]
    },
    {
      "cell_type": "markdown",
      "metadata": {
        "id": "OfhJqvXC9AQ8"
      },
      "source": [
        "We can replace a single element as follows:"
      ]
    },
    {
      "cell_type": "code",
      "execution_count": null,
      "metadata": {
        "colab": {
          "base_uri": "https://localhost:8080/"
        },
        "id": "aanVBtGh9AQ9",
        "outputId": "235af648-761f-438a-cfda-668495e2606b"
      },
      "outputs": [
        {
          "output_type": "stream",
          "name": "stdout",
          "text": [
            "139938817977952\n",
            "139938817977952 ['a', 2, 3, 4, 5]\n"
          ]
        }
      ],
      "source": [
        "l = [1, 2, 3, 4, 5]\n",
        "print(id(l))\n",
        "l[0] = 'a'\n",
        "print(id(l), l)"
      ]
    },
    {
      "cell_type": "markdown",
      "metadata": {
        "id": "bTFCclLi9AQ_"
      },
      "source": [
        "We can remove all elements from the sequence:"
      ]
    },
    {
      "cell_type": "code",
      "execution_count": null,
      "metadata": {
        "colab": {
          "base_uri": "https://localhost:8080/"
        },
        "id": "S2uegO-x9AQ_",
        "outputId": "24613039-a3cf-4692-a733-637e7a72d4b9"
      },
      "outputs": [
        {
          "output_type": "stream",
          "name": "stdout",
          "text": [
            "[]\n"
          ]
        }
      ],
      "source": [
        "l = [1, 2, 3, 4, 5]\n",
        "l.clear()\n",
        "print(l)"
      ]
    },
    {
      "cell_type": "markdown",
      "metadata": {
        "id": "cCw7oLxY9ARA"
      },
      "source": [
        "Note that this is **NOT** the same as doing this:"
      ]
    },
    {
      "cell_type": "code",
      "execution_count": null,
      "metadata": {
        "colab": {
          "base_uri": "https://localhost:8080/"
        },
        "id": "D71Op12n9ARB",
        "outputId": "c3eba2c7-f6f9-47c3-9a17-80ed6527058e"
      },
      "outputs": [
        {
          "output_type": "stream",
          "name": "stdout",
          "text": [
            "139938736818448\n",
            "[]\n",
            "139938736678384\n"
          ]
        }
      ],
      "source": [
        "l = [1, 2, 3, 4, 5]\n",
        "print(id(l))\n",
        "l = []\n",
        "print(l)\n",
        "print(id(l))"
      ]
    },
    {
      "cell_type": "markdown",
      "metadata": {
        "id": "9iMha8kU9ARC"
      },
      "source": [
        "The net effect may look the same, `l` is an empty list, but observe the memory addresses:"
      ]
    },
    {
      "cell_type": "code",
      "execution_count": null,
      "metadata": {
        "id": "eNBrSHpQ9ARC",
        "outputId": "0bf9d431-5558-484f-b934-959a31a40fff"
      },
      "outputs": [
        {
          "name": "stdout",
          "output_type": "stream",
          "text": [
            "1979932698824\n",
            "[] 1979932698824\n"
          ]
        }
      ],
      "source": [
        "l = [1, 2, 3, 4, 5]\n",
        "print(id(l))\n",
        "l.clear()\n",
        "print(l, id(l))"
      ]
    },
    {
      "cell_type": "markdown",
      "metadata": {
        "id": "yh-P1l6Q9ARD"
      },
      "source": [
        "vs"
      ]
    },
    {
      "cell_type": "code",
      "execution_count": null,
      "metadata": {
        "id": "dxo9zEq99ARD",
        "outputId": "27047515-32ec-4b74-bd34-61b13e6378ce"
      },
      "outputs": [
        {
          "name": "stdout",
          "output_type": "stream",
          "text": [
            "1979932699144\n",
            "[] 1979932698824\n"
          ]
        }
      ],
      "source": [
        "l = [1, 2, 3, 4, 5]\n",
        "print(id(l))\n",
        "l = []\n",
        "print(l, id(l))"
      ]
    },
    {
      "cell_type": "markdown",
      "metadata": {
        "id": "yh7t2YpE9ARE"
      },
      "source": [
        "In the second case you can see that the object referenced by `l` has changed, but not in the first case."
      ]
    },
    {
      "cell_type": "markdown",
      "metadata": {
        "id": "PO0Jbyxy9ARE"
      },
      "source": [
        "Why might this be important?"
      ]
    },
    {
      "cell_type": "markdown",
      "metadata": {
        "id": "SyUqQqPz9ARE"
      },
      "source": [
        "Suppose you have the following setup:"
      ]
    },
    {
      "cell_type": "code",
      "execution_count": null,
      "metadata": {
        "id": "Ouj0ZxTv9ARF",
        "outputId": "4a70e332-8abc-4427-8bf8-3e2ab70183e2"
      },
      "outputs": [
        {
          "name": "stdout",
          "output_type": "stream",
          "text": [
            "[] ['Spades', 'Hearts', 'Diamonds', 'Clubs']\n"
          ]
        }
      ],
      "source": [
        "suits = ['Spades', 'Hearts', 'Diamonds', 'Clubs']\n",
        "alias = suits\n",
        "suits = []\n",
        "print(suits, alias)"
      ]
    },
    {
      "cell_type": "markdown",
      "metadata": {
        "id": "wa77a4J49ARF"
      },
      "source": [
        "But using clear:"
      ]
    },
    {
      "cell_type": "code",
      "execution_count": null,
      "metadata": {
        "id": "2lTfyrgV9ARF",
        "outputId": "14cb4363-a508-4c83-fdca-121986bfaabb"
      },
      "outputs": [
        {
          "name": "stdout",
          "output_type": "stream",
          "text": [
            "[] []\n"
          ]
        }
      ],
      "source": [
        "suits = ['Spades', 'Hearts', 'Diamonds', 'Clubs']\n",
        "alias = suits\n",
        "suits.clear()\n",
        "print(suits, alias)"
      ]
    },
    {
      "cell_type": "markdown",
      "metadata": {
        "id": "zkwfxtKu9ARG"
      },
      "source": [
        "Big difference!!"
      ]
    },
    {
      "cell_type": "markdown",
      "metadata": {
        "id": "eIKCfJbP9ARG"
      },
      "source": [
        "We can also replace elements using slicing and extended slicing. Here's an example, but we'll come back to this in a lot of detail:"
      ]
    },
    {
      "cell_type": "code",
      "execution_count": null,
      "metadata": {
        "colab": {
          "base_uri": "https://localhost:8080/"
        },
        "id": "_lQXehD09ARH",
        "outputId": "4e6defa3-faf8-406f-cdb2-617339471ed9"
      },
      "outputs": [
        {
          "output_type": "stream",
          "name": "stdout",
          "text": [
            "139938737161712\n",
            "139938737161712 ['a', 'b', 'c', 'd', 'e', 3, 4, 5]\n"
          ]
        }
      ],
      "source": [
        "l = [1, 2, 3, 4, 5]\n",
        "print(id(l))\n",
        "l[0:2] = ['a', 'b', 'c', 'd', 'e']\n",
        "print(id(l), l)"
      ]
    },
    {
      "cell_type": "markdown",
      "metadata": {
        "id": "BMz47SoF9ARH"
      },
      "source": [
        "#### Appending and Extending"
      ]
    },
    {
      "cell_type": "markdown",
      "metadata": {
        "id": "o6nb8T8Z9ARH"
      },
      "source": [
        "We can also append elements to the sequence (note that this is **not** the same as concatenation):"
      ]
    },
    {
      "cell_type": "code",
      "execution_count": null,
      "metadata": {
        "id": "DzBzjeuD9ARH",
        "outputId": "ea13b24b-4370-47c5-bbae-6a428a854101"
      },
      "outputs": [
        {
          "name": "stdout",
          "output_type": "stream",
          "text": [
            "1979932697992\n",
            "[1, 2, 3, 4] 1979932697992\n"
          ]
        }
      ],
      "source": [
        "l = [1, 2, 3]\n",
        "print(id(l))\n",
        "l.append(4)\n",
        "print(l, id(l))"
      ]
    },
    {
      "cell_type": "markdown",
      "metadata": {
        "id": "UOBlPWhX9ARI"
      },
      "source": [
        "If we had \"appended\" the value `4` using concatenation. Concatenation changes the memory address. \n"
      ]
    },
    {
      "cell_type": "code",
      "execution_count": null,
      "metadata": {
        "id": "9H0evKFu9ARI",
        "outputId": "58913683-8839-48e5-9238-f38162abb635"
      },
      "outputs": [
        {
          "name": "stdout",
          "output_type": "stream",
          "text": [
            "1979932193288\n",
            "1979932698312 [1, 2, 3, 4]\n"
          ]
        }
      ],
      "source": [
        "l = [1, 2, 3]\n",
        "print(id(l))\n",
        "l = l + [4]\n",
        "print(id(l), l)"
      ]
    },
    {
      "cell_type": "markdown",
      "metadata": {
        "id": "0KKqEMgO9ARI"
      },
      "source": [
        "If we want to add more than one element at a time, we can extend a sequence with the contents of any iterable (not just sequences):"
      ]
    },
    {
      "cell_type": "code",
      "execution_count": null,
      "metadata": {
        "id": "UXzoFQWV9ARJ",
        "outputId": "f701cc97-f5d2-4d0d-de1a-1e87f9e09bd3"
      },
      "outputs": [
        {
          "name": "stdout",
          "output_type": "stream",
          "text": [
            "1979932844488\n",
            "1979932844488 [1, 2, 3, 4, 5, 'c', 'b', 'a']\n"
          ]
        }
      ],
      "source": [
        "l = [1, 2, 3, 4, 5]\n",
        "print(id(l))\n",
        "l.extend({'a', 'b', 'c'})\n",
        "print(id(l), l)"
      ]
    },
    {
      "cell_type": "markdown",
      "metadata": {
        "id": "1Yk2aTXq9ARJ"
      },
      "source": [
        "Of course, since we extended using a set, there was not gurantee of positional ordering."
      ]
    },
    {
      "cell_type": "markdown",
      "metadata": {
        "id": "P4TLUmDE9ARJ"
      },
      "source": [
        "If we extend with another sequence, then positional ordering is retained:"
      ]
    },
    {
      "cell_type": "code",
      "execution_count": null,
      "metadata": {
        "id": "JboPrmUc9ARJ",
        "outputId": "c39d9d6d-d5ff-4e00-dabf-5d917a33ec2a"
      },
      "outputs": [
        {
          "name": "stdout",
          "output_type": "stream",
          "text": [
            "[1, 2, 3, 'a', 'b', 'c']\n"
          ]
        }
      ],
      "source": [
        "l = [1, 2, 3]\n",
        "l.extend(('a', 'b', 'c'))\n",
        "print(l)"
      ]
    },
    {
      "cell_type": "markdown",
      "metadata": {
        "id": "GWBi8mfD9ARJ"
      },
      "source": [
        "#### Removing Elements"
      ]
    },
    {
      "cell_type": "markdown",
      "metadata": {
        "id": "0gHJIM2N9ARK"
      },
      "source": [
        "We can remove (and retrieve at the same time) an element from a mutable sequence:"
      ]
    },
    {
      "cell_type": "code",
      "execution_count": null,
      "metadata": {
        "id": "EUi-7nL59ARK",
        "outputId": "1141926f-b658-4c75-d5c2-3f002b781be1"
      },
      "outputs": [
        {
          "name": "stdout",
          "output_type": "stream",
          "text": [
            "1979932193288\n",
            "1979932193288 2 [1, 3, 4]\n"
          ]
        }
      ],
      "source": [
        "l = [1, 2, 3, 4]\n",
        "print(id(l))\n",
        "popped = l.pop(1)\n",
        "print(id(l), popped, l)"
      ]
    },
    {
      "cell_type": "markdown",
      "metadata": {
        "id": "zAWmsSvb9ARK"
      },
      "source": [
        "If we do not specify an index for `pop`, then the **last** element is popped:"
      ]
    },
    {
      "cell_type": "code",
      "execution_count": null,
      "metadata": {
        "id": "FmMr9FZp9ARK",
        "outputId": "5517c357-5d5f-4538-ca54-0abc6e831b6d"
      },
      "outputs": [
        {
          "name": "stdout",
          "output_type": "stream",
          "text": [
            "4\n",
            "1979932696968 4 [1, 2, 3]\n"
          ]
        }
      ],
      "source": [
        "l = [1, 2, 3, 4]\n",
        "popped = l.pop()\n",
        "print(popped)\n",
        "print(id(l), popped, l)"
      ]
    },
    {
      "cell_type": "code",
      "source": [
        "l = list(range(5))\n",
        "print(l)\n",
        "popped = l.pop(3)\n",
        "print(popped, l)"
      ],
      "metadata": {
        "colab": {
          "base_uri": "https://localhost:8080/"
        },
        "id": "jp8MJRmS_Var",
        "outputId": "e4efb6f4-52c7-4eb5-c167-53dcb3996d42"
      },
      "execution_count": null,
      "outputs": [
        {
          "output_type": "stream",
          "name": "stdout",
          "text": [
            "[0, 1, 2, 3, 4]\n",
            "3 [0, 1, 2, 4]\n"
          ]
        }
      ]
    },
    {
      "cell_type": "markdown",
      "metadata": {
        "id": "GcwHDIoY9ARL"
      },
      "source": [
        "#### Inserting Elements"
      ]
    },
    {
      "cell_type": "markdown",
      "metadata": {
        "id": "L3P7nkVa9ARL"
      },
      "source": [
        "We can insert an element at a specific index. What this means is that the element we are inserting will be **at** that index position, and element that was at that position and all the remaining elements to the right are pushed out:"
      ]
    },
    {
      "cell_type": "code",
      "execution_count": null,
      "metadata": {
        "colab": {
          "base_uri": "https://localhost:8080/"
        },
        "id": "cXOnSc8H9ARL",
        "outputId": "e526e043-9fc7-4887-86df-a89a21e39023"
      },
      "outputs": [
        {
          "output_type": "stream",
          "name": "stdout",
          "text": [
            "139938737170704\n",
            "139938737170704 [1, 2, 'a', 3, 4]\n"
          ]
        }
      ],
      "source": [
        "l = [1, 2, 3, 4]\n",
        "print(id(l))\n",
        "l.insert(2, 'a')\n",
        "print(id(l), l)"
      ]
    },
    {
      "cell_type": "markdown",
      "metadata": {
        "id": "q7Oorri79ARM"
      },
      "source": [
        "#### Reversing a Sequence"
      ]
    },
    {
      "cell_type": "markdown",
      "metadata": {
        "id": "GBII_ChJ9ARM"
      },
      "source": [
        "We can also do in-place reversal:"
      ]
    },
    {
      "cell_type": "code",
      "execution_count": null,
      "metadata": {
        "id": "k5oUoLLH9ARM",
        "outputId": "991eae35-5ebc-4611-f537-4b5d7226a701"
      },
      "outputs": [
        {
          "name": "stdout",
          "output_type": "stream",
          "text": [
            "1979930587080\n",
            "1979930587080 [4, 3, 2, 1]\n"
          ]
        }
      ],
      "source": [
        "l = [1, 2, 3, 4]\n",
        "print(id(l))\n",
        "l.reverse()\n",
        "print(id(l), l)"
      ]
    },
    {
      "cell_type": "markdown",
      "metadata": {
        "id": "bOAHg8vt9ARM"
      },
      "source": [
        "We can also reverse a sequence using extended slicing (we'll come back to this later):"
      ]
    },
    {
      "cell_type": "code",
      "execution_count": null,
      "metadata": {
        "colab": {
          "base_uri": "https://localhost:8080/"
        },
        "id": "XO7h8Zrw9ARM",
        "outputId": "77b39305-6453-4be3-ca80-7cc62f3af421"
      },
      "outputs": [
        {
          "output_type": "stream",
          "name": "stdout",
          "text": [
            "139938736764000\n",
            "139938736764000\n",
            "[1, 2, 3, 4]\n"
          ]
        }
      ],
      "source": [
        "l = [1, 2, 3, 4]\n",
        "print(id(l))\n",
        "l[::-1]\n",
        "print(id(l)) # They have the same memory location because nothing was changed in the memory location.  \n",
        "print(l)"
      ]
    },
    {
      "cell_type": "markdown",
      "metadata": {
        "id": "G68D2GVC9ARN"
      },
      "source": [
        "But this is **NOT** mutating the sequence - the slice is returning a **new** sequence - that happens to be reversed."
      ]
    },
    {
      "cell_type": "code",
      "execution_count": null,
      "metadata": {
        "id": "UoMne_CT9ARN",
        "outputId": "04861185-c803-4dc0-9867-174131a36c4c"
      },
      "outputs": [
        {
          "name": "stdout",
          "output_type": "stream",
          "text": [
            "1979932143176\n",
            "1979932696968 [4, 3, 2, 1]\n"
          ]
        }
      ],
      "source": [
        "l = [1, 2, 3, 4]\n",
        "print(id(l))\n",
        "l = l[::-1]\n",
        "print(id(l), l)"
      ]
    },
    {
      "cell_type": "markdown",
      "metadata": {
        "id": "wKPBbhn-9ARN"
      },
      "source": [
        "#### Copying Sequences"
      ]
    },
    {
      "cell_type": "markdown",
      "metadata": {
        "id": "fC-F7Sij9ARN"
      },
      "source": [
        "We can create a copy of a sequence:"
      ]
    },
    {
      "cell_type": "code",
      "execution_count": null,
      "metadata": {
        "colab": {
          "base_uri": "https://localhost:8080/"
        },
        "id": "7r-AtO0e9ARN",
        "outputId": "e95a1d51-5517-45d9-db08-112d41e709e5"
      },
      "outputs": [
        {
          "output_type": "stream",
          "name": "stdout",
          "text": [
            "139938736815632\n",
            "139938736407968 [1, 2, 3, 4]\n"
          ]
        }
      ],
      "source": [
        "l = [1, 2, 3, 4]\n",
        "print(id(l))\n",
        "l2 = l.copy()\n",
        "print(id(l2), l2)"
      ]
    },
    {
      "cell_type": "markdown",
      "metadata": {
        "id": "kmTCW_359ARO"
      },
      "source": [
        "Note that the `id` of `l` and `l2` is not the same."
      ]
    },
    {
      "cell_type": "markdown",
      "metadata": {
        "id": "cEy6fm4k9ARO"
      },
      "source": [
        "In this case, using slicing does work the same as using the `copy` method:"
      ]
    },
    {
      "cell_type": "code",
      "execution_count": null,
      "metadata": {
        "colab": {
          "base_uri": "https://localhost:8080/"
        },
        "id": "eeQ9HsHj9ARO",
        "outputId": "c634216f-9900-49fc-ba0f-13300d64b737"
      },
      "outputs": [
        {
          "output_type": "stream",
          "name": "stdout",
          "text": [
            "139938736866880\n",
            "139938736866000 [1, 2, 3, 4]\n"
          ]
        }
      ],
      "source": [
        "l = [1, 2, 3, 4]\n",
        "print(id(l))\n",
        "l2 = l[:]\n",
        "print(id(l2), l2)"
      ]
    },
    {
      "cell_type": "markdown",
      "metadata": {
        "id": "JX7AeXsb9ARO"
      },
      "source": [
        "As you can see in both cases we end up with new objects.\n",
        "\n",
        "So, use copy() or [:] - up to you, they end up doing the same thing."
      ]
    },
    {
      "cell_type": "markdown",
      "metadata": {
        "id": "NO--dzhU9ARO"
      },
      "source": [
        "We'll come back to copying in some detail in an upcoming video as this is an important topic with some subtleties."
      ]
    },
    {
      "cell_type": "markdown",
      "source": [
        "### Appending and inserting. "
      ],
      "metadata": {
        "id": "K8rh4m4YBU9O"
      }
    },
    {
      "cell_type": "code",
      "source": [
        "l = list(range(10))\n",
        "l.append(100, 5) # Append only adds something at the end. "
      ],
      "metadata": {
        "colab": {
          "base_uri": "https://localhost:8080/",
          "height": 183
        },
        "id": "LQlZ2kOGAZ3Y",
        "outputId": "e848085f-6d34-4568-d46b-34f93af6605d"
      },
      "execution_count": null,
      "outputs": [
        {
          "output_type": "error",
          "ename": "TypeError",
          "evalue": "ignored",
          "traceback": [
            "\u001b[0;31m---------------------------------------------------------------------------\u001b[0m",
            "\u001b[0;31mTypeError\u001b[0m                                 Traceback (most recent call last)",
            "\u001b[0;32m<ipython-input-15-e028977a6254>\u001b[0m in \u001b[0;36m<module>\u001b[0;34m\u001b[0m\n\u001b[1;32m      1\u001b[0m \u001b[0ml\u001b[0m \u001b[0;34m=\u001b[0m \u001b[0mlist\u001b[0m\u001b[0;34m(\u001b[0m\u001b[0mrange\u001b[0m\u001b[0;34m(\u001b[0m\u001b[0;36m10\u001b[0m\u001b[0;34m)\u001b[0m\u001b[0;34m)\u001b[0m\u001b[0;34m\u001b[0m\u001b[0;34m\u001b[0m\u001b[0m\n\u001b[0;32m----> 2\u001b[0;31m \u001b[0ml\u001b[0m\u001b[0;34m.\u001b[0m\u001b[0mappend\u001b[0m\u001b[0;34m(\u001b[0m\u001b[0;36m100\u001b[0m\u001b[0;34m,\u001b[0m \u001b[0;36m5\u001b[0m\u001b[0;34m)\u001b[0m\u001b[0;34m\u001b[0m\u001b[0;34m\u001b[0m\u001b[0m\n\u001b[0m",
            "\u001b[0;31mTypeError\u001b[0m: append() takes exactly one argument (2 given)"
          ]
        }
      ]
    },
    {
      "cell_type": "code",
      "source": [
        "l = list(range(10))\n",
        "print(id(l))\n",
        "l.append(11)\n",
        "print(id(l), l)"
      ],
      "metadata": {
        "colab": {
          "base_uri": "https://localhost:8080/"
        },
        "id": "AZd65BQjA7uu",
        "outputId": "4e24e761-4334-4f1a-9a09-ed51777da6a8"
      },
      "execution_count": null,
      "outputs": [
        {
          "output_type": "stream",
          "name": "stdout",
          "text": [
            "139938735894112\n",
            "139938735894112 [0, 1, 2, 3, 4, 5, 6, 7, 8, 9, 11]\n"
          ]
        }
      ]
    },
    {
      "cell_type": "code",
      "source": [
        "l = list(range(10))\n",
        "print(id(l))\n",
        "l.insert(5, 100) # Elements ends up at index specified. \n",
        "print(l)\n",
        "print(id(l)) # Same element in memory. "
      ],
      "metadata": {
        "colab": {
          "base_uri": "https://localhost:8080/"
        },
        "id": "fUd2PJqXAgGQ",
        "outputId": "82b125b6-164e-48e4-c433-25a04baf83e6"
      },
      "execution_count": null,
      "outputs": [
        {
          "output_type": "stream",
          "name": "stdout",
          "text": [
            "139938736522896\n",
            "[0, 1, 2, 3, 4, 100, 5, 6, 7, 8, 9]\n",
            "139938736522896\n"
          ]
        }
      ]
    },
    {
      "cell_type": "markdown",
      "source": [
        "### Reverse "
      ],
      "metadata": {
        "id": "Rn2TpNifBRk5"
      }
    },
    {
      "cell_type": "code",
      "source": [
        "l = list(range(10))\n",
        "print(id(l), l)\n",
        "l.reverse()\n",
        "print(id(l))"
      ],
      "metadata": {
        "colab": {
          "base_uri": "https://localhost:8080/"
        },
        "id": "6iRb5UX2BRUv",
        "outputId": "18c00f7b-8ef2-480c-89cf-b1efbfc24087"
      },
      "execution_count": null,
      "outputs": [
        {
          "output_type": "stream",
          "name": "stdout",
          "text": [
            "139938736398496 [0, 1, 2, 3, 4, 5, 6, 7, 8, 9]\n",
            "139938736398496\n"
          ]
        }
      ]
    },
    {
      "cell_type": "code",
      "source": [
        "# slices always return new objects. "
      ],
      "metadata": {
        "id": "7x8UWChqB2We"
      },
      "execution_count": null,
      "outputs": []
    },
    {
      "cell_type": "markdown",
      "source": [
        "Copying list with elements and looking at what happens at the element's ids. OJO"
      ],
      "metadata": {
        "id": "K-lmqbj9Cp_9"
      }
    },
    {
      "cell_type": "code",
      "source": [
        "l = [[1, 2], 'a', 'b', 4]\n",
        "print(id(l), l)\n",
        "l2 = l.copy()\n",
        "print(id(l2), l2)\n",
        "l[0].append('x')\n",
        "print(id(l), l)\n",
        "print(id(l2), l2)"
      ],
      "metadata": {
        "colab": {
          "base_uri": "https://localhost:8080/"
        },
        "id": "yncFh8fDCxz7",
        "outputId": "60594a1a-596f-4764-c463-ff95794cdb6d"
      },
      "execution_count": null,
      "outputs": [
        {
          "output_type": "stream",
          "name": "stdout",
          "text": [
            "139938611053504 [[1, 2], 'a', 'b', 4]\n",
            "139938611462384 [[1, 2], 'a', 'b', 4]\n",
            "139938611053504 [[1, 2, 'x'], 'a', 'b', 4]\n",
            "139938611462384 [[1, 2, 'x'], 'a', 'b', 4]\n"
          ]
        }
      ]
    },
    {
      "cell_type": "markdown",
      "source": [
        "In order to avoid what happened above you have to create a deep copy"
      ],
      "metadata": {
        "id": "2DnNvYXqFP00"
      }
    },
    {
      "cell_type": "code",
      "source": [
        "import copy\n",
        "\n",
        "l = [[1, 2], 'a', 'b', 4]\n",
        "print(id(l), l)\n",
        "l2 = l.copy()\n",
        "l3 = copy.deepcopy(l)\n",
        "print(id(l2), l2)\n",
        "l[0].append('x')\n",
        "print(id(l), l)\n",
        "print(id(l2), l2)\n",
        "print(id(l3), l3)"
      ],
      "metadata": {
        "colab": {
          "base_uri": "https://localhost:8080/"
        },
        "id": "cVTvEuRWFVa7",
        "outputId": "1711c737-2486-4916-a040-816671a2ad75"
      },
      "execution_count": null,
      "outputs": [
        {
          "output_type": "stream",
          "name": "stdout",
          "text": [
            "139938610691760 [[1, 2], 'a', 'b', 4]\n",
            "139938611133488 [[1, 2], 'a', 'b', 4]\n",
            "139938610691760 [[1, 2, 'x'], 'a', 'b', 4]\n",
            "139938611133488 [[1, 2, 'x'], 'a', 'b', 4]\n",
            "139938611134048 [[1, 2], 'a', 'b', 4]\n"
          ]
        }
      ]
    },
    {
      "cell_type": "markdown",
      "source": [],
      "metadata": {
        "id": "BnPZvgZeFTqT"
      }
    }
  ],
  "metadata": {
    "kernelspec": {
      "display_name": "Python 3",
      "language": "python",
      "name": "python3"
    },
    "language_info": {
      "codemirror_mode": {
        "name": "ipython",
        "version": 3
      },
      "file_extension": ".py",
      "mimetype": "text/x-python",
      "name": "python",
      "nbconvert_exporter": "python",
      "pygments_lexer": "ipython3",
      "version": "3.6.2"
    },
    "colab": {
      "provenance": [],
      "include_colab_link": true
    }
  },
  "nbformat": 4,
  "nbformat_minor": 0
}
{
  "cells": [
    {
      "cell_type": "markdown",
      "metadata": {
        "id": "view-in-github",
        "colab_type": "text"
      },
      "source": [
        "<a href=\"https://colab.research.google.com/github/JesusjrGalvez/Tutorial_DeepDive/blob/main/DeepDive_02_12_List_Comprehensions.ipynb\" target=\"_parent\"><img src=\"https://colab.research.google.com/assets/colab-badge.svg\" alt=\"Open In Colab\"/></a>"
      ]
    },
    {
      "cell_type": "markdown",
      "metadata": {
        "id": "PqpUIyxBW7fj"
      },
      "source": [
        "### List Comprehensions"
      ]
    },
    {
      "cell_type": "markdown",
      "metadata": {
        "id": "SdZb037qW7fl"
      },
      "source": [
        "We've used list comprehensions throughout this course quite a bit, so the concept should not be new, but let's recap quickly what we have seen so far with list comprehensions.\n",
        "\n",
        "A list comprehension is language construct that allows to easily build a list by transforming, and optionally, filtering, another iterable.\n",
        "\n",
        "For example, using a more traditional Java style approach we might create a list of squares of the first 100 positive integers in this way:"
      ]
    },
    {
      "cell_type": "code",
      "execution_count": null,
      "metadata": {
        "collapsed": true,
        "id": "CWIA8epfW7fl"
      },
      "outputs": [],
      "source": [
        "squares = []  # create an empty list\n",
        "for i in range(1, 101):\n",
        "    squares.append(i**2)"
      ]
    },
    {
      "cell_type": "markdown",
      "metadata": {
        "id": "8wbM9foAW7fm"
      },
      "source": [
        "We now have a list containing the desired numbers:"
      ]
    },
    {
      "cell_type": "code",
      "execution_count": null,
      "metadata": {
        "id": "oTpPhBIrW7fn",
        "outputId": "27997c48-02a2-4259-8153-eaaca77f159c"
      },
      "outputs": [
        {
          "data": {
            "text/plain": [
              "[1, 4, 9, 16, 25, 36, 49, 64, 81, 100]"
            ]
          },
          "execution_count": 2,
          "metadata": {},
          "output_type": "execute_result"
        }
      ],
      "source": [
        "squares[0:10]"
      ]
    },
    {
      "cell_type": "markdown",
      "metadata": {
        "id": "Ky7iZSXDW7fo"
      },
      "source": [
        "Using a list comprehension we can achieve the same results in a far more expressive way:"
      ]
    },
    {
      "cell_type": "code",
      "execution_count": null,
      "metadata": {
        "collapsed": true,
        "id": "UBUjh9HnW7fo"
      },
      "outputs": [],
      "source": [
        "squares = [i**2 for i in range(1, 101)]"
      ]
    },
    {
      "cell_type": "code",
      "execution_count": null,
      "metadata": {
        "id": "P6m-QBXyW7fo",
        "outputId": "c6142d85-ae3a-498e-bab6-424ac2544b8e"
      },
      "outputs": [
        {
          "data": {
            "text/plain": [
              "[1, 4, 9, 16, 25, 36, 49, 64, 81, 100]"
            ]
          },
          "execution_count": 4,
          "metadata": {},
          "output_type": "execute_result"
        }
      ],
      "source": [
        "squares[0:10]"
      ]
    },
    {
      "cell_type": "markdown",
      "metadata": {
        "id": "D-1c2V6FW7fo"
      },
      "source": [
        "When building a list from another iterable we may sometimes want to skip certain values.\n",
        "\n",
        "For example, we may want to build a list of squares for even positive integers only, up to 100.\n",
        "\n",
        "The more traditional way would go like this:"
      ]
    },
    {
      "cell_type": "code",
      "execution_count": null,
      "metadata": {
        "collapsed": true,
        "id": "g7w4zNJzW7fp"
      },
      "outputs": [],
      "source": [
        "squares = []\n",
        "for i in range(1, 101):\n",
        "    if i % 2 == 0:\n",
        "        squares.append(i**2)"
      ]
    },
    {
      "cell_type": "code",
      "execution_count": null,
      "metadata": {
        "id": "8M6AMzRjW7fp",
        "outputId": "6e9de80b-b872-47e1-e1af-a52f6beef8db"
      },
      "outputs": [
        {
          "data": {
            "text/plain": [
              "[4, 16, 36, 64, 100, 144, 196, 256, 324, 400]"
            ]
          },
          "execution_count": 6,
          "metadata": {},
          "output_type": "execute_result"
        }
      ],
      "source": [
        "squares[0:10]"
      ]
    },
    {
      "cell_type": "markdown",
      "metadata": {
        "id": "-wKBafiiW7fp"
      },
      "source": [
        "We can also use a list comprehension to achieve the same thing:"
      ]
    },
    {
      "cell_type": "code",
      "execution_count": null,
      "metadata": {
        "collapsed": true,
        "id": "cSCmgVPcW7fp"
      },
      "outputs": [],
      "source": [
        "squares = [i**2 for i in range(1, 101) if i % 2 == 0]"
      ]
    },
    {
      "cell_type": "code",
      "execution_count": null,
      "metadata": {
        "id": "WW3WP0JmW7fq",
        "outputId": "71cde49d-a0b2-4fc8-bf55-87bdc90ea3a2"
      },
      "outputs": [
        {
          "data": {
            "text/plain": [
              "[4, 16, 36, 64, 100, 144, 196, 256, 324, 400]"
            ]
          },
          "execution_count": 8,
          "metadata": {},
          "output_type": "execute_result"
        }
      ],
      "source": [
        "squares[0:10]"
      ]
    },
    {
      "cell_type": "markdown",
      "metadata": {
        "id": "HcLRkoheW7fq"
      },
      "source": [
        "Although I have been writing the list comprehension on a single line, we can write them over multiple lines if we prefer:"
      ]
    },
    {
      "cell_type": "code",
      "execution_count": null,
      "metadata": {
        "collapsed": true,
        "id": "0uxh2GPxW7fq"
      },
      "outputs": [],
      "source": [
        "squares = [i**2\n",
        "          for i in range(1, 101)\n",
        "          if i % 2 == 0]"
      ]
    },
    {
      "cell_type": "code",
      "execution_count": null,
      "metadata": {
        "id": "mnuCwRmFW7fq",
        "outputId": "cb7549f9-2e16-4d90-abc8-d819724abcfa"
      },
      "outputs": [
        {
          "data": {
            "text/plain": [
              "[4, 16, 36, 64, 100, 144, 196, 256, 324, 400]"
            ]
          },
          "execution_count": 10,
          "metadata": {},
          "output_type": "execute_result"
        }
      ],
      "source": [
        "squares[0:10]"
      ]
    },
    {
      "cell_type": "markdown",
      "metadata": {
        "id": "HMBXuHJZW7fq"
      },
      "source": [
        "Internal Mechanics of List Comprehensions"
      ]
    },
    {
      "cell_type": "markdown",
      "metadata": {
        "id": "8IkDczI4W7fq"
      },
      "source": [
        "As we discussed in the lecture, we need to recognize that list comprehensions are essentially temporary functions that Python creates, executes and returns the resulting list from it.\n",
        "\n",
        "We can see this by compiling a comprehension, and then disassembling the compiled code to see what happened:"
      ]
    },
    {
      "cell_type": "code",
      "execution_count": null,
      "metadata": {
        "collapsed": true,
        "id": "g-cmzMJsW7fr"
      },
      "outputs": [],
      "source": [
        "import dis"
      ]
    },
    {
      "cell_type": "code",
      "execution_count": null,
      "metadata": {
        "collapsed": true,
        "id": "6EWpSPqfW7fr"
      },
      "outputs": [],
      "source": [
        "compiled_code = compile('[i**2 for i in (1, 2, 3)]', \n",
        "                        filename='', mode='eval')"
      ]
    },
    {
      "cell_type": "code",
      "execution_count": null,
      "metadata": {
        "id": "YkFUXsVFW7fr",
        "outputId": "aeddda6b-b156-404a-9ff4-afb56efe6679"
      },
      "outputs": [
        {
          "name": "stdout",
          "output_type": "stream",
          "text": [
            "  1           0 LOAD_CONST               0 (<code object <listcomp> at 0x000001F77210ED20, file \"\", line 1>)\n",
            "              2 LOAD_CONST               1 ('<listcomp>')\n",
            "              4 MAKE_FUNCTION            0\n",
            "              6 LOAD_CONST               5 ((1, 2, 3))\n",
            "              8 GET_ITER\n",
            "             10 CALL_FUNCTION            1\n",
            "             12 RETURN_VALUE\n"
          ]
        }
      ],
      "source": [
        "dis.dis(compiled_code)"
      ]
    },
    {
      "cell_type": "markdown",
      "metadata": {
        "id": "6o72fS86W7fr"
      },
      "source": [
        "As you can see, in step 4, Python created a function (`MAKE_FUNCTION`), called it (`CALL_FUNCTION`), and then returned the result (`RETURN_VALUE`) in the last step."
      ]
    },
    {
      "cell_type": "markdown",
      "metadata": {
        "id": "kxeE8MjgW7fs"
      },
      "source": [
        "So, comprehensions will behave like functions in terms of **scope**. They have local scope, and can access global and nonlocal scopes too. And nested comprehensions will also behave like nested functions and closures."
      ]
    },
    {
      "cell_type": "markdown",
      "metadata": {
        "id": "ce15sWVvW7fs"
      },
      "source": [
        "#### Nested Comprehensions"
      ]
    },
    {
      "cell_type": "markdown",
      "metadata": {
        "id": "WSuyE1FOW7fs"
      },
      "source": [
        "Let's look at a simple example that uses nested comprehensions.\n",
        "\n",
        "For example, suppose we want to generate a multiplication table:"
      ]
    },
    {
      "cell_type": "markdown",
      "metadata": {
        "id": "1qwjcIr3W7fs"
      },
      "source": [
        "The traditional way first:"
      ]
    },
    {
      "cell_type": "code",
      "execution_count": null,
      "metadata": {
        "collapsed": true,
        "id": "Lw1byDCAW7fs"
      },
      "outputs": [],
      "source": [
        "table = []\n",
        "for i in range(1, 11):\n",
        "    row = []\n",
        "    for j in range(1, 11):\n",
        "        row.append(i*j)\n",
        "    table.append(row)"
      ]
    },
    {
      "cell_type": "code",
      "execution_count": null,
      "metadata": {
        "id": "-a1B6ICOW7fs",
        "outputId": "d2a9eb33-99db-4fe9-8be7-4e1550ae652c"
      },
      "outputs": [
        {
          "data": {
            "text/plain": [
              "[[1, 2, 3, 4, 5, 6, 7, 8, 9, 10],\n",
              " [2, 4, 6, 8, 10, 12, 14, 16, 18, 20],\n",
              " [3, 6, 9, 12, 15, 18, 21, 24, 27, 30],\n",
              " [4, 8, 12, 16, 20, 24, 28, 32, 36, 40],\n",
              " [5, 10, 15, 20, 25, 30, 35, 40, 45, 50],\n",
              " [6, 12, 18, 24, 30, 36, 42, 48, 54, 60],\n",
              " [7, 14, 21, 28, 35, 42, 49, 56, 63, 70],\n",
              " [8, 16, 24, 32, 40, 48, 56, 64, 72, 80],\n",
              " [9, 18, 27, 36, 45, 54, 63, 72, 81, 90],\n",
              " [10, 20, 30, 40, 50, 60, 70, 80, 90, 100]]"
            ]
          },
          "execution_count": 15,
          "metadata": {},
          "output_type": "execute_result"
        }
      ],
      "source": [
        "table"
      ]
    },
    {
      "cell_type": "markdown",
      "metadata": {
        "id": "uohX2kj-W7ft"
      },
      "source": [
        "We can easily do the same thing using a list comprehension:"
      ]
    },
    {
      "cell_type": "code",
      "execution_count": null,
      "metadata": {
        "collapsed": true,
        "id": "h460jj2NW7ft"
      },
      "outputs": [],
      "source": [
        "table2 = [ [i * j for j in range(1, 11)] \n",
        "          for i in range(1, 11)]"
      ]
    },
    {
      "cell_type": "code",
      "execution_count": null,
      "metadata": {
        "id": "o4kdZdqZW7ft",
        "outputId": "ead0f8d8-59fe-4b06-f444-b6ea16419b4d"
      },
      "outputs": [
        {
          "data": {
            "text/plain": [
              "[[1, 2, 3, 4, 5, 6, 7, 8, 9, 10],\n",
              " [2, 4, 6, 8, 10, 12, 14, 16, 18, 20],\n",
              " [3, 6, 9, 12, 15, 18, 21, 24, 27, 30],\n",
              " [4, 8, 12, 16, 20, 24, 28, 32, 36, 40],\n",
              " [5, 10, 15, 20, 25, 30, 35, 40, 45, 50],\n",
              " [6, 12, 18, 24, 30, 36, 42, 48, 54, 60],\n",
              " [7, 14, 21, 28, 35, 42, 49, 56, 63, 70],\n",
              " [8, 16, 24, 32, 40, 48, 56, 64, 72, 80],\n",
              " [9, 18, 27, 36, 45, 54, 63, 72, 81, 90],\n",
              " [10, 20, 30, 40, 50, 60, 70, 80, 90, 100]]"
            ]
          },
          "execution_count": 2,
          "metadata": {},
          "output_type": "execute_result"
        }
      ],
      "source": [
        "table2"
      ]
    },
    {
      "cell_type": "markdown",
      "metadata": {
        "id": "m0RLfiYYW7ft"
      },
      "source": [
        "You'll notice here that we nested one list comprehension inside another.\n",
        "\n",
        "You should also notice that the inner comprehension (the one that has `i*j`) is accessing a local variable `i`, as well as a variable from the enclosing comprehension - the `j` variable. Just like a closure! And in fact, it is exactly that. We'll come back to that in a bit."
      ]
    },
    {
      "cell_type": "markdown",
      "metadata": {
        "id": "1yeJHh2UW7ft"
      },
      "source": [
        "Let's do another example - we'll construct Pascal's triangle - which is basically just a triangle of binomial coefficients:\n",
        "\n",
        "```\n",
        "1\n",
        "1 1\n",
        "1 2 1\n",
        "1 3 3 1\n",
        "1 4 6 4 1\n",
        "```\n",
        "\n",
        "we just need to know how to calculate combinations:\n",
        "```\n",
        "C(n, k) = n! / (k! (n-k)!)\n",
        "```\n",
        "\n",
        "* row 0, column 0: n=0, k=0: c(0, 0) = 0! / 0! 0! = 1/1 = 1\n",
        "* row 4, column 2: n=4, k=2: c(4, 2) = 4! / 2! 2! = 4x3x2 / 2x2 = 6\n",
        "\n",
        "In other words, we need to calculate the following list of lists:\n",
        "```\n",
        "c(0,0)\n",
        "c(1,0) c(1,1)\n",
        "c(2,0) c(2,1) c(2,3)\n",
        "c(3,0) c(3,1) c(3,2) c(3,3)\n",
        "...\n",
        "```"
      ]
    },
    {
      "cell_type": "markdown",
      "metadata": {
        "id": "7GmpgPuXW7ft"
      },
      "source": [
        "We can use a nested comprehension for that!"
      ]
    },
    {
      "cell_type": "code",
      "execution_count": null,
      "metadata": {
        "collapsed": true,
        "id": "s6PPOJ4gW7fu"
      },
      "outputs": [],
      "source": [
        "from math import factorial\n",
        "\n",
        "def combo(n, k):\n",
        "    return factorial(n) // (factorial(k) * factorial(n-k))\n",
        "\n",
        "size = 10  # global variable\n",
        "pascal = [ [combo(n, k) for k in range(n+1)] for n in range(size+1) ]"
      ]
    },
    {
      "cell_type": "code",
      "execution_count": null,
      "metadata": {
        "id": "bM2YhWsxW7fu",
        "outputId": "122fe93d-f65a-4930-a0a0-d09002abeb51"
      },
      "outputs": [
        {
          "data": {
            "text/plain": [
              "[[1],\n",
              " [1, 1],\n",
              " [1, 2, 1],\n",
              " [1, 3, 3, 1],\n",
              " [1, 4, 6, 4, 1],\n",
              " [1, 5, 10, 10, 5, 1],\n",
              " [1, 6, 15, 20, 15, 6, 1],\n",
              " [1, 7, 21, 35, 35, 21, 7, 1],\n",
              " [1, 8, 28, 56, 70, 56, 28, 8, 1],\n",
              " [1, 9, 36, 84, 126, 126, 84, 36, 9, 1],\n",
              " [1, 10, 45, 120, 210, 252, 210, 120, 45, 10, 1]]"
            ]
          },
          "execution_count": 19,
          "metadata": {},
          "output_type": "execute_result"
        }
      ],
      "source": [
        "pascal"
      ]
    },
    {
      "cell_type": "markdown",
      "metadata": {
        "id": "ljDq9QNtW7fu"
      },
      "source": [
        "Again note how the outer comprehension accessed a global variable (`size`), created a local variable (`n`), and the inner comprehension created its own local variable (`k`) and also accessed the nonlocal variable `n`."
      ]
    },
    {
      "cell_type": "markdown",
      "metadata": {
        "id": "_9fnpkrhW7fu"
      },
      "source": [
        "#### Nested Loops"
      ]
    },
    {
      "cell_type": "markdown",
      "metadata": {
        "id": "3bLnhTgHW7fu"
      },
      "source": [
        "We can also created comprehensions that use nested loops (not nested comprehensions, just nested loops).\n",
        "\n",
        "Let's start with a simple example.\n",
        "\n",
        "Suppose we have two lists of characters, and we want to produce a new list consisting of the pairwise concatenated characters.\n",
        "\n",
        "e.g. \n",
        "`l1 = ['a', 'b', 'c']`\n",
        "\n",
        "`l2 = ['x', 'y', 'z']`\n",
        "\n",
        "and we want to produce the result:\n",
        "\n",
        "`['ax', 'ay', 'az', 'bx', 'by', 'bz', 'cx', 'cy', 'cz']`\n"
      ]
    },
    {
      "cell_type": "markdown",
      "metadata": {
        "id": "8t7TDZEOW7fu"
      },
      "source": [
        "The traditional way first:"
      ]
    },
    {
      "cell_type": "code",
      "execution_count": null,
      "metadata": {
        "collapsed": true,
        "id": "Ds1mjzuYW7fv"
      },
      "outputs": [],
      "source": [
        "l1 = ['a', 'b', 'c']\n",
        "l2 = ['x', 'y', 'z']\n",
        "result = []\n",
        "for s1 in l1:\n",
        "    for s2 in l2:\n",
        "        result.append(s1+s2)\n"
      ]
    },
    {
      "cell_type": "code",
      "execution_count": null,
      "metadata": {
        "id": "s9-FzecGW7fv",
        "outputId": "1cb7dd26-5d99-4aa2-f08e-638c7397d112"
      },
      "outputs": [
        {
          "data": {
            "text/plain": [
              "['ax', 'ay', 'az', 'bx', 'by', 'bz', 'cx', 'cy', 'cz']"
            ]
          },
          "execution_count": 21,
          "metadata": {},
          "output_type": "execute_result"
        }
      ],
      "source": [
        "result"
      ]
    },
    {
      "cell_type": "markdown",
      "metadata": {
        "id": "lIm5uYeNW7fv"
      },
      "source": [
        "We can do the same nested loop using a comprehension instead:"
      ]
    },
    {
      "cell_type": "code",
      "execution_count": null,
      "metadata": {
        "collapsed": true,
        "id": "nrSvNd4LW7fv"
      },
      "outputs": [],
      "source": [
        "result = [s1 + s2 for s1 in l1 for s2 in l2]"
      ]
    },
    {
      "cell_type": "code",
      "execution_count": null,
      "metadata": {
        "id": "mdxc0KTcW7fv",
        "outputId": "6b3fb68a-e3d8-4b0b-ceea-934b8e2a103a"
      },
      "outputs": [
        {
          "data": {
            "text/plain": [
              "['ax', 'ay', 'az', 'bx', 'by', 'bz', 'cx', 'cy', 'cz']"
            ]
          },
          "execution_count": 23,
          "metadata": {},
          "output_type": "execute_result"
        }
      ],
      "source": [
        "result"
      ]
    },
    {
      "cell_type": "markdown",
      "metadata": {
        "id": "Gla3mX3bW7fw"
      },
      "source": [
        "We could expand this slightly by specifying that pairs resulting in the same letter twice should be ommitted:"
      ]
    },
    {
      "cell_type": "code",
      "execution_count": null,
      "metadata": {
        "collapsed": true,
        "id": "O7hyEk-pW7fw"
      },
      "outputs": [],
      "source": [
        "l1 = ['a', 'b', 'c']\n",
        "l2 = ['b', 'c', 'd']"
      ]
    },
    {
      "cell_type": "code",
      "execution_count": null,
      "metadata": {
        "collapsed": true,
        "id": "f_UTkVL2W7fw"
      },
      "outputs": [],
      "source": [
        "result = []\n",
        "for s1 in l1:\n",
        "    for s2 in l2:\n",
        "        if s1 != s2:\n",
        "            result.append(s1 + s2)"
      ]
    },
    {
      "cell_type": "code",
      "execution_count": null,
      "metadata": {
        "id": "awF46RgAW7fw",
        "outputId": "2c5f4fa1-6698-4ab1-90f4-ca4c3c3c1159"
      },
      "outputs": [
        {
          "data": {
            "text/plain": [
              "['ab', 'ac', 'ad', 'bc', 'bd', 'cb', 'cd']"
            ]
          },
          "execution_count": 26,
          "metadata": {},
          "output_type": "execute_result"
        }
      ],
      "source": [
        "result"
      ]
    },
    {
      "cell_type": "markdown",
      "metadata": {
        "id": "jp5CxD8aW7fw"
      },
      "source": [
        "And the comprehension equivalent:"
      ]
    },
    {
      "cell_type": "code",
      "execution_count": null,
      "metadata": {
        "collapsed": true,
        "id": "chnvKvzSW7fw"
      },
      "outputs": [],
      "source": [
        "result = [s1 + s2 for s1 in l1 for s2 in l2 if s1 != s2]"
      ]
    },
    {
      "cell_type": "code",
      "execution_count": null,
      "metadata": {
        "id": "IXR_TFGQW7fw",
        "outputId": "cd856689-b5c5-454d-b736-89a0ac022324"
      },
      "outputs": [
        {
          "data": {
            "text/plain": [
              "['ab', 'ac', 'ad', 'bc', 'bd', 'cb', 'cd']"
            ]
          },
          "execution_count": 28,
          "metadata": {},
          "output_type": "execute_result"
        }
      ],
      "source": [
        "result"
      ]
    },
    {
      "cell_type": "markdown",
      "metadata": {
        "id": "DdNITQKjW7fx"
      },
      "source": [
        "Building up the complexity, let's see how we might reproduce the `zip` function.\n",
        "\n",
        "Remember what the `zip` function does:"
      ]
    },
    {
      "cell_type": "code",
      "execution_count": null,
      "metadata": {
        "id": "xTfRwW24W7fx",
        "outputId": "cefc1a2f-40ac-4cc9-b012-7cbe651c18e2"
      },
      "outputs": [
        {
          "data": {
            "text/plain": [
              "[(1, 'a'), (2, 'b'), (3, 'c'), (4, 'd')]"
            ]
          },
          "execution_count": 29,
          "metadata": {},
          "output_type": "execute_result"
        }
      ],
      "source": [
        "l1 = [1, 2, 3, 4, 5, 6, 7, 8, 9]\n",
        "l2 = ['a', 'b', 'c', 'd']\n",
        "list(zip(l1, l2))"
      ]
    },
    {
      "cell_type": "markdown",
      "metadata": {
        "id": "7WFyJGWbW7fx"
      },
      "source": [
        "We can do the same thing using a traditional nested loop:"
      ]
    },
    {
      "cell_type": "code",
      "execution_count": null,
      "metadata": {
        "collapsed": true,
        "id": "C5Bld2NJW7fx"
      },
      "outputs": [],
      "source": [
        "result = []\n",
        "for index_1, item_1 in enumerate(l1):\n",
        "    for index_2, item_2 in enumerate(l2):\n",
        "        if index_1 == index_2:\n",
        "            result.append((item_1, item_2))"
      ]
    },
    {
      "cell_type": "code",
      "execution_count": null,
      "metadata": {
        "id": "JBx0xS89W7fx",
        "outputId": "a66e1799-d6aa-43f1-81e5-e6f2e46d0978"
      },
      "outputs": [
        {
          "data": {
            "text/plain": [
              "[(1, 'a'), (2, 'b'), (3, 'c'), (4, 'd')]"
            ]
          },
          "execution_count": 31,
          "metadata": {},
          "output_type": "execute_result"
        }
      ],
      "source": [
        "result"
      ]
    },
    {
      "cell_type": "markdown",
      "metadata": {
        "id": "dDryPvd1W7fx"
      },
      "source": [
        "But we can do this using a list comprehension as well:"
      ]
    },
    {
      "cell_type": "code",
      "execution_count": null,
      "metadata": {
        "collapsed": true,
        "id": "dHGkATBAW7fx"
      },
      "outputs": [],
      "source": [
        "result = [ (item_1, item_2)\n",
        "         for index_1, item_1 in enumerate(l1)\n",
        "         for index_2, item_2 in enumerate(l2)\n",
        "         if index_1 == index_2]"
      ]
    },
    {
      "cell_type": "code",
      "execution_count": null,
      "metadata": {
        "id": "CjKNHkG1W7fx",
        "outputId": "23c1270d-23e1-47af-ce14-fe832fa1732e"
      },
      "outputs": [
        {
          "data": {
            "text/plain": [
              "[(1, 'a'), (2, 'b'), (3, 'c'), (4, 'd')]"
            ]
          },
          "execution_count": 33,
          "metadata": {},
          "output_type": "execute_result"
        }
      ],
      "source": [
        "result"
      ]
    },
    {
      "cell_type": "markdown",
      "metadata": {
        "id": "HG1jI3y4W7fy"
      },
      "source": [
        "Of course, using `zip` is way simpler!"
      ]
    },
    {
      "cell_type": "markdown",
      "metadata": {
        "id": "xBeASiuYW7fy"
      },
      "source": [
        "List comprehensions can also be quite handy when used in conjunction with functions such as `sum` for example.\n",
        "\n",
        "Suppose we have two n-dimensional vectors, represented as tuple of numbers, and we want to find the dot product of the two vectors:\n",
        "\n",
        "`\n",
        "v1 = (c1, c2, c3, ..., cn)\n",
        "v2 = (d1, d2, d3, ..., dn)\n",
        "`\n",
        "\n",
        "Then, the dot product is:\n",
        "\n",
        "`\n",
        "c1 * d1 + c2 * d2 + ... + cn * dn\n",
        "`"
      ]
    },
    {
      "cell_type": "markdown",
      "metadata": {
        "id": "CLJ4KmQAW7fy"
      },
      "source": [
        "The trick here is that we want to step through each vectors at the same time (a simple nested loop would not work), so a Java-like approach might be:"
      ]
    },
    {
      "cell_type": "code",
      "execution_count": null,
      "metadata": {
        "collapsed": true,
        "id": "DlAL3l24W7fy"
      },
      "outputs": [],
      "source": [
        "v1 = (1, 2, 3, 4, 5, 6)\n",
        "v2 = (10, 20, 30, 40, 50, 60)"
      ]
    },
    {
      "cell_type": "code",
      "execution_count": null,
      "metadata": {
        "id": "mZLvoNxiW7fy",
        "outputId": "ddf392ca-0ea8-4089-9723-d3b55cb4c18a"
      },
      "outputs": [
        {
          "name": "stdout",
          "output_type": "stream",
          "text": [
            "910\n"
          ]
        }
      ],
      "source": [
        "dot = 0\n",
        "for i in range(len(v1)):\n",
        "    dot += (v1[i] * v2[i])\n",
        "print(dot)"
      ]
    },
    {
      "cell_type": "markdown",
      "metadata": {
        "id": "ZW4Q8uCOW7fy"
      },
      "source": [
        "But using zip and a list comprehension we can do it this way:"
      ]
    },
    {
      "cell_type": "code",
      "execution_count": null,
      "metadata": {
        "id": "hQR7n_--W7fy",
        "outputId": "697230f4-cfc6-434d-8330-bca9e14b8112"
      },
      "outputs": [
        {
          "name": "stdout",
          "output_type": "stream",
          "text": [
            "910\n"
          ]
        }
      ],
      "source": [
        "dot = sum([i * j for i, j in zip(v1, v2)])\n",
        "print(dot)"
      ]
    },
    {
      "cell_type": "markdown",
      "metadata": {
        "id": "6I4hA3ZeW7fz"
      },
      "source": [
        "In fact, and we'll cover this later in generator expressions, we don't even need the `[]`:"
      ]
    },
    {
      "cell_type": "code",
      "execution_count": null,
      "metadata": {
        "id": "cr8mOpzlW7fz",
        "outputId": "4546b705-0c13-4fe1-ecca-767e035c6ba1"
      },
      "outputs": [
        {
          "name": "stdout",
          "output_type": "stream",
          "text": [
            "910\n"
          ]
        }
      ],
      "source": [
        "dot = sum(i * j for i, j in zip(v1, v2))\n",
        "print(dot)"
      ]
    },
    {
      "cell_type": "markdown",
      "metadata": {
        "id": "UUeHfjGyW7fz"
      },
      "source": [
        "#### Things to watch out for"
      ]
    },
    {
      "cell_type": "markdown",
      "metadata": {
        "id": "oEE42jgoW7fz"
      },
      "source": [
        "There are a few things we have to be careful with, and that relates to the scope of variables used inside a comprehension."
      ]
    },
    {
      "cell_type": "markdown",
      "metadata": {
        "id": "MhJDadY2W7fz"
      },
      "source": [
        "Let's first make sure we don't have the `number` symbol in our global scope:"
      ]
    },
    {
      "cell_type": "code",
      "execution_count": null,
      "metadata": {
        "collapsed": true,
        "id": "B3IeawcRW7fz"
      },
      "outputs": [],
      "source": [
        "if 'number' in globals():\n",
        "    del number"
      ]
    },
    {
      "cell_type": "code",
      "execution_count": null,
      "metadata": {
        "id": "AJVwNY48W7f0",
        "outputId": "a69c2697-4575-4a95-c7cb-7a2605d82015"
      },
      "outputs": [
        {
          "name": "stdout",
          "output_type": "stream",
          "text": [
            "[0, 1, 4, 9, 16]\n"
          ]
        }
      ],
      "source": [
        "l = [number**2 for number in range(5)]\n",
        "print(l)"
      ]
    },
    {
      "cell_type": "markdown",
      "metadata": {
        "id": "jRPdxf29W7f0"
      },
      "source": [
        "What was the scope of `number`?"
      ]
    },
    {
      "cell_type": "code",
      "execution_count": null,
      "metadata": {
        "id": "8y0-gPrqW7f0",
        "outputId": "165e2bba-e3f5-4539-ee98-461b0c090dd4"
      },
      "outputs": [
        {
          "data": {
            "text/plain": [
              "False"
            ]
          },
          "execution_count": 40,
          "metadata": {},
          "output_type": "execute_result"
        }
      ],
      "source": [
        "'number' in globals()"
      ]
    },
    {
      "cell_type": "markdown",
      "metadata": {
        "id": "1x2wb38GW7f0"
      },
      "source": [
        "As you can see, `number` was local to the comprehension, not the enclosing (global in this case) scope."
      ]
    },
    {
      "cell_type": "markdown",
      "metadata": {
        "id": "550Nm19RW7f0"
      },
      "source": [
        "But what if `number` was in our global scope:"
      ]
    },
    {
      "cell_type": "code",
      "execution_count": null,
      "metadata": {
        "collapsed": true,
        "id": "2olGAvNvW7f0"
      },
      "outputs": [],
      "source": [
        "number = 100"
      ]
    },
    {
      "cell_type": "code",
      "execution_count": null,
      "metadata": {
        "collapsed": true,
        "id": "sCzwaLOjW7f0"
      },
      "outputs": [],
      "source": [
        "l = [number**2 for number in range(5)]"
      ]
    },
    {
      "cell_type": "code",
      "execution_count": null,
      "metadata": {
        "id": "EcQgueKJW7f1",
        "outputId": "69a15bcd-eaa0-461c-f7c3-61b84d235108"
      },
      "outputs": [
        {
          "data": {
            "text/plain": [
              "100"
            ]
          },
          "execution_count": 43,
          "metadata": {},
          "output_type": "execute_result"
        }
      ],
      "source": [
        "number"
      ]
    },
    {
      "cell_type": "markdown",
      "metadata": {
        "id": "wJOz7mZ_W7f1"
      },
      "source": [
        "As you can see, `number` in the comprehension was still local to the comprehension, and our global `number` was not affected. \n",
        "\n",
        "This is similar to global and nonlocal variables in functions.\n",
        "\n",
        "Because `number` is the loop item, it means that it gets *assigned* a value before being referenced, hence it is considered local - even if that symbol exists in a global or nonlocal scope.\n",
        "\n",
        "On the other hand, consider this example:\n"
      ]
    },
    {
      "cell_type": "code",
      "execution_count": null,
      "metadata": {
        "id": "GCO60S3iW7f1",
        "outputId": "a823e2ae-919c-4097-d164-15a12b3809c9"
      },
      "outputs": [
        {
          "name": "stdout",
          "output_type": "stream",
          "text": [
            "[0, 100, 200, 300, 400]\n"
          ]
        }
      ],
      "source": [
        "number = 100\n",
        "l = [number * i for i in range(5)]\n",
        "print(l)"
      ]
    },
    {
      "cell_type": "markdown",
      "metadata": {
        "id": "_DPA5-BSW7f1"
      },
      "source": [
        "As you can see, the scope of the comprehension was able to reach out for `number` in the global scope. Same as functions."
      ]
    },
    {
      "cell_type": "markdown",
      "metadata": {
        "id": "VsfWb4omW7f1"
      },
      "source": [
        "Now let's look at an example we've seen before when we studied closures.\n",
        "\n",
        "Suppose we want to generate a list of functions that will calculate powers of their argument, i.e. we want to define a bunch of functions\n",
        "\n",
        "* `fn_1(arg) --> arg ** 1`\n",
        "* `fn_2(arg) --> arg ** 2`\n",
        "* `fn_3(arg) --> arg ** 3`\n",
        "etc..."
      ]
    },
    {
      "cell_type": "markdown",
      "metadata": {
        "id": "GFqsRQElW7f1"
      },
      "source": [
        "We could certainly define a bunch of functions one by one:"
      ]
    },
    {
      "cell_type": "code",
      "execution_count": null,
      "metadata": {
        "collapsed": true,
        "id": "Z6r_JLcOW7f2"
      },
      "outputs": [],
      "source": [
        "fn_0 = lambda x: x**0\n",
        "fn_1 = lambda x: x**1\n",
        "fn_2 = lambda x: x**2\n",
        "fn_3 = lambda x: x**3\n",
        "# etc"
      ]
    },
    {
      "cell_type": "markdown",
      "metadata": {
        "id": "oVlDuVqHW7f2"
      },
      "source": [
        "But this would be very tedious if we had to do it more than just a few times.\n",
        "\n",
        "Instead, why don't we create those functions as lambdas and put them into a list where the index of the list will correspond to the power we are looking for.\n",
        "\n",
        "Something like this if we were doing it manually:"
      ]
    },
    {
      "cell_type": "code",
      "execution_count": null,
      "metadata": {
        "collapsed": true,
        "id": "2FTZCxcoW7f2"
      },
      "outputs": [],
      "source": [
        "funcs = [lambda x: x**0, lambda x: x**1, lambda x: x**2, lambda x: x**3]"
      ]
    },
    {
      "cell_type": "markdown",
      "metadata": {
        "id": "ypEJWicKW7f2"
      },
      "source": [
        "Now we can call these functions this way:"
      ]
    },
    {
      "cell_type": "code",
      "execution_count": null,
      "metadata": {
        "id": "XxB0x-ScW7f2",
        "outputId": "29152361-3344-4df9-99b0-f8968dc52c04"
      },
      "outputs": [
        {
          "name": "stdout",
          "output_type": "stream",
          "text": [
            "1\n",
            "10\n",
            "100\n",
            "1000\n"
          ]
        }
      ],
      "source": [
        "print(funcs[0](10))\n",
        "print(funcs[1](10))\n",
        "print(funcs[2](10))\n",
        "print(funcs[3](10))"
      ]
    },
    {
      "cell_type": "markdown",
      "metadata": {
        "id": "uHgB0whAW7f2"
      },
      "source": [
        "Now all we need to do is to create these functions using a loop - the traditional way first:"
      ]
    },
    {
      "cell_type": "markdown",
      "metadata": {
        "id": "T0uG1iwEW7f2"
      },
      "source": [
        "First let's make sure `i` is not in our global symbol table:"
      ]
    },
    {
      "cell_type": "code",
      "execution_count": null,
      "metadata": {
        "collapsed": true,
        "id": "iil_fTjWW7f3"
      },
      "outputs": [],
      "source": [
        "if 'i' in globals():\n",
        "    del i"
      ]
    },
    {
      "cell_type": "code",
      "execution_count": null,
      "metadata": {
        "collapsed": true,
        "id": "_c_BTqwCW7f3"
      },
      "outputs": [],
      "source": [
        "funcs = []\n",
        "for i in range(6):\n",
        "    funcs.append(lambda x: x**i)"
      ]
    },
    {
      "cell_type": "markdown",
      "metadata": {
        "id": "tIvautrEW7f3"
      },
      "source": [
        "And let's use them as before:"
      ]
    },
    {
      "cell_type": "code",
      "execution_count": null,
      "metadata": {
        "id": "xbg0uhekW7f3",
        "outputId": "de1728d2-0f0d-4f60-b4a7-f8f0e9dd0e5a"
      },
      "outputs": [
        {
          "name": "stdout",
          "output_type": "stream",
          "text": [
            "100000\n",
            "100000\n",
            "100000\n",
            "100000\n"
          ]
        }
      ],
      "source": [
        "print(funcs[0](10))\n",
        "print(funcs[1](10))\n",
        "print(funcs[2](10))\n",
        "print(funcs[3](10))"
      ]
    },
    {
      "cell_type": "markdown",
      "metadata": {
        "id": "TNEIQFzaW7f3"
      },
      "source": [
        "What happened?? It looks like every function is actually calculating `10**5`"
      ]
    },
    {
      "cell_type": "markdown",
      "metadata": {
        "id": "2T1hhLSUW7f3"
      },
      "source": [
        "Let's break down what happened in the loop, but without using a loop."
      ]
    },
    {
      "cell_type": "markdown",
      "metadata": {
        "id": "G2WEmx-wW7f3"
      },
      "source": [
        "Firs notice that `i` is now in our global symbol table:"
      ]
    },
    {
      "cell_type": "code",
      "execution_count": null,
      "metadata": {
        "id": "d0xMHAsRW7f3",
        "outputId": "e39b7fc8-620f-4bf7-b6d5-42b778c9ed03"
      },
      "outputs": [
        {
          "name": "stdout",
          "output_type": "stream",
          "text": [
            "5\n"
          ]
        }
      ],
      "source": [
        "print(i)"
      ]
    },
    {
      "cell_type": "markdown",
      "metadata": {
        "id": "XWaOxPIfW7f4"
      },
      "source": [
        "You'll also note that it has a value of `5` (from the last iteration that ran).\n",
        "\n",
        "Now let's walk through what happened manually:"
      ]
    },
    {
      "cell_type": "markdown",
      "metadata": {
        "id": "ITG9HN8BW7f4"
      },
      "source": [
        "In the first iteration, the symbol `i` was created, and assigned a value of `0`:"
      ]
    },
    {
      "cell_type": "code",
      "execution_count": null,
      "metadata": {
        "collapsed": true,
        "id": "dsRkNZv9W7f4"
      },
      "outputs": [],
      "source": [
        "i = 0\n",
        "def fn_0(x):\n",
        "    return x ** i"
      ]
    },
    {
      "cell_type": "markdown",
      "metadata": {
        "id": "vump7tnmW7f4"
      },
      "source": [
        "The `i` in `fn_0` is actually the global variable `i`.\n",
        "\n",
        "For the next 'iteration' we increment `i` by `1`:"
      ]
    },
    {
      "cell_type": "code",
      "execution_count": null,
      "metadata": {
        "collapsed": true,
        "id": "LJh2JwoUW7f4"
      },
      "outputs": [],
      "source": [
        "i=1\n",
        "def fn_1(x):\n",
        "    return x ** i"
      ]
    },
    {
      "cell_type": "markdown",
      "metadata": {
        "id": "tPvREGvXW7f4"
      },
      "source": [
        "The `i` in `fn_1` is still the global variable `i`."
      ]
    },
    {
      "cell_type": "markdown",
      "metadata": {
        "id": "pWInxcpzW7f4"
      },
      "source": [
        "Now let's set `i` to something else:"
      ]
    },
    {
      "cell_type": "code",
      "execution_count": null,
      "metadata": {
        "collapsed": true,
        "id": "E6jJ9lOmW7f4"
      },
      "outputs": [],
      "source": [
        "i = 5"
      ]
    },
    {
      "cell_type": "code",
      "execution_count": null,
      "metadata": {
        "id": "Swb0OA3jW7f4",
        "outputId": "0032d94f-4abd-4a49-f30c-8c5193d3a1af"
      },
      "outputs": [
        {
          "data": {
            "text/plain": [
              "100000"
            ]
          },
          "execution_count": 53,
          "metadata": {},
          "output_type": "execute_result"
        }
      ],
      "source": [
        "fn_0(10)"
      ]
    },
    {
      "cell_type": "code",
      "execution_count": null,
      "metadata": {
        "id": "TMj6MDjFW7f5",
        "outputId": "536a58f0-9a3c-43a2-d602-72505e946cf4"
      },
      "outputs": [
        {
          "data": {
            "text/plain": [
              "100000"
            ]
          },
          "execution_count": 54,
          "metadata": {},
          "output_type": "execute_result"
        }
      ],
      "source": [
        "fn_1(10)"
      ]
    },
    {
      "cell_type": "markdown",
      "metadata": {
        "id": "qdhzrA4MW7f5"
      },
      "source": [
        "and if we change `i` again:"
      ]
    },
    {
      "cell_type": "code",
      "execution_count": null,
      "metadata": {
        "collapsed": true,
        "id": "Rv6lVwDhW7f5"
      },
      "outputs": [],
      "source": [
        "i = 10"
      ]
    },
    {
      "cell_type": "code",
      "execution_count": null,
      "metadata": {
        "id": "WA_EFoU_W7f5",
        "outputId": "f2f16e80-1ab4-4d5f-f518-38df638f7ab0"
      },
      "outputs": [
        {
          "data": {
            "text/plain": [
              "10000000000"
            ]
          },
          "execution_count": 56,
          "metadata": {},
          "output_type": "execute_result"
        }
      ],
      "source": [
        "fn_0(10)"
      ]
    },
    {
      "cell_type": "markdown",
      "metadata": {
        "id": "dPiF_ibkW7f5"
      },
      "source": [
        "And this is **exactly** what happened in our loop based approach:"
      ]
    },
    {
      "cell_type": "code",
      "execution_count": null,
      "metadata": {
        "collapsed": true,
        "id": "wWz4NCtdW7f5"
      },
      "outputs": [],
      "source": [
        "funcs = []\n",
        "for i in range(6):\n",
        "    funcs.append(lambda x: x**i)"
      ]
    },
    {
      "cell_type": "markdown",
      "metadata": {
        "id": "rBzOUqg2W7f6"
      },
      "source": [
        "When the loop ran, `i` was created in our **global** scope.\n",
        "\n",
        "By the time the loop finished running, `i` was 5"
      ]
    },
    {
      "cell_type": "code",
      "execution_count": null,
      "metadata": {
        "id": "oOCawm4eW7f6",
        "outputId": "f01234a2-f7d9-42a5-aa50-fc2736c9fb58"
      },
      "outputs": [
        {
          "name": "stdout",
          "output_type": "stream",
          "text": [
            "5\n"
          ]
        }
      ],
      "source": [
        "print(i)"
      ]
    },
    {
      "cell_type": "markdown",
      "metadata": {
        "id": "4gunGTtsW7f6"
      },
      "source": [
        "So when we call the functions, they are referencing the global variable `i` which is now set to `5`."
      ]
    },
    {
      "cell_type": "markdown",
      "metadata": {
        "id": "SxIs-deJW7f6"
      },
      "source": [
        "And the same precise thing will happen if we use a comprehension to do the same thing:"
      ]
    },
    {
      "cell_type": "markdown",
      "metadata": {
        "id": "CymmRqPgW7f6"
      },
      "source": [
        "Let's delete the global `i` symbol first:"
      ]
    },
    {
      "cell_type": "code",
      "execution_count": null,
      "metadata": {
        "collapsed": true,
        "id": "sS9Bg1VMW7f6"
      },
      "outputs": [],
      "source": [
        "del i"
      ]
    },
    {
      "cell_type": "code",
      "execution_count": null,
      "metadata": {
        "id": "1ydNwctwW7f6",
        "outputId": "458d25b0-79e0-4df4-f151-cf2d26ce297d"
      },
      "outputs": [
        {
          "data": {
            "text/plain": [
              "False"
            ]
          },
          "execution_count": 62,
          "metadata": {},
          "output_type": "execute_result"
        }
      ],
      "source": [
        "'i' in globals()"
      ]
    },
    {
      "cell_type": "code",
      "execution_count": null,
      "metadata": {
        "collapsed": true,
        "id": "U47L8NVmW7f6"
      },
      "outputs": [],
      "source": [
        "funcs = [lambda x: x**i for i in range(6)]"
      ]
    },
    {
      "cell_type": "code",
      "execution_count": null,
      "metadata": {
        "id": "fHQO-Kr2W7f7",
        "outputId": "7f816f6b-4ae7-4b6e-ab56-a56b285669c5"
      },
      "outputs": [
        {
          "data": {
            "text/plain": [
              "False"
            ]
          },
          "execution_count": 64,
          "metadata": {},
          "output_type": "execute_result"
        }
      ],
      "source": [
        "'i' in globals()"
      ]
    },
    {
      "cell_type": "markdown",
      "metadata": {
        "id": "jSi3u4-dW7f7"
      },
      "source": [
        "As we can see `i` is not in our globals, but `i` was a **local** variable in the list comprehension, and each function created in the comprehension is referencing the same `i` - it is local to the comprehension, and each lambda is therefore a closure with (the same) free variable `i`. And by the time the comprehension has finished running, `i` had a value of 5:"
      ]
    },
    {
      "cell_type": "code",
      "execution_count": null,
      "metadata": {
        "id": "x3mj4jvSW7f7",
        "outputId": "35c27ca8-2b2f-41ec-9c7b-25fac6dee79f"
      },
      "outputs": [
        {
          "data": {
            "text/plain": [
              "(100000, 100000)"
            ]
          },
          "execution_count": 65,
          "metadata": {},
          "output_type": "execute_result"
        }
      ],
      "source": [
        "funcs[0](10), funcs[1](10)"
      ]
    },
    {
      "cell_type": "markdown",
      "metadata": {
        "id": "taBO77wBW7f7"
      },
      "source": [
        "Can we somehow fix this problem?\n",
        "\n",
        "Yes, and it relies on default values and when default values are calculated and stored with the function definition. Recall that default values are evaluated and stored with the function's definition **when the function is being created (i.e. compiled)**. Right now we are running into a problem because the free variable `i` is being evauated inside each function's body at **run time**.\n",
        "\n",
        "So, we can fix this by making each current value of `i` a paramer default of each lambda - this will get evaluated at the functions creation time - i.e. at each loop iteration:"
      ]
    },
    {
      "cell_type": "code",
      "execution_count": null,
      "metadata": {
        "collapsed": true,
        "id": "wrF8juBHW7f7"
      },
      "outputs": [],
      "source": [
        "funcs = [lambda x, pow=i: x**pow for i in range(6)]"
      ]
    },
    {
      "cell_type": "code",
      "execution_count": null,
      "metadata": {
        "id": "pC0-0GJqW7f7",
        "outputId": "10c3741b-7620-4061-a799-0c72809197ab"
      },
      "outputs": [
        {
          "data": {
            "text/plain": [
              "(1, 10, 100)"
            ]
          },
          "execution_count": 67,
          "metadata": {},
          "output_type": "execute_result"
        }
      ],
      "source": [
        "funcs[0](10), funcs[1](10), funcs[2](10)"
      ]
    },
    {
      "cell_type": "markdown",
      "metadata": {
        "id": "aWTz9BdVW7f7"
      },
      "source": [
        "As you can see that solved the problem. But this relies on some pretty detailed understanding of Python's behavior, and it is better not to use such techniques - other people reading your code will find it confusing and will make the code much harder to understand."
      ]
    },
    {
      "cell_type": "markdown",
      "metadata": {
        "id": "JwWPuDOdW7f7"
      },
      "source": [
        "We will come back to this comprehension syntax. We used it so far to create lists, but the same syntax will be used to create sets, dictionaries, and generators."
      ]
    }
  ],
  "metadata": {
    "kernelspec": {
      "display_name": "Python 3",
      "language": "python",
      "name": "python3"
    },
    "language_info": {
      "codemirror_mode": {
        "name": "ipython",
        "version": 3
      },
      "file_extension": ".py",
      "mimetype": "text/x-python",
      "name": "python",
      "nbconvert_exporter": "python",
      "pygments_lexer": "ipython3",
      "version": "3.6.2"
    },
    "colab": {
      "provenance": [],
      "include_colab_link": true
    }
  },
  "nbformat": 4,
  "nbformat_minor": 0
}
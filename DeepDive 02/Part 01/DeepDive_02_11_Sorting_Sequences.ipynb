{
  "cells": [
    {
      "cell_type": "markdown",
      "metadata": {
        "id": "view-in-github",
        "colab_type": "text"
      },
      "source": [
        "<a href=\"https://colab.research.google.com/github/JesusjrGalvez/Tutorial_DeepDive/blob/main/DeepDive_02_11_Sorting_Sequences.ipynb\" target=\"_parent\"><img src=\"https://colab.research.google.com/assets/colab-badge.svg\" alt=\"Open In Colab\"/></a>"
      ]
    },
    {
      "cell_type": "markdown",
      "metadata": {
        "id": "RmsYZ7vBC2LW"
      },
      "source": [
        "### Sorting Sequences"
      ]
    },
    {
      "cell_type": "markdown",
      "metadata": {
        "id": "2WYNoEh6C2Lc"
      },
      "source": [
        "Just like with the concatenation and in-place concatenation we saw previously, we have two different ways of sorting a mutable sequence:\n",
        "\n",
        "* returning a new sorted sequence\n",
        "* in-place sorting (mutating sequence) - obviously this works for mutable sequence types only!\n"
      ]
    },
    {
      "cell_type": "markdown",
      "metadata": {
        "id": "rmBhuGpkC2Le"
      },
      "source": [
        "For any iterable, the built-in `sorted` function will return a **list** containing the sorted elements of the iterable.\n",
        "\n",
        "So a few things here: \n",
        "* any iterable can be sorted (as long as it is finite)\n",
        "* the elements must be pair-wise comparable (possibly indirectly via a sort key)\n",
        "* the returned result is always a list\n",
        "* the original iterable is not mutated\n",
        "\n",
        "In addition:\n",
        "* optionally specify a `key` - a function that extracts a comparison key for each element. If that key is not specified, Python will use the natural ordering of the elements (such as __gt__, etc, so that fails if they do not!)\n",
        "* optional specify the `reverse` argument which will return the reversed sort"
      ]
    },
    {
      "cell_type": "markdown",
      "metadata": {
        "id": "Sx03nUhcC2Lg"
      },
      "source": [
        "Numbers have a natural ordering for example, so sorting an iterable of numbers is easy:"
      ]
    },
    {
      "cell_type": "code",
      "execution_count": 1,
      "metadata": {
        "colab": {
          "base_uri": "https://localhost:8080/"
        },
        "id": "uXjdZXifC2Lh",
        "outputId": "db164d4e-95f4-4c97-b6a2-abc9a25aac50"
      },
      "outputs": [
        {
          "output_type": "stream",
          "name": "stdout",
          "text": [
            "140251911432064 [1, 3, 5, 6, 8, 9, 10]\n",
            "140251911686864 (10, 3, 5, 8, 9, 6, 1)\n"
          ]
        }
      ],
      "source": [
        "t = 10, 3, 5, 8, 9, 6, 1\n",
        "u = sorted(t)\n",
        "print(id(u), u)\n",
        "print(id(t), t)"
      ]
    },
    {
      "cell_type": "markdown",
      "metadata": {
        "id": "ukrK9Ql_C2Lj"
      },
      "source": [
        "As you can see we sorted a `tuple` and got a `list` back."
      ]
    },
    {
      "cell_type": "markdown",
      "metadata": {
        "id": "ymoqQ9UjC2Lk"
      },
      "source": [
        "We can sort non-sequence iterables too:"
      ]
    },
    {
      "cell_type": "code",
      "execution_count": null,
      "metadata": {
        "id": "r5quIKFMC2Lk",
        "outputId": "e7572f20-b2af-4130-8f25-eaecd017de77"
      },
      "outputs": [
        {
          "data": {
            "text/plain": [
              "[1, 3, 5, 6, 8, 9, 10]"
            ]
          },
          "execution_count": 2,
          "metadata": {},
          "output_type": "execute_result"
        }
      ],
      "source": [
        "s = {10, 3, 5, 8, 9, 6, 1}\n",
        "sorted(s)"
      ]
    },
    {
      "cell_type": "markdown",
      "metadata": {
        "id": "Aj9kogZvC2Ll"
      },
      "source": [
        "For things like dictionaries, this works slightly differently. Remember what happens when we iterate a dictionary?"
      ]
    },
    {
      "cell_type": "code",
      "execution_count": null,
      "metadata": {
        "id": "OMmr-2ErC2Lm",
        "outputId": "54d0f50c-fa5f-467c-b5ff-dad53f32175c"
      },
      "outputs": [
        {
          "name": "stdout",
          "output_type": "stream",
          "text": [
            "3\n",
            "2\n",
            "1\n"
          ]
        }
      ],
      "source": [
        "d = {3: 100, 2: 200, 1: 10}\n",
        "for item in d:\n",
        "    print(item)"
      ]
    },
    {
      "cell_type": "markdown",
      "metadata": {
        "id": "WNHbJDo_C2Lm"
      },
      "source": [
        "We actually are iterating the keys.\n",
        "\n",
        "Same thing happens with sorting - we'll end up just sorting the keys:"
      ]
    },
    {
      "cell_type": "code",
      "execution_count": null,
      "metadata": {
        "id": "mj9ntagjC2Ln",
        "outputId": "f8d57759-8e43-4061-90b9-fda4898a374d"
      },
      "outputs": [
        {
          "data": {
            "text/plain": [
              "[1, 2, 3]"
            ]
          },
          "execution_count": 9,
          "metadata": {},
          "output_type": "execute_result"
        }
      ],
      "source": [
        "d = {3: 100, 2: 200, 1: 10}\n",
        "sorted(d)"
      ]
    },
    {
      "cell_type": "markdown",
      "metadata": {
        "id": "ouleT0MjC2Ln"
      },
      "source": [
        "But what if we wanted to sort the dictionary keys based on the values instead?"
      ]
    },
    {
      "cell_type": "markdown",
      "metadata": {
        "id": "WF-7aWSeC2Lo"
      },
      "source": [
        "This is where the `key` argument of `sorted` will come in handy.\n",
        "\n",
        "We are going to specify to the `sorted` function that it should use the value of each item to use as a sort key:"
      ]
    },
    {
      "cell_type": "code",
      "execution_count": 19,
      "metadata": {
        "colab": {
          "base_uri": "https://localhost:8080/"
        },
        "id": "46naPAdsC2Lo",
        "outputId": "4559bcc3-e5e7-4f21-cc0e-735c0e82bc42"
      },
      "outputs": [
        {
          "output_type": "stream",
          "name": "stdout",
          "text": [
            "['c', 'b', 'a'] ['a', 'b', 'c']\n"
          ]
        }
      ],
      "source": [
        "d = {'a': 100, 'b': 50, 'c': 10}\n",
        "e = sorted(d, key=lambda k: d[k])\n",
        "f = sorted(d, key=lambda k: d.keys())\n",
        "\n",
        "print(e, f)"
      ]
    },
    {
      "cell_type": "markdown",
      "metadata": {
        "id": "BXCOBuU7C2Lp"
      },
      "source": [
        "Basically the `key` argument was called on every item being sorted - these items were the keys of the dictionary: `a`, `b`, `c`.\n",
        "For every key it used the result of the lambda as the sorting key:\n",
        "\n",
        "dictionary keys --> sorting key:\n",
        "* `a  --> 100`\n",
        "* `b --> 50`\n",
        "* `c --> 10`\n",
        "\n",
        "Hence the sort order was 10, 20, 100, which means `c, b, a`"
      ]
    },
    {
      "cell_type": "markdown",
      "metadata": {
        "id": "8dkVbwiwC2Lp"
      },
      "source": [
        "Here's a different example, where we want to sort strings, not based on the lexicographic ordering, but based on the length of the string.\n",
        "\n",
        "We can easily do this as follows:"
      ]
    },
    {
      "cell_type": "code",
      "execution_count": 37,
      "metadata": {
        "colab": {
          "base_uri": "https://localhost:8080/"
        },
        "id": "F9AqgerLC2Lp",
        "outputId": "9c54f485-8932-4f46-a332-ca384cc054fa"
      },
      "outputs": [
        {
          "output_type": "stream",
          "name": "stdout",
          "text": [
            "['a', 'is', 'this', 'late', 'bird', 'parrot']\n",
            "['a', 'is', 'this', 'late', 'bird', 'parrot']\n"
          ]
        }
      ],
      "source": [
        "t = 'this', 'parrot', 'is', 'a', 'late', 'bird'\n",
        "sorted(t)\n",
        "def sort_key(s):\n",
        "    return len(s)\n",
        "u = sorted(t, key=sort_key)\n",
        "v = sorted(t, key=lambda x: len(x) )\n",
        "print(u)\n",
        "print(v)"
      ]
    },
    {
      "cell_type": "markdown",
      "metadata": {
        "id": "d-grXsdLC2Lq"
      },
      "source": [
        "As you can see the natural ordering for strings was used here, but we can change the behavior by specifying the sort key:"
      ]
    },
    {
      "cell_type": "markdown",
      "metadata": {
        "id": "QZWTkJevC2Lq"
      },
      "source": [
        "Remember that the `key` is a function that receives the item being sorted, and should return something (else usually!) that we want to use as the sort key. We use lambdas, but you can also use a straight `def` function too:"
      ]
    },
    {
      "cell_type": "code",
      "execution_count": null,
      "metadata": {
        "collapsed": true,
        "id": "91mV0rvCC2Lr"
      },
      "outputs": [],
      "source": [
        "def sort_key(s):\n",
        "    return len(s)"
      ]
    },
    {
      "cell_type": "code",
      "execution_count": null,
      "metadata": {
        "id": "uOOdyH-VC2Lr",
        "outputId": "4033b6ce-7732-4952-ceee-1d55fa18757a"
      },
      "outputs": [
        {
          "data": {
            "text/plain": [
              "['a', 'is', 'this', 'late', 'bird', 'parrot']"
            ]
          },
          "execution_count": 14,
          "metadata": {},
          "output_type": "execute_result"
        }
      ],
      "source": [
        "sorted(t, key=sort_key)"
      ]
    },
    {
      "cell_type": "markdown",
      "metadata": {
        "id": "v5BQpkvhC2Ls"
      },
      "source": [
        "or, using a lambda:"
      ]
    },
    {
      "cell_type": "code",
      "execution_count": null,
      "metadata": {
        "id": "_br-GsrIC2Ls",
        "outputId": "c3710a14-4a55-4fdb-f04a-ae503eb83a4c"
      },
      "outputs": [
        {
          "data": {
            "text/plain": [
              "['a', 'is', 'this', 'late', 'bird', 'parrot']"
            ]
          },
          "execution_count": 15,
          "metadata": {},
          "output_type": "execute_result"
        }
      ],
      "source": [
        "sorted(t, key=lambda s: len(s))"
      ]
    },
    {
      "cell_type": "markdown",
      "metadata": {
        "id": "f8sPDcD7C2Ls"
      },
      "source": [
        "#### Stable Sorting"
      ]
    },
    {
      "cell_type": "markdown",
      "metadata": {
        "id": "mOzsFuKtC2Lt"
      },
      "source": [
        "You might have noticed that the words `this`,  `late` and `bird` all have four characters - so how did Python determine which one should come first? Randomly? No!\n",
        "\n",
        "The sort algorithm that Python uses, called the *TimSort* (named after Python core developer Tim Peters - yes, the same Tim Peters that wrote the Zen of Python!!), is what is called a **stable** sort algorithm.\n",
        "\n",
        "This means that items with equal sort keys maintain their relative position."
      ]
    },
    {
      "cell_type": "markdown",
      "metadata": {
        "id": "KDgeB_rCC2Lt"
      },
      "source": [
        "but first:"
      ]
    },
    {
      "cell_type": "code",
      "execution_count": null,
      "metadata": {
        "id": "hVxsCxG6C2Lt",
        "outputId": "900b8885-6a8a-40b3-c062-caf66c5a72ac"
      },
      "outputs": [
        {
          "name": "stdout",
          "output_type": "stream",
          "text": [
            "The Zen of Python, by Tim Peters\n",
            "\n",
            "Beautiful is better than ugly.\n",
            "Explicit is better than implicit.\n",
            "Simple is better than complex.\n",
            "Complex is better than complicated.\n",
            "Flat is better than nested.\n",
            "Sparse is better than dense.\n",
            "Readability counts.\n",
            "Special cases aren't special enough to break the rules.\n",
            "Although practicality beats purity.\n",
            "Errors should never pass silently.\n",
            "Unless explicitly silenced.\n",
            "In the face of ambiguity, refuse the temptation to guess.\n",
            "There should be one-- and preferably only one --obvious way to do it.\n",
            "Although that way may not be obvious at first unless you're Dutch.\n",
            "Now is better than never.\n",
            "Although never is often better than *right* now.\n",
            "If the implementation is hard to explain, it's a bad idea.\n",
            "If the implementation is easy to explain, it may be a good idea.\n",
            "Namespaces are one honking great idea -- let's do more of those!\n"
          ]
        }
      ],
      "source": [
        "import this"
      ]
    },
    {
      "cell_type": "markdown",
      "metadata": {
        "id": "939p6tbrC2Lt"
      },
      "source": [
        "If you haven't read this in a while, take a few minutes now to do so again!"
      ]
    },
    {
      "cell_type": "markdown",
      "metadata": {
        "id": "XChzsf3HC2Lu"
      },
      "source": [
        "Now back to stable sorting:"
      ]
    },
    {
      "cell_type": "code",
      "execution_count": null,
      "metadata": {
        "collapsed": true,
        "id": "G9ZF3N3dC2Lv"
      },
      "outputs": [],
      "source": [
        "t = 'aaaa', 'bbbb', 'cccc', 'dddd', 'eeee'"
      ]
    },
    {
      "cell_type": "code",
      "execution_count": null,
      "metadata": {
        "id": "eS1o4CzlC2Lv",
        "outputId": "33bc44c9-afdf-470d-da7a-a4c255d051ee"
      },
      "outputs": [
        {
          "data": {
            "text/plain": [
              "['aaaa', 'bbbb', 'cccc', 'dddd', 'eeee']"
            ]
          },
          "execution_count": 21,
          "metadata": {},
          "output_type": "execute_result"
        }
      ],
      "source": [
        "sorted(t, key = lambda s: len(s))"
      ]
    },
    {
      "cell_type": "markdown",
      "metadata": {
        "id": "M-X0IGf7C2Lw"
      },
      "source": [
        "Now let's change our tuple a bit:"
      ]
    },
    {
      "cell_type": "code",
      "execution_count": null,
      "metadata": {
        "collapsed": true,
        "id": "q1GtNvfOC2Lw"
      },
      "outputs": [],
      "source": [
        "t = 'bbbb', 'cccc', 'aaaa', 'eeee', 'dddd'"
      ]
    },
    {
      "cell_type": "code",
      "execution_count": null,
      "metadata": {
        "id": "C4Ybvuh5C2Lx",
        "outputId": "fd004d3b-753e-4ec6-9f46-631e45bb8118"
      },
      "outputs": [
        {
          "data": {
            "text/plain": [
              "['bbbb', 'cccc', 'aaaa', 'eeee', 'dddd']"
            ]
          },
          "execution_count": 23,
          "metadata": {},
          "output_type": "execute_result"
        }
      ],
      "source": [
        "sorted(t, key = lambda s: len(s))"
      ]
    },
    {
      "cell_type": "markdown",
      "metadata": {
        "id": "dOxU5-oYC2Lx"
      },
      "source": [
        "As you can see, when the sort keys are equal (they are all equal to 4), the original ordering of the iterable is preserved.\n",
        "\n",
        "So in our original example:"
      ]
    },
    {
      "cell_type": "code",
      "execution_count": null,
      "metadata": {
        "collapsed": true,
        "id": "WJyZCBvzC2Lx"
      },
      "outputs": [],
      "source": [
        "t = 'this', 'parrot', 'is', 'a', 'late', 'bird'"
      ]
    },
    {
      "cell_type": "code",
      "execution_count": null,
      "metadata": {
        "id": "YucQKBrjC2Lx",
        "outputId": "7ff97fe7-c34c-4e5e-bd18-48008276d3c2"
      },
      "outputs": [
        {
          "data": {
            "text/plain": [
              "['a', 'is', 'this', 'late', 'bird', 'parrot']"
            ]
          },
          "execution_count": 25,
          "metadata": {},
          "output_type": "execute_result"
        }
      ],
      "source": [
        "sorted(t, key = lambda s: len(s))"
      ]
    },
    {
      "cell_type": "markdown",
      "metadata": {
        "id": "6x7lBQz0C2Ly"
      },
      "source": [
        "So, `this`, will come before `late` which will come before `bird`.\n",
        "\n",
        "If we change it up a bit:"
      ]
    },
    {
      "cell_type": "code",
      "execution_count": null,
      "metadata": {
        "id": "c2mNpOf2C2Ly",
        "outputId": "4ccd27be-edb2-4b0f-9b37-1b15a6bff295"
      },
      "outputs": [
        {
          "data": {
            "text/plain": [
              "['a', 'is', 'this', 'bird', 'late', 'parrot']"
            ]
          },
          "execution_count": 26,
          "metadata": {},
          "output_type": "execute_result"
        }
      ],
      "source": [
        "t = 'this', 'bird', 'is', 'a', 'late', 'parrot'\n",
        "sorted(t, key = lambda s: len(s))"
      ]
    },
    {
      "cell_type": "markdown",
      "metadata": {
        "id": "ip0tAaJ2C2Ly"
      },
      "source": [
        "you'll notice that now `bird` ends up before `late`."
      ]
    },
    {
      "cell_type": "markdown",
      "metadata": {
        "id": "XwSD10BtC2Ly"
      },
      "source": [
        "So this `key` argument makes the `sorted` function extremely flexible. We can now even sort objects that are not even comparable!"
      ]
    },
    {
      "cell_type": "code",
      "execution_count": null,
      "metadata": {
        "collapsed": true,
        "id": "bu3B4OZyC2Ly"
      },
      "outputs": [],
      "source": [
        "c1 = 10 + 2j\n",
        "c2 = 5 - 3j"
      ]
    },
    {
      "cell_type": "code",
      "execution_count": null,
      "metadata": {
        "id": "2VNQ-ryZC2Lz",
        "outputId": "397d5f1c-4571-43a7-f9cd-609d55f60903"
      },
      "outputs": [
        {
          "ename": "TypeError",
          "evalue": "'<' not supported between instances of 'complex' and 'complex'",
          "output_type": "error",
          "traceback": [
            "\u001b[1;31m---------------------------------------------------------------------------\u001b[0m",
            "\u001b[1;31mTypeError\u001b[0m                                 Traceback (most recent call last)",
            "\u001b[1;32m<ipython-input-28-bf3d510f0a37>\u001b[0m in \u001b[0;36m<module>\u001b[1;34m()\u001b[0m\n\u001b[1;32m----> 1\u001b[1;33m \u001b[0mc1\u001b[0m \u001b[1;33m<\u001b[0m \u001b[0mc2\u001b[0m\u001b[1;33m\u001b[0m\u001b[0m\n\u001b[0m",
            "\u001b[1;31mTypeError\u001b[0m: '<' not supported between instances of 'complex' and 'complex'"
          ]
        }
      ],
      "source": [
        "c1 < c2"
      ]
    },
    {
      "cell_type": "markdown",
      "metadata": {
        "id": "F2tjl3fnC2Lz"
      },
      "source": [
        "As you can we do not have an ordering defined for complex numbers.\n",
        "\n",
        "But we may want to sort a sequence of complex numbers based on their distance from the origin:"
      ]
    },
    {
      "cell_type": "code",
      "execution_count": 38,
      "metadata": {
        "collapsed": true,
        "id": "N7iDYI21C2Lz"
      },
      "outputs": [],
      "source": [
        "import math\n",
        "t = 0, 10+10j, 3-3j, 4+4j, 5-2j\n"
      ]
    },
    {
      "cell_type": "code",
      "source": [
        "def key_sort(imag):\n",
        "    return (abs(imag))\n",
        "sorted(t, key=key_sort)"
      ],
      "metadata": {
        "colab": {
          "base_uri": "https://localhost:8080/"
        },
        "id": "S4aogmFZIXiI",
        "outputId": "41d31e43-91d7-4249-9df0-ff7f12de36c3"
      },
      "execution_count": 39,
      "outputs": [
        {
          "output_type": "execute_result",
          "data": {
            "text/plain": [
              "[0, (3-3j), (5-2j), (4+4j), (10+10j)]"
            ]
          },
          "metadata": {},
          "execution_count": 39
        }
      ]
    },
    {
      "cell_type": "markdown",
      "metadata": {
        "id": "GgrrIOGQC2Lz"
      },
      "source": [
        "We can easily calculate the distace from the origin by using the `abs` function:"
      ]
    },
    {
      "cell_type": "code",
      "execution_count": null,
      "metadata": {
        "id": "_T5npFUXC2Lz",
        "outputId": "56c90621-481d-44d3-f472-e5dc341bb4e3"
      },
      "outputs": [
        {
          "data": {
            "text/plain": [
              "5.0"
            ]
          },
          "execution_count": 33,
          "metadata": {},
          "output_type": "execute_result"
        }
      ],
      "source": [
        "abs(3+4j)"
      ]
    },
    {
      "cell_type": "markdown",
      "metadata": {
        "id": "__DHTXR9C2Lz"
      },
      "source": [
        "So now we can use that as a sort key:"
      ]
    },
    {
      "cell_type": "code",
      "execution_count": null,
      "metadata": {
        "id": "4Pd1O7ltC2L0",
        "outputId": "8f961bda-5d2b-4fc5-a9cf-abc3b83a2251"
      },
      "outputs": [
        {
          "data": {
            "text/plain": [
              "[0, (3-3j), (5-2j), (4+4j), (10+10j)]"
            ]
          },
          "execution_count": 34,
          "metadata": {},
          "output_type": "execute_result"
        }
      ],
      "source": [
        "sorted(t, key=abs)"
      ]
    },
    {
      "cell_type": "markdown",
      "metadata": {
        "id": "w2kg34bUC2L0"
      },
      "source": [
        "Of course, you could decide to sort based on the imaginary component instead:"
      ]
    },
    {
      "cell_type": "code",
      "execution_count": null,
      "metadata": {
        "id": "eSBOHATMC2L0",
        "outputId": "4ebbc913-0db3-4b1e-98e5-03184205d94e"
      },
      "outputs": [
        {
          "data": {
            "text/plain": [
              "[(3-3j), (5-2j), 0, (4+4j), (10+10j)]"
            ]
          },
          "execution_count": 36,
          "metadata": {},
          "output_type": "execute_result"
        }
      ],
      "source": [
        "sorted(t, key=lambda c: c.imag)"
      ]
    },
    {
      "cell_type": "code",
      "source": [
        "a = (3-3j)\n",
        "print(a.imag)\n",
        "print(a.real)"
      ],
      "metadata": {
        "colab": {
          "base_uri": "https://localhost:8080/"
        },
        "id": "trWr_eBZJFTj",
        "outputId": "9955bb2e-b74c-43e8-e198-2c8e69bd0a56"
      },
      "execution_count": 41,
      "outputs": [
        {
          "output_type": "stream",
          "name": "stdout",
          "text": [
            "-3.0\n",
            "3.0\n"
          ]
        }
      ]
    },
    {
      "cell_type": "markdown",
      "metadata": {
        "id": "Oe7WbCDZC2L0"
      },
      "source": [
        "#### Reversed Sort"
      ]
    },
    {
      "cell_type": "markdown",
      "metadata": {
        "id": "x94X8HBuC2L0"
      },
      "source": [
        "We also have the `reverse` keyword-only argument that we can use - basically it sorts the iterable, but returns it reversed:"
      ]
    },
    {
      "cell_type": "code",
      "execution_count": null,
      "metadata": {
        "collapsed": true,
        "id": "kKYLJmpqC2L0"
      },
      "outputs": [],
      "source": [
        "t = 'this', 'bird', 'is', 'a', 'late', 'parrot'"
      ]
    },
    {
      "cell_type": "code",
      "execution_count": null,
      "metadata": {
        "id": "vADXTDglC2L1",
        "outputId": "5499481b-c83a-4fb2-8376-8af618f43e1b"
      },
      "outputs": [
        {
          "data": {
            "text/plain": [
              "['a', 'is', 'this', 'bird', 'late', 'parrot']"
            ]
          },
          "execution_count": 38,
          "metadata": {},
          "output_type": "execute_result"
        }
      ],
      "source": [
        "sorted(t, key=lambda s: len(s))"
      ]
    },
    {
      "cell_type": "code",
      "execution_count": null,
      "metadata": {
        "id": "M2Vwjsm8C2L1",
        "outputId": "661e4cc6-1c07-4256-e5d9-ba094711cd5c"
      },
      "outputs": [
        {
          "data": {
            "text/plain": [
              "['parrot', 'this', 'bird', 'late', 'is', 'a']"
            ]
          },
          "execution_count": 40,
          "metadata": {},
          "output_type": "execute_result"
        }
      ],
      "source": [
        "sorted(t, key=lambda s: len(s), reverse=True)"
      ]
    },
    {
      "cell_type": "markdown",
      "metadata": {
        "id": "cF2nnFaqC2L1"
      },
      "source": [
        "Of course in this case we could have done it this way too:"
      ]
    },
    {
      "cell_type": "code",
      "execution_count": null,
      "metadata": {
        "id": "EkDEK7IZC2L1",
        "outputId": "1f1855a4-4e46-4778-f903-5e0f5d1acad6"
      },
      "outputs": [
        {
          "data": {
            "text/plain": [
              "['parrot', 'this', 'bird', 'late', 'is', 'a']"
            ]
          },
          "execution_count": 41,
          "metadata": {},
          "output_type": "execute_result"
        }
      ],
      "source": [
        "sorted(t, key=lambda s: -len(s))"
      ]
    },
    {
      "cell_type": "markdown",
      "metadata": {
        "id": "I8r-JliQC2L1"
      },
      "source": [
        "#### In-Place Sorting"
      ]
    },
    {
      "cell_type": "markdown",
      "metadata": {
        "id": "QhY8IdkwC2L1"
      },
      "source": [
        "So far we have seen the `sorted` function - it returns a new (list) containing the sorted elements, and the original iterable remains the same.\n",
        "\n",
        "But mutable sequence types, such as lists, also implement in-place sorting - where the original list is sorted (the memory address does not change, the object is actually mutated).\n",
        "\n",
        "The syntax for calling the sorted method is identical to the `sorted` function, and is implemented using the same TimSort algorithm.\n",
        "\n",
        "Of course, this will not work with tuples, which are immutable."
      ]
    },
    {
      "cell_type": "code",
      "execution_count": null,
      "metadata": {
        "collapsed": true,
        "id": "O5vzkhv6C2L2"
      },
      "outputs": [],
      "source": [
        "l = ['this', 'bird', 'is', 'a', 'late', 'parrot']"
      ]
    },
    {
      "cell_type": "code",
      "execution_count": null,
      "metadata": {
        "id": "Czfr9WtVC2L2",
        "outputId": "ad8faba5-a613-48c7-d14d-8736286d6671"
      },
      "outputs": [
        {
          "data": {
            "text/plain": [
              "1437890262984"
            ]
          },
          "execution_count": 43,
          "metadata": {},
          "output_type": "execute_result"
        }
      ],
      "source": [
        "id(l)"
      ]
    },
    {
      "cell_type": "code",
      "execution_count": null,
      "metadata": {
        "id": "CREwH9wHC2L2",
        "outputId": "0579f1ec-d5b7-4cb1-a0f5-a1e9207d5f78"
      },
      "outputs": [
        {
          "data": {
            "text/plain": [
              "['a', 'is', 'this', 'bird', 'late', 'parrot']"
            ]
          },
          "execution_count": 44,
          "metadata": {},
          "output_type": "execute_result"
        }
      ],
      "source": [
        "sorted(l, key=lambda s: len(s))"
      ]
    },
    {
      "cell_type": "code",
      "execution_count": null,
      "metadata": {
        "id": "HiOiTjyKC2L2",
        "outputId": "b0225c60-9f46-493e-8c11-3a2f795bab1e"
      },
      "outputs": [
        {
          "data": {
            "text/plain": [
              "(['this', 'bird', 'is', 'a', 'late', 'parrot'], 1437890262984)"
            ]
          },
          "execution_count": 46,
          "metadata": {},
          "output_type": "execute_result"
        }
      ],
      "source": [
        "l, id(l)"
      ]
    },
    {
      "cell_type": "markdown",
      "metadata": {
        "id": "yiJqaFO3C2L3"
      },
      "source": [
        "As you can see, the list `l` was not mutated and is still the same object.\n",
        "\n",
        "But this way is different:"
      ]
    },
    {
      "cell_type": "code",
      "execution_count": null,
      "metadata": {
        "collapsed": true,
        "id": "OppLba6OC2L3"
      },
      "outputs": [],
      "source": [
        "result = l.sort(key=lambda s: len(s))"
      ]
    },
    {
      "cell_type": "markdown",
      "metadata": {
        "id": "P3gXfO1fC2L3"
      },
      "source": [
        "First, the `sort` **method** does not return anything:"
      ]
    },
    {
      "cell_type": "code",
      "execution_count": null,
      "metadata": {
        "id": "kGZnigRSC2L3",
        "outputId": "25b9e637-9925-40f3-a6a8-a8d02e05ba5b"
      },
      "outputs": [
        {
          "data": {
            "text/plain": [
              "NoneType"
            ]
          },
          "execution_count": 49,
          "metadata": {},
          "output_type": "execute_result"
        }
      ],
      "source": [
        "type(result)"
      ]
    },
    {
      "cell_type": "markdown",
      "metadata": {
        "id": "L_7xT9u1C2L3"
      },
      "source": [
        "and the original list is still the same object:"
      ]
    },
    {
      "cell_type": "code",
      "execution_count": null,
      "metadata": {
        "id": "240yshDvC2L3",
        "outputId": "9d0ac3cc-455a-40e3-ce66-365c4629b09e"
      },
      "outputs": [
        {
          "data": {
            "text/plain": [
              "1437890262984"
            ]
          },
          "execution_count": 50,
          "metadata": {},
          "output_type": "execute_result"
        }
      ],
      "source": [
        "id(l)"
      ]
    },
    {
      "cell_type": "markdown",
      "metadata": {
        "id": "rHAOMGa7C2L4"
      },
      "source": [
        "but it has mutated:"
      ]
    },
    {
      "cell_type": "code",
      "execution_count": null,
      "metadata": {
        "id": "CEMCDsEPC2L4",
        "outputId": "aa5c3ae2-26b8-4679-9b48-d84da06d6b1b"
      },
      "outputs": [
        {
          "data": {
            "text/plain": [
              "['a', 'is', 'this', 'bird', 'late', 'parrot']"
            ]
          },
          "execution_count": 51,
          "metadata": {},
          "output_type": "execute_result"
        }
      ],
      "source": [
        "l"
      ]
    },
    {
      "cell_type": "markdown",
      "metadata": {
        "id": "kpmmh01AC2L4"
      },
      "source": [
        "That's really the only fundamental difference between the two sorts - one is in-place, while the other is not."
      ]
    },
    {
      "cell_type": "markdown",
      "metadata": {
        "id": "cxWuDcRUC2L4"
      },
      "source": [
        "You might be wondering if one is more efficient than the other. \n",
        "\n",
        "As far as algorithms go, they are the same, so no difference there (one sort is not more efficient than the other). \n",
        "\n",
        "But `list.sort()` will be faster than `sorted()` because it does not have to create a copy of the sequence. \n",
        "\n",
        "Of course, for iterables other than lists, you don't have much of a choice, and need to use `sorted` anyways."
      ]
    },
    {
      "cell_type": "markdown",
      "metadata": {
        "id": "UHhp2IPmC2L4"
      },
      "source": [
        "Let's try timing this a bit to see if we can see the difference:"
      ]
    },
    {
      "cell_type": "code",
      "execution_count": 43,
      "metadata": {
        "collapsed": true,
        "id": "8-jql3-uC2L4"
      },
      "outputs": [],
      "source": [
        "from timeit import timeit\n",
        "import random"
      ]
    },
    {
      "cell_type": "code",
      "execution_count": 44,
      "metadata": {
        "collapsed": true,
        "id": "x10TKbnlC2L5"
      },
      "outputs": [],
      "source": [
        "random.seed(0)\n",
        "n = 10_000_000\n",
        "l = [random.randint(0, 1000000) for n in range(n)]"
      ]
    },
    {
      "cell_type": "markdown",
      "metadata": {
        "id": "qRKrAUyDC2L5"
      },
      "source": [
        "This produces a list of `n` random integers between 0 and 100. \n",
        "\n",
        "If you're wondering about what the seed does, look at my video on random seeds in Part 1|Extras of this course - basically it makes sure I will generate the same random sequence every time.\n",
        "\n",
        "If you're unsure about the `timeit` module, again I have a video on that in Part 1|Extras of this course."
      ]
    },
    {
      "cell_type": "markdown",
      "metadata": {
        "id": "3nAk8aAyC2L5"
      },
      "source": [
        "Now, I'm only going to run the tests once, because when using in-place sorting of `l` we'll end up sorting an already sorted list - and that may very well affect the timing..."
      ]
    },
    {
      "cell_type": "code",
      "execution_count": 45,
      "metadata": {
        "colab": {
          "base_uri": "https://localhost:8080/"
        },
        "id": "_GUfndqGC2L5",
        "outputId": "70e25bbc-667d-413b-bc7c-c932828ba6b5"
      },
      "outputs": [
        {
          "output_type": "execute_result",
          "data": {
            "text/plain": [
              "4.124743979000186"
            ]
          },
          "metadata": {},
          "execution_count": 45
        }
      ],
      "source": [
        "timeit(stmt='sorted(l)', globals=globals(), number=1)"
      ]
    },
    {
      "cell_type": "code",
      "execution_count": 46,
      "metadata": {
        "colab": {
          "base_uri": "https://localhost:8080/"
        },
        "id": "RseSrrJ8C2L5",
        "outputId": "cd096c38-c5a5-4d7b-9022-5492b57214ce"
      },
      "outputs": [
        {
          "output_type": "execute_result",
          "data": {
            "text/plain": [
              "3.928516560999924"
            ]
          },
          "metadata": {},
          "execution_count": 46
        }
      ],
      "source": [
        "timeit(stmt='l.sort()', globals=globals(), number=1)"
      ]
    },
    {
      "cell_type": "code",
      "source": [],
      "metadata": {
        "id": "izWIcO4YLOzD"
      },
      "execution_count": null,
      "outputs": []
    },
    {
      "cell_type": "markdown",
      "metadata": {
        "id": "nfpni3c_C2L6"
      },
      "source": [
        "As you can see, the time difference between the two methods, even for `n=10_000_000` is quite small."
      ]
    },
    {
      "cell_type": "markdown",
      "metadata": {
        "id": "mBR9_7uqC2L6"
      },
      "source": [
        "I also just want to point out that sorting a list that is already sorted results in much better performance!"
      ]
    },
    {
      "cell_type": "code",
      "execution_count": null,
      "metadata": {
        "id": "It3dnlSkC2L6",
        "outputId": "8ff22e5c-e765-4f58-9c9e-c6f9aac6bae7"
      },
      "outputs": [
        {
          "data": {
            "text/plain": [
              "2.0949547388245264"
            ]
          },
          "execution_count": 99,
          "metadata": {},
          "output_type": "execute_result"
        }
      ],
      "source": [
        "random.seed(0)\n",
        "n = 10_000_000\n",
        "l = [random.randint(0, 100) for n in range(n)]\n",
        "timeit(stmt='l.sort()', globals=globals(), number=1)"
      ]
    },
    {
      "cell_type": "markdown",
      "metadata": {
        "id": "eLHoZHtZC2L6"
      },
      "source": [
        "So now `l` is sorted, and if re-run the sort on it (either method), here's what we get:"
      ]
    },
    {
      "cell_type": "code",
      "execution_count": null,
      "metadata": {
        "id": "SV3ROP3VC2L6",
        "outputId": "00b965c1-8ed9-4844-80cf-eb4b36598f81"
      },
      "outputs": [
        {
          "data": {
            "text/plain": [
              "0.1799462218783674"
            ]
          },
          "execution_count": 100,
          "metadata": {},
          "output_type": "execute_result"
        }
      ],
      "source": [
        "timeit(stmt='sorted(l)', globals=globals(), number=1)"
      ]
    },
    {
      "cell_type": "code",
      "execution_count": null,
      "metadata": {
        "id": "Vey2wKOnC2L6",
        "outputId": "b46da329-cf4a-4530-8b53-5a97419b2a3f"
      },
      "outputs": [
        {
          "data": {
            "text/plain": [
              "0.11247461711673168"
            ]
          },
          "execution_count": 101,
          "metadata": {},
          "output_type": "execute_result"
        }
      ],
      "source": [
        "timeit(stmt='l.sort()', globals=globals(), number=1)"
      ]
    },
    {
      "cell_type": "markdown",
      "metadata": {
        "id": "bl5Vsq0YC2L7"
      },
      "source": [
        "Substantially faster!!\n",
        "\n",
        "Hence why I only timed using a single iteration..."
      ]
    },
    {
      "cell_type": "markdown",
      "metadata": {
        "id": "Dgp5WePOC2L7"
      },
      "source": [
        "#### Natural Ordering for Custom Classes"
      ]
    },
    {
      "cell_type": "markdown",
      "metadata": {
        "id": "C95Lmi0cC2L7"
      },
      "source": [
        "I just want to quickly show you that in order to have a \"natural ordering\" for our custom classes, we just need to implement the `<` or `>` operators. (I discuss these operators in Part 1 of this course)"
      ]
    },
    {
      "cell_type": "code",
      "execution_count": null,
      "metadata": {
        "collapsed": true,
        "id": "bOQeiHWYC2L7"
      },
      "outputs": [],
      "source": [
        "class MyClass:\n",
        "    def __init__(self, name, val):\n",
        "        self.name = name\n",
        "        self.val = val\n",
        "        \n",
        "    def __repr__(self):\n",
        "        return f'MyClass({self.name}, {self.val})'\n",
        "    \n",
        "    def __lt__(self, other):\n",
        "        return self.val < other.val"
      ]
    },
    {
      "cell_type": "code",
      "execution_count": null,
      "metadata": {
        "collapsed": true,
        "id": "fxmCNA5JC2L7"
      },
      "outputs": [],
      "source": [
        "c1 = MyClass('c1', 20)\n",
        "c2 = MyClass('c2', 10)\n",
        "c3 = MyClass('c3', 20)\n",
        "c4 = MyClass('c4', 10)"
      ]
    },
    {
      "cell_type": "markdown",
      "metadata": {
        "id": "7YzOesidC2L7"
      },
      "source": [
        "Now we can sort those objects, without specifying a key, since that class has a natural ordering (`<` in this case). Moreover, notice that the sort is stable."
      ]
    },
    {
      "cell_type": "code",
      "execution_count": null,
      "metadata": {
        "id": "ObEISf83C2L8",
        "outputId": "491f80a3-0f11-4f09-fb76-08464226e6f3"
      },
      "outputs": [
        {
          "data": {
            "text/plain": [
              "[MyClass(c2, 10), MyClass(c4, 10), MyClass(c1, 20), MyClass(c3, 20)]"
            ]
          },
          "execution_count": 4,
          "metadata": {},
          "output_type": "execute_result"
        }
      ],
      "source": [
        "sorted([c1, c2, c3, c4])"
      ]
    },
    {
      "cell_type": "markdown",
      "metadata": {
        "id": "VmISOmC8C2L8"
      },
      "source": [
        "In fact, we can modify our class slightly so we can see that `sorted` is calling our `__lt__` method repeatedly to perform the sort:"
      ]
    },
    {
      "cell_type": "code",
      "execution_count": null,
      "metadata": {
        "collapsed": true,
        "id": "890chRm7C2L8"
      },
      "outputs": [],
      "source": [
        "class MyClass:\n",
        "    def __init__(self, name, val):\n",
        "        self.name = name\n",
        "        self.val = val\n",
        "        \n",
        "    def __repr__(self):\n",
        "        return f'MyClass({self.name}, {self.val})'\n",
        "    \n",
        "    def __lt__(self, other):\n",
        "        print(f'called {self.name} < {other.name}')\n",
        "        return self.val < other.val"
      ]
    },
    {
      "cell_type": "code",
      "execution_count": null,
      "metadata": {
        "collapsed": true,
        "id": "dWd8EvvqC2L8"
      },
      "outputs": [],
      "source": [
        "c1 = MyClass('c1', 20)\n",
        "c2 = MyClass('c2', 10)\n",
        "c3 = MyClass('c3', 20)\n",
        "c4 = MyClass('c4', 10)"
      ]
    },
    {
      "cell_type": "code",
      "execution_count": null,
      "metadata": {
        "id": "XN834b28C2L8",
        "outputId": "ec081528-8d3c-4f6b-b9f2-2e5d0eedebf6"
      },
      "outputs": [
        {
          "name": "stdout",
          "output_type": "stream",
          "text": [
            "called c2 < c1\n",
            "called c3 < c2\n",
            "called c3 < c1\n",
            "called c4 < c1\n",
            "called c4 < c2\n"
          ]
        },
        {
          "data": {
            "text/plain": [
              "[MyClass(c2, 10), MyClass(c4, 10), MyClass(c1, 20), MyClass(c3, 20)]"
            ]
          },
          "execution_count": 10,
          "metadata": {},
          "output_type": "execute_result"
        }
      ],
      "source": [
        "sorted([c1, c2, c3, c4])"
      ]
    }
  ],
  "metadata": {
    "kernelspec": {
      "display_name": "Python 3",
      "language": "python",
      "name": "python3"
    },
    "language_info": {
      "codemirror_mode": {
        "name": "ipython",
        "version": 3
      },
      "file_extension": ".py",
      "mimetype": "text/x-python",
      "name": "python",
      "nbconvert_exporter": "python",
      "pygments_lexer": "ipython3",
      "version": "3.6.2"
    },
    "colab": {
      "provenance": [],
      "include_colab_link": true
    }
  },
  "nbformat": 4,
  "nbformat_minor": 0
}
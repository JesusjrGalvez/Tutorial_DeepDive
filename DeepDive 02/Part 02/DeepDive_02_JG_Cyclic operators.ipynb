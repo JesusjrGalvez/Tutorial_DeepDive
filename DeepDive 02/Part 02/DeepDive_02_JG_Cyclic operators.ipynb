{
 "cells": [
  {
   "cell_type": "code",
   "execution_count": 1,
   "metadata": {
    "collapsed": true
   },
   "outputs": [
    {
     "name": "stdout",
     "output_type": "stream",
     "text": [
      "1 N\n",
      "2 S\n",
      "3 W\n",
      "4 E\n"
     ]
    }
   ],
   "source": [
    "import itertools\n",
    "\n",
    "num = [1, 2, 3, 4, 5, 6, 7, 8, 9]\n",
    "car = ['N', 'S', 'W', 'E']\n",
    "\n",
    "for k, v in zip(num, car):\n",
    "    print(k, v)"
   ]
  },
  {
   "cell_type": "markdown",
   "source": [
    "HOW TO MAKE AN INFINITE CYCLIC ITERATOR"
   ],
   "metadata": {
    "collapsed": false
   }
  },
  {
   "cell_type": "code",
   "execution_count": 2,
   "outputs": [
    {
     "name": "stdout",
     "output_type": "stream",
     "text": [
      "N\n",
      "S\n",
      "W\n",
      "E\n",
      "N\n",
      "S\n",
      "W\n",
      "E\n",
      "N\n",
      "S\n"
     ]
    }
   ],
   "source": [
    "class Cyclic_Iterator:\n",
    "    def __init__(self, lst):\n",
    "        self.lst = lst\n",
    "        self.index = 0\n",
    "\n",
    "    def __iter__(self):\n",
    "        return self\n",
    "\n",
    "    def __next__(self):\n",
    "        result = self.lst[self.index % len(self.lst)]\n",
    "        self.index += 1\n",
    "        return result\n",
    "\n",
    "iter_cyclic = Cyclic_Iterator('NSWE')\n",
    "\n",
    "for _ in range(10):\n",
    "    print(next(iter_cyclic))\n",
    "\n"
   ],
   "metadata": {
    "collapsed": false
   }
  },
  {
   "cell_type": "markdown",
   "source": [
    "HOW TO MAKE A FINITE CYCLIC ITERATOR"
   ],
   "metadata": {
    "collapsed": false
   }
  },
  {
   "cell_type": "code",
   "execution_count": 5,
   "outputs": [
    {
     "name": "stdout",
     "output_type": "stream",
     "text": [
      "N\n",
      "S\n",
      "W\n",
      "E\n",
      "N\n",
      "S\n"
     ]
    }
   ],
   "source": [
    "class Cyclic_Iterator:\n",
    "    def __init__(self, lst, length):\n",
    "        self.lst = lst\n",
    "        self.index = 0\n",
    "        self.length = length\n",
    "\n",
    "    def __iter__(self):\n",
    "        return self\n",
    "\n",
    "    def __next__(self):\n",
    "        if self.index >= self.length:\n",
    "            raise StopIteration\n",
    "        else:\n",
    "            result = self.lst[self.index % len(self.lst)]\n",
    "            self.index += 1\n",
    "            return result\n",
    "\n",
    "iter_cyclic = Cyclic_Iterator('NSWE', 6)\n",
    "\n",
    "for item in iter_cyclic:\n",
    "    print(item)"
   ],
   "metadata": {
    "collapsed": false
   }
  },
  {
   "cell_type": "code",
   "execution_count": 9,
   "outputs": [
    {
     "name": "stdout",
     "output_type": "stream",
     "text": [
      "[1, 2, 3, 4, 5, 6, 7, 8, 9]\n",
      "['N', 'S', 'W', 'E']\n"
     ]
    },
    {
     "data": {
      "text/plain": "[(1, 'N'),\n (2, 'S'),\n (3, 'W'),\n (4, 'E'),\n (5, 'N'),\n (6, 'S'),\n (7, 'W'),\n (8, 'E'),\n (9, 'N')]"
     },
     "execution_count": 9,
     "metadata": {},
     "output_type": "execute_result"
    }
   ],
   "source": [
    "class Cyclic_Iterator:\n",
    "    def __init__(self, lst):\n",
    "        self.lst = lst\n",
    "        self.index = 0\n",
    "\n",
    "    def __iter__(self):\n",
    "        return self\n",
    "\n",
    "    def __next__(self):\n",
    "        result = self.lst[self.index % len(self.lst)]\n",
    "        self.index += 1\n",
    "        return result\n",
    "\n",
    "print(num)\n",
    "print(car)\n",
    "iter_cycl = Cyclic_Iterator(car)\n",
    "list(zip(num, iter_cycl))"
   ],
   "metadata": {
    "collapsed": false
   }
  },
  {
   "cell_type": "code",
   "execution_count": null,
   "outputs": [],
   "source": [],
   "metadata": {
    "collapsed": false
   }
  }
 ],
 "metadata": {
  "kernelspec": {
   "display_name": "Python 3",
   "language": "python",
   "name": "python3"
  },
  "language_info": {
   "codemirror_mode": {
    "name": "ipython",
    "version": 2
   },
   "file_extension": ".py",
   "mimetype": "text/x-python",
   "name": "python",
   "nbconvert_exporter": "python",
   "pygments_lexer": "ipython2",
   "version": "2.7.6"
  }
 },
 "nbformat": 4,
 "nbformat_minor": 0
}

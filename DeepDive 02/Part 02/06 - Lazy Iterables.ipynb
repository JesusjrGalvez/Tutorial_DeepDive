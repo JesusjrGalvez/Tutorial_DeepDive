{
 "cells": [
  {
   "cell_type": "markdown",
   "metadata": {
    "id": "2on9QETJuFOF"
   },
   "source": [
    "### Lazy Iterables"
   ]
  },
  {
   "cell_type": "markdown",
   "metadata": {
    "id": "7STjrfXeuFOJ"
   },
   "source": [
    "An iterable is an object that can return an iterator (`__iter__`).\n",
    "\n",
    "In turn an iterator is an object that can return itself (`__iter__`), and return the next value when asked (`__next__`).\n",
    "\n",
    "Nothing in all this says that the iterable needs to be a finite collection, or that the elements in the iterable need to be materialized (pre-created) at the time the iterable / iterator is created."
   ]
  },
  {
   "cell_type": "markdown",
   "metadata": {
    "id": "UhQgijEquFOK"
   },
   "source": [
    "Lazy evaluation is when evaluating a value is deferred until it is actually requested.\n",
    "\n",
    "It is not specific to iterables however.\n",
    "\n",
    "Simple examples of lazy evaluation are often seen in classes for calculated properties."
   ]
  },
  {
   "cell_type": "markdown",
   "metadata": {
    "id": "xXWwoB6JuFOK"
   },
   "source": [
    "Let's look at an example of a lazy class property:"
   ]
  },
  {
   "cell_type": "code",
   "execution_count": 1,
   "metadata": {
    "collapsed": true,
    "id": "gPixSqRIuFOL"
   },
   "outputs": [],
   "source": [
    "    import math\n",
    "\n",
    "    class Circle:\n",
    "        def __init__(self, r):\n",
    "            self.radius = r\n",
    "            \n",
    "        @property\n",
    "        def radius(self):\n",
    "            return self._radius\n",
    "        \n",
    "        @radius.setter\n",
    "        def radius(self, r):\n",
    "            self._radius = r\n",
    "            self.area = math.pi * r**2"
   ]
  },
  {
   "cell_type": "markdown",
   "metadata": {
    "id": "CXb3afCRuFOT"
   },
   "source": [
    "As you can see, in this circle class, every time we set the radius, we re-calculate and store the area. When we request the area of the circle, we simply return the stored value."
   ]
  },
  {
   "cell_type": "code",
   "execution_count": null,
   "metadata": {
    "collapsed": true,
    "id": "dt3VFTaDuFOV"
   },
   "outputs": [],
   "source": [
    "c = Circle(1)"
   ]
  },
  {
   "cell_type": "code",
   "execution_count": null,
   "metadata": {
    "id": "s-DTn3TTuFOX",
    "outputId": "a53bdb4b-ef7b-4095-c8bd-8c4a70456aa7"
   },
   "outputs": [
    {
     "data": {
      "text/plain": [
       "3.141592653589793"
      ]
     },
     "execution_count": 3,
     "metadata": {},
     "output_type": "execute_result"
    }
   ],
   "source": [
    "c.area"
   ]
  },
  {
   "cell_type": "code",
   "execution_count": null,
   "metadata": {
    "collapsed": true,
    "id": "eTnEXAb_uFOd"
   },
   "outputs": [],
   "source": [
    "c.radius = 2"
   ]
  },
  {
   "cell_type": "code",
   "execution_count": null,
   "metadata": {
    "id": "sGMEV_Z3uFOe",
    "outputId": "03f880a0-1395-4699-a491-c1dc11a37f6d"
   },
   "outputs": [
    {
     "data": {
      "text/plain": [
       "(2, 12.566370614359172)"
      ]
     },
     "execution_count": 5,
     "metadata": {},
     "output_type": "execute_result"
    }
   ],
   "source": [
    "c.radius, c.area"
   ]
  },
  {
   "cell_type": "markdown",
   "metadata": {
    "id": "nskcqlEiuFOg"
   },
   "source": [
    "But instead of doing it this way, we could just calculate the area every time it is requested without actually storing the value:"
   ]
  },
  {
   "cell_type": "code",
   "execution_count": null,
   "metadata": {
    "collapsed": true,
    "id": "LbcvmILouFOg"
   },
   "outputs": [],
   "source": [
    "class Circle:\n",
    "    def __init__(self, r):\n",
    "        self.radius = r\n",
    "        \n",
    "    @property\n",
    "    def radius(self):\n",
    "        return self._radius\n",
    "    \n",
    "    @radius.setter\n",
    "    def radius(self, r):\n",
    "        self._radius = r\n",
    "\n",
    "    @property\n",
    "    def area(self):\n",
    "        return math.pi * self.radius ** 2"
   ]
  },
  {
   "cell_type": "code",
   "execution_count": null,
   "metadata": {
    "collapsed": true,
    "id": "mmuZd-DzuFOh"
   },
   "outputs": [],
   "source": [
    "c = Circle(1)"
   ]
  },
  {
   "cell_type": "code",
   "execution_count": null,
   "metadata": {
    "id": "T0QRyMfHuFOh",
    "outputId": "1680ed33-664f-48f0-a64c-ea67cf13c3a8"
   },
   "outputs": [
    {
     "data": {
      "text/plain": [
       "3.141592653589793"
      ]
     },
     "execution_count": 8,
     "metadata": {},
     "output_type": "execute_result"
    }
   ],
   "source": [
    "c.area"
   ]
  },
  {
   "cell_type": "code",
   "execution_count": null,
   "metadata": {
    "collapsed": true,
    "id": "UmwBiugJuFOv"
   },
   "outputs": [],
   "source": [
    "c.radius = 2"
   ]
  },
  {
   "cell_type": "code",
   "execution_count": null,
   "metadata": {
    "id": "6yMGos3buFOw",
    "outputId": "e98d8866-8563-4a50-b94c-3aa0c7d193d5"
   },
   "outputs": [
    {
     "data": {
      "text/plain": [
       "12.566370614359172"
      ]
     },
     "execution_count": 10,
     "metadata": {},
     "output_type": "execute_result"
    }
   ],
   "source": [
    "c.area"
   ]
  },
  {
   "cell_type": "markdown",
   "metadata": {
    "id": "vn4ABSwKuFOw"
   },
   "source": [
    "But the area is always recalculated, so we may take a hybrid approach where we want to store the area so we don't need to recalculate it every time (except when the radius is modified), but delay calculating the area until it is requested - that way if it is never requested, we didn't waste the CPU cycles to calculate it, or the memory to store it."
   ]
  },
  {
   "cell_type": "code",
   "execution_count": null,
   "metadata": {
    "collapsed": true,
    "id": "8KDr4YlVuFOx"
   },
   "outputs": [],
   "source": [
    "class Circle:\n",
    "    def __init__(self, r):\n",
    "        self.radius = r\n",
    "        \n",
    "    @property\n",
    "    def radius(self):\n",
    "        return self._radius\n",
    "    \n",
    "    @radius.setter\n",
    "    def radius(self, r):\n",
    "        self._radius = r\n",
    "        self._area = None\n",
    "\n",
    "    @property\n",
    "    def area(self):\n",
    "        if self._area is None:\n",
    "            print('Calculating area...')\n",
    "            self._area = math.pi * self.radius ** 2\n",
    "        return self._area"
   ]
  },
  {
   "cell_type": "code",
   "execution_count": null,
   "metadata": {
    "collapsed": true,
    "id": "0085Ev9SuFO4"
   },
   "outputs": [],
   "source": [
    "c = Circle(1)"
   ]
  },
  {
   "cell_type": "code",
   "execution_count": null,
   "metadata": {
    "id": "l_FkKo8TuFO4",
    "outputId": "6149b998-c96d-41a3-fc93-af06a68d1b5e"
   },
   "outputs": [
    {
     "name": "stdout",
     "output_type": "stream",
     "text": [
      "Calculating area...\n"
     ]
    },
    {
     "data": {
      "text/plain": [
       "3.141592653589793"
      ]
     },
     "execution_count": 13,
     "metadata": {},
     "output_type": "execute_result"
    }
   ],
   "source": [
    "c.area"
   ]
  },
  {
   "cell_type": "code",
   "execution_count": null,
   "metadata": {
    "id": "j4UyMMd4uFO4",
    "outputId": "4cc5691a-2d60-4520-bace-8c5ec286b10f"
   },
   "outputs": [
    {
     "data": {
      "text/plain": [
       "3.141592653589793"
      ]
     },
     "execution_count": 14,
     "metadata": {},
     "output_type": "execute_result"
    }
   ],
   "source": [
    "c.area"
   ]
  },
  {
   "cell_type": "code",
   "execution_count": null,
   "metadata": {
    "collapsed": true,
    "id": "jNp2iZYDuFO_"
   },
   "outputs": [],
   "source": [
    "c.radius = 2"
   ]
  },
  {
   "cell_type": "code",
   "execution_count": null,
   "metadata": {
    "id": "PAu5hU7duFPA",
    "outputId": "7e71f7d7-8b91-482a-9783-7100912e8229"
   },
   "outputs": [
    {
     "name": "stdout",
     "output_type": "stream",
     "text": [
      "Calculating area...\n"
     ]
    },
    {
     "data": {
      "text/plain": [
       "12.566370614359172"
      ]
     },
     "execution_count": 16,
     "metadata": {},
     "output_type": "execute_result"
    }
   ],
   "source": [
    "c.area"
   ]
  },
  {
   "cell_type": "markdown",
   "metadata": {
    "id": "2oMQmP9muFPA"
   },
   "source": [
    "This is an example of lazy evaluation. We don't actually calculate and store an attribute of the class until it is actually needed."
   ]
  },
  {
   "cell_type": "markdown",
   "metadata": {
    "id": "JpdXgB2ruFPB"
   },
   "source": [
    "We can sometimes do something similar with iterables - we don't actually have to store every item of the collection - we may be able to just calculate the item as needed."
   ]
  },
  {
   "cell_type": "markdown",
   "metadata": {
    "id": "HWNqfJ1fuFPB"
   },
   "source": [
    "In the following example we'll create an iterable of factorials of integers starting at `0`, i.e.\n",
    "\n",
    "`0!, 1!, 2!, 3!, ..., n!`"
   ]
  },
  {
   "cell_type": "code",
   "execution_count": null,
   "metadata": {
    "collapsed": true,
    "id": "IsDWSqETuFPC"
   },
   "outputs": [],
   "source": [
    "class Factorials:\n",
    "    def __init__(self, length):\n",
    "        self.length = length\n",
    "    \n",
    "    def __iter__(self):\n",
    "        return self.FactIter(self.length)\n",
    "    \n",
    "    class FactIter:\n",
    "        def __init__(self, length):\n",
    "            self.length = length\n",
    "            self.i = 0\n",
    "            \n",
    "        def __iter__(self):\n",
    "            return self\n",
    "        \n",
    "        def __next__(self):\n",
    "            if self.i >= self.length:\n",
    "                raise StopIteration\n",
    "            else:\n",
    "                result = math.factorial(self.i)\n",
    "                self.i += 1\n",
    "                return result\n",
    "            "
   ]
  },
  {
   "cell_type": "code",
   "execution_count": null,
   "metadata": {
    "collapsed": true,
    "id": "F5VuRSOvuFPC"
   },
   "outputs": [],
   "source": [
    "facts = Factorials(5)"
   ]
  },
  {
   "cell_type": "code",
   "execution_count": null,
   "metadata": {
    "id": "Iab-GcH4uFPC",
    "outputId": "ce531ae1-6bbe-462c-9891-17542e60673e"
   },
   "outputs": [
    {
     "data": {
      "text/plain": [
       "[1, 1, 2, 6, 24]"
      ]
     },
     "execution_count": 20,
     "metadata": {},
     "output_type": "execute_result"
    }
   ],
   "source": [
    "list(facts)"
   ]
  },
  {
   "cell_type": "markdown",
   "metadata": {
    "id": "eRhsUaSTuFPC"
   },
   "source": [
    "So as you can see, we do not store the values of the iterable, instead we just calculate the items as needed.\n",
    "\n",
    "In fact, now that we have this iterable, we don't even need it to be finite:"
   ]
  },
  {
   "cell_type": "code",
   "execution_count": null,
   "metadata": {
    "collapsed": true,
    "id": "FUp4enVTuFPD"
   },
   "outputs": [],
   "source": [
    "class Factorials:\n",
    "    def __iter__(self):\n",
    "        return self.FactIter()\n",
    "    \n",
    "    class FactIter:\n",
    "        def __init__(self):\n",
    "            self.i = 0\n",
    "            \n",
    "        def __iter__(self):\n",
    "            return self\n",
    "        \n",
    "        def __next__(self):\n",
    "            result = math.factorial(self.i)\n",
    "            self.i += 1\n",
    "            return result"
   ]
  },
  {
   "cell_type": "code",
   "execution_count": null,
   "metadata": {
    "id": "GF-YAbhxuFPI",
    "outputId": "34a0f822-d75d-4726-f768-8300cb55c10d"
   },
   "outputs": [
    {
     "name": "stdout",
     "output_type": "stream",
     "text": [
      "1\n",
      "1\n",
      "2\n",
      "6\n",
      "24\n",
      "120\n",
      "720\n",
      "5040\n",
      "40320\n",
      "362880\n"
     ]
    }
   ],
   "source": [
    "factorials = Factorials()\n",
    "fact_iter = iter(factorials)\n",
    "\n",
    "for _ in range(10):\n",
    "    print(next(fact_iter))"
   ]
  },
  {
   "cell_type": "markdown",
   "metadata": {
    "id": "57_5vdBNuFPI"
   },
   "source": [
    "You'll notice that the main part of the iterable code is in the iterator, and the iterable itself is nothing more than a thin shell that allows us to create and access the iterator. This is so common, that there is a better way of doing this that we'll see when we deal with generators."
   ]
  }
 ],
 "metadata": {
  "kernelspec": {
   "display_name": "Python 3",
   "language": "python",
   "name": "python3"
  },
  "language_info": {
   "codemirror_mode": {
    "name": "ipython",
    "version": 3
   },
   "file_extension": ".py",
   "mimetype": "text/x-python",
   "name": "python",
   "nbconvert_exporter": "python",
   "pygments_lexer": "ipython3",
   "version": "3.6.2"
  },
  "colab": {
   "provenance": []
  }
 },
 "nbformat": 4,
 "nbformat_minor": 0
}

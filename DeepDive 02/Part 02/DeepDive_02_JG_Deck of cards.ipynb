{
 "cells": [
  {
   "cell_type": "code",
   "execution_count": 9,
   "metadata": {
    "collapsed": true
   },
   "outputs": [],
   "source": [
    "_SUITS = ('Hears', 'Spades', 'Diamonds', 'Clubs')\n",
    "_RANKS = (2, 3, 4, 5, 6, 7, 8, 9, 10, 'J', 'Q', 'K', 'A')"
   ]
  },
  {
   "cell_type": "code",
   "execution_count": 10,
   "outputs": [],
   "source": [
    "from collections import namedtuple\n",
    "\n",
    "Card = namedtuple('Card', 'rank suit')"
   ],
   "metadata": {
    "collapsed": false
   }
  },
  {
   "cell_type": "code",
   "execution_count": 17,
   "outputs": [],
   "source": [
    "class CardDeck:\n",
    "\n",
    "    def __init__(self):\n",
    "        self.length = len(_SUITS) * len(_RANKS)\n",
    "\n",
    "    def __len__(self):\n",
    "        return self.length\n",
    "\n",
    "    def __iter__(self):\n",
    "        return self.CardDeckIterator(self.length)\n",
    "\n",
    "    class CardDeckIterator:\n",
    "\n",
    "        def __init__(self, length):\n",
    "            self.length = length\n",
    "            self.index = 0\n",
    "\n",
    "        def __iter__(self):\n",
    "            return self\n",
    "\n",
    "        def __next__(self):\n",
    "            if self.index >= self.length:\n",
    "                raise StopIteration\n",
    "            else:\n",
    "                # This is lazy evaluation\n",
    "                suit = _SUITS[self.index // len(_RANKS)]\n",
    "                rank = _RANKS[self.index % len(_RANKS)]\n",
    "                self.index += 1\n",
    "                return Card(rank, suit)\n"
   ],
   "metadata": {
    "collapsed": false
   }
  },
  {
   "cell_type": "code",
   "execution_count": 18,
   "outputs": [],
   "source": [
    "deck = CardDeck()"
   ],
   "metadata": {
    "collapsed": false
   }
  },
  {
   "cell_type": "code",
   "execution_count": 19,
   "outputs": [
    {
     "name": "stdout",
     "output_type": "stream",
     "text": [
      "Card(rank=2, suit='Spades')\n",
      "Card(rank=3, suit='Spades')\n",
      "Card(rank=4, suit='Spades')\n",
      "Card(rank=5, suit='Spades')\n",
      "Card(rank=6, suit='Spades')\n",
      "Card(rank=7, suit='Spades')\n",
      "Card(rank=8, suit='Spades')\n",
      "Card(rank=9, suit='Spades')\n",
      "Card(rank=10, suit='Spades')\n",
      "Card(rank='J', suit='Spades')\n",
      "Card(rank='Q', suit='Spades')\n",
      "Card(rank='K', suit='Spades')\n",
      "Card(rank='A', suit='Spades')\n",
      "Card(rank=2, suit='Hearts')\n",
      "Card(rank=3, suit='Hearts')\n",
      "Card(rank=4, suit='Hearts')\n",
      "Card(rank=5, suit='Hearts')\n",
      "Card(rank=6, suit='Hearts')\n",
      "Card(rank=7, suit='Hearts')\n",
      "Card(rank=8, suit='Hearts')\n",
      "Card(rank=9, suit='Hearts')\n",
      "Card(rank=10, suit='Hearts')\n",
      "Card(rank='J', suit='Hearts')\n",
      "Card(rank='Q', suit='Hearts')\n",
      "Card(rank='K', suit='Hearts')\n",
      "Card(rank='A', suit='Hearts')\n",
      "Card(rank=2, suit='Diamonds')\n",
      "Card(rank=3, suit='Diamonds')\n",
      "Card(rank=4, suit='Diamonds')\n",
      "Card(rank=5, suit='Diamonds')\n",
      "Card(rank=6, suit='Diamonds')\n",
      "Card(rank=7, suit='Diamonds')\n",
      "Card(rank=8, suit='Diamonds')\n",
      "Card(rank=9, suit='Diamonds')\n",
      "Card(rank=10, suit='Diamonds')\n",
      "Card(rank='J', suit='Diamonds')\n",
      "Card(rank='Q', suit='Diamonds')\n",
      "Card(rank='K', suit='Diamonds')\n",
      "Card(rank='A', suit='Diamonds')\n",
      "Card(rank=2, suit='Clubs')\n",
      "Card(rank=3, suit='Clubs')\n",
      "Card(rank=4, suit='Clubs')\n",
      "Card(rank=5, suit='Clubs')\n",
      "Card(rank=6, suit='Clubs')\n",
      "Card(rank=7, suit='Clubs')\n",
      "Card(rank=8, suit='Clubs')\n",
      "Card(rank=9, suit='Clubs')\n",
      "Card(rank=10, suit='Clubs')\n",
      "Card(rank='J', suit='Clubs')\n",
      "Card(rank='Q', suit='Clubs')\n",
      "Card(rank='K', suit='Clubs')\n",
      "Card(rank='A', suit='Clubs')\n"
     ]
    }
   ],
   "source": [
    "for card in deck:\n",
    "    print(card)"
   ],
   "metadata": {
    "collapsed": false
   }
  },
  {
   "cell_type": "code",
   "execution_count": 37,
   "outputs": [
    {
     "name": "stdout",
     "output_type": "stream",
     "text": [
      "[Card(rank=7, suit='Clubs'), Card(rank=8, suit='Clubs'), Card(rank=9, suit='Clubs'), Card(rank=10, suit='Clubs'), Card(rank='J', suit='Clubs'), Card(rank='Q', suit='Clubs'), Card(rank='K', suit='Clubs')]\n"
     ]
    }
   ],
   "source": [
    "last = list(CardDeck())[-8:-1]\n",
    "print(last)"
   ],
   "metadata": {
    "collapsed": false
   }
  },
  {
   "cell_type": "code",
   "execution_count": 39,
   "outputs": [
    {
     "data": {
      "text/plain": "[Card(rank='K', suit='Clubs'),\n Card(rank='Q', suit='Clubs'),\n Card(rank='J', suit='Clubs'),\n Card(rank=10, suit='Clubs'),\n Card(rank=9, suit='Clubs'),\n Card(rank=8, suit='Clubs'),\n Card(rank=7, suit='Clubs')]"
     },
     "execution_count": 39,
     "metadata": {},
     "output_type": "execute_result"
    }
   ],
   "source": [
    "list(reversed(last))"
   ],
   "metadata": {
    "collapsed": false
   }
  },
  {
   "cell_type": "code",
   "execution_count": 41,
   "outputs": [],
   "source": [
    "tem = list(CardDeck())[:-8:-1]"
   ],
   "metadata": {
    "collapsed": false
   }
  },
  {
   "cell_type": "code",
   "execution_count": 42,
   "outputs": [
    {
     "name": "stdout",
     "output_type": "stream",
     "text": [
      "[Card(rank='A', suit='Clubs'), Card(rank='K', suit='Clubs'), Card(rank='Q', suit='Clubs'), Card(rank='J', suit='Clubs'), Card(rank=10, suit='Clubs'), Card(rank=9, suit='Clubs'), Card(rank=8, suit='Clubs')]\n"
     ]
    }
   ],
   "source": [
    "print(tem)"
   ],
   "metadata": {
    "collapsed": false
   }
  },
  {
   "cell_type": "code",
   "execution_count": 43,
   "outputs": [],
   "source": [
    "class CardDeck:\n",
    "\n",
    "    def __init__(self):\n",
    "        self.length = len(_SUITS) * len(_RANKS)\n",
    "\n",
    "    def __len__(self):\n",
    "        return self.length\n",
    "\n",
    "    def __iter__(self):\n",
    "        return self.CardDeckIterator(self.length)\n",
    "\n",
    "    def __reversed__(self):\n",
    "        return self.CardDeckIterator(self.length, reverse=True)\n",
    "\n",
    "\n",
    "    class CardDeckIterator:\n",
    "\n",
    "        def __init__(self, length, reverse=False):\n",
    "            self.length = length\n",
    "            self.index = 0\n",
    "            self.reverse=reverse\n",
    "\n",
    "        def __iter__(self):\n",
    "            return self\n",
    "\n",
    "        def __next__(self):\n",
    "            if self.index >= self.length:\n",
    "                raise StopIteration\n",
    "            else:\n",
    "                if self.reverse:\n",
    "                    index = self.length -1 -self.index\n",
    "                    # if self.index = 0, index = 52\n",
    "                    #if self.index = 1, index = 51\n",
    "\n",
    "                else:\n",
    "                    index = self.index\n",
    "                    # This is lazy evaluation\n",
    "                suit = _SUITS[index // len(_RANKS)]\n",
    "                rank = _RANKS[index % len(_RANKS)]\n",
    "                self.index += 1\n",
    "                return Card(rank, suit)"
   ],
   "metadata": {
    "collapsed": false
   }
  },
  {
   "cell_type": "code",
   "execution_count": 44,
   "outputs": [],
   "source": [
    "deck = reversed(CardDeck())"
   ],
   "metadata": {
    "collapsed": false
   }
  },
  {
   "cell_type": "code",
   "execution_count": 45,
   "outputs": [
    {
     "name": "stdout",
     "output_type": "stream",
     "text": [
      "Card(rank='A', suit='Clubs')\n",
      "Card(rank='K', suit='Clubs')\n",
      "Card(rank='Q', suit='Clubs')\n",
      "Card(rank='J', suit='Clubs')\n",
      "Card(rank=10, suit='Clubs')\n",
      "Card(rank=9, suit='Clubs')\n",
      "Card(rank=8, suit='Clubs')\n",
      "Card(rank=7, suit='Clubs')\n",
      "Card(rank=6, suit='Clubs')\n",
      "Card(rank=5, suit='Clubs')\n",
      "Card(rank=4, suit='Clubs')\n",
      "Card(rank=3, suit='Clubs')\n",
      "Card(rank=2, suit='Clubs')\n",
      "Card(rank='A', suit='Diamonds')\n",
      "Card(rank='K', suit='Diamonds')\n",
      "Card(rank='Q', suit='Diamonds')\n",
      "Card(rank='J', suit='Diamonds')\n",
      "Card(rank=10, suit='Diamonds')\n",
      "Card(rank=9, suit='Diamonds')\n",
      "Card(rank=8, suit='Diamonds')\n",
      "Card(rank=7, suit='Diamonds')\n",
      "Card(rank=6, suit='Diamonds')\n",
      "Card(rank=5, suit='Diamonds')\n",
      "Card(rank=4, suit='Diamonds')\n",
      "Card(rank=3, suit='Diamonds')\n",
      "Card(rank=2, suit='Diamonds')\n",
      "Card(rank='A', suit='Hearts')\n",
      "Card(rank='K', suit='Hearts')\n",
      "Card(rank='Q', suit='Hearts')\n",
      "Card(rank='J', suit='Hearts')\n",
      "Card(rank=10, suit='Hearts')\n",
      "Card(rank=9, suit='Hearts')\n",
      "Card(rank=8, suit='Hearts')\n",
      "Card(rank=7, suit='Hearts')\n",
      "Card(rank=6, suit='Hearts')\n",
      "Card(rank=5, suit='Hearts')\n",
      "Card(rank=4, suit='Hearts')\n",
      "Card(rank=3, suit='Hearts')\n",
      "Card(rank=2, suit='Hearts')\n",
      "Card(rank='A', suit='Spades')\n",
      "Card(rank='K', suit='Spades')\n",
      "Card(rank='Q', suit='Spades')\n",
      "Card(rank='J', suit='Spades')\n",
      "Card(rank=10, suit='Spades')\n",
      "Card(rank=9, suit='Spades')\n",
      "Card(rank=8, suit='Spades')\n",
      "Card(rank=7, suit='Spades')\n",
      "Card(rank=6, suit='Spades')\n",
      "Card(rank=5, suit='Spades')\n",
      "Card(rank=4, suit='Spades')\n",
      "Card(rank=3, suit='Spades')\n",
      "Card(rank=2, suit='Spades')\n"
     ]
    }
   ],
   "source": [
    "for card in deck:\n",
    "    print(card)"
   ],
   "metadata": {
    "collapsed": false
   }
  },
  {
   "cell_type": "markdown",
   "source": [
    "Sequences"
   ],
   "metadata": {
    "collapsed": false
   }
  },
  {
   "cell_type": "code",
   "execution_count": null,
   "outputs": [],
   "source": [],
   "metadata": {
    "collapsed": false
   }
  }
 ],
 "metadata": {
  "kernelspec": {
   "display_name": "Python 3",
   "language": "python",
   "name": "python3"
  },
  "language_info": {
   "codemirror_mode": {
    "name": "ipython",
    "version": 2
   },
   "file_extension": ".py",
   "mimetype": "text/x-python",
   "name": "python",
   "nbconvert_exporter": "python",
   "pygments_lexer": "ipython2",
   "version": "2.7.6"
  }
 },
 "nbformat": 4,
 "nbformat_minor": 0
}

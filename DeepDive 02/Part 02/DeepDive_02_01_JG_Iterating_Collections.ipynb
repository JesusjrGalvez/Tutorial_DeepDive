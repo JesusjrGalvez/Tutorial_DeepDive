{
  "cells": [
    {
      "cell_type": "markdown",
      "metadata": {
        "id": "view-in-github",
        "colab_type": "text"
      },
      "source": [
        "<a href=\"https://colab.research.google.com/github/JesusjrGalvez/Tutorial_DeepDive/blob/main/DeepDive_02_01_JG_Iterating_Collections.ipynb\" target=\"_parent\"><img src=\"https://colab.research.google.com/assets/colab-badge.svg\" alt=\"Open In Colab\"/></a>"
      ]
    },
    {
      "cell_type": "code",
      "execution_count": null,
      "metadata": {
        "colab": {
          "background_save": true,
          "base_uri": "https://localhost:8080/"
        },
        "id": "hUXoZP5q6FqU",
        "outputId": "c5060071-5b77-4fc3-d34e-f9e923462e9d"
      },
      "outputs": [
        {
          "name": "stdout",
          "output_type": "stream",
          "text": [
            "False\n",
            "1\n",
            "a\n",
            "c\n"
          ]
        }
      ],
      "source": [
        "s = {1, 'a', 'c', False}\n",
        "for i in s:\n",
        "    print(i)"
      ]
    },
    {
      "cell_type": "code",
      "execution_count": null,
      "metadata": {
        "colab": {
          "background_save": true,
          "base_uri": "https://localhost:8080/",
          "height": 169
        },
        "id": "RK0bVtgr8922",
        "outputId": "258571fb-66dd-4ef4-dead-b3870885e588"
      },
      "outputs": [
        {
          "ename": "TypeError",
          "evalue": "ignored",
          "output_type": "error",
          "traceback": [
            "\u001b[0;31m---------------------------------------------------------------------------\u001b[0m",
            "\u001b[0;31mTypeError\u001b[0m                                 Traceback (most recent call last)",
            "\u001b[0;32m<ipython-input-87-c9c96910e542>\u001b[0m in \u001b[0;36m<module>\u001b[0;34m\u001b[0m\n\u001b[0;32m----> 1\u001b[0;31m \u001b[0ms\u001b[0m\u001b[0;34m[\u001b[0m\u001b[0;36m0\u001b[0m\u001b[0;34m]\u001b[0m\u001b[0;34m\u001b[0m\u001b[0;34m\u001b[0m\u001b[0m\n\u001b[0m",
            "\u001b[0;31mTypeError\u001b[0m: 'set' object is not subscriptable"
          ]
        }
      ],
      "source": [
        "s[0]"
      ]
    },
    {
      "cell_type": "code",
      "execution_count": null,
      "metadata": {
        "colab": {
          "background_save": true
        },
        "id": "PEr5yQZt8_RW"
      },
      "outputs": [],
      "source": [
        "class Squares:\n",
        "\n",
        "    def __init__(self, l):\n",
        "        self.length = l\n",
        "        self.c = 0\n",
        "\n",
        "    def __len__(self):\n",
        "        return len(self.length)\n",
        "\n",
        "    def __next__(self):\n",
        "        self.c += 1\n",
        "        if self.c >= self.length:\n",
        "            raise StopIteration\n",
        "        else:\n",
        "            return self.c**2\n"
      ]
    },
    {
      "cell_type": "code",
      "execution_count": null,
      "metadata": {
        "colab": {
          "background_save": true
        },
        "id": "5b52gZ_--QFl"
      },
      "outputs": [],
      "source": [
        "sq = Squares(5)\n",
        "for i in range(4):\n",
        "    print(next(sq))"
      ]
    },
    {
      "cell_type": "code",
      "execution_count": null,
      "metadata": {
        "colab": {
          "background_save": true
        },
        "id": "mjHsmAlm-eOM"
      },
      "outputs": [],
      "source": [
        "sq = Squares(5)\n",
        "while True:\n",
        "    try:\n",
        "        print(next(sq))\n",
        "    except StopIteration:\n",
        "        break"
      ]
    },
    {
      "cell_type": "code",
      "execution_count": null,
      "metadata": {
        "colab": {
          "background_save": true
        },
        "id": "TKWBt-fy-xbH"
      },
      "outputs": [],
      "source": [
        "sq.next_()"
      ]
    },
    {
      "cell_type": "code",
      "execution_count": null,
      "metadata": {
        "colab": {
          "background_save": true
        },
        "id": "qIgXO3o9-zhu"
      },
      "outputs": [],
      "source": [
        "sq.next_()"
      ]
    },
    {
      "cell_type": "code",
      "execution_count": null,
      "metadata": {
        "colab": {
          "background_save": true
        },
        "id": "8ZnW76F4_O4f"
      },
      "outputs": [],
      "source": [
        "sq.next_()"
      ]
    },
    {
      "cell_type": "code",
      "execution_count": null,
      "metadata": {
        "colab": {
          "background_save": true
        },
        "id": "QIDZlhPlCPxI"
      },
      "outputs": [],
      "source": [
        "import random\n",
        "\n",
        "class RandomNumbers: # This class is an infinite iterator\n",
        "\n",
        "    def __init__(self, length, *, range_min=0, range_max=10):\n",
        "        self.length = length\n",
        "        self.range_min = range_min\n",
        "        self.range_max = range_max\n",
        "        self.counter = 0\n",
        "\n",
        "    def __len__(self):\n",
        "        return len(self.length)\n",
        "\n",
        "    def __next__(self):\n",
        "        return random.randint(self.range_min, self.range_max)\n",
        "\n",
        "print(random.randint(0, 10))\n"
      ]
    },
    {
      "cell_type": "code",
      "execution_count": null,
      "metadata": {
        "colab": {
          "background_save": true
        },
        "id": "KaGWmCOEC4f1"
      },
      "outputs": [],
      "source": [
        "r=RandomNumbers(10, range_min=0, range_max=10)\n",
        "\n",
        "for i in range(10):\n",
        "    print(next(r))\n"
      ]
    },
    {
      "cell_type": "code",
      "execution_count": null,
      "metadata": {
        "colab": {
          "base_uri": "https://localhost:8080/"
        },
        "id": "KtRnCZkCDf1f",
        "outputId": "b6a44fbf-37a5-49d7-df26-766619e4c23b"
      },
      "outputs": [
        {
          "name": "stdout",
          "output_type": "stream",
          "text": [
            "3\n"
          ]
        }
      ],
      "source": [
        "import random\n",
        "\n",
        "class RandomNumbers: # This class is an finite iterator\n",
        "\n",
        "    def __init__(self, length, *, range_min=0, range_max=10):\n",
        "        self.length = length\n",
        "        self.range_min = range_min\n",
        "        self.range_max = range_max\n",
        "        self.counter = -1\n",
        "\n",
        "    def __len__(self):\n",
        "        return len(self.length)\n",
        "\n",
        "    def __next__(self):\n",
        "        self.counter += 1\n",
        "        if self.counter >= self.length:\n",
        "            raise StopIteration\n",
        "        else:\n",
        "            return random.randint(self.range_min, self.range_max)\n",
        "\n",
        "print(random.randint(0, 10))"
      ]
    },
    {
      "cell_type": "code",
      "execution_count": null,
      "metadata": {
        "id": "sBot8k8vEL-t"
      },
      "outputs": [],
      "source": [
        "r=RandomNumbers(5, range_min=0, range_max=10)\n",
        "\n",
        "for i in range(10):\n",
        "    print(next(r))\n"
      ]
    },
    {
      "cell_type": "markdown",
      "metadata": {
        "id": "JgJ7CXlvJAOq"
      },
      "source": [
        "### Defining Iterators"
      ]
    },
    {
      "cell_type": "code",
      "execution_count": null,
      "metadata": {
        "id": "FYcPVGOAGJ0C"
      },
      "outputs": [],
      "source": [
        "class Squares:\n",
        "\n",
        "    def __init__(self, l):\n",
        "        self.length = l\n",
        "        self.c = 0\n",
        "\n",
        "    def __len__(self):\n",
        "        return len(self.length)\n",
        "\n",
        "    def __next__(self):\n",
        "        self.c += 1\n",
        "        if self.c >= self.length:\n",
        "            raise StopIteration\n",
        "        else:\n",
        "            return self.c**2\n",
        "\n",
        "    def __iter__(self):\n",
        "        return self\n"
      ]
    },
    {
      "cell_type": "code",
      "execution_count": null,
      "metadata": {
        "id": "GNFrJBPsI4_i"
      },
      "outputs": [],
      "source": [
        "squares = Squares(10)"
      ]
    },
    {
      "cell_type": "code",
      "execution_count": null,
      "metadata": {
        "id": "bHRiAV02I7qa"
      },
      "outputs": [],
      "source": [
        "for i in squares:\n",
        "    print(i)"
      ]
    },
    {
      "cell_type": "code",
      "execution_count": null,
      "metadata": {
        "id": "uCcpjkegJRdR"
      },
      "outputs": [],
      "source": [
        "import math\n",
        "\n",
        "squares = Squares(10)\n",
        "\n",
        "[math.sqrt(i) for i in squares]"
      ]
    },
    {
      "cell_type": "markdown",
      "metadata": {
        "id": "8TxxP0UfioNk"
      },
      "source": [
        "### Iterators part 2"
      ]
    },
    {
      "cell_type": "code",
      "execution_count": 89,
      "metadata": {
        "colab": {
          "base_uri": "https://localhost:8080/",
          "height": 240
        },
        "id": "W0WVFIwJJevk",
        "outputId": "66781323-9754-4605-b529-1844436f96ed"
      },
      "outputs": [
        {
          "output_type": "error",
          "ename": "AttributeError",
          "evalue": "ignored",
          "traceback": [
            "\u001b[0;31m---------------------------------------------------------------------------\u001b[0m",
            "\u001b[0;31mAttributeError\u001b[0m                            Traceback (most recent call last)",
            "\u001b[0;32m<ipython-input-89-5811aacb13ae>\u001b[0m in \u001b[0;36m<module>\u001b[0;34m\u001b[0m\n\u001b[1;32m     21\u001b[0m \u001b[0;34m\u001b[0m\u001b[0m\n\u001b[1;32m     22\u001b[0m \u001b[0mmycity\u001b[0m \u001b[0;34m=\u001b[0m \u001b[0mCities\u001b[0m\u001b[0;34m(\u001b[0m\u001b[0;34m)\u001b[0m\u001b[0;34m\u001b[0m\u001b[0;34m\u001b[0m\u001b[0m\n\u001b[0;32m---> 23\u001b[0;31m \u001b[0mmycity\u001b[0m\u001b[0;34m.\u001b[0m\u001b[0mlength\u001b[0m\u001b[0;34m\u001b[0m\u001b[0;34m\u001b[0m\u001b[0m\n\u001b[0m\u001b[1;32m     24\u001b[0m \u001b[0;31m#for city in cities:\u001b[0m\u001b[0;34m\u001b[0m\u001b[0;34m\u001b[0m\u001b[0;34m\u001b[0m\u001b[0m\n\u001b[1;32m     25\u001b[0m     \u001b[0;31m#print(city)\u001b[0m\u001b[0;34m\u001b[0m\u001b[0;34m\u001b[0m\u001b[0;34m\u001b[0m\u001b[0m\n",
            "\u001b[0;31mAttributeError\u001b[0m: 'Cities' object has no attribute 'length'"
          ]
        }
      ],
      "source": [
        "class Cities:\n",
        "\n",
        "    def __init__(self):\n",
        "        cities = ['Madrid', 'Paris', 'Berlin', 'London', 'Rome']\n",
        "        self.index = -1\n",
        "        #self.length = len(self.cities)\n",
        "\n",
        "    def __iter__(self):#\n",
        "        return self\n",
        "\n",
        "    @property\n",
        "    def __len__(self):\n",
        "        self.length = len(self.cities)\n",
        "\n",
        "    def __next__(self):\n",
        "        self.index += 1\n",
        "        if self.index >= self.length:\n",
        "            raise StopIteration  \n",
        "        else:\n",
        "            next(self.cities())\n",
        "            \n",
        "mycity = Cities()\n",
        "mycity.length\n",
        "#for city in cities:\n",
        "    #print(city)"
      ]
    },
    {
      "cell_type": "code",
      "source": [
        "class Cities:\n",
        "\n",
        "    def __init__(self):\n",
        "        self.cities = ['Madrid', 'Paris', 'Berlin', 'London', 'Rome']\n",
        "        self.index = -1\n",
        "\n",
        "    def __iter__(self):#\n",
        "        return self\n",
        "\n",
        "    def __next__(self):\n",
        "        self.index += 1\n",
        "        if self.index >= len(self.cities):\n",
        "            raise StopIteration  \n",
        "        else:\n",
        "            item = self.cities[self.index]\n",
        "            return item\n",
        "\n",
        "mycities = Cities() \n",
        "list(enumerate(mycities))"
      ],
      "metadata": {
        "id": "680Bz6TcmGhk",
        "outputId": "5e98a4c2-5ea4-43ec-e3d3-cc09da54d787",
        "colab": {
          "base_uri": "https://localhost:8080/"
        }
      },
      "execution_count": 106,
      "outputs": [
        {
          "output_type": "execute_result",
          "data": {
            "text/plain": [
              "[(0, 'Madrid'), (1, 'Paris'), (2, 'Berlin'), (3, 'London'), (4, 'Rome')]"
            ]
          },
          "metadata": {},
          "execution_count": 106
        }
      ]
    },
    {
      "cell_type": "code",
      "source": [
        "class Cities:\n",
        "    def __init__(self):\n",
        "        self._cities = ['Paris', 'Berlin', 'Rome', 'Madrid', 'London']\n",
        "        self._index = 0\n",
        "    \n",
        "    def __iter__(self):\n",
        "        return self\n",
        "    \n",
        "    def __next__(self):\n",
        "        if self._index >= len(self._cities):\n",
        "            raise StopIteration\n",
        "        else:\n",
        "            item = self._cities[self._index]\n",
        "            self._index += 1\n",
        "            return item\n",
        "\n",
        "mycities = Cities()\n",
        "list(enumerate(mycities))\n",
        "list(enumerate(mycities))"
      ],
      "metadata": {
        "id": "XUKeJpawnDXo",
        "outputId": "e1a55c8e-ae7f-46b2-8f38-0d4aac2a56c3",
        "colab": {
          "base_uri": "https://localhost:8080/"
        }
      },
      "execution_count": 107,
      "outputs": [
        {
          "output_type": "execute_result",
          "data": {
            "text/plain": [
              "[]"
            ]
          },
          "metadata": {},
          "execution_count": 107
        }
      ]
    },
    {
      "cell_type": "code",
      "source": [
        "mycity = Cities()\n",
        "next(mycity)"
      ],
      "metadata": {
        "id": "MEQ9nvk3oVSJ",
        "outputId": "df612907-8253-4d24-c7ba-5e6c4d872374",
        "colab": {
          "base_uri": "https://localhost:8080/",
          "height": 35
        }
      },
      "execution_count": 111,
      "outputs": [
        {
          "output_type": "execute_result",
          "data": {
            "text/plain": [
              "'Paris'"
            ],
            "application/vnd.google.colaboratory.intrinsic+json": {
              "type": "string"
            }
          },
          "metadata": {},
          "execution_count": 111
        }
      ]
    },
    {
      "cell_type": "code",
      "source": [
        "next(mycity)"
      ],
      "metadata": {
        "id": "DPtkFRjmoXkp",
        "outputId": "8692a46c-b248-441f-9ef9-d2c02efe2a84",
        "colab": {
          "base_uri": "https://localhost:8080/",
          "height": 35
        }
      },
      "execution_count": 112,
      "outputs": [
        {
          "output_type": "execute_result",
          "data": {
            "text/plain": [
              "'Berlin'"
            ],
            "application/vnd.google.colaboratory.intrinsic+json": {
              "type": "string"
            }
          },
          "metadata": {},
          "execution_count": 112
        }
      ]
    },
    {
      "cell_type": "code",
      "source": [
        "class Cities:\n",
        "\n",
        "    def __init__(self):\n",
        "        self.cities = ['Madrid', 'Paris', 'Berlin', 'London', 'Rome']\n",
        "        self.index = -1\n",
        "\n",
        "    def __iter__(self):#\n",
        "        return self\n",
        "\n",
        "    def __len__(self):\n",
        "        #self.length = len(self.cities()) #OJO esto esta mal\n",
        "        return len(self.cities)\n",
        "\n",
        "    def __next__(self):\n",
        "        self.index += 1\n",
        "        if self.index >= len(self.cities):\n",
        "            raise StopIteration  \n",
        "        else:\n",
        "            #next(self.cities)\n",
        "            return self.cities[self.index]\n",
        "            \n",
        "mycity = Cities()\n",
        "#mycity.length # OJO esto esta mal\n",
        "len(mycity)\n",
        "for city in mycity:\n",
        "    print(city)"
      ],
      "metadata": {
        "id": "xPWlIBw8opwY",
        "outputId": "0b8b6e21-3b70-40fc-e144-2d31c8419f3d",
        "colab": {
          "base_uri": "https://localhost:8080/"
        }
      },
      "execution_count": 125,
      "outputs": [
        {
          "output_type": "stream",
          "name": "stdout",
          "text": [
            "Madrid\n",
            "Paris\n",
            "Berlin\n",
            "London\n",
            "Rome\n"
          ]
        }
      ]
    },
    {
      "cell_type": "markdown",
      "source": [
        "### OJO esto es importante"
      ],
      "metadata": {
        "id": "r9sLfkpDrOpS"
      }
    },
    {
      "cell_type": "code",
      "source": [
        "class Cities:\n",
        "\n",
        "    def __init__(self):\n",
        "        self.cities = ['Madrid', 'Paris', 'Berlin', 'London', 'Rome']\n",
        "        self.index = -1\n",
        "\n",
        "    def __len__(self):\n",
        "        #self.length = len(self.cities()) #OJO esto esta mal\n",
        "        return len(self.cities)\n",
        "\n",
        "class CityIterator:\n",
        "\n",
        "    def __init__(self, city_obj):\n",
        "        self.city_obj = city_obj\n",
        "        self.index = -1\n",
        "\n",
        "    def __iter__(self):\n",
        "        return self\n",
        "\n",
        "    def __next__(self):\n",
        "        self.index += 1\n",
        "        if self.index >= len(self.city_obj):\n",
        "            raise StopIteration\n",
        "        else:\n",
        "            return self.city_obj.cities[self.index]\n",
        "\n",
        "\n",
        "cities = Cities()\n",
        "city_iterator = CityIterator(cities)\n",
        "for city in city_iterator:\n",
        "    print(city)"
      ],
      "metadata": {
        "id": "9kMc6iRjpJFE",
        "outputId": "fec80e09-4ced-40cc-85ed-cde191e93782",
        "colab": {
          "base_uri": "https://localhost:8080/"
        }
      },
      "execution_count": 129,
      "outputs": [
        {
          "output_type": "stream",
          "name": "stdout",
          "text": [
            "Madrid\n",
            "Paris\n",
            "Berlin\n",
            "London\n",
            "Rome\n"
          ]
        }
      ]
    },
    {
      "cell_type": "markdown",
      "source": [
        "Parte anterior mejorada HOW TO IMPLEMENT ITERATOR PROTOCOL"
      ],
      "metadata": {
        "id": "M8NQTW6Pr5ja"
      }
    },
    {
      "cell_type": "code",
      "source": [
        " class Cities:\n",
        "\n",
        "    def __init__(self):\n",
        "        self.cities = ['Madrid', 'Paris', 'Berlin', 'London', 'Rome']\n",
        "        self.index = -1\n",
        "\n",
        "    def __len__(self):\n",
        "        #self.length = len(self.cities()) #OJO esto esta mal\n",
        "        return len(self.cities)\n",
        "\n",
        "    def __iter__(self):\n",
        "        return CityIterator(self)\n",
        "\n",
        "class CityIterator:\n",
        "\n",
        "    def __init__(self, city_obj):\n",
        "        self.city_obj = city_obj\n",
        "        self.index = -1\n",
        "\n",
        "    def __iter__(self):\n",
        "        return self\n",
        "\n",
        "    def __next__(self):\n",
        "        self.index += 1\n",
        "        if self.index >= len(self.city_obj):\n",
        "            raise StopIteration\n",
        "        else:\n",
        "            return self.city_obj.cities[self.index]\n",
        "\n",
        "cities = Cities()\n",
        "for city in cities:\n",
        "    print(city)\n",
        "\n",
        "for city in cities:\n",
        "    print(city)\n",
        "    "
      ],
      "metadata": {
        "id": "5ejAYRqXrAJz",
        "outputId": "06a65807-e4ee-4d12-d2a8-d2f8145f1132",
        "colab": {
          "base_uri": "https://localhost:8080/"
        }
      },
      "execution_count": 131,
      "outputs": [
        {
          "output_type": "stream",
          "name": "stdout",
          "text": [
            "Madrid\n",
            "Paris\n",
            "Berlin\n",
            "London\n",
            "Rome\n",
            "Madrid\n",
            "Paris\n",
            "Berlin\n",
            "London\n",
            "Rome\n"
          ]
        }
      ]
    },
    {
      "cell_type": "code",
      "source": [
        "del CityIterator\n",
        "del Cities"
      ],
      "metadata": {
        "id": "M3sBbXqGsHw5"
      },
      "execution_count": 132,
      "outputs": []
    },
    {
      "cell_type": "markdown",
      "source": [
        "How to implement iterable protocol. Final version. "
      ],
      "metadata": {
        "id": "QL046KLkuHaY"
      }
    },
    {
      "cell_type": "code",
      "source": [
        "class Cities:\n",
        "\n",
        "    def __init__(self):\n",
        "        self.cities = ['Madrid', 'Paris', 'Berlin', 'London', 'Rome']\n",
        "        self.index = -1\n",
        "\n",
        "    def __len__(self):\n",
        "        return len(self.cities)\n",
        "\n",
        "    def __iter__(self):\n",
        "        return self.CityIterator(self)\n",
        "\n",
        "    class CityIterator:\n",
        "\n",
        "        def __init__(self, city_obj):\n",
        "            self.city_obj = city_obj\n",
        "            self.index = -1\n",
        "\n",
        "        def __iter__(self):\n",
        "            return self\n",
        "\n",
        "        def __next__(self):\n",
        "            self.index += 1\n",
        "            if self.index >= len(self.city_obj):\n",
        "                raise StopIteration\n",
        "            else:\n",
        "                return self.city_obj.cities[self.index]\n"
      ],
      "metadata": {
        "id": "vm-0cYFUtyJj"
      },
      "execution_count": null,
      "outputs": []
    }
  ],
  "metadata": {
    "colab": {
      "provenance": [],
      "authorship_tag": "ABX9TyMSFRDVzxPRJ/Da6ZnPljjW",
      "include_colab_link": true
    },
    "kernelspec": {
      "display_name": "Python 3",
      "name": "python3"
    },
    "language_info": {
      "name": "python"
    }
  },
  "nbformat": 4,
  "nbformat_minor": 0
}
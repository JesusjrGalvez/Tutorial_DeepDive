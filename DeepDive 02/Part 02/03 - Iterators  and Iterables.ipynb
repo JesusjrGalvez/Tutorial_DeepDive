{
 "cells": [
  {
   "cell_type": "markdown",
   "metadata": {
    "id": "8oziOvSunAEV"
   },
   "source": [
    "### Iterators and Iterables"
   ]
  },
  {
   "cell_type": "markdown",
   "metadata": {
    "id": "b2p7CkXjnAEa"
   },
   "source": [
    "Previously we saw that we could create **iterator** objects by simply implementing:\n",
    "\n",
    "* a `__next__` method that returns the next element in the container\n",
    "* an `__iter__` method that just returns the object itself (the iterator object)"
   ]
  },
  {
   "cell_type": "markdown",
   "metadata": {
    "id": "2vWBFzIMnAEb"
   },
   "source": [
    "Doing that we could use a `for` loop, list comprehensions, and in fact use that iterator object anywhere an iterable was expected (like `enumerate`, `sorted`, and so on)."
   ]
  },
  {
   "cell_type": "markdown",
   "metadata": {
    "id": "cZWfFf6vnAEc"
   },
   "source": [
    "However, we had two outstanding issues/questions:\n",
    "* when we looped over the iterator using a `for` loop (or a comprehension, or other functions that do some form of iteration), we saw that the `__iter__` was always called first.\n",
    "* the iterator gets exhausted after we have finished iterating it fully - which means we have to create a new iterator every time we want to use a new iteration over the collection - can we somehow avoid having to remember to do that every time?"
   ]
  },
  {
   "cell_type": "markdown",
   "metadata": {
    "id": "i-Q6XYCznAEc"
   },
   "source": [
    "The answer to both of these questions are related."
   ]
  },
  {
   "cell_type": "markdown",
   "metadata": {
    "id": "CgAlbPdVnAEd"
   },
   "source": [
    "Let's start by looking at how we might avoid having to create a new instance of the collection every time we want to iterate over it.\n",
    "\n",
    "After all, we don't need a new instance of the elements, just some kind of *resetting* of *current* item."
   ]
  },
  {
   "cell_type": "markdown",
   "metadata": {
    "id": "ZbF-tBBAnAEd"
   },
   "source": [
    "Let's start with a simple example that has those issues:"
   ]
  },
  {
   "cell_type": "code",
   "execution_count": 1,
   "metadata": {
    "collapsed": true,
    "id": "NP0fyCyDnAEe"
   },
   "outputs": [],
   "source": [
    "class Cities:\n",
    "    def __init__(self):\n",
    "        self._cities = ['Paris', 'Berlin', 'Rome', 'Madrid', 'London']\n",
    "        self._index = 0\n",
    "    \n",
    "    def __iter__(self):\n",
    "        return self\n",
    "    \n",
    "    def __next__(self):\n",
    "        if self._index >= len(self._cities):\n",
    "            raise StopIteration\n",
    "        else:\n",
    "            item = self._cities[self._index]\n",
    "            self._index += 1\n",
    "            return item"
   ]
  },
  {
   "cell_type": "markdown",
   "metadata": {
    "id": "g-NngdjDnAEg"
   },
   "source": [
    "Now, we have an **iterator** object, but we need to re-create it every time we want to start the iterations from the beginning:"
   ]
  },
  {
   "cell_type": "code",
   "execution_count": 2,
   "metadata": {
    "id": "MJyLSpxsnAEg",
    "outputId": "1fc3e80b-ef36-4663-f933-260b1ee50c77"
   },
   "outputs": [
    {
     "data": {
      "text/plain": "[(0, 'Paris'), (1, 'Berlin'), (2, 'Rome'), (3, 'Madrid'), (4, 'London')]"
     },
     "execution_count": 2,
     "metadata": {},
     "output_type": "execute_result"
    }
   ],
   "source": [
    "cities = Cities()\n",
    "list(enumerate(cities))"
   ]
  },
  {
   "cell_type": "code",
   "execution_count": 3,
   "metadata": {
    "id": "yX30M8t-nAEh",
    "outputId": "f6f5fba9-c8cd-453d-f534-b7afdbc47c1a"
   },
   "outputs": [
    {
     "data": {
      "text/plain": "['PARIS', 'BERLIN', 'ROME', 'MADRID', 'LONDON']"
     },
     "execution_count": 3,
     "metadata": {},
     "output_type": "execute_result"
    }
   ],
   "source": [
    "cities = Cities()\n",
    "[item.upper() for item in cities]"
   ]
  },
  {
   "cell_type": "code",
   "execution_count": 4,
   "metadata": {
    "id": "vL41WNqGnAEi",
    "outputId": "50fb61e4-10e9-483a-c4b7-42538b1562ab"
   },
   "outputs": [
    {
     "data": {
      "text/plain": "['Berlin', 'London', 'Madrid', 'Paris', 'Rome']"
     },
     "execution_count": 4,
     "metadata": {},
     "output_type": "execute_result"
    }
   ],
   "source": [
    "cities = Cities()\n",
    "sorted(cities)"
   ]
  },
  {
   "cell_type": "code",
   "execution_count": 5,
   "outputs": [
    {
     "data": {
      "text/plain": "[]"
     },
     "execution_count": 5,
     "metadata": {},
     "output_type": "execute_result"
    }
   ],
   "source": [
    "sorted(cities)"
   ],
   "metadata": {
    "collapsed": false
   }
  },
  {
   "cell_type": "markdown",
   "metadata": {
    "id": "-jT3lLL6nAEi"
   },
   "source": [
    "So, we basically have to \"restart\" an iterator by **creating a new one each time**."
   ]
  },
  {
   "cell_type": "markdown",
   "metadata": {
    "id": "RrMkT3pPnAEj"
   },
   "source": [
    "But in this case, we are also re-creating the underlying data every time - seems wasteful!"
   ]
  },
  {
   "cell_type": "markdown",
   "metadata": {
    "id": "2HakisVinAEj"
   },
   "source": [
    "Instead, maybe we can split the **iterator** part of our code from the **data** part of our code."
   ]
  },
  {
   "cell_type": "code",
   "execution_count": 6,
   "metadata": {
    "collapsed": true,
    "id": "TZ4gsSAQnAEj"
   },
   "outputs": [],
   "source": [
    "class Cities:\n",
    "    def __init__(self):\n",
    "        self._cities = ['New York', 'Newark', 'New Delhi', 'Newcastle']\n",
    "        \n",
    "    def __len__(self):\n",
    "        return len(self._cities)"
   ]
  },
  {
   "cell_type": "markdown",
   "metadata": {
    "id": "S6R0BSLznAEk"
   },
   "source": [
    "And let's create our iterator this way:"
   ]
  },
  {
   "cell_type": "code",
   "execution_count": 7,
   "metadata": {
    "collapsed": true,
    "id": "khHZG9yenAEk"
   },
   "outputs": [],
   "source": [
    "class CityIterator:\n",
    "    def __init__(self, city_obj):\n",
    "        # cities is an instance of Cities\n",
    "        self._city_obj = city_obj\n",
    "        self._index = 0\n",
    "        \n",
    "    def __iter__(self):\n",
    "        return self\n",
    "    \n",
    "    def __next__(self):\n",
    "        if self._index >= len(self._city_obj):\n",
    "            raise StopIteration\n",
    "        else:\n",
    "            item = self._city_obj._cities[self._index]\n",
    "            self._index += 1\n",
    "            return item"
   ]
  },
  {
   "cell_type": "markdown",
   "metadata": {
    "id": "kJ-FZ1TqnAEk"
   },
   "source": [
    "So now we can create our `Cities` instance **once**:"
   ]
  },
  {
   "cell_type": "code",
   "execution_count": 8,
   "metadata": {
    "collapsed": true,
    "id": "PtstpRUInAEl"
   },
   "outputs": [],
   "source": [
    "cities = Cities()"
   ]
  },
  {
   "cell_type": "markdown",
   "metadata": {
    "id": "MTqWTaiGnAEl"
   },
   "source": [
    "and create as many iterators as we want, but passing it the same `Cities` instance everyt time:"
   ]
  },
  {
   "cell_type": "code",
   "execution_count": 9,
   "metadata": {
    "collapsed": true,
    "id": "vNyngojqnAEl"
   },
   "outputs": [],
   "source": [
    "iter_1 = CityIterator(cities)"
   ]
  },
  {
   "cell_type": "code",
   "execution_count": 10,
   "metadata": {
    "id": "ejYmcWlVnAEm",
    "outputId": "962704a1-acc7-43d1-9a15-b9199b6d09ac"
   },
   "outputs": [
    {
     "name": "stdout",
     "output_type": "stream",
     "text": [
      "New York\n",
      "Newark\n",
      "New Delhi\n",
      "Newcastle\n"
     ]
    }
   ],
   "source": [
    "for city in iter_1:\n",
    "    print(city)"
   ]
  },
  {
   "cell_type": "code",
   "execution_count": 12,
   "metadata": {
    "id": "6aEOEudWnAEm",
    "outputId": "c5aa7dc9-6b51-425c-c8cb-5f12d63230f6"
   },
   "outputs": [
    {
     "data": {
      "text/plain": "['NEW YORK', 'NEWARK', 'NEW DELHI', 'NEWCASTLE']"
     },
     "execution_count": 12,
     "metadata": {},
     "output_type": "execute_result"
    }
   ],
   "source": [
    "iter_2 = CityIterator(cities)\n",
    "[city.upper() for city in iter_2]"
   ]
  },
  {
   "cell_type": "code",
   "execution_count": 13,
   "outputs": [
    {
     "data": {
      "text/plain": "[]"
     },
     "execution_count": 13,
     "metadata": {},
     "output_type": "execute_result"
    }
   ],
   "source": [
    "[city.upper() for city in iter_2]"
   ],
   "metadata": {
    "collapsed": false
   }
  },
  {
   "cell_type": "markdown",
   "metadata": {
    "id": "fj_b6JWqnAEm"
   },
   "source": [
    "So, we're almost at a solution now. At least we can create the **iterator** objects without having to recreate the `Cities` object every time.\n",
    "\n",
    "But, we still have to remember to create a new iterator, **and** we can no longer iterate over the `cities` object anymore!"
   ]
  },
  {
   "cell_type": "code",
   "execution_count": null,
   "metadata": {
    "id": "IGqzJO-4nAEm",
    "outputId": "de28816b-dde8-4b0d-944e-41a22b3700e5"
   },
   "outputs": [
    {
     "ename": "TypeError",
     "evalue": "'Cities' object is not iterable",
     "output_type": "error",
     "traceback": [
      "\u001B[1;31m---------------------------------------------------------------------------\u001B[0m",
      "\u001B[1;31mTypeError\u001B[0m                                 Traceback (most recent call last)",
      "\u001B[1;32m<ipython-input-11-d57230a6a2ef>\u001B[0m in \u001B[0;36m<module>\u001B[1;34m()\u001B[0m\n\u001B[1;32m----> 1\u001B[1;33m \u001B[1;32mfor\u001B[0m \u001B[0mcity\u001B[0m \u001B[1;32min\u001B[0m \u001B[0mcities\u001B[0m\u001B[1;33m:\u001B[0m\u001B[1;33m\u001B[0m\u001B[0m\n\u001B[0m\u001B[0;32m      2\u001B[0m     \u001B[0mprint\u001B[0m\u001B[1;33m(\u001B[0m\u001B[0mcity\u001B[0m\u001B[1;33m)\u001B[0m\u001B[1;33m\u001B[0m\u001B[0m\n",
      "\u001B[1;31mTypeError\u001B[0m: 'Cities' object is not iterable"
     ]
    }
   ],
   "source": [
    "for city in cities:\n",
    "    print(city)"
   ]
  },
  {
   "cell_type": "markdown",
   "metadata": {
    "id": "44HWqJfAnAEn"
   },
   "source": [
    "This is where the first question we asked comes into play. Whenever we iterated our iterator, the first thing Python did was call `__iter__`."
   ]
  },
  {
   "cell_type": "markdown",
   "metadata": {
    "id": "tAiprwwtnAEn"
   },
   "source": [
    "In fact, let's just check that again:"
   ]
  },
  {
   "cell_type": "code",
   "execution_count": 14,
   "metadata": {
    "collapsed": true,
    "id": "LcgWLhaenAEn"
   },
   "outputs": [],
   "source": [
    "class CityIterator:\n",
    "    def __init__(self, city_obj):\n",
    "        # cities is an instance of Cities\n",
    "        print('Calling CityIterator __init__')\n",
    "        self._city_obj = city_obj\n",
    "        self._index = 0\n",
    "        \n",
    "    def __iter__(self):\n",
    "        print('Calling CityIterator instance __iter__')\n",
    "        return self\n",
    "    \n",
    "    def __next__(self):\n",
    "        print('Calling __next__')\n",
    "        if self._index >= len(self._city_obj):\n",
    "            raise StopIteration\n",
    "        else:\n",
    "            item = self._city_obj._cities[self._index]\n",
    "            self._index += 1\n",
    "            return item"
   ]
  },
  {
   "cell_type": "code",
   "execution_count": 15,
   "metadata": {
    "id": "G9W4YHZenAEn",
    "outputId": "7bd0ebb6-a15b-4d05-b2e7-f49fdf48d121"
   },
   "outputs": [
    {
     "name": "stdout",
     "output_type": "stream",
     "text": [
      "Calling CityIterator __init__\n"
     ]
    }
   ],
   "source": [
    "iter_1 = CityIterator(cities)"
   ]
  },
  {
   "cell_type": "code",
   "execution_count": 16,
   "metadata": {
    "id": "_uWELon3nAEo",
    "outputId": "10806869-47fc-42d1-a1ca-a3a34ae5e3f4"
   },
   "outputs": [
    {
     "name": "stdout",
     "output_type": "stream",
     "text": [
      "Calling CitiyIterator instance __iter__\n",
      "Calling __next__\n",
      "New York\n",
      "Calling __next__\n",
      "Newark\n",
      "Calling __next__\n",
      "New Delhi\n",
      "Calling __next__\n",
      "Newcastle\n",
      "Calling __next__\n"
     ]
    }
   ],
   "source": [
    "for city in iter_1:\n",
    "    print(city)"
   ]
  },
  {
   "cell_type": "markdown",
   "metadata": {
    "id": "DKtcqDXZnAEo"
   },
   "source": [
    "#### Iterables"
   ]
  },
  {
   "cell_type": "markdown",
   "metadata": {
    "id": "MNfWd_dgnAEo"
   },
   "source": [
    "Now we finally come to how an **iterable** is defined in Python.\n",
    "\n",
    "An **iterable** is an object that:\n",
    "* implements the `__iter__` method\n",
    "* and that method returns an **iterator** which can be used to iterate over the object"
   ]
  },
  {
   "cell_type": "markdown",
   "metadata": {
    "id": "HpYCoxMbnAEo"
   },
   "source": [
    "What would happen if we put an `__iter__` method in the `Cities` object and then try to iterate?\n",
    "\n",
    "When we try to iterate over the `Cities` instance, Python will first call `__iter__`. The `__iter__` method should then return an **iterator** which Python will use for the iteration.\n",
    "\n",
    "We actually have everything we need to now make `Cities` an **iterable** since we already have the `CityIterator` created:"
   ]
  },
  {
   "cell_type": "code",
   "execution_count": null,
   "metadata": {
    "collapsed": true,
    "id": "HlEKn8WDnAEo"
   },
   "outputs": [],
   "source": [
    "class CityIterator:\n",
    "    def __init__(self, city_obj):\n",
    "        # cities is an instance of Cities\n",
    "        print('Calling CityIterator __init__')\n",
    "        self._city_obj = city_obj\n",
    "        self._index = 0\n",
    "        \n",
    "    def __iter__(self):\n",
    "        print('Calling CitiyIterator instance __iter__')\n",
    "        return self\n",
    "    \n",
    "    def __next__(self):\n",
    "        print('Calling __next__')\n",
    "        if self._index >= len(self._city_obj):\n",
    "            raise StopIteration\n",
    "        else:\n",
    "            item = self._city_obj._cities[self._index]\n",
    "            self._index += 1\n",
    "            return item"
   ]
  },
  {
   "cell_type": "code",
   "execution_count": null,
   "metadata": {
    "collapsed": true,
    "id": "gq7sViGUnAEo"
   },
   "outputs": [],
   "source": [
    "class Cities:\n",
    "    def __init__(self):\n",
    "        self._cities = ['New York', 'Newark', 'New Delhi', 'Newcastle']\n",
    "        \n",
    "    def __len__(self):\n",
    "        return len(self._cities)\n",
    "    \n",
    "    def __iter__(self):\n",
    "        print('Calling Cities instance __iter__')\n",
    "        return CityIterator(self)"
   ]
  },
  {
   "cell_type": "code",
   "execution_count": null,
   "metadata": {
    "collapsed": true,
    "id": "-GYhcPILnAEp"
   },
   "outputs": [],
   "source": [
    "cities = Cities()"
   ]
  },
  {
   "cell_type": "code",
   "execution_count": null,
   "metadata": {
    "id": "igsFRKCZnAEp",
    "outputId": "0ca34aa0-92df-42c8-bd7d-0bb5ee61393a"
   },
   "outputs": [
    {
     "name": "stdout",
     "output_type": "stream",
     "text": [
      "Calling Cities instance __iter__\n",
      "Calling CityIterator __init__\n",
      "Calling __next__\n",
      "New York\n",
      "Calling __next__\n",
      "Newark\n",
      "Calling __next__\n",
      "New Delhi\n",
      "Calling __next__\n",
      "Newcastle\n",
      "Calling __next__\n"
     ]
    }
   ],
   "source": [
    "for city in cities:\n",
    "    print(city)"
   ]
  },
  {
   "cell_type": "markdown",
   "metadata": {
    "id": "EAigj8ZZnAEp"
   },
   "source": [
    "And watch what happens if we try to run that loop again:"
   ]
  },
  {
   "cell_type": "code",
   "execution_count": null,
   "metadata": {
    "id": "MbRh89BFnAEp",
    "outputId": "05bc598a-176a-461e-9ae2-3ae0f23f8162"
   },
   "outputs": [
    {
     "name": "stdout",
     "output_type": "stream",
     "text": [
      "Calling Cities instance __iter__\n",
      "Calling CityIterator __init__\n",
      "Calling __next__\n",
      "New York\n",
      "Calling __next__\n",
      "Newark\n",
      "Calling __next__\n",
      "New Delhi\n",
      "Calling __next__\n",
      "Newcastle\n",
      "Calling __next__\n"
     ]
    }
   ],
   "source": [
    "for city in cities:\n",
    "    print(city)"
   ]
  },
  {
   "cell_type": "markdown",
   "metadata": {
    "id": "fkQKT8GknAEq"
   },
   "source": [
    "A new **iterator** was created when the `for` loop started.\n",
    "\n",
    "In fact, same happens for anything that is going to iterate our iterable - it first calls the `__iter__` method of the itrable to get a **new** iterator, then uses the iterator to call `__next__`."
   ]
  },
  {
   "cell_type": "code",
   "execution_count": null,
   "metadata": {
    "id": "qYR9ARPNnAEq",
    "outputId": "596b95fb-bf4f-4ba3-a205-8f9acd3c6228"
   },
   "outputs": [
    {
     "name": "stdout",
     "output_type": "stream",
     "text": [
      "Calling Cities instance __iter__\n",
      "Calling CityIterator __init__\n",
      "Calling __next__\n",
      "Calling __next__\n",
      "Calling __next__\n",
      "Calling __next__\n",
      "Calling __next__\n"
     ]
    },
    {
     "data": {
      "text/plain": [
       "[(0, 'New York'), (1, 'Newark'), (2, 'New Delhi'), (3, 'Newcastle')]"
      ]
     },
     "execution_count": 20,
     "metadata": {},
     "output_type": "execute_result"
    }
   ],
   "source": [
    "list(enumerate(cities))"
   ]
  },
  {
   "cell_type": "code",
   "execution_count": null,
   "metadata": {
    "id": "q5q-zrMtnAEq",
    "outputId": "891381c4-3249-484e-fb4d-0a41c8828580"
   },
   "outputs": [
    {
     "name": "stdout",
     "output_type": "stream",
     "text": [
      "Calling Cities instance __iter__\n",
      "Calling CityIterator __init__\n",
      "Calling __next__\n",
      "Calling __next__\n",
      "Calling __next__\n",
      "Calling __next__\n",
      "Calling __next__\n"
     ]
    },
    {
     "data": {
      "text/plain": [
       "['Newcastle', 'Newark', 'New York', 'New Delhi']"
      ]
     },
     "execution_count": 21,
     "metadata": {},
     "output_type": "execute_result"
    }
   ],
   "source": [
    "sorted(cities, reverse=True)"
   ]
  },
  {
   "cell_type": "markdown",
   "metadata": {
    "id": "LdPcFG88nAEq"
   },
   "source": [
    "Now we can put the iterator class inside our `Cities` class to keep the code self-contained:"
   ]
  },
  {
   "cell_type": "code",
   "execution_count": 34,
   "outputs": [],
   "source": [
    "class Squares:\n",
    "    def __init__(self, length):\n",
    "        self.length = length\n",
    "\n",
    "    def __length__(self):\n",
    "        return self.length\n",
    "\n",
    "    def __iter__(self):\n",
    "        return self.SquaresIterator(self)\n",
    "\n",
    "    class SquaresIterator:\n",
    "        def __init__(self, square_obj):\n",
    "            self.index = 0\n",
    "            self.length = len(square_obj)\n",
    "\n",
    "        def __next__(self):\n",
    "            if self.index >= self.length:\n",
    "                raise StopIteration\n",
    "            else:\n",
    "                result = self.index ** 2\n",
    "                self.index += 1\n",
    "                return result"
   ],
   "metadata": {
    "collapsed": false
   }
  },
  {
   "cell_type": "markdown",
   "source": [
    "\n",
    "\n",
    "\n",
    "\n",
    "\n",
    "\n",
    "\n",
    "\n",
    "\n",
    "\n"
   ],
   "metadata": {
    "collapsed": false
   }
  },
  {
   "cell_type": "code",
   "execution_count": 90,
   "outputs": [],
   "source": [
    "class Cities:\n",
    "    def __init__(self):\n",
    "        self._cities = ['New York', 'London', 'Madrid', 'Paris']\n",
    "\n",
    "    def __len__(self): # OJO es __len__ no __length__\n",
    "        return len(self._cities)\n",
    "\n",
    "    def __iter__(self):\n",
    "        print('calling Cities __iter__ 1')\n",
    "        return self.CityIterator(self)\n",
    "\n",
    "    class CityIterator:\n",
    "        def __init__(self, city_obj):\n",
    "            print('calling CityIterator __init__ 2')\n",
    "            self.city_obj = city_obj\n",
    "            self.index = 0\n",
    "            self.length = len(self.city_obj)\n",
    "\n",
    "        def __iter__(self):\n",
    "            return self\n",
    "\n",
    "        def __next__(self):\n",
    "            print('calling CityIterator __next__ 3')\n",
    "            if self.index >= self.length:\n",
    "                raise StopIteration\n",
    "            else:\n",
    "                result = self.city_obj._cities[self.index]\n",
    "                self.index += 1\n",
    "                return result\n",
    "\n"
   ],
   "metadata": {
    "collapsed": false
   }
  },
  {
   "cell_type": "code",
   "execution_count": 91,
   "outputs": [],
   "source": [
    "cities = Cities()"
   ],
   "metadata": {
    "collapsed": false
   }
  },
  {
   "cell_type": "code",
   "execution_count": 94,
   "outputs": [
    {
     "name": "stdout",
     "output_type": "stream",
     "text": [
      "calling CityIterator __init__ 2\n",
      "calling CityIterator __init__ 2\n",
      "calling CityIterator __init__ 2\n"
     ]
    }
   ],
   "source": [
    "for i in range(3):\n",
    "    cities.CityIterator(cities)"
   ],
   "metadata": {
    "collapsed": false
   }
  },
  {
   "cell_type": "code",
   "execution_count": 92,
   "outputs": [
    {
     "name": "stdout",
     "output_type": "stream",
     "text": [
      "calling Cities __iter__ 1\n",
      "calling CityIterator __init__ 2\n",
      "calling CityIterator __next__ 3\n",
      "New York\n",
      "calling CityIterator __next__ 3\n",
      "London\n",
      "calling CityIterator __next__ 3\n",
      "Madrid\n",
      "calling CityIterator __next__ 3\n",
      "Paris\n",
      "calling CityIterator __next__ 3\n"
     ]
    }
   ],
   "source": [
    "for item in cities:\n",
    "    print(item)"
   ],
   "metadata": {
    "collapsed": false
   }
  },
  {
   "cell_type": "code",
   "execution_count": 66,
   "metadata": {
    "collapsed": true,
    "id": "4u6Vd18NnAEq"
   },
   "outputs": [],
   "source": [
    "del CityIterator  # just to make sure CityIterator is not in our global scope"
   ]
  },
  {
   "cell_type": "markdown",
   "source": [
    "### THE ITERATOR PROTOCOL"
   ],
   "metadata": {
    "collapsed": false
   }
  },
  {
   "cell_type": "code",
   "execution_count": 35,
   "metadata": {
    "collapsed": true,
    "id": "TEM4DYuVnAEq"
   },
   "outputs": [],
   "source": [
    "class Cities:\n",
    "    def __init__(self):\n",
    "        self._cities = ['New York', 'Newark', 'New Delhi', 'Newcastle']\n",
    "        \n",
    "    def __len__(self):\n",
    "        return len(self._cities)\n",
    "    \n",
    "    def __iter__(self):\n",
    "        print('Calling Cities instance __iter__ 1')\n",
    "        return self.CityIterator(self)\n",
    "    \n",
    "    class CityIterator:\n",
    "        def __init__(self, city_obj):\n",
    "            # cities is an instance of Cities\n",
    "            print('Calling CityIterator __init__ 2')\n",
    "            self._city_obj = city_obj\n",
    "            self._index = 0\n",
    "\n",
    "        def __iter__(self):\n",
    "            print('Calling CityIterator instance __iter__')\n",
    "            return self\n",
    "\n",
    "        def __next__(self):\n",
    "            print('Calling __next__ 3')\n",
    "            if self._index >= len(self._city_obj):\n",
    "                raise StopIteration\n",
    "            else:\n",
    "                item = self._city_obj._cities[self._index]\n",
    "                self._index += 1\n",
    "                return item"
   ]
  },
  {
   "cell_type": "code",
   "execution_count": 36,
   "metadata": {
    "collapsed": true,
    "id": "5irgbhL1nAEr"
   },
   "outputs": [],
   "source": [
    "cities = Cities()"
   ]
  },
  {
   "cell_type": "code",
   "execution_count": 37,
   "outputs": [
    {
     "name": "stdout",
     "output_type": "stream",
     "text": [
      "Calling Cities instance __iter__ 1\n",
      "Calling CityIterator __init__ 2\n",
      "Calling __next__ 3\n",
      "New York\n",
      "Calling __next__ 3\n",
      "Newark\n",
      "Calling __next__ 3\n",
      "New Delhi\n",
      "Calling __next__ 3\n",
      "Newcastle\n",
      "Calling __next__ 3\n"
     ]
    }
   ],
   "source": [
    "for i in cities:\n",
    "    print(i)"
   ],
   "metadata": {
    "collapsed": false
   }
  },
  {
   "cell_type": "code",
   "execution_count": 38,
   "outputs": [
    {
     "name": "stdout",
     "output_type": "stream",
     "text": [
      "Calling Cities instance __iter__ 1\n",
      "Calling CityIterator __init__ 2\n",
      "Calling __next__ 3\n",
      "Calling __next__ 3\n",
      "Calling __next__ 3\n",
      "Calling __next__ 3\n",
      "Calling __next__ 3\n"
     ]
    },
    {
     "data": {
      "text/plain": "['New York', 'Newark', 'New Delhi', 'Newcastle']"
     },
     "execution_count": 38,
     "metadata": {},
     "output_type": "execute_result"
    }
   ],
   "source": [
    "[city for city in cities]"
   ],
   "metadata": {
    "collapsed": false
   }
  },
  {
   "cell_type": "code",
   "execution_count": 33,
   "metadata": {
    "id": "79K8EO-ynAEs",
    "outputId": "302b6df8-a9ac-4ddd-8274-7644fd7ed3f0"
   },
   "outputs": [
    {
     "name": "stdout",
     "output_type": "stream",
     "text": [
      "Calling Cities instance __iter__ 1\n",
      "Calling CityIterator __init__ 2\n",
      "Calling __next__ 3\n",
      "Calling __next__ 3\n",
      "Calling __next__ 3\n",
      "Calling __next__ 3\n",
      "Calling __next__ 3\n"
     ]
    },
    {
     "data": {
      "text/plain": "[(0, 'New York'), (1, 'Newark'), (2, 'New Delhi'), (3, 'Newcastle')]"
     },
     "execution_count": 33,
     "metadata": {},
     "output_type": "execute_result"
    }
   ],
   "source": [
    "list(enumerate(cities))"
   ]
  },
  {
   "cell_type": "markdown",
   "metadata": {
    "id": "K_fIx5oqnAEs"
   },
   "source": [
    "Technically we can even get an iterator instance ourselves directly, by calling `iter()` on the `cities` object:"
   ]
  },
  {
   "cell_type": "code",
   "execution_count": 39,
   "metadata": {
    "id": "3SS8lTfLnAEs",
    "outputId": "40bc5a39-d7b3-4812-95be-c87c8e3d3abe"
   },
   "outputs": [
    {
     "name": "stdout",
     "output_type": "stream",
     "text": [
      "Calling Cities instance __iter__ 1\n",
      "Calling CityIterator __init__ 2\n",
      "Calling Cities instance __iter__ 1\n",
      "Calling CityIterator __init__ 2\n"
     ]
    }
   ],
   "source": [
    "iter_1 = iter(cities)\n",
    "iter_2 = iter(cities)"
   ]
  },
  {
   "cell_type": "markdown",
   "metadata": {
    "id": "hefmyIMxnAEs"
   },
   "source": [
    "As you can see, Python created and returned two different instances of the `CityIterator` object."
   ]
  },
  {
   "cell_type": "code",
   "execution_count": null,
   "metadata": {
    "id": "59lUABi_nAEt",
    "outputId": "d29a01fa-f255-4992-ca19-a12d7028bc34"
   },
   "outputs": [
    {
     "data": {
      "text/plain": [
       "(1741231353928, 1741231354320)"
      ]
     },
     "execution_count": 27,
     "metadata": {},
     "output_type": "execute_result"
    }
   ],
   "source": [
    "id(iter_1), id(iter_2)"
   ]
  },
  {
   "cell_type": "markdown",
   "metadata": {
    "id": "QO8TSbnCnAEt"
   },
   "source": [
    "And now we also have should understand why **iterators** also implement the `__iter__` method (that just returns themselves) - it makes them **iterables** too!"
   ]
  },
  {
   "cell_type": "markdown",
   "metadata": {
    "id": "zPRnqSn-nAEt"
   },
   "source": [
    "#### Mixing Iterables and Sequences"
   ]
  },
  {
   "cell_type": "markdown",
   "metadata": {
    "id": "Vag1kvv3nAE1"
   },
   "source": [
    "`Cities` is an iterable, but it is not a sequence type:"
   ]
  },
  {
   "cell_type": "code",
   "execution_count": 40,
   "metadata": {
    "collapsed": true,
    "id": "ppWpodmnnAE1"
   },
   "outputs": [],
   "source": [
    "cities = Cities()"
   ]
  },
  {
   "cell_type": "code",
   "execution_count": 41,
   "metadata": {
    "id": "1TyZIyDknAE1",
    "outputId": "d7e54070-c7b6-4bf0-9ea0-94cfd27939a4"
   },
   "outputs": [
    {
     "data": {
      "text/plain": "4"
     },
     "execution_count": 41,
     "metadata": {},
     "output_type": "execute_result"
    }
   ],
   "source": [
    "len(cities)"
   ]
  },
  {
   "cell_type": "code",
   "execution_count": 42,
   "metadata": {
    "id": "TRsd7sPCnAE2",
    "outputId": "a18ed62b-f63d-446f-9e0d-c98ab5165a36"
   },
   "outputs": [
    {
     "ename": "TypeError",
     "evalue": "'Cities' object is not subscriptable",
     "output_type": "error",
     "traceback": [
      "\u001B[0;31m---------------------------------------------------------------------------\u001B[0m",
      "\u001B[0;31mTypeError\u001B[0m                                 Traceback (most recent call last)",
      "Input \u001B[0;32mIn [42]\u001B[0m, in \u001B[0;36m<cell line: 1>\u001B[0;34m()\u001B[0m\n\u001B[0;32m----> 1\u001B[0m \u001B[43mcities\u001B[49m\u001B[43m[\u001B[49m\u001B[38;5;241;43m1\u001B[39;49m\u001B[43m]\u001B[49m\n",
      "\u001B[0;31mTypeError\u001B[0m: 'Cities' object is not subscriptable"
     ]
    }
   ],
   "source": [
    "cities[1]"
   ]
  },
  {
   "cell_type": "markdown",
   "metadata": {
    "id": "2gLd7GI-nAE2"
   },
   "source": [
    "Since our Cities **could** also be a sequence, we could also decide to implement the `__getitem__` method to make it into a sequence:"
   ]
  },
  {
   "cell_type": "code",
   "execution_count": 43,
   "metadata": {
    "collapsed": true,
    "id": "OPiBlJUinAE2"
   },
   "outputs": [],
   "source": [
    "class Cities:\n",
    "    def __init__(self):\n",
    "        self._cities = ['New York', 'Newark', 'New Delhi', 'Newcastle']\n",
    "        \n",
    "    def __len__(self):\n",
    "        return len(self._cities)\n",
    "    \n",
    "    def __getitem__(self, s):\n",
    "        print('getting item...')\n",
    "        return self._cities[s]\n",
    "    \n",
    "    def __iter__(self):\n",
    "        print('Calling Cities instance __iter__')\n",
    "        return self.CityIterator(self)\n",
    "    \n",
    "    class CityIterator:\n",
    "        def __init__(self, city_obj):\n",
    "            # cities is an instance of Cities\n",
    "            print('Calling CityIterator __init__')\n",
    "            self._city_obj = city_obj\n",
    "            self._index = 0\n",
    "\n",
    "        def __iter__(self):\n",
    "            print('Calling CitiyIterator instance __iter__')\n",
    "            return self\n",
    "\n",
    "        def __next__(self):\n",
    "            print('Calling __next__')\n",
    "            if self._index >= len(self._city_obj):\n",
    "                raise StopIteration\n",
    "            else:\n",
    "                item = self._city_obj._cities[self._index]\n",
    "                self._index += 1\n",
    "                return item"
   ]
  },
  {
   "cell_type": "code",
   "execution_count": 44,
   "metadata": {
    "collapsed": true,
    "id": "MN5ohW6LnAE2"
   },
   "outputs": [],
   "source": [
    "cities = Cities()"
   ]
  },
  {
   "cell_type": "markdown",
   "metadata": {
    "id": "2icERW-3nAE2"
   },
   "source": [
    "It's a sequence:"
   ]
  },
  {
   "cell_type": "code",
   "execution_count": 45,
   "metadata": {
    "id": "UQ0sMImnnAE3",
    "outputId": "b6ace1ad-1d61-48e6-c833-9ad27a7bad60"
   },
   "outputs": [
    {
     "name": "stdout",
     "output_type": "stream",
     "text": [
      "getting item...\n"
     ]
    },
    {
     "data": {
      "text/plain": "'New York'"
     },
     "execution_count": 45,
     "metadata": {},
     "output_type": "execute_result"
    }
   ],
   "source": [
    "cities[0]"
   ]
  },
  {
   "cell_type": "markdown",
   "metadata": {
    "id": "MFRFkj8XnAE3"
   },
   "source": [
    "It's also an iterable:"
   ]
  },
  {
   "cell_type": "code",
   "execution_count": 46,
   "metadata": {
    "id": "MtStRK-hnAE3",
    "outputId": "301c515c-c7f1-4b5b-f615-084750cf1c02"
   },
   "outputs": [
    {
     "name": "stdout",
     "output_type": "stream",
     "text": [
      "Calling Cities instance __iter__\n",
      "Calling CityIterator __init__\n",
      "Calling __next__\n"
     ]
    },
    {
     "data": {
      "text/plain": "'New York'"
     },
     "execution_count": 46,
     "metadata": {},
     "output_type": "execute_result"
    }
   ],
   "source": [
    "next(iter(cities))"
   ]
  },
  {
   "cell_type": "markdown",
   "metadata": {
    "id": "BSIZmLpQnAE3"
   },
   "source": [
    "Now that Cities is both a sequence type (`__getitem__`) and an iterable (`__iter__`), when we loop over `cities`, is Python going to use `__getitem__` or `__iter__`?"
   ]
  },
  {
   "cell_type": "code",
   "execution_count": 47,
   "metadata": {
    "id": "TFI9r0P-nAE3",
    "outputId": "a7c572c7-ae0f-44b8-a662-e1e8b16742b7"
   },
   "outputs": [
    {
     "name": "stdout",
     "output_type": "stream",
     "text": [
      "Calling Cities instance __iter__\n",
      "Calling CityIterator __init__\n",
      "Calling __next__\n",
      "New York\n",
      "Calling __next__\n",
      "Newark\n",
      "Calling __next__\n",
      "New Delhi\n",
      "Calling __next__\n",
      "Newcastle\n",
      "Calling __next__\n"
     ]
    }
   ],
   "source": [
    "cities = Cities()\n",
    "for city in cities:\n",
    "    print(city)"
   ]
  },
  {
   "cell_type": "markdown",
   "metadata": {
    "id": "XdVLfc0JnAE3"
   },
   "source": [
    "It uses the iterator - so Python will use the iterator if there is one, otherwise it will fall back to using `__getitem__`. If neither is implemented, we'll get an exception.\n",
    "\n",
    "Of course, for selection by index or slice, the `__getitem__` method **must** be implemented.\n",
    "\n",
    "We'll come back to this very topic in an upcoming video, because behind the scenes, even if we only implement the `__getitem__` method, Python will auto-generate an iterator for us!"
   ]
  },
  {
   "cell_type": "markdown",
   "metadata": {
    "id": "GrtTCSAYnAE4"
   },
   "source": [
    "### Python Built-In Iterables and Iterators"
   ]
  },
  {
   "cell_type": "markdown",
   "metadata": {
    "id": "5OrulLCnnAE4"
   },
   "source": [
    "The way iterables and iterators work in our custom `Cities` example is exactly the way Python iterables work too."
   ]
  },
  {
   "cell_type": "code",
   "execution_count": 95,
   "metadata": {
    "collapsed": true,
    "id": "ovHk2-5TnAE4"
   },
   "outputs": [],
   "source": [
    "l = [1, 2, 3]"
   ]
  },
  {
   "cell_type": "markdown",
   "metadata": {
    "id": "LO-i0XHtnAE4"
   },
   "source": [
    "Since lists are iterables, they implement the `__iter__` method and we can get an **iterator** for the list:"
   ]
  },
  {
   "cell_type": "code",
   "execution_count": 96,
   "outputs": [
    {
     "name": "stdout",
     "output_type": "stream",
     "text": [
      "1\n",
      "2\n",
      "3\n"
     ]
    }
   ],
   "source": [
    "for item in l:\n",
    "    print(item)"
   ],
   "metadata": {
    "collapsed": false
   }
  },
  {
   "cell_type": "code",
   "execution_count": 97,
   "outputs": [
    {
     "data": {
      "text/plain": "[1, 4, 9]"
     },
     "execution_count": 97,
     "metadata": {},
     "output_type": "execute_result"
    }
   ],
   "source": [
    "[i**2 for i in l]"
   ],
   "metadata": {
    "collapsed": false
   }
  },
  {
   "cell_type": "code",
   "execution_count": 98,
   "outputs": [
    {
     "data": {
      "text/plain": "True"
     },
     "execution_count": 98,
     "metadata": {},
     "output_type": "execute_result"
    }
   ],
   "source": [
    "'__iter__' in dir(l)"
   ],
   "metadata": {
    "collapsed": false
   }
  },
  {
   "cell_type": "code",
   "execution_count": 99,
   "outputs": [
    {
     "data": {
      "text/plain": "False"
     },
     "execution_count": 99,
     "metadata": {},
     "output_type": "execute_result"
    }
   ],
   "source": [
    "'__next__' in dir(l)"
   ],
   "metadata": {
    "collapsed": false
   }
  },
  {
   "cell_type": "code",
   "execution_count": 100,
   "metadata": {
    "collapsed": true,
    "id": "GAD9r2B3nAE4"
   },
   "outputs": [],
   "source": [
    "iter_l = iter(l)\n",
    "#or could use iter_1 = l.__iter__()"
   ]
  },
  {
   "cell_type": "code",
   "execution_count": 101,
   "outputs": [
    {
     "data": {
      "text/plain": "True"
     },
     "execution_count": 101,
     "metadata": {},
     "output_type": "execute_result"
    }
   ],
   "source": [
    "'__iter__' in dir(iter_l)"
   ],
   "metadata": {
    "collapsed": false
   }
  },
  {
   "cell_type": "code",
   "execution_count": 102,
   "outputs": [
    {
     "data": {
      "text/plain": "True"
     },
     "execution_count": 102,
     "metadata": {},
     "output_type": "execute_result"
    }
   ],
   "source": [
    "'__next__' in dir(iter_l)"
   ],
   "metadata": {
    "collapsed": false
   }
  },
  {
   "cell_type": "code",
   "execution_count": 50,
   "metadata": {
    "id": "wm2O_g-1nAE4",
    "outputId": "f5030c84-9409-49ae-e59a-b8ee0150cc55"
   },
   "outputs": [
    {
     "data": {
      "text/plain": "list_iterator"
     },
     "execution_count": 50,
     "metadata": {},
     "output_type": "execute_result"
    }
   ],
   "source": [
    "type(iter_l)"
   ]
  },
  {
   "cell_type": "code",
   "execution_count": 103,
   "outputs": [
    {
     "name": "stdout",
     "output_type": "stream",
     "text": [
      "1\n",
      "2\n",
      "3\n"
     ]
    }
   ],
   "source": [
    "for i in iter_l:\n",
    "    print(i)"
   ],
   "metadata": {
    "collapsed": false
   }
  },
  {
   "cell_type": "code",
   "execution_count": 104,
   "outputs": [
    {
     "data": {
      "text/plain": "[]"
     },
     "execution_count": 104,
     "metadata": {},
     "output_type": "execute_result"
    }
   ],
   "source": [
    "[i for i in iter_l]"
   ],
   "metadata": {
    "collapsed": false
   }
  },
  {
   "cell_type": "code",
   "execution_count": 51,
   "metadata": {
    "id": "Ft3L5jzSnAE5",
    "outputId": "0b169728-3160-42a5-a028-47c7a26d7b8e"
   },
   "outputs": [
    {
     "data": {
      "text/plain": "1"
     },
     "execution_count": 51,
     "metadata": {},
     "output_type": "execute_result"
    }
   ],
   "source": [
    "next(iter_l)"
   ]
  },
  {
   "cell_type": "code",
   "execution_count": 52,
   "metadata": {
    "id": "XXeQuBJanAE5",
    "outputId": "ea30cb93-f546-47e5-eb92-d8dc87c850cd"
   },
   "outputs": [
    {
     "data": {
      "text/plain": "2"
     },
     "execution_count": 52,
     "metadata": {},
     "output_type": "execute_result"
    }
   ],
   "source": [
    "next(iter_l)"
   ]
  },
  {
   "cell_type": "code",
   "execution_count": 53,
   "metadata": {
    "id": "_3S5aNW0nAE5",
    "outputId": "991562ff-46a1-457e-bc1c-4014466dc7bd"
   },
   "outputs": [
    {
     "data": {
      "text/plain": "3"
     },
     "execution_count": 53,
     "metadata": {},
     "output_type": "execute_result"
    }
   ],
   "source": [
    "next(iter_l)"
   ]
  },
  {
   "cell_type": "code",
   "execution_count": 54,
   "metadata": {
    "id": "yRDJXtdFnAE5",
    "outputId": "03b787c9-0501-4c9f-88f7-3bf355c4dacc"
   },
   "outputs": [
    {
     "ename": "StopIteration",
     "evalue": "",
     "output_type": "error",
     "traceback": [
      "\u001B[0;31m---------------------------------------------------------------------------\u001B[0m",
      "\u001B[0;31mStopIteration\u001B[0m                             Traceback (most recent call last)",
      "Input \u001B[0;32mIn [54]\u001B[0m, in \u001B[0;36m<cell line: 1>\u001B[0;34m()\u001B[0m\n\u001B[0;32m----> 1\u001B[0m \u001B[38;5;28;43mnext\u001B[39;49m\u001B[43m(\u001B[49m\u001B[43miter_l\u001B[49m\u001B[43m)\u001B[49m\n",
      "\u001B[0;31mStopIteration\u001B[0m: "
     ]
    }
   ],
   "source": [
    "next(iter_l)"
   ]
  },
  {
   "cell_type": "markdown",
   "metadata": {
    "id": "oAFuEjIwnAE5"
   },
   "source": [
    "See? The same `StopIteration` exception is raised.\n",
    "\n",
    "Since `iter_l` is an iterator, it also implements the `__iter__` method, which just returns the iterator itself:"
   ]
  },
  {
   "cell_type": "code",
   "execution_count": 55,
   "metadata": {
    "id": "iu8zsyEfnAE5",
    "outputId": "9203c0f2-3a5f-4178-d676-165e5bde5ad1"
   },
   "outputs": [
    {
     "data": {
      "text/plain": "(140498645786240, 140498645786240)"
     },
     "execution_count": 55,
     "metadata": {},
     "output_type": "execute_result"
    }
   ],
   "source": [
    "id(iter_l), id(iter(iter_l))"
   ]
  },
  {
   "cell_type": "code",
   "execution_count": 58,
   "outputs": [
    {
     "data": {
      "text/plain": "True"
     },
     "execution_count": 58,
     "metadata": {},
     "output_type": "execute_result"
    }
   ],
   "source": [
    "'__next__' in dir(iter_l)"
   ],
   "metadata": {
    "collapsed": false
   }
  },
  {
   "cell_type": "code",
   "execution_count": 56,
   "metadata": {
    "id": "eqvYmgXJnAE6",
    "outputId": "1932564e-e4df-4c43-cb2a-1f36ce387759"
   },
   "outputs": [
    {
     "data": {
      "text/plain": "True"
     },
     "execution_count": 56,
     "metadata": {},
     "output_type": "execute_result"
    }
   ],
   "source": [
    "'__next__' in dir(iter_l)"
   ]
  },
  {
   "cell_type": "code",
   "execution_count": 57,
   "metadata": {
    "id": "Ufzpn2ZinAE6",
    "outputId": "7962bbaf-2dbe-40ca-bd4f-ee8d43aaec4b"
   },
   "outputs": [
    {
     "data": {
      "text/plain": "True"
     },
     "execution_count": 57,
     "metadata": {},
     "output_type": "execute_result"
    }
   ],
   "source": [
    "'__iter__' in dir(iter_l)"
   ]
  },
  {
   "cell_type": "markdown",
   "metadata": {
    "id": "21wUO2WOnAE6"
   },
   "source": [
    "Since the list `l` is an iterable it also implements the `__iter__` method:"
   ]
  },
  {
   "cell_type": "code",
   "execution_count": null,
   "metadata": {
    "id": "nL4DVLCynAE7",
    "outputId": "8fe78941-d7c0-49b9-9f8e-f94bb7c51c54"
   },
   "outputs": [
    {
     "data": {
      "text/plain": [
       "True"
      ]
     },
     "execution_count": 46,
     "metadata": {},
     "output_type": "execute_result"
    }
   ],
   "source": [
    "'__iter__' in dir(l)"
   ]
  },
  {
   "cell_type": "markdown",
   "metadata": {
    "id": "hXHfAEqQnAE7"
   },
   "source": [
    "but does not implement a `__next__` method:"
   ]
  },
  {
   "cell_type": "code",
   "execution_count": null,
   "metadata": {
    "id": "k38gEPYLnAE7",
    "outputId": "f3296556-f6ec-420e-8b28-d9dade70cd14"
   },
   "outputs": [
    {
     "data": {
      "text/plain": [
       "False"
      ]
     },
     "execution_count": 47,
     "metadata": {},
     "output_type": "execute_result"
    }
   ],
   "source": [
    "'__next__' in dir(l)"
   ]
  },
  {
   "cell_type": "markdown",
   "metadata": {
    "id": "HikBOdDqnAE7"
   },
   "source": [
    "Of course, since lists are also sequence types, they also implement the `__getitem__` method:"
   ]
  },
  {
   "cell_type": "code",
   "execution_count": null,
   "metadata": {
    "id": "mvvWGKpwnAE7",
    "outputId": "b0d7dd69-f0d6-4d36-fb05-4928399dba42"
   },
   "outputs": [
    {
     "data": {
      "text/plain": [
       "True"
      ]
     },
     "execution_count": 48,
     "metadata": {},
     "output_type": "execute_result"
    }
   ],
   "source": [
    "'__getitem__' in dir(l)"
   ]
  },
  {
   "cell_type": "markdown",
   "metadata": {
    "id": "0IPUafrdnAE7"
   },
   "source": [
    "Sets and dictionaries on the other hand are not sequence types:"
   ]
  },
  {
   "cell_type": "code",
   "execution_count": null,
   "metadata": {
    "id": "xtQbN9pvnAE7",
    "outputId": "a83c29a0-6e3c-4666-f98c-4f1c7fa24b23"
   },
   "outputs": [
    {
     "data": {
      "text/plain": [
       "False"
      ]
     },
     "execution_count": 49,
     "metadata": {},
     "output_type": "execute_result"
    }
   ],
   "source": [
    "'__getitem__' in dir(set)"
   ]
  },
  {
   "cell_type": "code",
   "execution_count": null,
   "metadata": {
    "id": "0yZw0r-XnAE8",
    "outputId": "cd7743d0-720c-428b-f2aa-20906c043de2"
   },
   "outputs": [
    {
     "data": {
      "text/plain": [
       "True"
      ]
     },
     "execution_count": 50,
     "metadata": {},
     "output_type": "execute_result"
    }
   ],
   "source": [
    "'__iter__' in dir(set)"
   ]
  },
  {
   "cell_type": "code",
   "execution_count": null,
   "metadata": {
    "id": "xwjccInpnAE8",
    "outputId": "5e7401a8-225d-4e64-f97f-24d1813528eb"
   },
   "outputs": [
    {
     "data": {
      "text/plain": [
       "True"
      ]
     },
     "execution_count": 51,
     "metadata": {},
     "output_type": "execute_result"
    }
   ],
   "source": [
    "s = {1, 2, 3}\n",
    "'__next__' in dir(iter(s))"
   ]
  },
  {
   "cell_type": "code",
   "execution_count": null,
   "metadata": {
    "id": "Dp17Q2S-nAE8",
    "outputId": "5fb02b99-55d1-46f8-ab25-f3a23450e85b"
   },
   "outputs": [
    {
     "data": {
      "text/plain": [
       "True"
      ]
     },
     "execution_count": 52,
     "metadata": {},
     "output_type": "execute_result"
    }
   ],
   "source": [
    "'__iter__' in dir(dict)"
   ]
  },
  {
   "cell_type": "markdown",
   "metadata": {
    "id": "apfUhGmVnAE8"
   },
   "source": [
    "But what does the iterator for a dictionary actually return? It iterates over what? You should probably already guess the answer to that one!"
   ]
  },
  {
   "cell_type": "code",
   "execution_count": null,
   "metadata": {
    "collapsed": true,
    "id": "9gdcE7iPnAE8"
   },
   "outputs": [],
   "source": [
    "d = dict(a=1, b=2, c=3)"
   ]
  },
  {
   "cell_type": "code",
   "execution_count": null,
   "metadata": {
    "collapsed": true,
    "id": "lZSMLGXFnAE8"
   },
   "outputs": [],
   "source": [
    "iter_d = iter(d)"
   ]
  },
  {
   "cell_type": "code",
   "execution_count": null,
   "metadata": {
    "id": "Fm--bVVpnAE9",
    "outputId": "9f10dd07-a816-4312-e6f1-fbf70e4b2bd9"
   },
   "outputs": [
    {
     "data": {
      "text/plain": [
       "'a'"
      ]
     },
     "execution_count": 55,
     "metadata": {},
     "output_type": "execute_result"
    }
   ],
   "source": [
    "next(iter_d)"
   ]
  },
  {
   "cell_type": "markdown",
   "metadata": {
    "id": "yJy8CdGanAE9"
   },
   "source": [
    "Dictionary iterators will iterate over the **keys** of the dictionary."
   ]
  },
  {
   "cell_type": "markdown",
   "metadata": {
    "id": "EXrTuHwVnAE9"
   },
   "source": [
    "To iterate over the values, we could use the `values()` method which returns an **iterable** over the values of the dictionary:"
   ]
  },
  {
   "cell_type": "code",
   "execution_count": null,
   "metadata": {
    "collapsed": true,
    "id": "a0DyWvoXnAE9"
   },
   "outputs": [],
   "source": [
    "iter_vals = iter(d.values())"
   ]
  },
  {
   "cell_type": "code",
   "execution_count": null,
   "metadata": {
    "id": "7m59giUknAE9",
    "outputId": "0b18b996-1be1-48dc-d198-f1eae2a8a48a"
   },
   "outputs": [
    {
     "data": {
      "text/plain": [
       "1"
      ]
     },
     "execution_count": 57,
     "metadata": {},
     "output_type": "execute_result"
    }
   ],
   "source": [
    "next(iter_vals)"
   ]
  },
  {
   "cell_type": "markdown",
   "metadata": {
    "id": "ZrrCf3OdnAE-"
   },
   "source": [
    "And to iterate over both the keys and values, dictionaries provide an `items()` iterable:"
   ]
  },
  {
   "cell_type": "code",
   "execution_count": null,
   "metadata": {
    "collapsed": true,
    "id": "WQHKXt3ZnAE-"
   },
   "outputs": [],
   "source": [
    "iter_items = iter(d.items())"
   ]
  },
  {
   "cell_type": "code",
   "execution_count": null,
   "metadata": {
    "id": "xYIMNcT6nAE-",
    "outputId": "56543c1f-369d-4551-f6e5-36edef288710"
   },
   "outputs": [
    {
     "data": {
      "text/plain": [
       "('a', 1)"
      ]
     },
     "execution_count": 59,
     "metadata": {},
     "output_type": "execute_result"
    }
   ],
   "source": [
    "next(iter_items)"
   ]
  },
  {
   "cell_type": "markdown",
   "metadata": {
    "id": "rs4MtMbHnAE-"
   },
   "source": [
    "Here we get an iterator over key, value tuples"
   ]
  },
  {
   "cell_type": "markdown",
   "metadata": {
    "id": "cQFOgiL7nAE-"
   },
   "source": [
    "We'll examine the usefullness of being able to iterate using `next` instead of a `for` loop, or comprehension, in the next video."
   ]
  }
 ],
 "metadata": {
  "kernelspec": {
   "display_name": "Python 3",
   "language": "python",
   "name": "python3"
  },
  "language_info": {
   "codemirror_mode": {
    "name": "ipython",
    "version": 3
   },
   "file_extension": ".py",
   "mimetype": "text/x-python",
   "name": "python",
   "nbconvert_exporter": "python",
   "pygments_lexer": "ipython3",
   "version": "3.6.2"
  },
  "colab": {
   "provenance": []
  }
 },
 "nbformat": 4,
 "nbformat_minor": 0
}

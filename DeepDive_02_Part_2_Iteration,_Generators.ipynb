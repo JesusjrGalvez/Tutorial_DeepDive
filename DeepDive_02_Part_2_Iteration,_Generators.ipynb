{
  "nbformat": 4,
  "nbformat_minor": 0,
  "metadata": {
    "colab": {
      "provenance": [],
      "authorship_tag": "ABX9TyNLsrJY0/ebnpKifzn4Jx6O",
      "include_colab_link": true
    },
    "kernelspec": {
      "name": "python3",
      "display_name": "Python 3"
    },
    "language_info": {
      "name": "python"
    }
  },
  "cells": [
    {
      "cell_type": "markdown",
      "metadata": {
        "id": "view-in-github",
        "colab_type": "text"
      },
      "source": [
        "<a href=\"https://colab.research.google.com/github/JesusjrGalvez/Tutorial_DeepDive/blob/main/DeepDive_02_Part_2_Iteration%2C_Generators.ipynb\" target=\"_parent\"><img src=\"https://colab.research.google.com/assets/colab-badge.svg\" alt=\"Open In Colab\"/></a>"
      ]
    },
    {
      "cell_type": "code",
      "execution_count": 15,
      "metadata": {
        "colab": {
          "base_uri": "https://localhost:8080/"
        },
        "id": "UfeNrmzfo8ac",
        "outputId": "8e011b30-02e7-4361-d5e1-6bb8dde7d5a3"
      },
      "outputs": [
        {
          "output_type": "stream",
          "name": "stdout",
          "text": [
            "[0, 1, 2, 3, 4, 5, 6, 7, 8, 9]\n"
          ]
        }
      ],
      "source": [
        "l = list(range(10))\n",
        "print(l)\n"
      ]
    },
    {
      "cell_type": "code",
      "source": [
        "l.__delitem__(4)\n",
        "print(l)\n",
        "l.remove(2)\n",
        "print(l)"
      ],
      "metadata": {
        "colab": {
          "base_uri": "https://localhost:8080/"
        },
        "id": "ydyq49rIpCSR",
        "outputId": "ee69d788-7975-4659-d746-cd16e75114b3"
      },
      "execution_count": 16,
      "outputs": [
        {
          "output_type": "stream",
          "name": "stdout",
          "text": [
            "[0, 1, 2, 3, 5, 6, 7, 8, 9]\n",
            "[0, 1, 3, 5, 6, 7, 8, 9]\n"
          ]
        }
      ]
    },
    {
      "cell_type": "code",
      "source": [
        "l.__len__()\n"
      ],
      "metadata": {
        "colab": {
          "base_uri": "https://localhost:8080/"
        },
        "id": "ajXtauW8pfnz",
        "outputId": "55b68030-bcba-48c4-a55f-82ed5cfbf275"
      },
      "execution_count": 17,
      "outputs": [
        {
          "output_type": "execute_result",
          "data": {
            "text/plain": [
              "8"
            ]
          },
          "metadata": {},
          "execution_count": 17
        }
      ]
    },
    {
      "cell_type": "code",
      "source": [
        "l[2]"
      ],
      "metadata": {
        "colab": {
          "base_uri": "https://localhost:8080/"
        },
        "id": "TEY12SLCpmSb",
        "outputId": "6455bb45-2a3e-45cc-ee09-112021eb0263"
      },
      "execution_count": 18,
      "outputs": [
        {
          "output_type": "execute_result",
          "data": {
            "text/plain": [
              "3"
            ]
          },
          "metadata": {},
          "execution_count": 18
        }
      ]
    },
    {
      "cell_type": "code",
      "source": [
        "l.__getitem__(2)"
      ],
      "metadata": {
        "colab": {
          "base_uri": "https://localhost:8080/"
        },
        "id": "0kGC-zkqpoUE",
        "outputId": "3be0c8e4-3b20-4cc4-8ab0-080a54130d85"
      },
      "execution_count": 19,
      "outputs": [
        {
          "output_type": "execute_result",
          "data": {
            "text/plain": [
              "3"
            ]
          },
          "metadata": {},
          "execution_count": 19
        }
      ]
    },
    {
      "cell_type": "code",
      "source": [
        "l.__getitem__(slice(None, None, -1))"
      ],
      "metadata": {
        "colab": {
          "base_uri": "https://localhost:8080/"
        },
        "id": "YJpx7YMUqJG4",
        "outputId": "4e512abf-f0d9-4b96-e51f-0a8665e34ccc"
      },
      "execution_count": 20,
      "outputs": [
        {
          "output_type": "execute_result",
          "data": {
            "text/plain": [
              "[9, 8, 7, 6, 5, 3, 1, 0]"
            ]
          },
          "metadata": {},
          "execution_count": 20
        }
      ]
    },
    {
      "cell_type": "code",
      "source": [
        "index = 0 # Using length is not neccesary. \n",
        "while True:\n",
        "    try: \n",
        "        item = l.__getitem__(index)\n",
        "    except IndexError:\n",
        "        break\n",
        "    print(item ** 2)\n",
        "    index += 1"
      ],
      "metadata": {
        "colab": {
          "base_uri": "https://localhost:8080/"
        },
        "id": "ON8eo8pKqjFF",
        "outputId": "4ad357de-2b6d-402f-8490-229bedb33148"
      },
      "execution_count": 23,
      "outputs": [
        {
          "output_type": "stream",
          "name": "stdout",
          "text": [
            "0\n",
            "1\n",
            "9\n",
            "25\n",
            "36\n",
            "49\n",
            "64\n",
            "81\n"
          ]
        }
      ]
    },
    {
      "cell_type": "markdown",
      "source": [
        "### Using __len__ and __getitem__ in Classes. Sequence types. \n",
        "\n",
        "Python knows when you reach the end of an iterable when IndexError is raised. "
      ],
      "metadata": {
        "id": "l98aQZOYsKUA"
      }
    },
    {
      "cell_type": "code",
      "source": [
        "class Silly:\n",
        "    def __init__(self, n):\n",
        "        self.n = n\n",
        "    \n",
        "    def __len__(self):\n",
        "        print(\"Called __len__\")\n",
        "        #print(\"This is silly\")\n",
        "        return self.n\n",
        "\n",
        "    def __getitem__(self, index):\n",
        "        f\"You requested item at index {index}\"\n",
        "        return \"Silly element!\"\n",
        "\n",
        "silly = Silly(10)\n",
        "len(silly)\n",
        "print(silly.__getitem__(100))"
      ],
      "metadata": {
        "colab": {
          "base_uri": "https://localhost:8080/"
        },
        "id": "fiWqpCLxrT42",
        "outputId": "5fd24526-2b6c-4fea-8eb1-47e80330ec03"
      },
      "execution_count": 34,
      "outputs": [
        {
          "output_type": "stream",
          "name": "stdout",
          "text": [
            "Called __len__\n",
            "Silly element\n"
          ]
        }
      ]
    },
    {
      "cell_type": "code",
      "source": [
        "class Silly:\n",
        "    def __init__(self, n):\n",
        "        self.n = n\n",
        "    \n",
        "    def __len__(self):\n",
        "        print(\"Called __len__\")\n",
        "        #print(\"This is silly\")\n",
        "        return self.n\n",
        "\n",
        "    def __getitem__(self, index):\n",
        "        if index < 0 or index >= self.n:\n",
        "            raise IndexError\n",
        "        else:\n",
        "            #print(f\"You requested item at index {index}\")\n",
        "            return \"Silly element!\"\n",
        "\n",
        "silly = Silly(10)\n",
        "len(silly)\n",
        "print(silly.__getitem__(9))"
      ],
      "metadata": {
        "colab": {
          "base_uri": "https://localhost:8080/"
        },
        "id": "79ZOpYB_tBhI",
        "outputId": "c37ec851-de60-42f9-9867-dd93ab0e1680"
      },
      "execution_count": 43,
      "outputs": [
        {
          "output_type": "stream",
          "name": "stdout",
          "text": [
            "Called __len__\n",
            "Silly element!\n"
          ]
        }
      ]
    },
    {
      "cell_type": "code",
      "source": [
        "for item in silly:\n",
        "    print(item)"
      ],
      "metadata": {
        "colab": {
          "base_uri": "https://localhost:8080/"
        },
        "id": "wZBXSfx0tuU_",
        "outputId": "febe5bbe-056b-46f8-88f1-8a7d83e05824"
      },
      "execution_count": 44,
      "outputs": [
        {
          "output_type": "stream",
          "name": "stdout",
          "text": [
            "Silly element!\n",
            "Silly element!\n",
            "Silly element!\n",
            "Silly element!\n",
            "Silly element!\n",
            "Silly element!\n",
            "Silly element!\n",
            "Silly element!\n",
            "Silly element!\n",
            "Silly element!\n"
          ]
        }
      ]
    },
    {
      "cell_type": "code",
      "source": [
        "[item * 2 for item in silly]"
      ],
      "metadata": {
        "colab": {
          "base_uri": "https://localhost:8080/"
        },
        "id": "gMswqk1EvAqS",
        "outputId": "b8989754-1120-4951-8fe6-cfb60db19ca4"
      },
      "execution_count": 46,
      "outputs": [
        {
          "output_type": "execute_result",
          "data": {
            "text/plain": [
              "['Silly element!Silly element!',\n",
              " 'Silly element!Silly element!',\n",
              " 'Silly element!Silly element!',\n",
              " 'Silly element!Silly element!',\n",
              " 'Silly element!Silly element!',\n",
              " 'Silly element!Silly element!',\n",
              " 'Silly element!Silly element!',\n",
              " 'Silly element!Silly element!',\n",
              " 'Silly element!Silly element!',\n",
              " 'Silly element!Silly element!']"
            ]
          },
          "metadata": {},
          "execution_count": 46
        }
      ]
    }
  ]
}
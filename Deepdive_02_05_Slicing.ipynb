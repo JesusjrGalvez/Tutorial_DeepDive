{
  "cells": [
    {
      "cell_type": "markdown",
      "metadata": {
        "id": "view-in-github",
        "colab_type": "text"
      },
      "source": [
        "<a href=\"https://colab.research.google.com/github/JesusjrGalvez/Tutorial_DeepDive/blob/main/Deepdive_02_05_Slicing.ipynb\" target=\"_parent\"><img src=\"https://colab.research.google.com/assets/colab-badge.svg\" alt=\"Open In Colab\"/></a>"
      ]
    },
    {
      "cell_type": "markdown",
      "metadata": {
        "id": "8G47H_Zve2yM"
      },
      "source": [
        "### Slicing"
      ]
    },
    {
      "cell_type": "markdown",
      "metadata": {
        "id": "Zzg4nFHze2yR"
      },
      "source": [
        "Slices can actually be defined using the `slice()` function which creates a `slice` object:"
      ]
    },
    {
      "cell_type": "code",
      "execution_count": null,
      "metadata": {
        "collapsed": true,
        "id": "y3h6KeMWe2yR"
      },
      "outputs": [],
      "source": [
        "s = slice(0, 2)"
      ]
    },
    {
      "cell_type": "code",
      "execution_count": null,
      "metadata": {
        "id": "eLTZvoBLe2yT",
        "outputId": "451f8827-2d1a-453d-85ca-bb36b2aabd8d"
      },
      "outputs": [
        {
          "data": {
            "text/plain": [
              "slice"
            ]
          },
          "execution_count": 2,
          "metadata": {},
          "output_type": "execute_result"
        }
      ],
      "source": [
        "type(s)"
      ]
    },
    {
      "cell_type": "code",
      "execution_count": null,
      "metadata": {
        "id": "gyK2phbGe2yV",
        "outputId": "5baed868-c015-44f8-9a42-08feec2aa705"
      },
      "outputs": [
        {
          "data": {
            "text/plain": [
              "0"
            ]
          },
          "execution_count": 3,
          "metadata": {},
          "output_type": "execute_result"
        }
      ],
      "source": [
        "s.start"
      ]
    },
    {
      "cell_type": "code",
      "execution_count": null,
      "metadata": {
        "id": "gLEkK7Gre2yW",
        "outputId": "d358ec2e-8895-4218-fe09-6fd22f34eaf3"
      },
      "outputs": [
        {
          "data": {
            "text/plain": [
              "2"
            ]
          },
          "execution_count": 4,
          "metadata": {},
          "output_type": "execute_result"
        }
      ],
      "source": [
        "s.stop"
      ]
    },
    {
      "cell_type": "code",
      "execution_count": null,
      "metadata": {
        "id": "_cUteyq8e2yW",
        "outputId": "a97907a6-50e9-4620-8fbc-487482f3551c"
      },
      "outputs": [
        {
          "data": {
            "text/plain": [
              "[1, 2]"
            ]
          },
          "execution_count": 5,
          "metadata": {},
          "output_type": "execute_result"
        }
      ],
      "source": [
        "l = [1, 2, 3, 4, 5]\n",
        "l[s]"
      ]
    },
    {
      "cell_type": "markdown",
      "metadata": {
        "collapsed": true,
        "id": "lq4mPcOge2yX"
      },
      "source": [
        "This can be useful in practice to make code more readable.\n",
        "\n",
        "Suppose you are parsing fixed-width file. You would need to define the start/end column of each field in the rows of the file.\n",
        "\n",
        "So you might write something like this:"
      ]
    },
    {
      "cell_type": "code",
      "execution_count": null,
      "metadata": {
        "collapsed": true,
        "id": "miz_xiZje2yY"
      },
      "outputs": [],
      "source": [
        "data = []  # a collection of rows, read from a file maybe\n",
        "for row in data:\n",
        "    first_name = row[0:51]\n",
        "    last_name = row[51:101]\n",
        "    ssn = row[101:111]\n",
        "    # etc"
      ]
    },
    {
      "cell_type": "markdown",
      "metadata": {
        "id": "iibnElmae2yZ"
      },
      "source": [
        "Instead, you might write:"
      ]
    },
    {
      "cell_type": "code",
      "execution_count": null,
      "metadata": {
        "collapsed": true,
        "id": "tGSVr_kle2yZ"
      },
      "outputs": [],
      "source": [
        "range_first_name = slice(0, 51)\n",
        "range_last_name = slice(51, 101)\n",
        "range_ssn = slice(101, 111)"
      ]
    },
    {
      "cell_type": "markdown",
      "metadata": {
        "id": "r8PWXKkXe2ya"
      },
      "source": [
        "These might even be defined in your global scope, or maybe a config file.\n",
        "\n",
        "Then in your code you would write this instead:"
      ]
    },
    {
      "cell_type": "code",
      "execution_count": null,
      "metadata": {
        "collapsed": true,
        "id": "wGF5MmVEe2ya"
      },
      "outputs": [],
      "source": [
        "for row in data:\n",
        "    first_name = row[range_first_name]\n",
        "    last_name = row[range_last_name]\n",
        "    ssn = row[range_ssn]"
      ]
    },
    {
      "cell_type": "markdown",
      "metadata": {
        "id": "kofJ_jhse2ya"
      },
      "source": [
        "Separating the slice definition from the code that uses the slice makes it now much easier to update your slice definitions in one place, rather than hunt for them all over the place."
      ]
    },
    {
      "cell_type": "markdown",
      "metadata": {
        "id": "SRyxMtP9e2yb"
      },
      "source": [
        "#### Slice Fundamentals"
      ]
    },
    {
      "cell_type": "markdown",
      "metadata": {
        "id": "3zjk7iJye2yb"
      },
      "source": [
        "Indexing is zero-based in Python, and slices are inclusive of their start-index, and exclusive of their end-index:"
      ]
    },
    {
      "cell_type": "code",
      "execution_count": null,
      "metadata": {
        "id": "wfBUi8kpe2yb",
        "outputId": "dc48134a-50a9-42cd-8d8a-f236ff4c482c"
      },
      "outputs": [
        {
          "data": {
            "text/plain": [
              "('p', 'python')"
            ]
          },
          "execution_count": 9,
          "metadata": {},
          "output_type": "execute_result"
        }
      ],
      "source": [
        "l = 'python'\n",
        "l[0:1], l[0:6]"
      ]
    },
    {
      "cell_type": "markdown",
      "metadata": {
        "id": "ZbMRCyH6e2yc"
      },
      "source": [
        "Additionally, extended slicing allows specifying a step value:"
      ]
    },
    {
      "cell_type": "code",
      "execution_count": null,
      "metadata": {
        "id": "DI1G6Adpe2yc",
        "outputId": "791b557a-4b1b-44e4-ec4f-eeac2e79e0a4"
      },
      "outputs": [
        {
          "data": {
            "text/plain": [
              "('pto', 'ph')"
            ]
          },
          "execution_count": 10,
          "metadata": {},
          "output_type": "execute_result"
        }
      ],
      "source": [
        "l = 'python'\n",
        "l[0:6:2], l[0:6:3]"
      ]
    },
    {
      "cell_type": "markdown",
      "metadata": {
        "id": "Jq-TrkHye2yd"
      },
      "source": [
        "And extended slices can also be defined using `slice`:"
      ]
    },
    {
      "cell_type": "code",
      "execution_count": null,
      "metadata": {
        "id": "1KXGYhYze2yd",
        "outputId": "3650c005-60f0-467c-cae5-28c725992705"
      },
      "outputs": [
        {
          "data": {
            "text/plain": [
              "('pto', 'ph')"
            ]
          },
          "execution_count": 11,
          "metadata": {},
          "output_type": "execute_result"
        }
      ],
      "source": [
        "s1 = slice(0, 6, 2)\n",
        "s2 = slice(0, 6, 3)\n",
        "l[s1], l[s2]"
      ]
    },
    {
      "cell_type": "markdown",
      "metadata": {
        "id": "q6b24nFZe2ye"
      },
      "source": [
        "Unlike regular indexing (e.g. `l[n]`), it's OK for slice indexes to be \"out of bounds\":"
      ]
    },
    {
      "cell_type": "code",
      "execution_count": null,
      "metadata": {
        "id": "EOr6egSCe2ye",
        "outputId": "b8e22399-0d05-445c-d86f-a3180db60269"
      },
      "outputs": [
        {
          "data": {
            "text/plain": [
              "[1, 2, 3, 4, 5, 6]"
            ]
          },
          "execution_count": 12,
          "metadata": {},
          "output_type": "execute_result"
        }
      ],
      "source": [
        "l = [1, 2, 3, 4, 5, 6]\n",
        "l[0:100]"
      ]
    },
    {
      "cell_type": "code",
      "execution_count": null,
      "metadata": {
        "id": "JDsqox2ge2yf",
        "outputId": "d2477621-952e-4028-c7e9-ceaf34a630cf"
      },
      "outputs": [
        {
          "data": {
            "text/plain": [
              "[1, 2, 3, 4, 5, 6]"
            ]
          },
          "execution_count": 13,
          "metadata": {},
          "output_type": "execute_result"
        }
      ],
      "source": [
        "l[-10:100]"
      ]
    },
    {
      "cell_type": "markdown",
      "metadata": {
        "id": "OJIFKlVVe2yf"
      },
      "source": [
        "But regular indexing will raise exceptions for out of bound errors:"
      ]
    },
    {
      "cell_type": "code",
      "execution_count": null,
      "metadata": {
        "id": "ZHu1QJAle2yf",
        "outputId": "fffc16fa-35b8-42c0-b861-cd4cbdaa94f8"
      },
      "outputs": [
        {
          "ename": "IndexError",
          "evalue": "list index out of range",
          "output_type": "error",
          "traceback": [
            "\u001b[1;31m---------------------------------------------------------------------------\u001b[0m",
            "\u001b[1;31mIndexError\u001b[0m                                Traceback (most recent call last)",
            "\u001b[1;32m<ipython-input-14-17c89fd6f29e>\u001b[0m in \u001b[0;36m<module>\u001b[1;34m()\u001b[0m\n\u001b[0;32m      1\u001b[0m \u001b[0ml\u001b[0m \u001b[1;33m=\u001b[0m \u001b[1;33m[\u001b[0m\u001b[1;36m1\u001b[0m\u001b[1;33m,\u001b[0m \u001b[1;36m2\u001b[0m\u001b[1;33m,\u001b[0m \u001b[1;36m3\u001b[0m\u001b[1;33m,\u001b[0m \u001b[1;36m4\u001b[0m\u001b[1;33m,\u001b[0m \u001b[1;36m5\u001b[0m\u001b[1;33m,\u001b[0m \u001b[1;36m6\u001b[0m\u001b[1;33m]\u001b[0m\u001b[1;33m\u001b[0m\u001b[0m\n\u001b[1;32m----> 2\u001b[1;33m \u001b[0ml\u001b[0m\u001b[1;33m[\u001b[0m\u001b[1;36m100\u001b[0m\u001b[1;33m]\u001b[0m\u001b[1;33m\u001b[0m\u001b[0m\n\u001b[0m",
            "\u001b[1;31mIndexError\u001b[0m: list index out of range"
          ]
        }
      ],
      "source": [
        "l = [1, 2, 3, 4, 5, 6]\n",
        "l[100]"
      ]
    },
    {
      "cell_type": "markdown",
      "metadata": {
        "id": "2glUjFMle2yg"
      },
      "source": [
        "In slicing, if we do not specify the start/end index, Python will automatically use the start/end of the sequence we are slicing:"
      ]
    },
    {
      "cell_type": "code",
      "execution_count": null,
      "metadata": {
        "collapsed": true,
        "id": "62Gpwuife2yg"
      },
      "outputs": [],
      "source": [
        "l = [1, 2, 3, 4, 5, 6]"
      ]
    },
    {
      "cell_type": "code",
      "execution_count": null,
      "metadata": {
        "id": "dahOJOxKe2yg",
        "outputId": "d25164a4-780d-4493-9837-101d6041ddc0"
      },
      "outputs": [
        {
          "data": {
            "text/plain": [
              "[1, 2, 3, 4]"
            ]
          },
          "execution_count": 16,
          "metadata": {},
          "output_type": "execute_result"
        }
      ],
      "source": [
        "l[:4]"
      ]
    },
    {
      "cell_type": "code",
      "execution_count": null,
      "metadata": {
        "id": "u8t7BBQce2yg",
        "outputId": "2da1258b-8b5c-4889-b867-367bcc0a8e69"
      },
      "outputs": [
        {
          "data": {
            "text/plain": [
              "[5, 6]"
            ]
          },
          "execution_count": 17,
          "metadata": {},
          "output_type": "execute_result"
        }
      ],
      "source": [
        "l[4:]"
      ]
    },
    {
      "cell_type": "markdown",
      "metadata": {
        "id": "n1MBn5SGe2yh"
      },
      "source": [
        "In fact, we can omit both:"
      ]
    },
    {
      "cell_type": "code",
      "execution_count": null,
      "metadata": {
        "id": "JsVyyok7e2yh",
        "outputId": "6534cb49-79cb-4868-ead0-0c17c91ede42"
      },
      "outputs": [
        {
          "data": {
            "text/plain": [
              "[1, 2, 3, 4, 5, 6]"
            ]
          },
          "execution_count": 18,
          "metadata": {},
          "output_type": "execute_result"
        }
      ],
      "source": [
        "l[:]"
      ]
    },
    {
      "cell_type": "markdown",
      "metadata": {
        "id": "dDI8CAIBe2yh"
      },
      "source": [
        "In addition to the start/stop values allowing for negative values, the step value can also be negative. This simply means the sequence will traversed in the opposite direction:"
      ]
    },
    {
      "cell_type": "code",
      "execution_count": null,
      "metadata": {
        "collapsed": true,
        "id": "DpflplP7e2yh"
      },
      "outputs": [],
      "source": [
        "l = [0, 1, 2, 3, 4, 5]"
      ]
    },
    {
      "cell_type": "code",
      "execution_count": null,
      "metadata": {
        "id": "Dhx_PqlNe2yh",
        "outputId": "ce532703-2dc0-492f-e37b-662019d1a5f9"
      },
      "outputs": [
        {
          "data": {
            "text/plain": [
              "[3, 2, 1]"
            ]
          },
          "execution_count": 20,
          "metadata": {},
          "output_type": "execute_result"
        }
      ],
      "source": [
        "l[3:0:-1]"
      ]
    },
    {
      "cell_type": "markdown",
      "metadata": {
        "id": "LNEqoAuBe2yh"
      },
      "source": [
        "Basically we started at `3` (inclusive) and went in steps of `-1`, ending at (but not including) `0`."
      ]
    },
    {
      "cell_type": "markdown",
      "metadata": {
        "id": "lAFgoP6Le2yi"
      },
      "source": [
        "If we wanted to include the `0` index element, we could do it by ommitting the end value:"
      ]
    },
    {
      "cell_type": "code",
      "execution_count": null,
      "metadata": {
        "id": "bBG03nRLe2yi",
        "outputId": "b884261e-eee5-4ac4-d516-5e877a4f4cac"
      },
      "outputs": [
        {
          "data": {
            "text/plain": [
              "[3, 2, 1, 0]"
            ]
          },
          "execution_count": 21,
          "metadata": {},
          "output_type": "execute_result"
        }
      ],
      "source": [
        "l[3::-1]"
      ]
    },
    {
      "cell_type": "markdown",
      "metadata": {
        "id": "a3wFipSLe2yi"
      },
      "source": [
        "We could also do the following:"
      ]
    },
    {
      "cell_type": "code",
      "execution_count": null,
      "metadata": {
        "id": "h-7udjrae2yi",
        "outputId": "74bd9058-8f32-4302-a4c5-bc24ed255287"
      },
      "outputs": [
        {
          "data": {
            "text/plain": [
              "[3, 2, 1, 0]"
            ]
          },
          "execution_count": 22,
          "metadata": {},
          "output_type": "execute_result"
        }
      ],
      "source": [
        "l[3:-100:-1]"
      ]
    },
    {
      "cell_type": "markdown",
      "metadata": {
        "id": "Vzi0E5sCe2yi"
      },
      "source": [
        "But this would not work as expected:"
      ]
    },
    {
      "cell_type": "code",
      "execution_count": null,
      "metadata": {
        "id": "j2pe3J5de2yj",
        "outputId": "324b52a4-24d3-4549-c11b-a1a88771600a"
      },
      "outputs": [
        {
          "data": {
            "text/plain": [
              "[]"
            ]
          },
          "execution_count": 23,
          "metadata": {},
          "output_type": "execute_result"
        }
      ],
      "source": [
        "l[3:-1:-1]"
      ]
    },
    {
      "cell_type": "markdown",
      "metadata": {
        "id": "U-rNrxgAe2yj"
      },
      "source": [
        "Why?"
      ]
    },
    {
      "cell_type": "markdown",
      "metadata": {
        "id": "Xra4jIOOe2yj"
      },
      "source": [
        "Remember from the lecture that this range equivalence would be:\n",
        "\n",
        "`3 --> 3`\n",
        "\n",
        "`-1 < 0 --> max(-1, 6-1) --> max(-1, 5) --> 5`\n",
        "\n",
        "so equivalent range would be given by:"
      ]
    },
    {
      "cell_type": "code",
      "execution_count": null,
      "metadata": {
        "id": "kBW_8cc-e2yj",
        "outputId": "a69b714b-edb9-48f3-d9fb-df902cf0b6bb"
      },
      "outputs": [
        {
          "data": {
            "text/plain": [
              "[]"
            ]
          },
          "execution_count": 24,
          "metadata": {},
          "output_type": "execute_result"
        }
      ],
      "source": [
        "list(range(3, 5, -1))"
      ]
    },
    {
      "cell_type": "markdown",
      "metadata": {
        "id": "6uN6gdNme2yj"
      },
      "source": [
        "which of course is an empty range!"
      ]
    },
    {
      "cell_type": "markdown",
      "metadata": {
        "id": "xHkQx3Mde2yj"
      },
      "source": [
        "#### Easily Converting a Slice to a Range"
      ]
    },
    {
      "cell_type": "markdown",
      "metadata": {
        "id": "rRtoe9xGe2yk"
      },
      "source": [
        "We can easily determine the effective range of a slice by using the `indices` method in the `slice` object. The only thing is that in order to do this we must know the length of the sequence we are slicing."
      ]
    },
    {
      "cell_type": "markdown",
      "metadata": {
        "id": "zAsWSNcge2yk"
      },
      "source": [
        "For example, if our list has a length of 10:"
      ]
    },
    {
      "cell_type": "code",
      "execution_count": null,
      "metadata": {
        "id": "9Yc_Cip0e2yk",
        "outputId": "36865df8-82b3-4c31-9b7f-d68672558b60"
      },
      "outputs": [
        {
          "data": {
            "text/plain": [
              "(1, 5, 1)"
            ]
          },
          "execution_count": 25,
          "metadata": {},
          "output_type": "execute_result"
        }
      ],
      "source": [
        "slice(1, 5).indices(10)"
      ]
    },
    {
      "cell_type": "code",
      "execution_count": null,
      "metadata": {
        "id": "NAwH_TLBe2yk",
        "outputId": "b3702240-6c69-49b2-a2aa-67494fa8a014"
      },
      "outputs": [
        {
          "data": {
            "text/plain": [
              "[1, 2, 3, 4]"
            ]
          },
          "execution_count": 26,
          "metadata": {},
          "output_type": "execute_result"
        }
      ],
      "source": [
        "list(range(1, 5, 1))"
      ]
    },
    {
      "cell_type": "code",
      "execution_count": null,
      "metadata": {
        "id": "Z7QezCwPe2yk",
        "outputId": "e85510d1-8db3-4ba1-b479-329dc80bc7f6"
      },
      "outputs": [
        {
          "data": {
            "text/plain": [
              "[1, 2, 3, 4]"
            ]
          },
          "execution_count": 27,
          "metadata": {},
          "output_type": "execute_result"
        }
      ],
      "source": [
        "l = [0, 1, 2, 3, 4, 5, 6, 7, 8, 9]\n",
        "l[1:5]"
      ]
    },
    {
      "cell_type": "markdown",
      "metadata": {
        "id": "Fo-8KHd1e2yl"
      },
      "source": [
        "The `slice` object can also handle extended slicing:"
      ]
    },
    {
      "cell_type": "code",
      "execution_count": null,
      "metadata": {
        "id": "Xcrf6ixZe2yl",
        "outputId": "b89c55b2-0d47-4fdc-9b25-064618edb500"
      },
      "outputs": [
        {
          "data": {
            "text/plain": [
              "(0, 10, 2)"
            ]
          },
          "execution_count": 28,
          "metadata": {},
          "output_type": "execute_result"
        }
      ],
      "source": [
        "slice(0, 100, 2).indices(10)"
      ]
    },
    {
      "cell_type": "code",
      "execution_count": null,
      "metadata": {
        "id": "y7sP-8mqe2yl",
        "outputId": "1ce47439-6945-4535-bc04-311e8ac12e44"
      },
      "outputs": [
        {
          "data": {
            "text/plain": [
              "[0, 2, 4, 6, 8]"
            ]
          },
          "execution_count": 29,
          "metadata": {},
          "output_type": "execute_result"
        }
      ],
      "source": [
        "list(range(0, 10, 2))"
      ]
    },
    {
      "cell_type": "code",
      "execution_count": null,
      "metadata": {
        "id": "NsBLcH3le2yl",
        "outputId": "04482dae-cf8c-47be-e7fb-75dc065df274"
      },
      "outputs": [
        {
          "data": {
            "text/plain": [
              "[0, 2, 4, 6, 8]"
            ]
          },
          "execution_count": 30,
          "metadata": {},
          "output_type": "execute_result"
        }
      ],
      "source": [
        "l[0:100:2]"
      ]
    },
    {
      "cell_type": "markdown",
      "metadata": {
        "id": "_Tjm9y_We2yl"
      },
      "source": [
        "We can easily retrieve a list of indices from a slice by passing the unpacked tuple returned by the `indices` method to the range function's arguments and converting to a list:"
      ]
    },
    {
      "cell_type": "code",
      "execution_count": null,
      "metadata": {
        "id": "ULf8ZzpZe2yl",
        "outputId": "3b5cb9c6-01d6-471b-be4f-298148daeba9"
      },
      "outputs": [
        {
          "data": {
            "text/plain": [
              "[9, 8, 7, 6, 5, 4, 3, 2, 1, 0]"
            ]
          },
          "execution_count": 31,
          "metadata": {},
          "output_type": "execute_result"
        }
      ],
      "source": [
        "list(range(*slice(None, None, -1).indices(10)))"
      ]
    },
    {
      "cell_type": "markdown",
      "metadata": {
        "id": "DzYgZnQ9e2ym"
      },
      "source": [
        "As we can see from this example, using a slice such as `[::-1]` returns a sequence that is in reverse order from the original one."
      ]
    },
    {
      "cell_type": "code",
      "execution_count": null,
      "metadata": {
        "id": "uXg4ZV4we2ym",
        "outputId": "f5f36263-a830-4199-a644-191bc34f23f7"
      },
      "outputs": [
        {
          "data": {
            "text/plain": [
              "[0, 1, 2, 3, 4, 5, 6, 7, 8, 9]"
            ]
          },
          "execution_count": 32,
          "metadata": {},
          "output_type": "execute_result"
        }
      ],
      "source": [
        "l"
      ]
    },
    {
      "cell_type": "code",
      "execution_count": null,
      "metadata": {
        "id": "Eql97_9ae2ym",
        "outputId": "0e804eb1-86f5-4b74-c76a-cb30edcbffed"
      },
      "outputs": [
        {
          "data": {
            "text/plain": [
              "[0, 1, 2, 3, 4, 5, 6, 7, 8, 9]"
            ]
          },
          "execution_count": 33,
          "metadata": {},
          "output_type": "execute_result"
        }
      ],
      "source": [
        "l[::]"
      ]
    },
    {
      "cell_type": "code",
      "execution_count": null,
      "metadata": {
        "id": "Ls84WOv7e2ym",
        "outputId": "a9912d2c-f038-481a-f9d5-fd692f7b535e"
      },
      "outputs": [
        {
          "data": {
            "text/plain": [
              "[9, 8, 7, 6, 5, 4, 3, 2, 1, 0]"
            ]
          },
          "execution_count": 34,
          "metadata": {},
          "output_type": "execute_result"
        }
      ],
      "source": [
        "l[::-1]"
      ]
    }
  ],
  "metadata": {
    "kernelspec": {
      "display_name": "Python 3",
      "language": "python",
      "name": "python3"
    },
    "language_info": {
      "codemirror_mode": {
        "name": "ipython",
        "version": 3
      },
      "file_extension": ".py",
      "mimetype": "text/x-python",
      "name": "python",
      "nbconvert_exporter": "python",
      "pygments_lexer": "ipython3",
      "version": "3.6.2"
    },
    "colab": {
      "provenance": [],
      "include_colab_link": true
    }
  },
  "nbformat": 4,
  "nbformat_minor": 0
}
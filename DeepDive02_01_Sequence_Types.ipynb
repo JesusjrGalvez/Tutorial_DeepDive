{
  "cells": [
    {
      "cell_type": "markdown",
      "metadata": {
        "id": "view-in-github",
        "colab_type": "text"
      },
      "source": [
        "<a href=\"https://colab.research.google.com/github/JesusjrGalvez/Tutorial_DeepDive/blob/main/DeepDive02_01_Sequence_Types.ipynb\" target=\"_parent\"><img src=\"https://colab.research.google.com/assets/colab-badge.svg\" alt=\"Open In Colab\"/></a>"
      ]
    },
    {
      "cell_type": "markdown",
      "metadata": {
        "id": "TKSlp1uTpMCp"
      },
      "source": [
        "### Sequence Types"
      ]
    },
    {
      "cell_type": "markdown",
      "metadata": {
        "id": "vZ48VTrjpMCw"
      },
      "source": [
        "Sequence types have the general concept of a first element, a second element, and so on. Basically an ordering of the sequence items using the natural numbers. In Python (and many other languages) the starting index is set to `0`, not `1`.\n",
        "\n",
        "So the first item has index `0`, the second item has index `1`, and so on."
      ]
    },
    {
      "cell_type": "markdown",
      "metadata": {
        "id": "siKt7xXfpMCx"
      },
      "source": [
        "Python has built-in mutable and immutable sequence types."
      ]
    },
    {
      "cell_type": "markdown",
      "metadata": {
        "id": "R4GkRp0bpMCy"
      },
      "source": [
        "Strings, tuples are immutable - we can access but not modify the **content** of the **sequence**:"
      ]
    },
    {
      "cell_type": "code",
      "execution_count": null,
      "metadata": {
        "collapsed": true,
        "id": "YuEaTQthpMCz"
      },
      "outputs": [],
      "source": [
        "t = (1, 2, 3)"
      ]
    },
    {
      "cell_type": "code",
      "execution_count": null,
      "metadata": {
        "id": "UEQSijycpMC0",
        "outputId": "9dce6cac-4058-49ea-ec99-45a8510ed80b"
      },
      "outputs": [
        {
          "data": {
            "text/plain": [
              "1"
            ]
          },
          "execution_count": 2,
          "metadata": {},
          "output_type": "execute_result"
        }
      ],
      "source": [
        "t[0]"
      ]
    },
    {
      "cell_type": "code",
      "execution_count": null,
      "metadata": {
        "id": "s1drUHYIpMC1",
        "outputId": "b4da48cb-c2c6-4240-a993-f7c4a7263c65"
      },
      "outputs": [
        {
          "ename": "TypeError",
          "evalue": "'tuple' object does not support item assignment",
          "output_type": "error",
          "traceback": [
            "\u001b[1;31m---------------------------------------------------------------------------\u001b[0m",
            "\u001b[1;31mTypeError\u001b[0m                                 Traceback (most recent call last)",
            "\u001b[1;32m<ipython-input-3-155b9e8fb284>\u001b[0m in \u001b[0;36m<module>\u001b[1;34m()\u001b[0m\n\u001b[1;32m----> 1\u001b[1;33m \u001b[0mt\u001b[0m\u001b[1;33m[\u001b[0m\u001b[1;36m0\u001b[0m\u001b[1;33m]\u001b[0m \u001b[1;33m=\u001b[0m \u001b[1;36m100\u001b[0m\u001b[1;33m\u001b[0m\u001b[0m\n\u001b[0m",
            "\u001b[1;31mTypeError\u001b[0m: 'tuple' object does not support item assignment"
          ]
        }
      ],
      "source": [
        "t[0] = 100"
      ]
    },
    {
      "cell_type": "markdown",
      "metadata": {
        "id": "em_bQkA_pMC3"
      },
      "source": [
        "But of course, if the sequence contains mutable objects, then although we cannot modify the sequence of elements (cannot replace, delete or insert elements), we certainly **can** change the contents of the mutable objects:"
      ]
    },
    {
      "cell_type": "code",
      "execution_count": null,
      "metadata": {
        "collapsed": true,
        "id": "aXmN3NGwpMC3"
      },
      "outputs": [],
      "source": [
        "t = ( [1, 2], 3, 4)"
      ]
    },
    {
      "cell_type": "markdown",
      "metadata": {
        "id": "jKCpSSe_pMC4"
      },
      "source": [
        "`t` is immutable, but its first element is a mutable object:"
      ]
    },
    {
      "cell_type": "code",
      "execution_count": null,
      "metadata": {
        "collapsed": true,
        "id": "jSgSkywLpMC5"
      },
      "outputs": [],
      "source": [
        "t[0][0] = 100"
      ]
    },
    {
      "cell_type": "code",
      "execution_count": null,
      "metadata": {
        "id": "V228zCgupMC5",
        "outputId": "dbfb3328-29dc-4b71-8af6-50324d030034"
      },
      "outputs": [
        {
          "data": {
            "text/plain": [
              "([100, 2], 3, 4)"
            ]
          },
          "execution_count": 6,
          "metadata": {},
          "output_type": "execute_result"
        }
      ],
      "source": [
        "t"
      ]
    },
    {
      "cell_type": "markdown",
      "metadata": {
        "id": "1wjRwHhBpMC6"
      },
      "source": [
        "#### Iterables"
      ]
    },
    {
      "cell_type": "markdown",
      "metadata": {
        "id": "_J8-RmOqpMC6"
      },
      "source": [
        "An **iterable** is just something that can be iterated over, for example using a `for` loop:"
      ]
    },
    {
      "cell_type": "code",
      "execution_count": null,
      "metadata": {
        "collapsed": true,
        "id": "_-lERQtUpMC6"
      },
      "outputs": [],
      "source": [
        "t = (10, 'a', 1+3j)"
      ]
    },
    {
      "cell_type": "code",
      "execution_count": null,
      "metadata": {
        "collapsed": true,
        "id": "pVf3AJ-OpMC7"
      },
      "outputs": [],
      "source": [
        "s = {10, 'a', 1+3j}"
      ]
    },
    {
      "cell_type": "code",
      "execution_count": null,
      "metadata": {
        "id": "_2vR9H3xpMC7",
        "outputId": "b1b229cd-995d-483f-917b-187506ba3ad5"
      },
      "outputs": [
        {
          "name": "stdout",
          "output_type": "stream",
          "text": [
            "10\n",
            "a\n",
            "(1+3j)\n"
          ]
        }
      ],
      "source": [
        "for c in t:\n",
        "    print(c)"
      ]
    },
    {
      "cell_type": "code",
      "execution_count": null,
      "metadata": {
        "id": "f7DQuWzCpMC8",
        "outputId": "d1d56efe-0579-4e90-abea-9579d1d51293"
      },
      "outputs": [
        {
          "name": "stdout",
          "output_type": "stream",
          "text": [
            "a\n",
            "10\n",
            "(1+3j)\n"
          ]
        }
      ],
      "source": [
        "for c in s:\n",
        "    print(c)"
      ]
    },
    {
      "cell_type": "markdown",
      "metadata": {
        "id": "ZXNPuv7MpMC8"
      },
      "source": [
        "Note how we could iterate over both the tuple and the set. Iterating the tuple preserved the **order** of the elements in the tuple, but not for the set. Sets do not have an ordering of elements - they are iterable, but not sequences."
      ]
    },
    {
      "cell_type": "markdown",
      "metadata": {
        "id": "Nj3nOO0ypMC8"
      },
      "source": [
        "Most sequence types support the `in` and `not in` operations. Ranges do too, but not quite as efficiently as lists, tuples, strings, etc."
      ]
    },
    {
      "cell_type": "code",
      "execution_count": null,
      "metadata": {
        "id": "j_5XwQ7gpMC9",
        "outputId": "51b423f9-6d16-4ebe-f807-2d1ec08694cc"
      },
      "outputs": [
        {
          "data": {
            "text/plain": [
              "True"
            ]
          },
          "execution_count": 11,
          "metadata": {},
          "output_type": "execute_result"
        }
      ],
      "source": [
        "'a' in ['a', 'b', 100]"
      ]
    },
    {
      "cell_type": "code",
      "execution_count": null,
      "metadata": {
        "id": "t-bg-gZfpMC-",
        "outputId": "110c4bb6-2a44-4e69-c7de-c34ba8b5fc8e"
      },
      "outputs": [
        {
          "data": {
            "text/plain": [
              "True"
            ]
          },
          "execution_count": 12,
          "metadata": {},
          "output_type": "execute_result"
        }
      ],
      "source": [
        "100 in range(200)"
      ]
    },
    {
      "cell_type": "markdown",
      "metadata": {
        "id": "2AQiMxkepMC-"
      },
      "source": [
        "#### Min, Max and Length"
      ]
    },
    {
      "cell_type": "markdown",
      "metadata": {
        "id": "oSh53F0upMC-"
      },
      "source": [
        "Sequences also generally support the `len` method to obtain the number of items in the collection. Some iterables may also support that method."
      ]
    },
    {
      "cell_type": "code",
      "execution_count": null,
      "metadata": {
        "id": "QHxEiLr1pMC_",
        "outputId": "9285062b-5b81-4abd-ab1a-7343f77be0e9"
      },
      "outputs": [
        {
          "data": {
            "text/plain": [
              "(6, 3, 3, 2)"
            ]
          },
          "execution_count": 13,
          "metadata": {},
          "output_type": "execute_result"
        }
      ],
      "source": [
        "len('python'), len([1, 2, 3]), len({10, 20, 30}), len({'a': 1, 'b': 2})"
      ]
    },
    {
      "cell_type": "markdown",
      "metadata": {
        "id": "EEcQvHRHpMDA"
      },
      "source": [
        "Sequences (and even some iterables) may support `max` and `min` as long as the data types in the collection can be **ordered** in some sense (`<` or `>`)."
      ]
    },
    {
      "cell_type": "code",
      "execution_count": null,
      "metadata": {
        "id": "eT4bsVZbpMDA",
        "outputId": "68e93261-ff37-4989-9bc4-8a9368dc72c6"
      },
      "outputs": [
        {
          "data": {
            "text/plain": [
              "(100, 300)"
            ]
          },
          "execution_count": 14,
          "metadata": {},
          "output_type": "execute_result"
        }
      ],
      "source": [
        "a = [100, 300, 200]\n",
        "min(a), max(a)"
      ]
    },
    {
      "cell_type": "code",
      "execution_count": null,
      "metadata": {
        "id": "Z2mN2p2vpMDB",
        "outputId": "fa469060-1c30-44bc-b0d2-f713dfcfd9e0"
      },
      "outputs": [
        {
          "data": {
            "text/plain": [
              "('h', 'y')"
            ]
          },
          "execution_count": 15,
          "metadata": {},
          "output_type": "execute_result"
        }
      ],
      "source": [
        "s = 'python'\n",
        "min(s), max(s)"
      ]
    },
    {
      "cell_type": "code",
      "execution_count": null,
      "metadata": {
        "id": "uUHL2sKfpMDC",
        "outputId": "49a76625-e856-4e28-f474-3981551e9275"
      },
      "outputs": [
        {
          "data": {
            "text/plain": [
              "('h', 'y')"
            ]
          },
          "execution_count": 16,
          "metadata": {},
          "output_type": "execute_result"
        }
      ],
      "source": [
        "s = {'p', 'y', 't', 'h', 'o', 'n'}\n",
        "min(s), max(s)"
      ]
    },
    {
      "cell_type": "markdown",
      "metadata": {
        "id": "eXrSD0rJpMDC"
      },
      "source": [
        "But if the elements do not have an ordering defined:"
      ]
    },
    {
      "cell_type": "code",
      "execution_count": null,
      "metadata": {
        "id": "lkp9x_eSpMDD",
        "outputId": "3ce682c2-db60-4d71-b3ad-b7f8116378be"
      },
      "outputs": [
        {
          "ename": "TypeError",
          "evalue": "'<' not supported between instances of 'complex' and 'complex'",
          "output_type": "error",
          "traceback": [
            "\u001b[1;31m---------------------------------------------------------------------------\u001b[0m",
            "\u001b[1;31mTypeError\u001b[0m                                 Traceback (most recent call last)",
            "\u001b[1;32m<ipython-input-17-b0cd79e53377>\u001b[0m in \u001b[0;36m<module>\u001b[1;34m()\u001b[0m\n\u001b[0;32m      1\u001b[0m \u001b[0ma\u001b[0m \u001b[1;33m=\u001b[0m \u001b[1;33m[\u001b[0m\u001b[1;36m1\u001b[0m\u001b[1;33m+\u001b[0m\u001b[1;36m1j\u001b[0m\u001b[1;33m,\u001b[0m \u001b[1;36m2\u001b[0m\u001b[1;33m+\u001b[0m\u001b[1;36m2j\u001b[0m\u001b[1;33m,\u001b[0m \u001b[1;36m3\u001b[0m\u001b[1;33m+\u001b[0m\u001b[1;36m3j\u001b[0m\u001b[1;33m]\u001b[0m\u001b[1;33m\u001b[0m\u001b[0m\n\u001b[1;32m----> 2\u001b[1;33m \u001b[0mmin\u001b[0m\u001b[1;33m(\u001b[0m\u001b[0ma\u001b[0m\u001b[1;33m)\u001b[0m\u001b[1;33m\u001b[0m\u001b[0m\n\u001b[0m",
            "\u001b[1;31mTypeError\u001b[0m: '<' not supported between instances of 'complex' and 'complex'"
          ]
        }
      ],
      "source": [
        "a = [1+1j, 2+2j, 3+3j]\n",
        "min(a)"
      ]
    },
    {
      "cell_type": "markdown",
      "metadata": {
        "id": "cxQy7fnipMDD"
      },
      "source": [
        "`min` and `max` will work for heterogeneous types as long as the elements are pairwise comparable (`<` or `>` is defined). \n",
        "\n",
        "For example:"
      ]
    },
    {
      "cell_type": "code",
      "execution_count": null,
      "metadata": {
        "collapsed": true,
        "id": "q8D8ex8PpMDD"
      },
      "outputs": [],
      "source": [
        "from decimal import Decimal"
      ]
    },
    {
      "cell_type": "code",
      "execution_count": null,
      "metadata": {
        "collapsed": true,
        "id": "Lmv2yvHEpMDD"
      },
      "outputs": [],
      "source": [
        "t = 10, 20.5, Decimal('30.5')"
      ]
    },
    {
      "cell_type": "code",
      "execution_count": null,
      "metadata": {
        "id": "zM5hksgrpMDE",
        "outputId": "86b8b497-6da1-4fee-a3d3-4efac8407c96"
      },
      "outputs": [
        {
          "data": {
            "text/plain": [
              "(10, Decimal('30.5'))"
            ]
          },
          "execution_count": 20,
          "metadata": {},
          "output_type": "execute_result"
        }
      ],
      "source": [
        "min(t), max(t)"
      ]
    },
    {
      "cell_type": "code",
      "execution_count": null,
      "metadata": {
        "id": "yBDcJ_GbpMDE",
        "outputId": "b92e3596-0f02-405e-a71b-3bf208250815"
      },
      "outputs": [
        {
          "ename": "TypeError",
          "evalue": "'<' not supported between instances of 'int' and 'str'",
          "output_type": "error",
          "traceback": [
            "\u001b[1;31m---------------------------------------------------------------------------\u001b[0m",
            "\u001b[1;31mTypeError\u001b[0m                                 Traceback (most recent call last)",
            "\u001b[1;32m<ipython-input-21-983eac063887>\u001b[0m in \u001b[0;36m<module>\u001b[1;34m()\u001b[0m\n\u001b[0;32m      1\u001b[0m \u001b[0mt\u001b[0m \u001b[1;33m=\u001b[0m \u001b[1;33m[\u001b[0m\u001b[1;34m'a'\u001b[0m\u001b[1;33m,\u001b[0m \u001b[1;36m10\u001b[0m\u001b[1;33m,\u001b[0m \u001b[1;36m1000\u001b[0m\u001b[1;33m]\u001b[0m\u001b[1;33m\u001b[0m\u001b[0m\n\u001b[1;32m----> 2\u001b[1;33m \u001b[0mmin\u001b[0m\u001b[1;33m(\u001b[0m\u001b[0mt\u001b[0m\u001b[1;33m)\u001b[0m\u001b[1;33m\u001b[0m\u001b[0m\n\u001b[0m",
            "\u001b[1;31mTypeError\u001b[0m: '<' not supported between instances of 'int' and 'str'"
          ]
        }
      ],
      "source": [
        "t = ['a', 10, 1000]\n",
        "min(t)"
      ]
    },
    {
      "cell_type": "markdown",
      "metadata": {
        "id": "z9jODzqFpMDE"
      },
      "source": [
        "Even `range` objects support `min` and `max`:"
      ]
    },
    {
      "cell_type": "code",
      "execution_count": null,
      "metadata": {
        "id": "BJoWEF4apMDF",
        "outputId": "2de4f3da-f4b2-4289-a2ce-e47d4a4e1be2"
      },
      "outputs": [
        {
          "data": {
            "text/plain": [
              "(10, 199)"
            ]
          },
          "execution_count": 22,
          "metadata": {},
          "output_type": "execute_result"
        }
      ],
      "source": [
        "r = range(10, 200)\n",
        "min(r), max(r)"
      ]
    },
    {
      "cell_type": "markdown",
      "metadata": {
        "id": "vPvP1w6DpMDF"
      },
      "source": [
        "#### Concatenation"
      ]
    },
    {
      "cell_type": "markdown",
      "metadata": {
        "id": "oHn6OcP2pMDF"
      },
      "source": [
        "We can **concatenate** sequences using the `+` operator:"
      ]
    },
    {
      "cell_type": "code",
      "execution_count": null,
      "metadata": {
        "id": "uEH3yz6spMDG",
        "outputId": "1efe439e-e499-4fa9-cc2d-d4922702393d"
      },
      "outputs": [
        {
          "data": {
            "text/plain": [
              "[1, 2, 3, 4, 5, 6]"
            ]
          },
          "execution_count": 23,
          "metadata": {},
          "output_type": "execute_result"
        }
      ],
      "source": [
        "[1, 2, 3] + [4, 5, 6]"
      ]
    },
    {
      "cell_type": "code",
      "execution_count": null,
      "metadata": {
        "id": "1c4Yh41gpMDH",
        "outputId": "1528f291-6ad8-4b87-90eb-03a2ce47f232"
      },
      "outputs": [
        {
          "data": {
            "text/plain": [
              "(1, 2, 3, 4, 5, 6)"
            ]
          },
          "execution_count": 24,
          "metadata": {},
          "output_type": "execute_result"
        }
      ],
      "source": [
        "(1, 2, 3) + (4, 5, 6)"
      ]
    },
    {
      "cell_type": "markdown",
      "metadata": {
        "id": "pr7iGbBgpMDH"
      },
      "source": [
        "Note that the type of the concatenated result is the same as the type of the sequences being concatenated, so concatenating sequences of varying types will not work:"
      ]
    },
    {
      "cell_type": "code",
      "execution_count": null,
      "metadata": {
        "id": "3_ttcnFKpMDH",
        "outputId": "82f0fe0a-8b0e-403b-def4-f887dd388a62"
      },
      "outputs": [
        {
          "ename": "TypeError",
          "evalue": "can only concatenate tuple (not \"list\") to tuple",
          "output_type": "error",
          "traceback": [
            "\u001b[1;31m---------------------------------------------------------------------------\u001b[0m",
            "\u001b[1;31mTypeError\u001b[0m                                 Traceback (most recent call last)",
            "\u001b[1;32m<ipython-input-25-67a9e2ed8695>\u001b[0m in \u001b[0;36m<module>\u001b[1;34m()\u001b[0m\n\u001b[1;32m----> 1\u001b[1;33m \u001b[1;33m(\u001b[0m\u001b[1;36m1\u001b[0m\u001b[1;33m,\u001b[0m \u001b[1;36m2\u001b[0m\u001b[1;33m,\u001b[0m \u001b[1;36m3\u001b[0m\u001b[1;33m)\u001b[0m \u001b[1;33m+\u001b[0m \u001b[1;33m[\u001b[0m\u001b[1;36m4\u001b[0m\u001b[1;33m,\u001b[0m \u001b[1;36m5\u001b[0m\u001b[1;33m,\u001b[0m \u001b[1;36m6\u001b[0m\u001b[1;33m]\u001b[0m\u001b[1;33m\u001b[0m\u001b[0m\n\u001b[0m",
            "\u001b[1;31mTypeError\u001b[0m: can only concatenate tuple (not \"list\") to tuple"
          ]
        }
      ],
      "source": [
        "(1, 2, 3) + [4, 5, 6]"
      ]
    },
    {
      "cell_type": "code",
      "execution_count": null,
      "metadata": {
        "id": "KmoUQ7m_pMDH",
        "outputId": "a663c5b3-f5f9-40d6-e1b9-f11122b10943"
      },
      "outputs": [
        {
          "ename": "TypeError",
          "evalue": "must be str, not list",
          "output_type": "error",
          "traceback": [
            "\u001b[1;31m---------------------------------------------------------------------------\u001b[0m",
            "\u001b[1;31mTypeError\u001b[0m                                 Traceback (most recent call last)",
            "\u001b[1;32m<ipython-input-26-8cbdd441adc1>\u001b[0m in \u001b[0;36m<module>\u001b[1;34m()\u001b[0m\n\u001b[1;32m----> 1\u001b[1;33m \u001b[1;34m'abc'\u001b[0m \u001b[1;33m+\u001b[0m \u001b[1;33m[\u001b[0m\u001b[1;34m'd'\u001b[0m\u001b[1;33m,\u001b[0m \u001b[1;34m'e'\u001b[0m\u001b[1;33m,\u001b[0m \u001b[1;34m'f'\u001b[0m\u001b[1;33m]\u001b[0m\u001b[1;33m\u001b[0m\u001b[0m\n\u001b[0m",
            "\u001b[1;31mTypeError\u001b[0m: must be str, not list"
          ]
        }
      ],
      "source": [
        "'abc' + ['d', 'e', 'f']"
      ]
    },
    {
      "cell_type": "markdown",
      "metadata": {
        "id": "Bmr0TB82pMDI"
      },
      "source": [
        "Note: if you really want to concatenate varying types you'll have to transform them to a common type first:"
      ]
    },
    {
      "cell_type": "code",
      "execution_count": null,
      "metadata": {
        "id": "wjnsXLJBpMDI",
        "outputId": "be8d1cca-bcf7-4d15-ae54-63ed86522fd8"
      },
      "outputs": [
        {
          "data": {
            "text/plain": [
              "(1, 2, 3, 4, 5, 6)"
            ]
          },
          "execution_count": 27,
          "metadata": {},
          "output_type": "execute_result"
        }
      ],
      "source": [
        "(1, 2, 3) + tuple([4, 5, 6])"
      ]
    },
    {
      "cell_type": "code",
      "execution_count": null,
      "metadata": {
        "id": "f1rDz6SMpMDI",
        "outputId": "3637f3e0-f1f7-4466-8009-0fc892111143"
      },
      "outputs": [
        {
          "data": {
            "text/plain": [
              "('a', 'b', 'c', 'd', 'e', 'f')"
            ]
          },
          "execution_count": 28,
          "metadata": {},
          "output_type": "execute_result"
        }
      ],
      "source": [
        "tuple('abc') + ('d', 'e', 'f')"
      ]
    },
    {
      "cell_type": "code",
      "execution_count": null,
      "metadata": {
        "id": "6eaUQ5F3pMDI",
        "outputId": "781370c8-f98a-40f1-d692-f68ede54d6b5"
      },
      "outputs": [
        {
          "data": {
            "text/plain": [
              "'abcdef'"
            ]
          },
          "execution_count": 29,
          "metadata": {},
          "output_type": "execute_result"
        }
      ],
      "source": [
        "''.join(tuple('abc') + ('d', 'e', 'f'))"
      ]
    },
    {
      "cell_type": "markdown",
      "metadata": {
        "id": "0bgPjK74pMDJ"
      },
      "source": [
        "#### Repetition"
      ]
    },
    {
      "cell_type": "markdown",
      "metadata": {
        "id": "hdWECqsIpMDJ"
      },
      "source": [
        "Most sequence types also support **repetition**, which is essentially concatenating the same sequence an integer number of times:"
      ]
    },
    {
      "cell_type": "code",
      "execution_count": null,
      "metadata": {
        "id": "Mq8metXspMDJ",
        "outputId": "4d9b1a3c-16e8-4e79-dfe6-e419b5c0fcdc"
      },
      "outputs": [
        {
          "data": {
            "text/plain": [
              "'abcabcabcabcabc'"
            ]
          },
          "execution_count": 30,
          "metadata": {},
          "output_type": "execute_result"
        }
      ],
      "source": [
        "'abc' * 5"
      ]
    },
    {
      "cell_type": "code",
      "execution_count": null,
      "metadata": {
        "id": "544Z5NyRpMDJ",
        "outputId": "17eded78-a318-4ef6-eb87-f5b3b7d58aab"
      },
      "outputs": [
        {
          "data": {
            "text/plain": [
              "[1, 2, 3, 1, 2, 3, 1, 2, 3, 1, 2, 3, 1, 2, 3]"
            ]
          },
          "execution_count": 31,
          "metadata": {},
          "output_type": "execute_result"
        }
      ],
      "source": [
        "[1, 2, 3] * 5"
      ]
    },
    {
      "cell_type": "markdown",
      "metadata": {
        "id": "gwk9AB6GpMDJ"
      },
      "source": [
        "We'll come back to some caveats of concatenation and repetition in a bit."
      ]
    },
    {
      "cell_type": "markdown",
      "metadata": {
        "id": "a8mq6TMTpMDK"
      },
      "source": [
        "#### Finding things in Sequences"
      ]
    },
    {
      "cell_type": "markdown",
      "metadata": {
        "id": "gQ2EsSL5pMDK"
      },
      "source": [
        "We can find the index of the occurrence of an element in a sequence:"
      ]
    },
    {
      "cell_type": "code",
      "execution_count": null,
      "metadata": {
        "collapsed": true,
        "id": "lHzUCPAypMDK"
      },
      "outputs": [],
      "source": [
        "s = \"gnu's not unix\""
      ]
    },
    {
      "cell_type": "code",
      "execution_count": null,
      "metadata": {
        "id": "j2Nu1MFupMDK",
        "outputId": "d7d84b49-8cf9-4279-f71a-6753d8a55226"
      },
      "outputs": [
        {
          "data": {
            "text/plain": [
              "1"
            ]
          },
          "execution_count": 33,
          "metadata": {},
          "output_type": "execute_result"
        }
      ],
      "source": [
        "s.index('n')"
      ]
    },
    {
      "cell_type": "code",
      "execution_count": null,
      "metadata": {
        "id": "t0ELfZPkpMDK",
        "outputId": "7b938dc8-e4e1-42c3-830b-194e2c9071bc"
      },
      "outputs": [
        {
          "data": {
            "text/plain": [
              "(1, 6, 11)"
            ]
          },
          "execution_count": 34,
          "metadata": {},
          "output_type": "execute_result"
        }
      ],
      "source": [
        "s.index('n', 1), s.index('n', 2), s.index('n', 8)"
      ]
    },
    {
      "cell_type": "markdown",
      "metadata": {
        "id": "iMRtkTE5pMDL"
      },
      "source": [
        "An exception is raised of the element is not found, so you'll want to catch it if you don't want your app to crash:"
      ]
    },
    {
      "cell_type": "code",
      "execution_count": null,
      "metadata": {
        "id": "p7F4z420pMDL",
        "outputId": "6d21e4d6-6ded-4d9c-976d-8d149019c6c7"
      },
      "outputs": [
        {
          "ename": "ValueError",
          "evalue": "substring not found",
          "output_type": "error",
          "traceback": [
            "\u001b[1;31m---------------------------------------------------------------------------\u001b[0m",
            "\u001b[1;31mValueError\u001b[0m                                Traceback (most recent call last)",
            "\u001b[1;32m<ipython-input-35-d038ca109973>\u001b[0m in \u001b[0;36m<module>\u001b[1;34m()\u001b[0m\n\u001b[1;32m----> 1\u001b[1;33m \u001b[0ms\u001b[0m\u001b[1;33m.\u001b[0m\u001b[0mindex\u001b[0m\u001b[1;33m(\u001b[0m\u001b[1;34m'n'\u001b[0m\u001b[1;33m,\u001b[0m \u001b[1;36m13\u001b[0m\u001b[1;33m)\u001b[0m\u001b[1;33m\u001b[0m\u001b[0m\n\u001b[0m",
            "\u001b[1;31mValueError\u001b[0m: substring not found"
          ]
        }
      ],
      "source": [
        "s.index('n', 13)"
      ]
    },
    {
      "cell_type": "code",
      "execution_count": null,
      "metadata": {
        "id": "vqeGsbL2pMDL",
        "outputId": "6d0856ad-515c-49bd-cdb2-16923457a3af"
      },
      "outputs": [
        {
          "name": "stdout",
          "output_type": "stream",
          "text": [
            "not found\n"
          ]
        }
      ],
      "source": [
        "try:\n",
        "    idx = s.index('n', 13)\n",
        "except ValueError:\n",
        "    print('not found')"
      ]
    },
    {
      "cell_type": "markdown",
      "metadata": {
        "id": "1paYPFu3pMDL"
      },
      "source": [
        "Note that these methods of finding objects in sequences do not assume that the objects in the sequence are ordered in any way. These are basically searches that iterate over the sequence until they find (or not) the requested element.\n",
        "\n",
        "If you have a sorted sequence, then other search techniques are available - such as binary searches. I'll cover some of these topics in the extras section of this course."
      ]
    },
    {
      "cell_type": "markdown",
      "metadata": {
        "id": "DQ4Rq96UpMDL"
      },
      "source": [
        "#### Slicing"
      ]
    },
    {
      "cell_type": "markdown",
      "metadata": {
        "id": "Nnp5-rQqpMDL"
      },
      "source": [
        "We'll come back to slicing in a later lecture, but sequence types generally support slicing, even ranges (as of Python 3.2). Just like concatenation, slices will return the same type as the sequence being sliced:"
      ]
    },
    {
      "cell_type": "code",
      "execution_count": null,
      "metadata": {
        "collapsed": true,
        "id": "6iOjzPWxpMDM"
      },
      "outputs": [],
      "source": [
        "s = 'python'\n",
        "l = [1, 2, 3, 4, 5, 6, 7, 8, 9, 10]"
      ]
    },
    {
      "cell_type": "code",
      "execution_count": null,
      "metadata": {
        "id": "WPkXAZVppMDM",
        "outputId": "51fda726-0dbd-438b-b676-7591bb800f84"
      },
      "outputs": [
        {
          "data": {
            "text/plain": [
              "('pyt', 'on')"
            ]
          },
          "execution_count": 38,
          "metadata": {},
          "output_type": "execute_result"
        }
      ],
      "source": [
        "s[0:3], s[4:6]"
      ]
    },
    {
      "cell_type": "code",
      "execution_count": null,
      "metadata": {
        "id": "H9cumGgmpMDM",
        "outputId": "44e01a58-7bae-47ab-fb51-c5b7be76003c"
      },
      "outputs": [
        {
          "data": {
            "text/plain": [
              "([1, 2, 3], [5, 6])"
            ]
          },
          "execution_count": 39,
          "metadata": {},
          "output_type": "execute_result"
        }
      ],
      "source": [
        "l[0:3], l[4:6]"
      ]
    },
    {
      "cell_type": "markdown",
      "metadata": {
        "id": "vXfWBuRcpMDM"
      },
      "source": [
        "It's ok to extend ranges past the bounds of the sequence:"
      ]
    },
    {
      "cell_type": "code",
      "execution_count": null,
      "metadata": {
        "id": "wlDCgD5XpMDM",
        "outputId": "ddeb22a8-d01d-4cfa-ac01-692d3f4af3a0"
      },
      "outputs": [
        {
          "data": {
            "text/plain": [
              "'on'"
            ]
          },
          "execution_count": 40,
          "metadata": {},
          "output_type": "execute_result"
        }
      ],
      "source": [
        "s[4:1000]"
      ]
    },
    {
      "cell_type": "markdown",
      "metadata": {
        "id": "wqBeu0lRpMDN"
      },
      "source": [
        "If your first argument in the slice is `0`, you can even omit it. Omitting the second argument means it will include all the remaining elements:"
      ]
    },
    {
      "cell_type": "code",
      "execution_count": null,
      "metadata": {
        "id": "79qt5tkupMDN",
        "outputId": "550670be-c1b4-477f-c5e9-8e84f7c29e1a"
      },
      "outputs": [
        {
          "data": {
            "text/plain": [
              "('pyt', 'pyt')"
            ]
          },
          "execution_count": 41,
          "metadata": {},
          "output_type": "execute_result"
        }
      ],
      "source": [
        "s[0:3], s[:3]"
      ]
    },
    {
      "cell_type": "code",
      "execution_count": null,
      "metadata": {
        "id": "hRRCgGnppMDN",
        "outputId": "d2e53f11-91a3-474f-c671-e6c36dde1fe5"
      },
      "outputs": [
        {
          "data": {
            "text/plain": [
              "('hon', 'hon', 'python')"
            ]
          },
          "execution_count": 42,
          "metadata": {},
          "output_type": "execute_result"
        }
      ],
      "source": [
        "s[3:1000], s[3:], s[:]"
      ]
    },
    {
      "cell_type": "markdown",
      "metadata": {
        "id": "555kfPumpMDN"
      },
      "source": [
        "We can even have extended slicing, which provides a start, stop and a step:"
      ]
    },
    {
      "cell_type": "code",
      "execution_count": null,
      "metadata": {
        "id": "1jfnTP3mpMDN",
        "outputId": "2a3612ea-5e0a-4688-fc4c-271c6c96a8dc"
      },
      "outputs": [
        {
          "data": {
            "text/plain": [
              "('python', 'pytho', 'pto')"
            ]
          },
          "execution_count": 43,
          "metadata": {},
          "output_type": "execute_result"
        }
      ],
      "source": [
        "s, s[0:5], s[0:5:2]"
      ]
    },
    {
      "cell_type": "code",
      "execution_count": null,
      "metadata": {
        "id": "fUvoH_xCpMDO",
        "outputId": "515680b3-bf72-40d0-d817-2087126fcd23"
      },
      "outputs": [
        {
          "data": {
            "text/plain": [
              "('python', 'pto')"
            ]
          },
          "execution_count": 44,
          "metadata": {},
          "output_type": "execute_result"
        }
      ],
      "source": [
        "s, s[::2]"
      ]
    },
    {
      "cell_type": "markdown",
      "metadata": {
        "id": "hCwvnzHzpMDO"
      },
      "source": [
        "Technically we can also use negative values in slices, including extended slices (more on that later):"
      ]
    },
    {
      "cell_type": "code",
      "execution_count": null,
      "metadata": {
        "id": "u5sPckYrpMDO",
        "outputId": "d74ce095-58f0-4b4f-a9a7-418ad8c59bb2"
      },
      "outputs": [
        {
          "data": {
            "text/plain": [
              "('python', 'ho', 'nohtyp')"
            ]
          },
          "execution_count": 45,
          "metadata": {},
          "output_type": "execute_result"
        }
      ],
      "source": [
        "s, s[-3:-1], s[::-1]"
      ]
    },
    {
      "cell_type": "code",
      "execution_count": null,
      "metadata": {
        "collapsed": true,
        "id": "nYy84q67pMDP"
      },
      "outputs": [],
      "source": [
        "r = range(11)  # numbers from 0 to 10 (inclusive)"
      ]
    },
    {
      "cell_type": "code",
      "execution_count": null,
      "metadata": {
        "id": "MohnOfPNpMDP",
        "outputId": "0aca95b9-f1e0-4b35-bdaa-c972b570b70f"
      },
      "outputs": [
        {
          "name": "stdout",
          "output_type": "stream",
          "text": [
            "range(0, 11)\n",
            "[0, 1, 2, 3, 4, 5, 6, 7, 8, 9, 10]\n"
          ]
        }
      ],
      "source": [
        "print(r)\n",
        "print(list(r))"
      ]
    },
    {
      "cell_type": "code",
      "execution_count": null,
      "metadata": {
        "id": "fxiGKJvxpMDP",
        "outputId": "14dad014-7965-41a4-e083-bfd549512a7a"
      },
      "outputs": [
        {
          "name": "stdout",
          "output_type": "stream",
          "text": [
            "range(0, 5)\n"
          ]
        }
      ],
      "source": [
        "print(r[:5])"
      ]
    },
    {
      "cell_type": "code",
      "execution_count": null,
      "metadata": {
        "id": "ZO7voG_5pMDP",
        "outputId": "430ab2b4-0803-41da-c06b-286e114f36f4"
      },
      "outputs": [
        {
          "name": "stdout",
          "output_type": "stream",
          "text": [
            "[0, 1, 2, 3, 4]\n"
          ]
        }
      ],
      "source": [
        "print(list(r[:5]))"
      ]
    },
    {
      "cell_type": "markdown",
      "metadata": {
        "id": "G4Jzmde8pMDQ"
      },
      "source": [
        "As you can see, slicing a range returns a range object as well, as expected."
      ]
    },
    {
      "cell_type": "markdown",
      "metadata": {
        "id": "su_lVIG5pMDQ"
      },
      "source": [
        "#### Hashing"
      ]
    },
    {
      "cell_type": "markdown",
      "metadata": {
        "id": "YkDXSXETpMDQ"
      },
      "source": [
        "Immutable sequences generally support a `hash` method that we'll discuss in detail in the section on mapping types:"
      ]
    },
    {
      "cell_type": "code",
      "execution_count": null,
      "metadata": {
        "id": "B6LrXN2YpMDQ",
        "outputId": "4d46ff0d-b5e4-4bc2-e249-34de5b81068e"
      },
      "outputs": [
        {
          "data": {
            "text/plain": [
              "2528502973977326415"
            ]
          },
          "execution_count": 50,
          "metadata": {},
          "output_type": "execute_result"
        }
      ],
      "source": [
        "l = (1, 2, 3)\n",
        "hash(l)"
      ]
    },
    {
      "cell_type": "code",
      "execution_count": null,
      "metadata": {
        "id": "EN0Gl-ePpMDR",
        "outputId": "36162391-741f-4383-b2d7-5304edfd802f"
      },
      "outputs": [
        {
          "data": {
            "text/plain": [
              "-1892188276802162953"
            ]
          },
          "execution_count": 51,
          "metadata": {},
          "output_type": "execute_result"
        }
      ],
      "source": [
        "s = '123'\n",
        "hash(s)"
      ]
    },
    {
      "cell_type": "code",
      "execution_count": null,
      "metadata": {
        "id": "WPzfcIBmpMDR",
        "outputId": "44507a03-6833-43b2-e815-ba7454f073ef"
      },
      "outputs": [
        {
          "data": {
            "text/plain": [
              "-6299899980521991026"
            ]
          },
          "execution_count": 52,
          "metadata": {},
          "output_type": "execute_result"
        }
      ],
      "source": [
        "r = range(10)\n",
        "hash(r)"
      ]
    },
    {
      "cell_type": "markdown",
      "metadata": {
        "id": "6zWTwZ-zpMDS"
      },
      "source": [
        "But mutable sequences (and mutable types in general) do not:"
      ]
    },
    {
      "cell_type": "code",
      "execution_count": null,
      "metadata": {
        "collapsed": true,
        "id": "2lTLlDe3pMDS"
      },
      "outputs": [],
      "source": [
        "l = [1, 2, 3]"
      ]
    },
    {
      "cell_type": "code",
      "execution_count": null,
      "metadata": {
        "id": "uZF1pxd-pMDS",
        "outputId": "85ab69a8-4fa6-47df-d54a-e6a64051793a"
      },
      "outputs": [
        {
          "ename": "TypeError",
          "evalue": "unhashable type: 'list'",
          "output_type": "error",
          "traceback": [
            "\u001b[1;31m---------------------------------------------------------------------------\u001b[0m",
            "\u001b[1;31mTypeError\u001b[0m                                 Traceback (most recent call last)",
            "\u001b[1;32m<ipython-input-54-22dd9c98a095>\u001b[0m in \u001b[0;36m<module>\u001b[1;34m()\u001b[0m\n\u001b[1;32m----> 1\u001b[1;33m \u001b[0mhash\u001b[0m\u001b[1;33m(\u001b[0m\u001b[0ml\u001b[0m\u001b[1;33m)\u001b[0m\u001b[1;33m\u001b[0m\u001b[0m\n\u001b[0m",
            "\u001b[1;31mTypeError\u001b[0m: unhashable type: 'list'"
          ]
        }
      ],
      "source": [
        "hash(l)"
      ]
    },
    {
      "cell_type": "markdown",
      "metadata": {
        "id": "hi7lhR_xpMDS"
      },
      "source": [
        "Note also that a hashable sequence, is no longer hashable if one (or more) of it's elements are not hashable:"
      ]
    },
    {
      "cell_type": "code",
      "execution_count": null,
      "metadata": {
        "id": "-9KDHyHopMDT",
        "outputId": "32f4272a-4661-4b96-cddd-57a0747cd7a1"
      },
      "outputs": [
        {
          "ename": "TypeError",
          "evalue": "unhashable type: 'list'",
          "output_type": "error",
          "traceback": [
            "\u001b[1;31m---------------------------------------------------------------------------\u001b[0m",
            "\u001b[1;31mTypeError\u001b[0m                                 Traceback (most recent call last)",
            "\u001b[1;32m<ipython-input-55-30cac1c4a226>\u001b[0m in \u001b[0;36m<module>\u001b[1;34m()\u001b[0m\n\u001b[0;32m      1\u001b[0m \u001b[0mt\u001b[0m \u001b[1;33m=\u001b[0m \u001b[1;33m(\u001b[0m\u001b[1;36m1\u001b[0m\u001b[1;33m,\u001b[0m \u001b[1;36m2\u001b[0m\u001b[1;33m,\u001b[0m \u001b[1;33m[\u001b[0m\u001b[1;36m10\u001b[0m\u001b[1;33m,\u001b[0m \u001b[1;36m20\u001b[0m\u001b[1;33m]\u001b[0m\u001b[1;33m)\u001b[0m\u001b[1;33m\u001b[0m\u001b[0m\n\u001b[1;32m----> 2\u001b[1;33m \u001b[0mhash\u001b[0m\u001b[1;33m(\u001b[0m\u001b[0mt\u001b[0m\u001b[1;33m)\u001b[0m\u001b[1;33m\u001b[0m\u001b[0m\n\u001b[0m",
            "\u001b[1;31mTypeError\u001b[0m: unhashable type: 'list'"
          ]
        }
      ],
      "source": [
        "t = (1, 2, [10, 20])\n",
        "hash(t)"
      ]
    },
    {
      "cell_type": "markdown",
      "metadata": {
        "id": "dkaV-VuzpMDT"
      },
      "source": [
        "But this would work:"
      ]
    },
    {
      "cell_type": "code",
      "execution_count": null,
      "metadata": {
        "id": "v5piRW6opMDT",
        "outputId": "2b2c59d6-763c-461b-8264-ecfc9fea835d"
      },
      "outputs": [
        {
          "data": {
            "text/plain": [
              "-8790163410081325536"
            ]
          },
          "execution_count": 56,
          "metadata": {},
          "output_type": "execute_result"
        }
      ],
      "source": [
        "t = ('python', (1, 2, 3))\n",
        "hash(t)"
      ]
    },
    {
      "cell_type": "markdown",
      "metadata": {
        "id": "HmEohJT5pMDU"
      },
      "source": [
        "In general, immutable types are likely hashable, while immutable types are not. So numbers, strings, tuples, etc are hashable, but lists and sets are not:"
      ]
    },
    {
      "cell_type": "code",
      "execution_count": null,
      "metadata": {
        "id": "3Afk-xIFpMDU",
        "outputId": "db4b443b-4917-4f1d-8700-41d6f3ef14e1"
      },
      "outputs": [
        {
          "data": {
            "text/plain": [
              "1152921504606846986"
            ]
          },
          "execution_count": 57,
          "metadata": {},
          "output_type": "execute_result"
        }
      ],
      "source": [
        "from decimal import Decimal\n",
        "d = Decimal(10.5)\n",
        "hash(d)"
      ]
    },
    {
      "cell_type": "markdown",
      "metadata": {
        "id": "2j0fPVtOpMDU"
      },
      "source": [
        "Sets are not hashable:"
      ]
    },
    {
      "cell_type": "code",
      "execution_count": null,
      "metadata": {
        "id": "Vq2n5SEipMDU",
        "outputId": "c29a779b-00d9-4a93-c037-2fd0ca6e3b36"
      },
      "outputs": [
        {
          "ename": "TypeError",
          "evalue": "unhashable type: 'set'",
          "output_type": "error",
          "traceback": [
            "\u001b[1;31m---------------------------------------------------------------------------\u001b[0m",
            "\u001b[1;31mTypeError\u001b[0m                                 Traceback (most recent call last)",
            "\u001b[1;32m<ipython-input-58-2216931a6bc4>\u001b[0m in \u001b[0;36m<module>\u001b[1;34m()\u001b[0m\n\u001b[0;32m      1\u001b[0m \u001b[0ms\u001b[0m \u001b[1;33m=\u001b[0m \u001b[1;33m{\u001b[0m\u001b[1;36m1\u001b[0m\u001b[1;33m,\u001b[0m \u001b[1;36m2\u001b[0m\u001b[1;33m,\u001b[0m \u001b[1;36m3\u001b[0m\u001b[1;33m}\u001b[0m\u001b[1;33m\u001b[0m\u001b[0m\n\u001b[1;32m----> 2\u001b[1;33m \u001b[0mhash\u001b[0m\u001b[1;33m(\u001b[0m\u001b[0ms\u001b[0m\u001b[1;33m)\u001b[0m\u001b[1;33m\u001b[0m\u001b[0m\n\u001b[0m",
            "\u001b[1;31mTypeError\u001b[0m: unhashable type: 'set'"
          ]
        }
      ],
      "source": [
        "s = {1, 2, 3}\n",
        "hash(s)"
      ]
    },
    {
      "cell_type": "markdown",
      "metadata": {
        "id": "rcU0tCo_pMDV"
      },
      "source": [
        "But frozensets, an immutable variant of the set, are:"
      ]
    },
    {
      "cell_type": "code",
      "execution_count": null,
      "metadata": {
        "collapsed": true,
        "id": "ZUG3ub7TpMDh"
      },
      "outputs": [],
      "source": [
        "s = frozenset({1, 2, 3})"
      ]
    },
    {
      "cell_type": "code",
      "execution_count": null,
      "metadata": {
        "scrolled": true,
        "id": "meNJE5-NpMDh",
        "outputId": "7fa2e023-14df-4f5b-e4e6-5dc2d62e2739"
      },
      "outputs": [
        {
          "data": {
            "text/plain": [
              "-7699079583225461316"
            ]
          },
          "execution_count": 60,
          "metadata": {},
          "output_type": "execute_result"
        }
      ],
      "source": [
        "hash(s)"
      ]
    },
    {
      "cell_type": "markdown",
      "metadata": {
        "id": "2b7MEVGUpMDh"
      },
      "source": [
        "#### Caveats with Concatenation and Repetition"
      ]
    },
    {
      "cell_type": "markdown",
      "metadata": {
        "id": "X43-a_pJpMDi"
      },
      "source": [
        "Consider this:"
      ]
    },
    {
      "cell_type": "code",
      "execution_count": null,
      "metadata": {
        "collapsed": true,
        "id": "_YU-3eJ8pMDi"
      },
      "outputs": [],
      "source": [
        "x = [2000]"
      ]
    },
    {
      "cell_type": "code",
      "execution_count": null,
      "metadata": {
        "id": "kmo4wBRZpMDi",
        "outputId": "80d6bb3d-1fa6-4436-c7c3-7f252bf9b3ce"
      },
      "outputs": [
        {
          "data": {
            "text/plain": [
              "2177520743920"
            ]
          },
          "execution_count": 62,
          "metadata": {},
          "output_type": "execute_result"
        }
      ],
      "source": [
        "id(x[0])"
      ]
    },
    {
      "cell_type": "code",
      "execution_count": null,
      "metadata": {
        "collapsed": true,
        "id": "sRSBYWHOpMDi"
      },
      "outputs": [],
      "source": [
        "l = x + x"
      ]
    },
    {
      "cell_type": "code",
      "execution_count": null,
      "metadata": {
        "id": "tRyB28M4pMDj",
        "outputId": "111b2ca3-416b-4a33-debf-7b3101c348a6"
      },
      "outputs": [
        {
          "data": {
            "text/plain": [
              "[2000, 2000]"
            ]
          },
          "execution_count": 64,
          "metadata": {},
          "output_type": "execute_result"
        }
      ],
      "source": [
        "l"
      ]
    },
    {
      "cell_type": "code",
      "execution_count": null,
      "metadata": {
        "id": "hkYFP5wlpMDj",
        "outputId": "656b4a9c-dc31-4b5a-94ba-226f578d6347"
      },
      "outputs": [
        {
          "data": {
            "text/plain": [
              "(2177520743920, 2177520743920)"
            ]
          },
          "execution_count": 65,
          "metadata": {},
          "output_type": "execute_result"
        }
      ],
      "source": [
        "id(l[0]), id(l[1])"
      ]
    },
    {
      "cell_type": "markdown",
      "metadata": {
        "id": "IJZzGyz_pMDj"
      },
      "source": [
        "As expected, the objects in `l[0]` and `l[1]` are the same.\n",
        "\n",
        "Could also use:"
      ]
    },
    {
      "cell_type": "code",
      "execution_count": null,
      "metadata": {
        "id": "vgvljUbkpMDj",
        "outputId": "6f022fbe-7144-4dd3-8217-03594967656c"
      },
      "outputs": [
        {
          "data": {
            "text/plain": [
              "True"
            ]
          },
          "execution_count": 66,
          "metadata": {},
          "output_type": "execute_result"
        }
      ],
      "source": [
        "l[0] is l[1]"
      ]
    },
    {
      "cell_type": "markdown",
      "metadata": {
        "id": "MhwJFUHlpMDk"
      },
      "source": [
        "This is not a big deal if the objects being concatenated are immutable. But if they are mutable:"
      ]
    },
    {
      "cell_type": "code",
      "execution_count": null,
      "metadata": {
        "collapsed": true,
        "id": "XC-AFUkVpMDk"
      },
      "outputs": [],
      "source": [
        "x = [ [0, 0] ]\n",
        "l = x + x"
      ]
    },
    {
      "cell_type": "code",
      "execution_count": null,
      "metadata": {
        "id": "KcPfY0xnpMDl",
        "outputId": "d1e8eda2-c928-4c26-cacf-59ee66db83f4"
      },
      "outputs": [
        {
          "data": {
            "text/plain": [
              "[[0, 0], [0, 0]]"
            ]
          },
          "execution_count": 68,
          "metadata": {},
          "output_type": "execute_result"
        }
      ],
      "source": [
        "l"
      ]
    },
    {
      "cell_type": "code",
      "execution_count": null,
      "metadata": {
        "id": "zZ_Bfpk4pMDl",
        "outputId": "fc02fcff-a310-4fea-dd9e-9e98f6fbbb01"
      },
      "outputs": [
        {
          "data": {
            "text/plain": [
              "True"
            ]
          },
          "execution_count": 69,
          "metadata": {},
          "output_type": "execute_result"
        }
      ],
      "source": [
        "l[0] is l[1]"
      ]
    },
    {
      "cell_type": "markdown",
      "metadata": {
        "id": "hyPSg8AlpMDm"
      },
      "source": [
        "And then we have the following:"
      ]
    },
    {
      "cell_type": "code",
      "execution_count": null,
      "metadata": {
        "collapsed": true,
        "id": "Fdrsaz2_pMDm"
      },
      "outputs": [],
      "source": [
        "l[0][0] = 100"
      ]
    },
    {
      "cell_type": "code",
      "execution_count": null,
      "metadata": {
        "id": "O1qgvpicpMDm",
        "outputId": "ff743779-1ba3-4d1c-ef3d-053ea20012cf"
      },
      "outputs": [
        {
          "data": {
            "text/plain": [
              "[100, 0]"
            ]
          },
          "execution_count": 71,
          "metadata": {},
          "output_type": "execute_result"
        }
      ],
      "source": [
        "l[0]"
      ]
    },
    {
      "cell_type": "code",
      "execution_count": null,
      "metadata": {
        "id": "BoaNlsJgpMDn",
        "outputId": "6b8a5b1e-3859-4260-9f1a-c82170e42f30"
      },
      "outputs": [
        {
          "data": {
            "text/plain": [
              "[[100, 0], [100, 0]]"
            ]
          },
          "execution_count": 72,
          "metadata": {},
          "output_type": "execute_result"
        }
      ],
      "source": [
        "l"
      ]
    },
    {
      "cell_type": "markdown",
      "metadata": {
        "id": "M-a-TDarpMDn"
      },
      "source": [
        "Notice how changing the 1st item of the 1st element also changed the 1st item of the second element."
      ]
    },
    {
      "cell_type": "markdown",
      "metadata": {
        "id": "Jf8Mfh3_pMDo"
      },
      "source": [
        "While this seems fairly obvious when concatenating using the `+` operator as we have just done, the same actually happens with repetition and may not seem so obvious:"
      ]
    },
    {
      "cell_type": "code",
      "execution_count": null,
      "metadata": {
        "collapsed": true,
        "id": "KKY5vcispMDo"
      },
      "outputs": [],
      "source": [
        "x = [ [0, 0] ]"
      ]
    },
    {
      "cell_type": "code",
      "execution_count": null,
      "metadata": {
        "collapsed": true,
        "id": "-5ObH3W6pMDo"
      },
      "outputs": [],
      "source": [
        "m = x * 3"
      ]
    },
    {
      "cell_type": "code",
      "execution_count": null,
      "metadata": {
        "id": "ZDKOB6FmpMDo",
        "outputId": "d9029d1e-7d0a-4774-e7db-1fc4eaa0cb4b"
      },
      "outputs": [
        {
          "data": {
            "text/plain": [
              "[[0, 0], [0, 0], [0, 0]]"
            ]
          },
          "execution_count": 75,
          "metadata": {},
          "output_type": "execute_result"
        }
      ],
      "source": [
        "m"
      ]
    },
    {
      "cell_type": "code",
      "execution_count": null,
      "metadata": {
        "collapsed": true,
        "id": "D-FaCvSYpMDp"
      },
      "outputs": [],
      "source": [
        "m[0][0] = 100"
      ]
    },
    {
      "cell_type": "code",
      "execution_count": null,
      "metadata": {
        "id": "t-s0pXEcpMDp",
        "outputId": "c6193c99-90b9-476c-a03c-5ce0076aa4d3"
      },
      "outputs": [
        {
          "data": {
            "text/plain": [
              "[[100, 0], [100, 0], [100, 0]]"
            ]
          },
          "execution_count": 77,
          "metadata": {},
          "output_type": "execute_result"
        }
      ],
      "source": [
        "m"
      ]
    },
    {
      "cell_type": "markdown",
      "metadata": {
        "id": "nFwEUCCrpMDp"
      },
      "source": [
        "And in fact, even `x` changed:"
      ]
    },
    {
      "cell_type": "code",
      "execution_count": null,
      "metadata": {
        "id": "M7lRevtqpMDp",
        "outputId": "47729a98-c944-44f7-9ee2-9cb060d6c8d8"
      },
      "outputs": [
        {
          "data": {
            "text/plain": [
              "[[100, 0]]"
            ]
          },
          "execution_count": 78,
          "metadata": {},
          "output_type": "execute_result"
        }
      ],
      "source": [
        "x"
      ]
    },
    {
      "cell_type": "markdown",
      "metadata": {
        "id": "hYsyNnZFpMDq"
      },
      "source": [
        "If you really want these repeated objects to be different objects, you'll have to copy them somehow. A simple list comprehensions would work well here:"
      ]
    },
    {
      "cell_type": "code",
      "execution_count": null,
      "metadata": {
        "collapsed": true,
        "id": "h4CaVhkTpMDq"
      },
      "outputs": [],
      "source": [
        "x = [ [0, 0] ]\n",
        "m = [e.copy() for e in x*3]"
      ]
    },
    {
      "cell_type": "code",
      "execution_count": null,
      "metadata": {
        "id": "ZuGgjTS9pMDq",
        "outputId": "be8ff6df-bd73-47da-b1a7-e0de7007196f"
      },
      "outputs": [
        {
          "data": {
            "text/plain": [
              "[[0, 0], [0, 0], [0, 0]]"
            ]
          },
          "execution_count": 80,
          "metadata": {},
          "output_type": "execute_result"
        }
      ],
      "source": [
        "m"
      ]
    },
    {
      "cell_type": "code",
      "execution_count": null,
      "metadata": {
        "collapsed": true,
        "id": "FhUoZd11pMDq"
      },
      "outputs": [],
      "source": [
        "m[0][0] = 100"
      ]
    },
    {
      "cell_type": "code",
      "execution_count": null,
      "metadata": {
        "id": "JMuO_o6zpMDq",
        "outputId": "5a414816-f20a-4374-eed4-7f7ac4dd954e"
      },
      "outputs": [
        {
          "data": {
            "text/plain": [
              "[[100, 0], [0, 0], [0, 0]]"
            ]
          },
          "execution_count": 82,
          "metadata": {},
          "output_type": "execute_result"
        }
      ],
      "source": [
        "m"
      ]
    },
    {
      "cell_type": "code",
      "execution_count": null,
      "metadata": {
        "id": "b7nrW_W5pMDr",
        "outputId": "b92e77b0-c688-403f-f515-601c34e37535"
      },
      "outputs": [
        {
          "data": {
            "text/plain": [
              "[[0, 0]]"
            ]
          },
          "execution_count": 83,
          "metadata": {},
          "output_type": "execute_result"
        }
      ],
      "source": [
        "x"
      ]
    }
  ],
  "metadata": {
    "kernelspec": {
      "display_name": "Python 3",
      "language": "python",
      "name": "python3"
    },
    "language_info": {
      "codemirror_mode": {
        "name": "ipython",
        "version": 3
      },
      "file_extension": ".py",
      "mimetype": "text/x-python",
      "name": "python",
      "nbconvert_exporter": "python",
      "pygments_lexer": "ipython3",
      "version": "3.6.2"
    },
    "colab": {
      "provenance": [],
      "include_colab_link": true
    }
  },
  "nbformat": 4,
  "nbformat_minor": 0
}
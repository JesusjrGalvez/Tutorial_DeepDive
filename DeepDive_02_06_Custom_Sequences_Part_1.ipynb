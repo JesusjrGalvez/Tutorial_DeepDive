{
  "cells": [
    {
      "cell_type": "markdown",
      "metadata": {
        "id": "view-in-github",
        "colab_type": "text"
      },
      "source": [
        "<a href=\"https://colab.research.google.com/github/JesusjrGalvez/Tutorial_DeepDive/blob/main/DeepDive_02_06_Custom_Sequences_Part_1.ipynb\" target=\"_parent\"><img src=\"https://colab.research.google.com/assets/colab-badge.svg\" alt=\"Open In Colab\"/></a>"
      ]
    },
    {
      "cell_type": "markdown",
      "metadata": {
        "id": "c-PDn70coYq7"
      },
      "source": [
        "### Custom Sequences (Part 1)"
      ]
    },
    {
      "cell_type": "markdown",
      "metadata": {
        "id": "j1UtTnX0oYq_"
      },
      "source": [
        "We'll focus first on how to create a custom sequence type that supports indexing, slicing (read only) and iteration. We'll look into mutable custom sequences in an upcoming video."
      ]
    },
    {
      "cell_type": "markdown",
      "metadata": {
        "id": "OQNBVa1hoYrA"
      },
      "source": [
        "First we should understand how the `__getitem__` method works for iteration and retrieving individual elements from a sequence:"
      ]
    },
    {
      "cell_type": "code",
      "execution_count": null,
      "metadata": {
        "collapsed": true,
        "id": "KRHz_bzmoYrB"
      },
      "outputs": [],
      "source": [
        "my_list = [0, 1, 2, 3, 4, 5]"
      ]
    },
    {
      "cell_type": "code",
      "execution_count": null,
      "metadata": {
        "id": "-fQ1rkZQoYrC",
        "outputId": "2cdf79af-771a-4a79-c6d1-75a9abbfe325"
      },
      "outputs": [
        {
          "data": {
            "text/plain": [
              "0"
            ]
          },
          "execution_count": 3,
          "metadata": {},
          "output_type": "execute_result"
        }
      ],
      "source": [
        "my_list.__getitem__(0)"
      ]
    },
    {
      "cell_type": "code",
      "execution_count": null,
      "metadata": {
        "id": "N6gNmGpboYrE",
        "outputId": "0957ae37-8afd-4efd-93f9-a1944214d432"
      },
      "outputs": [
        {
          "data": {
            "text/plain": [
              "5"
            ]
          },
          "execution_count": 4,
          "metadata": {},
          "output_type": "execute_result"
        }
      ],
      "source": [
        "my_list.__getitem__(5)"
      ]
    },
    {
      "cell_type": "markdown",
      "metadata": {
        "id": "c1TVLnYeoYrF"
      },
      "source": [
        "But if our index is out of bounds:"
      ]
    },
    {
      "cell_type": "code",
      "execution_count": null,
      "metadata": {
        "id": "llenyy1goYrG",
        "outputId": "9e48f9eb-e1a8-42a3-fdcf-2eec472f8566"
      },
      "outputs": [
        {
          "ename": "IndexError",
          "evalue": "list index out of range",
          "output_type": "error",
          "traceback": [
            "\u001b[1;31m---------------------------------------------------------------------------\u001b[0m",
            "\u001b[1;31mIndexError\u001b[0m                                Traceback (most recent call last)",
            "\u001b[1;32m<ipython-input-5-af8e15c3db49>\u001b[0m in \u001b[0;36m<module>\u001b[1;34m()\u001b[0m\n\u001b[1;32m----> 1\u001b[1;33m \u001b[0mmy_list\u001b[0m\u001b[1;33m.\u001b[0m\u001b[0m__getitem__\u001b[0m\u001b[1;33m(\u001b[0m\u001b[1;36m6\u001b[0m\u001b[1;33m)\u001b[0m\u001b[1;33m\u001b[0m\u001b[0m\n\u001b[0m",
            "\u001b[1;31mIndexError\u001b[0m: list index out of range"
          ]
        }
      ],
      "source": [
        "my_list.__getitem__(6)"
      ]
    },
    {
      "cell_type": "markdown",
      "metadata": {
        "id": "PupdlsskoYrG"
      },
      "source": [
        "we get an IndexError."
      ]
    },
    {
      "cell_type": "markdown",
      "metadata": {
        "id": "lJtOFzvxoYrH"
      },
      "source": [
        "Technically, the `list` object's `__getitem__` method also supports negative indexing and slicing:"
      ]
    },
    {
      "cell_type": "code",
      "execution_count": null,
      "metadata": {
        "id": "-BslNSvyoYrH",
        "outputId": "790d4ee6-87b9-4374-8602-de3fe5448522"
      },
      "outputs": [
        {
          "data": {
            "text/plain": [
              "5"
            ]
          },
          "execution_count": 6,
          "metadata": {},
          "output_type": "execute_result"
        }
      ],
      "source": [
        "my_list.__getitem__(-1)"
      ]
    },
    {
      "cell_type": "code",
      "execution_count": null,
      "metadata": {
        "id": "La8CM0bCoYrI",
        "outputId": "9959af8a-bb2d-4a08-c185-a789458239a8"
      },
      "outputs": [
        {
          "data": {
            "text/plain": [
              "[0, 2, 4]"
            ]
          },
          "execution_count": 7,
          "metadata": {},
          "output_type": "execute_result"
        }
      ],
      "source": [
        "my_list.__getitem__(slice(0,6,2))"
      ]
    },
    {
      "cell_type": "code",
      "execution_count": null,
      "metadata": {
        "id": "nOo3q4LmoYrI",
        "outputId": "ed162dbe-4f91-48fb-8198-684040d8f1b8"
      },
      "outputs": [
        {
          "data": {
            "text/plain": [
              "[5, 4, 3, 2, 1, 0]"
            ]
          },
          "execution_count": 8,
          "metadata": {},
          "output_type": "execute_result"
        }
      ],
      "source": [
        "my_list.__getitem__(slice(None, None, -1))"
      ]
    },
    {
      "cell_type": "markdown",
      "metadata": {
        "id": "NIdLuuZ4oYrJ"
      },
      "source": [
        "#### Mimicking Python's `for` loop using the `__getitem__` method"
      ]
    },
    {
      "cell_type": "code",
      "execution_count": null,
      "metadata": {
        "collapsed": true,
        "id": "BdtXuiF0oYrK"
      },
      "outputs": [],
      "source": [
        "my_list = [0, 1, 2, 3, 4, 5]"
      ]
    },
    {
      "cell_type": "code",
      "execution_count": null,
      "metadata": {
        "id": "SLWA6rERoYrK",
        "outputId": "05d1e49c-b451-4967-a276-69c033332c9d"
      },
      "outputs": [
        {
          "name": "stdout",
          "output_type": "stream",
          "text": [
            "0\n",
            "1\n",
            "4\n",
            "9\n",
            "16\n",
            "25\n"
          ]
        }
      ],
      "source": [
        "for item in my_list:\n",
        "    print(item ** 2)"
      ]
    },
    {
      "cell_type": "markdown",
      "metadata": {
        "id": "gFeyGpwIoYrL"
      },
      "source": [
        "Now let's do the same thing ourselves without a for loop:"
      ]
    },
    {
      "cell_type": "code",
      "execution_count": null,
      "metadata": {
        "id": "A335cm6foYrL",
        "outputId": "d086efbf-c312-41bf-cb0d-5f42748a307f"
      },
      "outputs": [
        {
          "name": "stdout",
          "output_type": "stream",
          "text": [
            "0\n",
            "1\n",
            "4\n",
            "9\n",
            "16\n",
            "25\n"
          ]
        }
      ],
      "source": [
        "index = 0\n",
        "while True:\n",
        "    try:\n",
        "        item = my_list.__getitem__(index)\n",
        "    except IndexError:\n",
        "        # reached the end of the sequence\n",
        "        break\n",
        "    # do something with the item...\n",
        "    print(item ** 2)\n",
        "    index += 1"
      ]
    },
    {
      "cell_type": "markdown",
      "metadata": {
        "id": "zOz45xqKoYrM"
      },
      "source": [
        "#### Implementing a custom Sequence "
      ]
    },
    {
      "cell_type": "markdown",
      "metadata": {
        "id": "o8cOlSJ8oYrM"
      },
      "source": [
        "Custom objects can support slicing - we'll see this later in this course, but for now we'll take a quick peek ahead.\n",
        "\n",
        "To make a custom classes support indexing (and slicing) we only need to implement the `__getitem__` method which receives the index (or slice) we are interested in."
      ]
    },
    {
      "cell_type": "code",
      "execution_count": null,
      "metadata": {
        "collapsed": true,
        "id": "IQJlojv5oYrM"
      },
      "outputs": [],
      "source": [
        "class MySequence:\n",
        "    def __getitem__(self, index):\n",
        "        print(type(index), index)"
      ]
    },
    {
      "cell_type": "code",
      "execution_count": null,
      "metadata": {
        "collapsed": true,
        "id": "hXMvaf4XoYrN"
      },
      "outputs": [],
      "source": [
        "my_seq = MySequence()"
      ]
    },
    {
      "cell_type": "code",
      "execution_count": null,
      "metadata": {
        "id": "EyTsQ-eDoYrN",
        "outputId": "d3cf44bb-9e09-43fe-f4ec-b33769b941ef"
      },
      "outputs": [
        {
          "name": "stdout",
          "output_type": "stream",
          "text": [
            "<class 'int'> 0\n"
          ]
        }
      ],
      "source": [
        "my_seq[0]"
      ]
    },
    {
      "cell_type": "code",
      "execution_count": null,
      "metadata": {
        "id": "kLvtR7e7oYrN",
        "outputId": "9538cb89-1cff-4df0-c835-e3e81f3c0806"
      },
      "outputs": [
        {
          "name": "stdout",
          "output_type": "stream",
          "text": [
            "<class 'int'> 100\n"
          ]
        }
      ],
      "source": [
        "my_seq[100]"
      ]
    },
    {
      "cell_type": "code",
      "execution_count": null,
      "metadata": {
        "id": "YXgmfAlOoYrO",
        "outputId": "7632997b-ae9d-442f-f5e2-44b90dacd821"
      },
      "outputs": [
        {
          "name": "stdout",
          "output_type": "stream",
          "text": [
            "<class 'slice'> slice(0, 2, None)\n"
          ]
        }
      ],
      "source": [
        "my_seq[0:2]"
      ]
    },
    {
      "cell_type": "code",
      "execution_count": null,
      "metadata": {
        "id": "UY4bsBaVoYrO",
        "outputId": "735c129b-f872-405b-8fec-45efc012cef5"
      },
      "outputs": [
        {
          "name": "stdout",
          "output_type": "stream",
          "text": [
            "<class 'slice'> slice(0, 10, 2)\n"
          ]
        }
      ],
      "source": [
        "my_seq[0:10:2]"
      ]
    },
    {
      "cell_type": "markdown",
      "metadata": {
        "id": "ZZZiS-vjoYrO"
      },
      "source": [
        "As you can see, the `__getitem__` method receives an index number of type `int` when we use `[n]` and a `slice` object when we use `[i:j]` or `[i:j:k]`."
      ]
    },
    {
      "cell_type": "markdown",
      "metadata": {
        "id": "eu6tf6PeoYrO"
      },
      "source": [
        "As we saw in a previous lecture, given the bounds for a slice, and the length of the sequence we are slicing, we can always define a `range` that will generate the desired indices.\n",
        "\n",
        "We also saw that the `slice` object has a method, `indices`, that precisely tells us the start/stop/step values we would need for an equivalent `range`, given the length of the sequence we are slicing.\n",
        "\n",
        "Let's recall a simple example first:"
      ]
    },
    {
      "cell_type": "code",
      "execution_count": null,
      "metadata": {
        "id": "9ig_KdzjoYrP",
        "outputId": "8b1ce9d6-d8af-4191-b17b-7346bcecf3dd"
      },
      "outputs": [
        {
          "data": {
            "text/plain": [
              "6"
            ]
          },
          "execution_count": 18,
          "metadata": {},
          "output_type": "execute_result"
        }
      ],
      "source": [
        "l = 'python'\n",
        "len(l)"
      ]
    },
    {
      "cell_type": "code",
      "execution_count": null,
      "metadata": {
        "id": "h52EJeBcoYrP",
        "outputId": "e4647724-0e35-479c-bd1d-f117757f8dd2"
      },
      "outputs": [
        {
          "data": {
            "text/plain": [
              "'pto'"
            ]
          },
          "execution_count": 19,
          "metadata": {},
          "output_type": "execute_result"
        }
      ],
      "source": [
        "s = slice(0, 6, 2)\n",
        "l[s]"
      ]
    },
    {
      "cell_type": "code",
      "execution_count": null,
      "metadata": {
        "id": "dhNAyKY7oYrP",
        "outputId": "06c5679d-cb81-4762-eaab-851b9903468a"
      },
      "outputs": [
        {
          "data": {
            "text/plain": [
              "(0, 6, 2)"
            ]
          },
          "execution_count": 20,
          "metadata": {},
          "output_type": "execute_result"
        }
      ],
      "source": [
        "s.start, s.stop, s.step"
      ]
    },
    {
      "cell_type": "code",
      "execution_count": null,
      "metadata": {
        "id": "n14IPkeMoYrP",
        "outputId": "4f15a1fb-ae57-43b3-c18f-ce5e55207b3c"
      },
      "outputs": [
        {
          "data": {
            "text/plain": [
              "(0, 6, 2)"
            ]
          },
          "execution_count": 21,
          "metadata": {},
          "output_type": "execute_result"
        }
      ],
      "source": [
        "s.indices(6)"
      ]
    },
    {
      "cell_type": "code",
      "execution_count": null,
      "metadata": {
        "id": "r4P70fWZoYrQ",
        "outputId": "90565f47-dd84-4902-aed1-43a7a42c75aa"
      },
      "outputs": [
        {
          "data": {
            "text/plain": [
              "[0, 2, 4]"
            ]
          },
          "execution_count": 22,
          "metadata": {},
          "output_type": "execute_result"
        }
      ],
      "source": [
        "list(range(0, 6, 2))"
      ]
    },
    {
      "cell_type": "markdown",
      "metadata": {
        "id": "FBd_nmU-oYrQ"
      },
      "source": [
        "This matches exactly the indices that were selected from the sequence `'python'`"
      ]
    },
    {
      "cell_type": "markdown",
      "metadata": {
        "id": "aaoahSUEoYrQ"
      },
      "source": [
        "### Example"
      ]
    },
    {
      "cell_type": "markdown",
      "metadata": {
        "id": "fWp3_8FWoYrQ"
      },
      "source": [
        "So, why am I re-emphasizing this equivalence between the indices in a `slice` and and equivalent `range` object?"
      ]
    },
    {
      "cell_type": "markdown",
      "metadata": {
        "id": "nI8T6fOMoYrQ"
      },
      "source": [
        "Let's say we want to implement our own sequence type and we want to support slicing."
      ]
    },
    {
      "cell_type": "markdown",
      "metadata": {
        "id": "LcBJyY3ioYrR"
      },
      "source": [
        "For this example we'll create a custom Fibonacci sequence type."
      ]
    },
    {
      "cell_type": "markdown",
      "metadata": {
        "id": "4rW324fhoYrR"
      },
      "source": [
        "First recall that the `__getitem__` will receive either an integer (for simple indexing), or a slice object:"
      ]
    },
    {
      "cell_type": "code",
      "execution_count": null,
      "metadata": {
        "collapsed": true,
        "id": "smdop2x-oYrR"
      },
      "outputs": [],
      "source": [
        "class Fib:\n",
        "    def __getitem__(self, s):\n",
        "        print(type(s), s)"
      ]
    },
    {
      "cell_type": "code",
      "execution_count": null,
      "metadata": {
        "id": "AB-lIe7FoYrR",
        "outputId": "734876a0-1137-48ea-ea5b-6112d079d667"
      },
      "outputs": [
        {
          "name": "stdout",
          "output_type": "stream",
          "text": [
            "<class 'int'> 2\n",
            "<class 'slice'> slice(2, 10, 2)\n"
          ]
        }
      ],
      "source": [
        "f = Fib()\n",
        "f[2]\n",
        "f[2:10:2]"
      ]
    },
    {
      "cell_type": "markdown",
      "metadata": {
        "id": "nDaIEaMAoYrR"
      },
      "source": [
        "We'll use that to implement both indexing and slicing for our custom Fibonacci sequence type."
      ]
    },
    {
      "cell_type": "markdown",
      "metadata": {
        "id": "fQhzcCxWoYrS"
      },
      "source": [
        "We'll make our sequence type bounded (i.e. we'll have to specify the size of the sequence). But we are not going to pre-generate the entire sequence of Fibonacci numbers, we'll only generate the ones that are being requested as needed."
      ]
    },
    {
      "cell_type": "code",
      "execution_count": null,
      "metadata": {
        "collapsed": true,
        "id": "Ih6lNdGMoYrS"
      },
      "outputs": [],
      "source": [
        "class Fib:\n",
        "    def __init__(self, n):\n",
        "        self._n = n\n",
        "    \n",
        "    def __getitem__(self, s):\n",
        "        if isinstance(s, int):\n",
        "            # single item requested\n",
        "            print(f'requesting [{s}]')\n",
        "        else:\n",
        "            # slice being requested\n",
        "            print(f'requesting [{s.start}:{s.stop}:{s.step}]')"
      ]
    },
    {
      "cell_type": "code",
      "execution_count": null,
      "metadata": {
        "collapsed": true,
        "id": "UWTH1NlNoYrS"
      },
      "outputs": [],
      "source": [
        "f = Fib(10)"
      ]
    },
    {
      "cell_type": "code",
      "execution_count": null,
      "metadata": {
        "id": "S__VfIrSoYrS",
        "outputId": "c87aa6b9-0fe6-4775-f59c-70304e67eaa6"
      },
      "outputs": [
        {
          "name": "stdout",
          "output_type": "stream",
          "text": [
            "requesting [3]\n"
          ]
        }
      ],
      "source": [
        "f[3]"
      ]
    },
    {
      "cell_type": "code",
      "execution_count": null,
      "metadata": {
        "id": "6pj3QOC0oYrT",
        "outputId": "394ef1f6-06b6-4ca0-9316-7eb5f6661d5b"
      },
      "outputs": [
        {
          "name": "stdout",
          "output_type": "stream",
          "text": [
            "requesting [None:5:None]\n"
          ]
        }
      ],
      "source": [
        "f[:5]"
      ]
    },
    {
      "cell_type": "markdown",
      "metadata": {
        "id": "5OYtPGSPoYrT"
      },
      "source": [
        "Let's now add in what the equivalent range would be:"
      ]
    },
    {
      "cell_type": "code",
      "execution_count": null,
      "metadata": {
        "collapsed": true,
        "id": "78ja5BQPoYrT"
      },
      "outputs": [],
      "source": [
        "class Fib:\n",
        "    def __init__(self, n):\n",
        "        self._n = n\n",
        "    \n",
        "    def __getitem__(self, s):\n",
        "        if isinstance(s, int):\n",
        "            # single item requested\n",
        "            print(f'requesting [{s}]')\n",
        "        else:\n",
        "            # slice being requested\n",
        "            print(f'requesting [{s.start}:{s.stop}:{s.step}]')\n",
        "            idx = s.indices(self._n)\n",
        "            rng = range(*idx)\n",
        "            print(f'\\trange({idx[0]}, {idx[1]}, {idx[2]}) --> {list(rng)}')"
      ]
    },
    {
      "cell_type": "code",
      "execution_count": null,
      "metadata": {
        "id": "muf0AkK5oYrT",
        "outputId": "5ff8b8a1-0a74-42a1-9212-f9e2fc694625"
      },
      "outputs": [
        {
          "name": "stdout",
          "output_type": "stream",
          "text": [
            "requesting [3:5:None]\n",
            "\trange(3, 5, 1) --> [3, 4]\n",
            "requesting [None:None:-1]\n",
            "\trange(9, -1, -1) --> [9, 8, 7, 6, 5, 4, 3, 2, 1, 0]\n"
          ]
        }
      ],
      "source": [
        "f = Fib(10)\n",
        "f[3:5]\n",
        "f[::-1]"
      ]
    },
    {
      "cell_type": "markdown",
      "metadata": {
        "id": "quokAXO2oYrT"
      },
      "source": [
        "Next step is for us to actually calculate the n-th Fibonacci number, we'll use memoization as well (see lecture on decorators and memoization if you need to refresh your memory on that):"
      ]
    },
    {
      "cell_type": "code",
      "execution_count": null,
      "metadata": {
        "collapsed": true,
        "id": "-2pMRRnAoYrU"
      },
      "outputs": [],
      "source": [
        "from functools import lru_cache"
      ]
    },
    {
      "cell_type": "code",
      "execution_count": null,
      "metadata": {
        "collapsed": true,
        "id": "9m6pZdqDoYrU"
      },
      "outputs": [],
      "source": [
        "@lru_cache(2**10)\n",
        "def fib(n):\n",
        "    if n < 2:\n",
        "        return 1\n",
        "    else:\n",
        "        return fib(n-1) + fib(n-2)"
      ]
    },
    {
      "cell_type": "code",
      "execution_count": null,
      "metadata": {
        "id": "nWgCToBvoYrU",
        "outputId": "2b34d059-9760-4c22-ba13-b0f5ffade487"
      },
      "outputs": [
        {
          "data": {
            "text/plain": [
              "(1, 1, 2, 3, 5, 8, 20365011074)"
            ]
          },
          "execution_count": 33,
          "metadata": {},
          "output_type": "execute_result"
        }
      ],
      "source": [
        "fib(0), fib(1), fib(2), fib(3), fib(4), fib(5), fib(50)"
      ]
    },
    {
      "cell_type": "markdown",
      "metadata": {
        "id": "8S-sB_WZoYrU"
      },
      "source": [
        "Now, let's make this function part of our class:"
      ]
    },
    {
      "cell_type": "code",
      "execution_count": null,
      "metadata": {
        "collapsed": true,
        "id": "dOpMV6LQoYrU"
      },
      "outputs": [],
      "source": [
        "class Fib:\n",
        "    def __init__(self, n):\n",
        "        self._n = n\n",
        "    \n",
        "    def __getitem__(self, s):\n",
        "        if isinstance(s, int):\n",
        "            # single item requested\n",
        "            print(f'requesting [{s}]')\n",
        "        else:\n",
        "            # slice being requested\n",
        "            print(f'requesting [{s.start}:{s.stop}:{s.step}]')\n",
        "            idx = s.indices(self._n)\n",
        "            rng = range(idx[0], idx[1], idx[2])\n",
        "            print(f'\\trange({idx[0]}, {idx[1]}, {idx[2]}) --> {list(rng)}')\n",
        "    \n",
        "    @staticmethod\n",
        "    @lru_cache(2**32)\n",
        "    def _fib(n):\n",
        "        if n < 2:\n",
        "            return 1\n",
        "        else:\n",
        "            return fib(n-1) + fib(n-2)"
      ]
    },
    {
      "cell_type": "markdown",
      "metadata": {
        "id": "JfUQfD_BoYrV"
      },
      "source": [
        "The next step is to implement the `__getitem__` method. Let's start by implementing the simple indexing:"
      ]
    },
    {
      "cell_type": "code",
      "execution_count": null,
      "metadata": {
        "collapsed": true,
        "id": "uBj_95E6oYrV"
      },
      "outputs": [],
      "source": [
        "class Fib:\n",
        "    def __init__(self, n):\n",
        "        self._n = n\n",
        "    \n",
        "    def __getitem__(self, s):\n",
        "        if isinstance(s, int):\n",
        "            # single item requested\n",
        "            return self._fib(s)\n",
        "        else:\n",
        "            # slice being requested\n",
        "            print(f'requesting [{s.start}:{s.stop}:{s.step}]')\n",
        "            idx = s.indices(self._n)\n",
        "            rng = range(idx[0], idx[1], idx[2])\n",
        "            print(f'\\trange({idx[0]}, {idx[1]}, {idx[2]}) --> {list(rng)}')\n",
        "            \n",
        "    @staticmethod\n",
        "    @lru_cache(2**32)\n",
        "    def _fib(n):\n",
        "        if n < 2:\n",
        "            return 1\n",
        "        else:\n",
        "            return fib(n-1) + fib(n-2)"
      ]
    },
    {
      "cell_type": "markdown",
      "metadata": {
        "id": "tYV7IPA-oYrV"
      },
      "source": [
        "Let's test that out:"
      ]
    },
    {
      "cell_type": "code",
      "execution_count": null,
      "metadata": {
        "collapsed": true,
        "id": "VOqkMpiRoYrV"
      },
      "outputs": [],
      "source": [
        "f = Fib(100)"
      ]
    },
    {
      "cell_type": "code",
      "execution_count": null,
      "metadata": {
        "id": "oD4WO4CnoYrV",
        "outputId": "897c48b3-583d-4c8c-c4c9-4c5250fc571f"
      },
      "outputs": [
        {
          "data": {
            "text/plain": [
              "(1, 1, 2, 3, 5, 8, 20365011074)"
            ]
          },
          "execution_count": 37,
          "metadata": {},
          "output_type": "execute_result"
        }
      ],
      "source": [
        "f[0], f[1], f[2], f[3], f[4], f[5], f[50]"
      ]
    },
    {
      "cell_type": "markdown",
      "metadata": {
        "id": "atKilP5DoYrV"
      },
      "source": [
        "But we still have a few problems.\n",
        "\n",
        "First we do not handle negative values, and we also will return results for indices that should technically be out of bounds, so we can't really iterate through this sequence yet as we would end up with an infinite iteration!"
      ]
    },
    {
      "cell_type": "code",
      "execution_count": null,
      "metadata": {
        "id": "YysbUrw5oYrW",
        "outputId": "ef249a2a-973f-4bcb-c53e-aed0bfed9219"
      },
      "outputs": [
        {
          "data": {
            "text/plain": [
              "(453973694165307953197296969697410619233826, 1)"
            ]
          },
          "execution_count": 38,
          "metadata": {},
          "output_type": "execute_result"
        }
      ],
      "source": [
        "f[200], f[-5]"
      ]
    },
    {
      "cell_type": "markdown",
      "metadata": {
        "id": "_bNtoGNOoYrW"
      },
      "source": [
        "So we first need to raise an `IndexError` exception when the index is out of bounds, and we also need to remap negative indices (for example `-1` should correspond to the last element of the sequence, and so on)"
      ]
    },
    {
      "cell_type": "code",
      "execution_count": null,
      "metadata": {
        "id": "w_zhhIAboYrW"
      },
      "outputs": [],
      "source": [
        "class Fib:\n",
        "    def __init__(self, n):\n",
        "        self._n = n\n",
        "    \n",
        "    def __getitem__(self, s):\n",
        "        if isinstance(s, int):\n",
        "            # single item requested\n",
        "            if s < 0:\n",
        "                s = self._n + s\n",
        "            if s < 0 or s > self._n - 1:\n",
        "                raise IndexError\n",
        "            return self._fib(s)\n",
        "        else:\n",
        "            # slice being requested\n",
        "            print(f'requesting [{s.start}:{s.stop}:{s.step}]')\n",
        "            idx = s.indices(self._n)\n",
        "            rng = range(idx[0], idx[1], idx[2])\n",
        "            print(f'\\trange({idx[0]}, {idx[1]}, {idx[2]}) --> {list(rng)}')\n",
        "            \n",
        "    @staticmethod\n",
        "    @lru_cache(2**32)\n",
        "    def _fib(n):\n",
        "        if n < 2:\n",
        "            return 1\n",
        "        else:\n",
        "            return fib(n-1) + fib(n-2)"
      ]
    },
    {
      "cell_type": "code",
      "execution_count": null,
      "metadata": {
        "collapsed": true,
        "id": "J1Q3Ece8oYrW"
      },
      "outputs": [],
      "source": [
        "f = Fib(10)"
      ]
    },
    {
      "cell_type": "code",
      "execution_count": null,
      "metadata": {
        "id": "_AggKmGwoYrW",
        "outputId": "b7ce54e7-8bdb-4f82-ddbd-4e4c96ee265b"
      },
      "outputs": [
        {
          "data": {
            "text/plain": [
              "(55, 55)"
            ]
          },
          "execution_count": 41,
          "metadata": {},
          "output_type": "execute_result"
        }
      ],
      "source": [
        "f[9], f[-1]"
      ]
    },
    {
      "cell_type": "code",
      "execution_count": null,
      "metadata": {
        "id": "mVlgwJ7FoYrW",
        "outputId": "4e35a004-5a5b-4ba8-8a4b-4020722b3ed3"
      },
      "outputs": [
        {
          "ename": "IndexError",
          "evalue": "",
          "output_type": "error",
          "traceback": [
            "\u001b[1;31m---------------------------------------------------------------------------\u001b[0m",
            "\u001b[1;31mIndexError\u001b[0m                                Traceback (most recent call last)",
            "\u001b[1;32m<ipython-input-42-d318e38c040d>\u001b[0m in \u001b[0;36m<module>\u001b[1;34m()\u001b[0m\n\u001b[1;32m----> 1\u001b[1;33m \u001b[0mf\u001b[0m\u001b[1;33m[\u001b[0m\u001b[1;36m10\u001b[0m\u001b[1;33m]\u001b[0m\u001b[1;33m\u001b[0m\u001b[0m\n\u001b[0m",
            "\u001b[1;32m<ipython-input-39-4507ca7defeb>\u001b[0m in \u001b[0;36m__getitem__\u001b[1;34m(self, s)\u001b[0m\n\u001b[0;32m      9\u001b[0m                 \u001b[0ms\u001b[0m \u001b[1;33m=\u001b[0m \u001b[0mself\u001b[0m\u001b[1;33m.\u001b[0m\u001b[0m_n\u001b[0m \u001b[1;33m+\u001b[0m \u001b[0ms\u001b[0m\u001b[1;33m\u001b[0m\u001b[0m\n\u001b[0;32m     10\u001b[0m             \u001b[1;32mif\u001b[0m \u001b[0ms\u001b[0m \u001b[1;33m<\u001b[0m \u001b[1;36m0\u001b[0m \u001b[1;32mor\u001b[0m \u001b[0ms\u001b[0m \u001b[1;33m>\u001b[0m \u001b[0mself\u001b[0m\u001b[1;33m.\u001b[0m\u001b[0m_n\u001b[0m \u001b[1;33m-\u001b[0m \u001b[1;36m1\u001b[0m\u001b[1;33m:\u001b[0m\u001b[1;33m\u001b[0m\u001b[0m\n\u001b[1;32m---> 11\u001b[1;33m                 \u001b[1;32mraise\u001b[0m \u001b[0mIndexError\u001b[0m\u001b[1;33m\u001b[0m\u001b[0m\n\u001b[0m\u001b[0;32m     12\u001b[0m             \u001b[1;32mreturn\u001b[0m \u001b[0mself\u001b[0m\u001b[1;33m.\u001b[0m\u001b[0m_fib\u001b[0m\u001b[1;33m(\u001b[0m\u001b[0ms\u001b[0m\u001b[1;33m)\u001b[0m\u001b[1;33m\u001b[0m\u001b[0m\n\u001b[0;32m     13\u001b[0m         \u001b[1;32melse\u001b[0m\u001b[1;33m:\u001b[0m\u001b[1;33m\u001b[0m\u001b[0m\n",
            "\u001b[1;31mIndexError\u001b[0m: "
          ]
        }
      ],
      "source": [
        "f[10]"
      ]
    },
    {
      "cell_type": "code",
      "execution_count": null,
      "metadata": {
        "id": "cvETjKjxoYrW",
        "outputId": "ac346034-9aad-4edd-dc31-a22751e37c68"
      },
      "outputs": [
        {
          "ename": "IndexError",
          "evalue": "",
          "output_type": "error",
          "traceback": [
            "\u001b[1;31m---------------------------------------------------------------------------\u001b[0m",
            "\u001b[1;31mIndexError\u001b[0m                                Traceback (most recent call last)",
            "\u001b[1;32m<ipython-input-43-d90fbb07664c>\u001b[0m in \u001b[0;36m<module>\u001b[1;34m()\u001b[0m\n\u001b[1;32m----> 1\u001b[1;33m \u001b[0mf\u001b[0m\u001b[1;33m[\u001b[0m\u001b[1;33m-\u001b[0m\u001b[1;36m100\u001b[0m\u001b[1;33m]\u001b[0m\u001b[1;33m\u001b[0m\u001b[0m\n\u001b[0m",
            "\u001b[1;32m<ipython-input-39-4507ca7defeb>\u001b[0m in \u001b[0;36m__getitem__\u001b[1;34m(self, s)\u001b[0m\n\u001b[0;32m      9\u001b[0m                 \u001b[0ms\u001b[0m \u001b[1;33m=\u001b[0m \u001b[0mself\u001b[0m\u001b[1;33m.\u001b[0m\u001b[0m_n\u001b[0m \u001b[1;33m+\u001b[0m \u001b[0ms\u001b[0m\u001b[1;33m\u001b[0m\u001b[0m\n\u001b[0;32m     10\u001b[0m             \u001b[1;32mif\u001b[0m \u001b[0ms\u001b[0m \u001b[1;33m<\u001b[0m \u001b[1;36m0\u001b[0m \u001b[1;32mor\u001b[0m \u001b[0ms\u001b[0m \u001b[1;33m>\u001b[0m \u001b[0mself\u001b[0m\u001b[1;33m.\u001b[0m\u001b[0m_n\u001b[0m \u001b[1;33m-\u001b[0m \u001b[1;36m1\u001b[0m\u001b[1;33m:\u001b[0m\u001b[1;33m\u001b[0m\u001b[0m\n\u001b[1;32m---> 11\u001b[1;33m                 \u001b[1;32mraise\u001b[0m \u001b[0mIndexError\u001b[0m\u001b[1;33m\u001b[0m\u001b[0m\n\u001b[0m\u001b[0;32m     12\u001b[0m             \u001b[1;32mreturn\u001b[0m \u001b[0mself\u001b[0m\u001b[1;33m.\u001b[0m\u001b[0m_fib\u001b[0m\u001b[1;33m(\u001b[0m\u001b[0ms\u001b[0m\u001b[1;33m)\u001b[0m\u001b[1;33m\u001b[0m\u001b[0m\n\u001b[0;32m     13\u001b[0m         \u001b[1;32melse\u001b[0m\u001b[1;33m:\u001b[0m\u001b[1;33m\u001b[0m\u001b[0m\n",
            "\u001b[1;31mIndexError\u001b[0m: "
          ]
        }
      ],
      "source": [
        "f[-100]"
      ]
    },
    {
      "cell_type": "code",
      "execution_count": null,
      "metadata": {
        "id": "w96_hM3XoYrX",
        "outputId": "d9fcb8a8-aa38-4595-ca9e-e7f88db806e9"
      },
      "outputs": [
        {
          "name": "stdout",
          "output_type": "stream",
          "text": [
            "1\n",
            "1\n",
            "2\n",
            "3\n",
            "5\n",
            "8\n",
            "13\n",
            "21\n",
            "34\n",
            "55\n"
          ]
        }
      ],
      "source": [
        "for item in f:\n",
        "    print(item)"
      ]
    },
    {
      "cell_type": "markdown",
      "metadata": {
        "id": "y5k4TMFkoYrX"
      },
      "source": [
        "We still don't support slicing though..."
      ]
    },
    {
      "cell_type": "code",
      "execution_count": null,
      "metadata": {
        "id": "F6DbSw7aoYrX",
        "outputId": "6a91df46-1b4c-4143-c728-2d6e96a03aa5"
      },
      "outputs": [
        {
          "name": "stdout",
          "output_type": "stream",
          "text": [
            "requesting [0:2:None]\n",
            "\trange(0, 2, 1) --> [0, 1]\n"
          ]
        }
      ],
      "source": [
        "f[0:2]"
      ]
    },
    {
      "cell_type": "markdown",
      "metadata": {
        "id": "EXCd_1RQoYrX"
      },
      "source": [
        "So let's implement slicing as well:"
      ]
    },
    {
      "cell_type": "code",
      "execution_count": null,
      "metadata": {
        "collapsed": true,
        "id": "rdFCDUzNoYrX"
      },
      "outputs": [],
      "source": [
        "class Fib:\n",
        "    def __init__(self, n):\n",
        "        self._n = n\n",
        "    \n",
        "    def __getitem__(self, s):\n",
        "        if isinstance(s, int):\n",
        "            # single item requested\n",
        "            if s < 0:\n",
        "                s = self._n + s\n",
        "            if s < 0 or s > self._n - 1:\n",
        "                raise IndexError\n",
        "            return self._fib(s)\n",
        "        else:\n",
        "            # slice being requested\n",
        "            idx = s.indices(self._n)\n",
        "            rng = range(idx[0], idx[1], idx[2])\n",
        "            return [self._fib(n) for n in rng]\n",
        "            \n",
        "    @staticmethod\n",
        "    @lru_cache(2**32)\n",
        "    def _fib(n):\n",
        "        if n < 2:\n",
        "            return 1\n",
        "        else:\n",
        "            return fib(n-1) + fib(n-2)"
      ]
    },
    {
      "cell_type": "code",
      "execution_count": null,
      "metadata": {
        "collapsed": true,
        "id": "ctGhzPy9oYrX"
      },
      "outputs": [],
      "source": [
        "f = Fib(10)"
      ]
    },
    {
      "cell_type": "code",
      "execution_count": null,
      "metadata": {
        "id": "m9N_gQ9QoYrX",
        "outputId": "5343bc13-074d-4f9c-c078-b5e09a49bff4"
      },
      "outputs": [
        {
          "data": {
            "text/plain": [
              "[1, 1, 2, 3, 5]"
            ]
          },
          "execution_count": 48,
          "metadata": {},
          "output_type": "execute_result"
        }
      ],
      "source": [
        "f[0:5]"
      ]
    },
    {
      "cell_type": "code",
      "execution_count": null,
      "metadata": {
        "id": "uEmUp1sDoYrY",
        "outputId": "aee47053-4972-4833-b8b4-18db9b0d941c"
      },
      "outputs": [
        {
          "data": {
            "text/plain": [
              "[8, 5, 3, 2, 1, 1]"
            ]
          },
          "execution_count": 49,
          "metadata": {},
          "output_type": "execute_result"
        }
      ],
      "source": [
        "f[5::-1]"
      ]
    },
    {
      "cell_type": "code",
      "execution_count": null,
      "metadata": {
        "id": "jxP8SyEBoYrY",
        "outputId": "d5eda191-d9f0-49b8-c262-e9aa61e27524"
      },
      "outputs": [
        {
          "data": {
            "text/plain": [
              "[1, 1, 2, 3, 5, 8, 13, 21, 34, 55]"
            ]
          },
          "execution_count": 50,
          "metadata": {},
          "output_type": "execute_result"
        }
      ],
      "source": [
        "list(f)"
      ]
    },
    {
      "cell_type": "code",
      "execution_count": null,
      "metadata": {
        "id": "hXPMnu_MoYrY",
        "outputId": "791b3a19-3f49-4093-e3c8-c226dba15b24"
      },
      "outputs": [
        {
          "data": {
            "text/plain": [
              "[55, 34, 21, 13, 8, 5, 3, 2, 1, 1]"
            ]
          },
          "execution_count": 51,
          "metadata": {},
          "output_type": "execute_result"
        }
      ],
      "source": [
        "f[::-1]"
      ]
    },
    {
      "cell_type": "markdown",
      "metadata": {
        "id": "UcWNeP3voYrY"
      },
      "source": [
        "One other thing, is that the built-in `len` function will not work with our class:"
      ]
    },
    {
      "cell_type": "code",
      "execution_count": null,
      "metadata": {
        "collapsed": true,
        "id": "SWcKVSVDoYrY"
      },
      "outputs": [],
      "source": [
        "f = Fib(10)"
      ]
    },
    {
      "cell_type": "code",
      "execution_count": null,
      "metadata": {
        "id": "BLGk3fULoYrY",
        "outputId": "739dac21-971f-4379-e014-9bdf5c076b12"
      },
      "outputs": [
        {
          "ename": "TypeError",
          "evalue": "object of type 'Fib' has no len()",
          "output_type": "error",
          "traceback": [
            "\u001b[1;31m---------------------------------------------------------------------------\u001b[0m",
            "\u001b[1;31mTypeError\u001b[0m                                 Traceback (most recent call last)",
            "\u001b[1;32m<ipython-input-53-0fa5f7f1c349>\u001b[0m in \u001b[0;36m<module>\u001b[1;34m()\u001b[0m\n\u001b[1;32m----> 1\u001b[1;33m \u001b[0mlen\u001b[0m\u001b[1;33m(\u001b[0m\u001b[0mf\u001b[0m\u001b[1;33m)\u001b[0m\u001b[1;33m\u001b[0m\u001b[0m\n\u001b[0m",
            "\u001b[1;31mTypeError\u001b[0m: object of type 'Fib' has no len()"
          ]
        }
      ],
      "source": [
        "len(f)"
      ]
    },
    {
      "cell_type": "markdown",
      "metadata": {
        "id": "3l8uBlVvoYrY"
      },
      "source": [
        "That's an easy fix, we just need to implement the `__len__` method:"
      ]
    },
    {
      "cell_type": "code",
      "execution_count": null,
      "metadata": {
        "collapsed": true,
        "id": "lnrLz-aeoYrZ"
      },
      "outputs": [],
      "source": [
        "class Fib:\n",
        "    def __init__(self, n):\n",
        "        self._n = n\n",
        "    \n",
        "    def __len__(self):\n",
        "        return self._n\n",
        "    \n",
        "    def __getitem__(self, s):\n",
        "        if isinstance(s, int):\n",
        "            # single item requested\n",
        "            if s < 0:\n",
        "                s = self._n + s\n",
        "            if s < 0 or s > self._n - 1:\n",
        "                raise IndexError\n",
        "            return self._fib(s)\n",
        "        else:\n",
        "            # slice being requested\n",
        "            idx = s.indices(self._n)\n",
        "            rng = range(idx[0], idx[1], idx[2])\n",
        "            return [self._fib(n) for n in rng]\n",
        "            \n",
        "    @staticmethod\n",
        "    @lru_cache(2**32)\n",
        "    def _fib(n):\n",
        "        if n < 2:\n",
        "            return 1\n",
        "        else:\n",
        "            return fib(n-1) + fib(n-2)"
      ]
    },
    {
      "cell_type": "code",
      "execution_count": null,
      "metadata": {
        "collapsed": true,
        "id": "W9ijWdOooYrZ"
      },
      "outputs": [],
      "source": [
        "f = Fib(10)"
      ]
    },
    {
      "cell_type": "code",
      "execution_count": null,
      "metadata": {
        "id": "vjRxZnfMoYrZ",
        "outputId": "b9916454-78a1-4653-e65e-265b95303c30"
      },
      "outputs": [
        {
          "data": {
            "text/plain": [
              "10"
            ]
          },
          "execution_count": 56,
          "metadata": {},
          "output_type": "execute_result"
        }
      ],
      "source": [
        "len(f)"
      ]
    },
    {
      "cell_type": "markdown",
      "metadata": {
        "id": "cttZ9ZMsoYrZ"
      },
      "source": [
        "One thing I want to point out here: we did not need to use inheritance! There was no need to inherit from another sequence type. All we really needed was to implement the `__getitem__` and `__len__` methods."
      ]
    },
    {
      "cell_type": "markdown",
      "metadata": {
        "id": "SnWzIvl9oYra"
      },
      "source": [
        "The other thing I want to mention, is that I would not use recursion for production purposes for a Fibonacci sequence, even with memoization - partly because of the cost of recursion and the limit to the recursion depth that is possible.\n",
        "\n",
        "Also, when we look at generators, and more particularly generator expressions, we'll see better ways of doing this as well.\n",
        "\n",
        "I really wanted to show you a simple example of how to create your own sequence types."
      ]
    }
  ],
  "metadata": {
    "kernelspec": {
      "display_name": "Python 3",
      "language": "python",
      "name": "python3"
    },
    "language_info": {
      "codemirror_mode": {
        "name": "ipython",
        "version": 3
      },
      "file_extension": ".py",
      "mimetype": "text/x-python",
      "name": "python",
      "nbconvert_exporter": "python",
      "pygments_lexer": "ipython3",
      "version": "3.6.2"
    },
    "colab": {
      "provenance": [],
      "include_colab_link": true
    }
  },
  "nbformat": 4,
  "nbformat_minor": 0
}
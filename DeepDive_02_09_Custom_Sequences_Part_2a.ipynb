{
  "cells": [
    {
      "cell_type": "markdown",
      "metadata": {
        "id": "view-in-github",
        "colab_type": "text"
      },
      "source": [
        "<a href=\"https://colab.research.google.com/github/JesusjrGalvez/Tutorial_DeepDive/blob/main/DeepDive_02_09_Custom_Sequences_Part_2a.ipynb\" target=\"_parent\"><img src=\"https://colab.research.google.com/assets/colab-badge.svg\" alt=\"Open In Colab\"/></a>"
      ]
    },
    {
      "cell_type": "markdown",
      "metadata": {
        "id": "IYe3DSrt1ZrS"
      },
      "source": [
        "### Custom Sequences (Part 2a)"
      ]
    },
    {
      "cell_type": "markdown",
      "metadata": {
        "id": "nn5TNyt41ZrY"
      },
      "source": [
        "We have seen before how we could define our own custom sequence type by implementing the `__len__` and `__getitem__` methods.\n",
        "\n",
        "Here we are going to look at how to implement:\n",
        "* concatenation (`+`)\n",
        "* in-place concatenation (`+=`)\n",
        "* repetition (`*`)\n",
        "* in-place repetition (`*=`)\n",
        "* index assignment (`seq[i]=val`)\n",
        "* slice assignment (`seq[i:j]=iter` and `seq[i:j:k]=iter`)\n",
        "* append, extend, in, del, pop"
      ]
    },
    {
      "cell_type": "markdown",
      "metadata": {
        "id": "axqdQfLG1ZrZ"
      },
      "source": [
        "#### The `+` and `+=` Operators"
      ]
    },
    {
      "cell_type": "markdown",
      "metadata": {
        "id": "_uTGEdJc1Zra"
      },
      "source": [
        "First we look at how we can overload the `+` and `+=` operators in a custom class in general. Then we'll look at how to use this in the context of sequences."
      ]
    },
    {
      "cell_type": "markdown",
      "metadata": {
        "id": "5UmXRMgn1Zrb"
      },
      "source": [
        "We use the special functions `__add__` and `__iadd__`.\n",
        "\n",
        "Just to see how those methods get called, we're actually going to implement them to just print out that they were called. As you can see, we can implement them however we want!"
      ]
    },
    {
      "cell_type": "code",
      "execution_count": null,
      "metadata": {
        "collapsed": true,
        "id": "aNh72I6W1Zrb"
      },
      "outputs": [],
      "source": [
        "class MyClass:\n",
        "    def __init__(self, name):\n",
        "        self.name = name\n",
        "        \n",
        "    def __repr__(self):\n",
        "        return f'MyClass(name={self.name})'\n",
        "    \n",
        "    def __add__(self, other):\n",
        "        print(f'You called + on {self} and {other}')\n",
        "        return 'Hello from __add__'\n",
        "        \n",
        "    def __iadd__(self, other):\n",
        "        print(f'You called += on {self} and {other}')\n",
        "        return 'Hello from __iadd__'"
      ]
    },
    {
      "cell_type": "code",
      "execution_count": null,
      "metadata": {
        "collapsed": true,
        "id": "g4plTY3K1Zrd"
      },
      "outputs": [],
      "source": [
        "c1 = MyClass('instance 1')\n",
        "c2 = MyClass('instance 2')"
      ]
    },
    {
      "cell_type": "code",
      "source": [
        "print(c1)"
      ],
      "metadata": {
        "colab": {
          "base_uri": "https://localhost:8080/"
        },
        "id": "wjdDmlFH2SIO",
        "outputId": "b5297915-970f-4dc6-90ae-fb717104bef3"
      },
      "execution_count": null,
      "outputs": [
        {
          "output_type": "stream",
          "name": "stdout",
          "text": [
            "MyClass(name=instance 1)\n"
          ]
        }
      ]
    },
    {
      "cell_type": "code",
      "execution_count": null,
      "metadata": {
        "id": "BnueG4wW1Zrf",
        "colab": {
          "base_uri": "https://localhost:8080/"
        },
        "outputId": "8fd56e82-bfb2-4a3a-b1ab-f77751cf868c"
      },
      "outputs": [
        {
          "output_type": "stream",
          "name": "stdout",
          "text": [
            "You called + on MyClass(name=instance 1) and MyClass(name=instance 2)\n"
          ]
        }
      ],
      "source": [
        "c3 = c1 + c2"
      ]
    },
    {
      "cell_type": "code",
      "execution_count": null,
      "metadata": {
        "id": "5MZXq1bO1Zrh",
        "colab": {
          "base_uri": "https://localhost:8080/",
          "height": 35
        },
        "outputId": "bb6dfcd5-fd0d-4936-e4cf-ea7cdfbfcc58"
      },
      "outputs": [
        {
          "output_type": "execute_result",
          "data": {
            "text/plain": [
              "'Hello from __add__'"
            ],
            "application/vnd.google.colaboratory.intrinsic+json": {
              "type": "string"
            }
          },
          "metadata": {},
          "execution_count": 40
        }
      ],
      "source": [
        "c3"
      ]
    },
    {
      "cell_type": "code",
      "execution_count": null,
      "metadata": {
        "id": "ANpJwMxq1Zri",
        "colab": {
          "base_uri": "https://localhost:8080/"
        },
        "outputId": "47a0aa63-59d2-4815-a583-06d9847bf2ac"
      },
      "outputs": [
        {
          "output_type": "stream",
          "name": "stdout",
          "text": [
            "You called += on MyClass(name=instance 1) and MyClass(name=instance 2)\n"
          ]
        }
      ],
      "source": [
        "c1 += c2"
      ]
    },
    {
      "cell_type": "code",
      "execution_count": null,
      "metadata": {
        "id": "fj86Qa7N1Zrj",
        "colab": {
          "base_uri": "https://localhost:8080/",
          "height": 35
        },
        "outputId": "16a1aacf-954d-464e-8d1b-2af5ba582d38"
      },
      "outputs": [
        {
          "output_type": "execute_result",
          "data": {
            "text/plain": [
              "'Hello from __iadd__'"
            ],
            "application/vnd.google.colaboratory.intrinsic+json": {
              "type": "string"
            }
          },
          "metadata": {},
          "execution_count": 42
        }
      ],
      "source": [
        "c1"
      ]
    },
    {
      "cell_type": "markdown",
      "metadata": {
        "id": "94zVUpKd1Zrj"
      },
      "source": [
        "Now let's tweak this code to make those operators concatenate the `name` property.\n",
        "\n",
        "The thing to note is that when we add two objects together we generally expect them to be of the same type and to return an object of the same type (and in the case of `+=` it needs to return the original object)."
      ]
    },
    {
      "cell_type": "markdown",
      "metadata": {
        "id": "XWm25u2U1Zrk"
      },
      "source": [
        "Let's quickly recall how those operators behave with lists:"
      ]
    },
    {
      "cell_type": "code",
      "execution_count": null,
      "metadata": {
        "id": "5C8I_W5s1Zrk"
      },
      "outputs": [],
      "source": [
        "l1 = [1, 2, 3]\n",
        "l2 = [4, 5, 6]\n",
        "id(l1)"
      ]
    },
    {
      "cell_type": "code",
      "execution_count": null,
      "metadata": {
        "id": "Cg15cd2Q1Zrl"
      },
      "outputs": [],
      "source": [
        "l1 = l1 + l2\n",
        "id(l1), l1"
      ]
    },
    {
      "cell_type": "markdown",
      "metadata": {
        "id": "aiJ1LQ3q1Zrl"
      },
      "source": [
        "Notice how the `id` of `l1` changed."
      ]
    },
    {
      "cell_type": "markdown",
      "metadata": {
        "id": "S-siBsRu1Zrl"
      },
      "source": [
        "But, with `+=`:"
      ]
    },
    {
      "cell_type": "code",
      "execution_count": null,
      "metadata": {
        "id": "CKQ76Pp-1Zrm"
      },
      "outputs": [],
      "source": [
        "l1 = [1, 2, 3]\n",
        "l2 = [4, 5, 6]\n",
        "id(l1)"
      ]
    },
    {
      "cell_type": "code",
      "execution_count": null,
      "metadata": {
        "colab": {
          "base_uri": "https://localhost:8080/",
          "height": 183
        },
        "id": "G4LIKGPK1Zrm",
        "outputId": "dd648c5b-fa0a-4213-c2eb-499cc127ce16"
      },
      "outputs": [
        {
          "output_type": "error",
          "ename": "NameError",
          "evalue": "ignored",
          "traceback": [
            "\u001b[0;31m---------------------------------------------------------------------------\u001b[0m",
            "\u001b[0;31mNameError\u001b[0m                                 Traceback (most recent call last)",
            "\u001b[0;32m<ipython-input-25-020d1701344d>\u001b[0m in \u001b[0;36m<module>\u001b[0;34m\u001b[0m\n\u001b[0;32m----> 1\u001b[0;31m \u001b[0ml1\u001b[0m \u001b[0;34m+=\u001b[0m \u001b[0ml2\u001b[0m\u001b[0;34m\u001b[0m\u001b[0;34m\u001b[0m\u001b[0m\n\u001b[0m\u001b[1;32m      2\u001b[0m \u001b[0mid\u001b[0m\u001b[0;34m(\u001b[0m\u001b[0ml1\u001b[0m\u001b[0;34m)\u001b[0m\u001b[0;34m,\u001b[0m \u001b[0ml1\u001b[0m\u001b[0;34m\u001b[0m\u001b[0;34m\u001b[0m\u001b[0m\n",
            "\u001b[0;31mNameError\u001b[0m: name 'l1' is not defined"
          ]
        }
      ],
      "source": [
        "l1 += l2\n",
        "id(l1), l1"
      ]
    },
    {
      "cell_type": "markdown",
      "metadata": {
        "id": "x3S91K191Zrn"
      },
      "source": [
        "we can see that the concatenation results in the same elements, but this time the `id` of `l1` has not changed - an in-place operation took place.\n",
        "\n",
        "Let's do something similar:"
      ]
    },
    {
      "cell_type": "code",
      "execution_count": null,
      "metadata": {
        "collapsed": true,
        "id": "wvEiD-O-1Zro"
      },
      "outputs": [],
      "source": [
        "class MyClass:\n",
        "    def __init__(self, name):\n",
        "        self.name = name\n",
        "        \n",
        "    def __repr__(self):\n",
        "        return f'MyClass(name={self.name})'\n",
        "    \n",
        "    def __add__(self, other):\n",
        "        return MyClass(self.name + ' ' + other.name)\n",
        "        \n",
        "    def __iadd__(self, other):\n",
        "        self.name += ' ' + other.name\n",
        "        return self\n",
        "        "
      ]
    },
    {
      "cell_type": "code",
      "execution_count": null,
      "metadata": {
        "collapsed": true,
        "id": "QAHjXgrU1Zro"
      },
      "outputs": [],
      "source": [
        "c1 = MyClass('Eric')\n",
        "c2 = MyClass('Idle')"
      ]
    },
    {
      "cell_type": "code",
      "execution_count": null,
      "metadata": {
        "collapsed": true,
        "id": "CY32YtdC1Zrp"
      },
      "outputs": [],
      "source": [
        "c3 = c1 + c2"
      ]
    },
    {
      "cell_type": "code",
      "execution_count": null,
      "metadata": {
        "id": "D-kephb21Zrp"
      },
      "outputs": [],
      "source": [
        "c3"
      ]
    },
    {
      "cell_type": "code",
      "execution_count": null,
      "metadata": {
        "id": "uIallz8D1Zrq"
      },
      "outputs": [],
      "source": [
        "c1, c2"
      ]
    },
    {
      "cell_type": "code",
      "execution_count": null,
      "metadata": {
        "collapsed": true,
        "id": "aYyNmwVW1Zrq"
      },
      "outputs": [],
      "source": [
        "c1 += c2"
      ]
    },
    {
      "cell_type": "code",
      "execution_count": null,
      "metadata": {
        "id": "GH-yKxY31Zrq"
      },
      "outputs": [],
      "source": [
        "c1"
      ]
    },
    {
      "cell_type": "markdown",
      "metadata": {
        "id": "Xb7cRv5Y1Zrr"
      },
      "source": [
        "#### The `*` and `*=` Operators"
      ]
    },
    {
      "cell_type": "markdown",
      "metadata": {
        "id": "ZgDwjdZE1Zrr"
      },
      "source": [
        "Just as easily we can overload the `*` and `*=` operators too, using the `__mul__` and `__imul__` methods."
      ]
    },
    {
      "cell_type": "code",
      "execution_count": null,
      "metadata": {
        "collapsed": true,
        "id": "ZLbZURY41Zrr"
      },
      "outputs": [],
      "source": [
        "class MyClass:\n",
        "    def __init__(self, name):\n",
        "        self.name = name\n",
        "        \n",
        "    def __repr__(self):\n",
        "        return f'MyClass(name={self.name})'\n",
        "    \n",
        "    def __add__(self, other):\n",
        "        return MyClass(self.name + ' ' + other.name)\n",
        "        \n",
        "    def __iadd__(self, other):\n",
        "        self.name += ' ' + other.name\n",
        "        return self\n",
        "    \n",
        "    def __mul__(self, n):\n",
        "        return MyClass(self.name * n)\n",
        "        \n",
        "    def __imul__(self, n):\n",
        "        self.name *= n\n",
        "        return self"
      ]
    },
    {
      "cell_type": "code",
      "execution_count": null,
      "metadata": {
        "collapsed": true,
        "id": "bmfAbavd1Zrs"
      },
      "outputs": [],
      "source": [
        "c1 = MyClass('Eric')"
      ]
    },
    {
      "cell_type": "code",
      "execution_count": null,
      "metadata": {
        "id": "EbvpRrXv1Zrs"
      },
      "outputs": [],
      "source": [
        "c1 * 3"
      ]
    },
    {
      "cell_type": "code",
      "execution_count": null,
      "metadata": {
        "id": "RtUW9S231Zrs"
      },
      "outputs": [],
      "source": [
        "c1"
      ]
    },
    {
      "cell_type": "code",
      "execution_count": null,
      "metadata": {
        "collapsed": true,
        "id": "yR2rbDv81Zrs"
      },
      "outputs": [],
      "source": [
        "c1 *= 4 "
      ]
    },
    {
      "cell_type": "code",
      "execution_count": null,
      "metadata": {
        "id": "-YexUegb1Zrt"
      },
      "outputs": [],
      "source": [
        "c1"
      ]
    },
    {
      "cell_type": "markdown",
      "metadata": {
        "id": "kFdX4Cjd1Zrt"
      },
      "source": [
        "And if we try something not supported:"
      ]
    },
    {
      "cell_type": "code",
      "execution_count": null,
      "metadata": {
        "id": "bwvXiJUR1Zrt"
      },
      "outputs": [],
      "source": [
        "c1 = MyClass('Eric')\n",
        "c1 * 'hello'"
      ]
    },
    {
      "cell_type": "markdown",
      "metadata": {
        "id": "hknAO75v1Zru"
      },
      "source": [
        "As you can see, we get the correct exception - and we didn't even have to guard against that exception and raise our own error. Since we delegated our `*` call to multiplying a sequence by something else, we could simply let Python handle any exceptions.\n",
        "\n",
        "We'll actually get into a lot of detail with exception handling later in this course."
      ]
    },
    {
      "cell_type": "markdown",
      "metadata": {
        "id": "AwaTQxO41Zrv"
      },
      "source": [
        "What about multiplying an integer by the sequence?"
      ]
    },
    {
      "cell_type": "code",
      "execution_count": null,
      "metadata": {
        "id": "o-cWtAN_1Zrv"
      },
      "outputs": [],
      "source": [
        "c1 = MyClass('Monty')\n",
        "2 * c1"
      ]
    },
    {
      "cell_type": "markdown",
      "metadata": {
        "id": "Ziz1OSpK1Zrv"
      },
      "source": [
        "To handle this we need to implement the `__rmul__` method:"
      ]
    },
    {
      "cell_type": "code",
      "execution_count": null,
      "metadata": {
        "collapsed": true,
        "id": "Dh2SCQMH1Zrw"
      },
      "outputs": [],
      "source": [
        "class MyClass:\n",
        "    def __init__(self, name):\n",
        "        self.name = name\n",
        "        \n",
        "    def __repr__(self):\n",
        "        return f'MyClass(name={self.name})'\n",
        "    \n",
        "    def __add__(self, other):\n",
        "        return MyClass(self.name + ' ' + other.name)\n",
        "        \n",
        "    def __iadd__(self, other):\n",
        "        self.name += ' ' + other.name\n",
        "        return self\n",
        "    \n",
        "    def __mul__(self, n):\n",
        "        return MyClass(self.name * n)\n",
        "        \n",
        "    def __imul__(self, n):\n",
        "        self.name *= n\n",
        "        return self\n",
        "    \n",
        "    def __rmul__(self, n):\n",
        "        self.name *= n\n",
        "        return self"
      ]
    },
    {
      "cell_type": "code",
      "execution_count": null,
      "metadata": {
        "collapsed": true,
        "id": "ZPL8i5IL1Zrw"
      },
      "outputs": [],
      "source": [
        "c1 = MyClass('Monty')"
      ]
    },
    {
      "cell_type": "code",
      "execution_count": null,
      "metadata": {
        "id": "YSFRc05D1Zrw"
      },
      "outputs": [],
      "source": [
        "2 * c1"
      ]
    },
    {
      "cell_type": "markdown",
      "metadata": {
        "id": "5LktlYEx1Zrw"
      },
      "source": [
        "#### Implementing the `in` operator"
      ]
    },
    {
      "cell_type": "markdown",
      "metadata": {
        "id": "sHkuvXad1Zrx"
      },
      "source": [
        "For this example, we'll want `in` to test if the something is contained in the name string of our class:"
      ]
    },
    {
      "cell_type": "code",
      "execution_count": null,
      "metadata": {
        "collapsed": true,
        "id": "U4SFNZGO1Zrx"
      },
      "outputs": [],
      "source": [
        "class MyClass:\n",
        "    def __init__(self, name):\n",
        "        self.name = name\n",
        "        \n",
        "    def __repr__(self):\n",
        "        return f'MyClass(name={self.name})'\n",
        "    \n",
        "    def __add__(self, other):\n",
        "        return MyClass(self.name + ' ' + other.name)\n",
        "        \n",
        "    def __iadd__(self, other):\n",
        "        self.name += ' ' + other.name\n",
        "        return self\n",
        "    \n",
        "    def __mul__(self, n):\n",
        "        return MyClass(self.name * n)\n",
        "        \n",
        "    def __imul__(self, n):\n",
        "        self.name *= n\n",
        "        return self\n",
        "    \n",
        "    def __rmul__(self, n):\n",
        "        self.name *= n\n",
        "        return self\n",
        "    \n",
        "    def __contains__(self, value):\n",
        "        return value in self.name"
      ]
    },
    {
      "cell_type": "code",
      "execution_count": null,
      "metadata": {
        "collapsed": true,
        "id": "WyIqXTwC1Zrx"
      },
      "outputs": [],
      "source": [
        "c1 = MyClass('MontyPython')"
      ]
    },
    {
      "cell_type": "code",
      "execution_count": null,
      "metadata": {
        "id": "IMm51edU1Zrx"
      },
      "outputs": [],
      "source": [
        "'ty' in c1"
      ]
    },
    {
      "cell_type": "code",
      "source": [
        "class MyClass:\n",
        "    def __init__(self, name):\n",
        "        self.name = name\n",
        "        \n",
        "    def __repr__(self):\n",
        "        return f'MyClass(name={self.name})'\n",
        "    \n",
        "    def __add__(self, other):\n",
        "        if isinstance(other, MyClass):\n",
        "            return MyClass(self.name + self.other)\n",
        "        else:\n",
        "            raise TypeError        \n",
        "    def __iadd__(self, other):\n",
        "        self.name += ' ' + other.name\n",
        "        return self\n",
        "        "
      ],
      "metadata": {
        "id": "IiMzHlI86JTh"
      },
      "execution_count": null,
      "outputs": []
    },
    {
      "cell_type": "code",
      "source": [
        "l = [1, 2, 3, 4]\n",
        "l[0:2] = [20]\n",
        "print(l)"
      ],
      "metadata": {
        "id": "rLnJpQc-2aSK",
        "outputId": "50852f58-0cbe-4329-bea3-9320f93f72d6",
        "colab": {
          "base_uri": "https://localhost:8080/"
        }
      },
      "execution_count": null,
      "outputs": [
        {
          "output_type": "stream",
          "name": "stdout",
          "text": [
            "[20, 3, 4]\n"
          ]
        }
      ]
    }
  ],
  "metadata": {
    "kernelspec": {
      "display_name": "Python 3",
      "language": "python",
      "name": "python3"
    },
    "language_info": {
      "codemirror_mode": {
        "name": "ipython",
        "version": 3
      },
      "file_extension": ".py",
      "mimetype": "text/x-python",
      "name": "python",
      "nbconvert_exporter": "python",
      "pygments_lexer": "ipython3",
      "version": "3.6.2"
    },
    "colab": {
      "provenance": [],
      "include_colab_link": true
    }
  },
  "nbformat": 4,
  "nbformat_minor": 0
}
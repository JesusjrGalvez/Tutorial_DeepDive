{
  "cells": [
    {
      "cell_type": "markdown",
      "metadata": {
        "id": "view-in-github",
        "colab_type": "text"
      },
      "source": [
        "<a href=\"https://colab.research.google.com/github/JesusjrGalvez/Tutorial_DeepDive/blob/main/DeepDive_02_07_In_Place_Concatenation_and_Repetition.ipynb\" target=\"_parent\"><img src=\"https://colab.research.google.com/assets/colab-badge.svg\" alt=\"Open In Colab\"/></a>"
      ]
    },
    {
      "cell_type": "markdown",
      "metadata": {
        "id": "KqSOFW4YgEQl"
      },
      "source": [
        "### In-Place Concatenation and Repetition"
      ]
    },
    {
      "cell_type": "markdown",
      "metadata": {
        "id": "kgUq3m_CgEQp"
      },
      "source": [
        "##### In-Place Concatenation"
      ]
    },
    {
      "cell_type": "markdown",
      "metadata": {
        "id": "HzFLgfnZgEQq"
      },
      "source": [
        "We saw that using concatenation ended up creating a new sequence object:"
      ]
    },
    {
      "cell_type": "code",
      "execution_count": null,
      "metadata": {
        "id": "Xs43uActgEQr",
        "outputId": "12216872-d721-4202-971d-a56212bb1b02"
      },
      "outputs": [
        {
          "name": "stdout",
          "output_type": "stream",
          "text": [
            "2674852946824 [1, 2, 3, 4]\n",
            "2674852947208 [5, 6]\n"
          ]
        }
      ],
      "source": [
        "l1 = [1, 2, 3, 4]\n",
        "l2 = [5, 6]\n",
        "print(id(l1), l1)\n",
        "print(id(l2), l2)"
      ]
    },
    {
      "cell_type": "code",
      "execution_count": null,
      "metadata": {
        "id": "_bghGayAgEQt",
        "outputId": "26c0422d-b3fd-456e-ef17-1b16a1bb3404"
      },
      "outputs": [
        {
          "name": "stdout",
          "output_type": "stream",
          "text": [
            "2674853399624 [1, 2, 3, 4, 5, 6]\n"
          ]
        }
      ],
      "source": [
        "l1 = l1 + l2\n",
        "print(id(l1), l1)"
      ]
    },
    {
      "cell_type": "markdown",
      "metadata": {
        "id": "WjNwfOBZgEQt"
      },
      "source": [
        "But watch what happens when we use the in-place concatenation operator `+=:"
      ]
    },
    {
      "cell_type": "code",
      "execution_count": null,
      "metadata": {
        "id": "f6b-X7a3gEQu",
        "outputId": "f9da8ecf-93c0-4a4a-f128-9f40a8a491aa"
      },
      "outputs": [
        {
          "name": "stdout",
          "output_type": "stream",
          "text": [
            "2674853400520 [1, 2, 3, 4]\n",
            "2674852590920 [5, 6]\n"
          ]
        }
      ],
      "source": [
        "l1 = [1, 2, 3, 4]\n",
        "l2 = [5, 6]\n",
        "print(id(l1), l1)\n",
        "print(id(l2), l2)"
      ]
    },
    {
      "cell_type": "code",
      "execution_count": null,
      "metadata": {
        "id": "1KOUa7dRgEQv",
        "outputId": "52b014cb-b30f-4d9c-8e09-0eea5356e4d6"
      },
      "outputs": [
        {
          "name": "stdout",
          "output_type": "stream",
          "text": [
            "2674853400520 [1, 2, 3, 4, 5, 6]\n"
          ]
        }
      ],
      "source": [
        "l1 += l2\n",
        "print(id(l1), l1)"
      ]
    },
    {
      "cell_type": "markdown",
      "metadata": {
        "id": "tznB86M8gEQv"
      },
      "source": [
        "Notice how the `id` of `l1` has **not** changed - it is the same object, just mutated!"
      ]
    },
    {
      "cell_type": "markdown",
      "metadata": {
        "id": "qe3s0XAdgEQw"
      },
      "source": [
        "So far in this course I have often said that:\n",
        "\n",
        "`a = a + 1`\n",
        "\n",
        "and \n",
        "\n",
        "`a += 1`\n",
        "\n",
        "are the same thing.\n",
        "\n",
        "And for immutable objects such as integers, that is indeed true.\n",
        "\n",
        "But in fact `+` and `+=` are two different operators."
      ]
    },
    {
      "cell_type": "markdown",
      "metadata": {
        "id": "s8FMJbPTgEQw"
      },
      "source": [
        "It is interesting to note that the implementation of `+=` for lists will actually extend the list given any iterable, not just another list. This is really just the particular implementation of that operator for lists."
      ]
    },
    {
      "cell_type": "code",
      "execution_count": null,
      "metadata": {
        "id": "tG5kd_YZgEQx",
        "outputId": "01c53e2a-70ca-428d-c4c4-5d947da075ef"
      },
      "outputs": [
        {
          "name": "stdout",
          "output_type": "stream",
          "text": [
            "2674853566344 [1, 2, 3, 4]\n",
            "2674853559968 (5, 6, 7)\n"
          ]
        }
      ],
      "source": [
        "l1 = [1, 2, 3, 4]\n",
        "t1 = 5, 6, 7\n",
        "print(id(l1), l1)\n",
        "print(id(t1), t1)"
      ]
    },
    {
      "cell_type": "code",
      "execution_count": null,
      "metadata": {
        "id": "AUYHx8KjgEQx",
        "outputId": "1b65cdd2-1064-4a5d-a15b-f984adcf026a"
      },
      "outputs": [
        {
          "name": "stdout",
          "output_type": "stream",
          "text": [
            "2674853566344 [1, 2, 3, 4, 5, 6, 7]\n"
          ]
        }
      ],
      "source": [
        "l1 += t1\n",
        "print(id(l1), l1)"
      ]
    },
    {
      "cell_type": "markdown",
      "metadata": {
        "id": "4ipJe4MbgEQy"
      },
      "source": [
        "And this will work with other iterables as well:"
      ]
    },
    {
      "cell_type": "code",
      "execution_count": null,
      "metadata": {
        "id": "PPNy-XUbgEQy",
        "outputId": "fa9e0233-82a0-4fae-fc82-86d1c5ef7ece"
      },
      "outputs": [
        {
          "name": "stdout",
          "output_type": "stream",
          "text": [
            "2674853566344 [1, 2, 3, 4, 5, 6, 7, 8, 9, 10]\n"
          ]
        }
      ],
      "source": [
        "l1 += range(8, 11)\n",
        "print(id(l1), l1)"
      ]
    },
    {
      "cell_type": "markdown",
      "metadata": {
        "id": "1SeZE1pUgEQy"
      },
      "source": [
        "or even with iterable non-sequence types:"
      ]
    },
    {
      "cell_type": "code",
      "execution_count": null,
      "metadata": {
        "id": "R9HtxkKAgEQy",
        "outputId": "b99f10ec-f8a2-48ec-933d-6c2c4bf5512d"
      },
      "outputs": [
        {
          "name": "stdout",
          "output_type": "stream",
          "text": [
            "2674853566344 [1, 2, 3, 4, 5, 6, 7, 8, 9, 10, 11, 12, 13]\n"
          ]
        }
      ],
      "source": [
        "l1 += {11, 12, 13}\n",
        "print(id(l1), l1)"
      ]
    },
    {
      "cell_type": "markdown",
      "metadata": {
        "id": "UsCswRMygEQz"
      },
      "source": [
        "Of course, this will **not work** with **immutable** sequence types, such as tuples or strings:"
      ]
    },
    {
      "cell_type": "code",
      "execution_count": null,
      "metadata": {
        "id": "imHvbI_EgEQz",
        "outputId": "28f6c4e4-d247-4a99-c31b-8f77f66e82d6"
      },
      "outputs": [
        {
          "name": "stdout",
          "output_type": "stream",
          "text": [
            "2674852634768 (1, 2, 3)\n",
            "2674853559968 (4, 5, 6)\n"
          ]
        }
      ],
      "source": [
        "t1 = 1, 2, 3\n",
        "t2 = 4, 5, 6\n",
        "print(id(t1), t1)\n",
        "print(id(t2), t2)"
      ]
    },
    {
      "cell_type": "code",
      "execution_count": null,
      "metadata": {
        "id": "uTlF5abbgEQ0",
        "outputId": "b67f50bd-0192-49b4-e386-f6ab7b29124c"
      },
      "outputs": [
        {
          "name": "stdout",
          "output_type": "stream",
          "text": [
            "2674852634768 (1, 2, 3)\n"
          ]
        }
      ],
      "source": [
        "print(id(t1), t1)"
      ]
    },
    {
      "cell_type": "markdown",
      "metadata": {
        "id": "nl7OmkkmgEQ0"
      },
      "source": [
        "We cannot mutate an immutable container!\n",
        "What happens is that `+=` is not actually defined for the `tuple`, and so Python essentially executed this code:\n",
        "\n",
        "`t1 = t1 + t2`\n",
        "\n",
        "which, as we already know, always creates a new object."
      ]
    },
    {
      "cell_type": "markdown",
      "metadata": {
        "collapsed": true,
        "id": "sNMWz4K_gEQ0"
      },
      "source": [
        "##### In-Place Repetition"
      ]
    },
    {
      "cell_type": "markdown",
      "metadata": {
        "id": "Z_3TEDBQgEQ0"
      },
      "source": [
        "A similar result holds for in-place repetition.\n",
        "\n",
        "Let's see this using a list (mutable sequence type) first:"
      ]
    },
    {
      "cell_type": "code",
      "execution_count": null,
      "metadata": {
        "id": "y8Xd2m8-gEQ1",
        "outputId": "4d17c1af-937c-4ed0-8b3f-8835407cbc42"
      },
      "outputs": [
        {
          "name": "stdout",
          "output_type": "stream",
          "text": [
            "2674853567560 [1, 2, 3]\n"
          ]
        }
      ],
      "source": [
        "l = [1, 2, 3]\n",
        "print(id(l), l)"
      ]
    },
    {
      "cell_type": "code",
      "execution_count": null,
      "metadata": {
        "id": "TlS0Wj5ZgEQ1",
        "outputId": "15dad846-f5ae-4bbd-f83b-e7ac2f3db176"
      },
      "outputs": [
        {
          "name": "stdout",
          "output_type": "stream",
          "text": [
            "2674853567560 [1, 2, 3, 1, 2, 3]\n"
          ]
        }
      ],
      "source": [
        "l *= 2\n",
        "print(id(l), l)"
      ]
    },
    {
      "cell_type": "markdown",
      "metadata": {
        "id": "kQn4No6ogEQ1"
      },
      "source": [
        "But obviously this operator will work differently if the sequence type is immutable:"
      ]
    },
    {
      "cell_type": "code",
      "execution_count": null,
      "metadata": {
        "id": "Wvo_lYGzgEQ1",
        "outputId": "3e6d13b8-8c5c-4c69-ae99-ccd5d8433fd4"
      },
      "outputs": [
        {
          "name": "stdout",
          "output_type": "stream",
          "text": [
            "2674853646840 (1, 2, 3)\n"
          ]
        }
      ],
      "source": [
        "t = (1, 2, 3)\n",
        "print(id(t), t)"
      ]
    },
    {
      "cell_type": "code",
      "execution_count": null,
      "metadata": {
        "id": "g_yMEAoxgEQ2",
        "outputId": "a8946c7f-b4cf-4844-f490-b22ca7b13952"
      },
      "outputs": [
        {
          "name": "stdout",
          "output_type": "stream",
          "text": [
            "2674829349224 (1, 2, 3, 1, 2, 3)\n"
          ]
        }
      ],
      "source": [
        "t *= 2\n",
        "print(id(t), t)"
      ]
    }
  ],
  "metadata": {
    "kernelspec": {
      "display_name": "Python 3",
      "language": "python",
      "name": "python3"
    },
    "language_info": {
      "codemirror_mode": {
        "name": "ipython",
        "version": 3
      },
      "file_extension": ".py",
      "mimetype": "text/x-python",
      "name": "python",
      "nbconvert_exporter": "python",
      "pygments_lexer": "ipython3",
      "version": "3.6.2"
    },
    "colab": {
      "provenance": [],
      "include_colab_link": true
    }
  },
  "nbformat": 4,
  "nbformat_minor": 0
}